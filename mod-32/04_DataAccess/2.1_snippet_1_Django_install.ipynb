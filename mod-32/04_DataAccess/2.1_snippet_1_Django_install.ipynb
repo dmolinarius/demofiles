{
 "cells": [
  {
   "cell_type": "markdown",
   "metadata": {},
   "source": [
    "## 2.1 Django ORM\n",
    "\n",
    "<p style=\"font-size: 120%\">\n",
    "Installation et configuration de l'ORM de Django\n",
    "</p>\n",
    "\n",
    "#### Installation de Django"
   ]
  },
  {
   "cell_type": "markdown",
   "metadata": {},
   "source": [
    "https://docs.djangoproject.com/en/4.1/intro/install/"
   ]
  },
  {
   "cell_type": "markdown",
   "metadata": {},
   "source": [
    "<pre style=\"background-color:#f0f0f0; border: 1px solid #ccc; margin:0; padding:0.5em; font-size:1em\">\n",
    "python -m pip install Django\n",
    "</pre>"
   ]
  },
  {
   "cell_type": "code",
   "execution_count": 1,
   "metadata": {
    "collapsed": false
   },
   "outputs": [
    {
     "name": "stdout",
     "output_type": "stream",
     "text": [
      "3.2.15\n"
     ]
    }
   ],
   "source": [
    "import django\n",
    "\n",
    "print(django.get_version())"
   ]
  },
  {
   "cell_type": "markdown",
   "metadata": {},
   "source": [
    "### Création d'un projet et d'une application Django"
   ]
  },
  {
   "cell_type": "markdown",
   "metadata": {},
   "source": [
    "https://docs.djangoproject.com/en/4.1/intro/tutorial01/"
   ]
  },
  {
   "cell_type": "markdown",
   "metadata": {},
   "source": [
    "<p style=\"font-size: 120%\">\n",
    "Les commandes ci-dessous créent une arborescence de répertoires contenant les fichiers d'une application Django :\n",
    "</p>"
   ]
  },
  {
   "cell_type": "markdown",
   "metadata": {},
   "source": [
    "<pre style=\"background-color:#f0f0f0; border: 1px solid #ccc; margin:0; padding:0.5em; font-size:1em\">\n",
    "django-admin startproject django_orm\n",
    "\n",
    "python manage.py startapp users\n",
    "</pre>"
   ]
  },
  {
   "cell_type": "markdown",
   "metadata": {},
   "source": [
    "<img src=\"django_orm_dir.png\" style=\"margin-left:0\"/>"
   ]
  },
  {
   "cell_type": "markdown",
   "metadata": {},
   "source": [
    "### Définition de l'objet correspondant à la table des utilisateurs"
   ]
  },
  {
   "cell_type": "markdown",
   "metadata": {},
   "source": [
    "https://docs.djangoproject.com/en/4.1/intro/tutorial02/"
   ]
  },
  {
   "cell_type": "markdown",
   "metadata": {},
   "source": [
    "<p style=\"font-size: 120%\">\n",
    "Il faut éditer le fichier <code>django_orm/users/models.py</code> pour définir les classes métier, qui doivent hériter de la classe mère <code>models.Model</code>&#160;:\n",
    "</p>"
   ]
  },
  {
   "cell_type": "markdown",
   "metadata": {},
   "source": [
    "<pre style=\"background-color:#f0f0f0; border: 1px solid #ccc; margin:0; padding:0.5em; font-size:1em\">\n",
    "# django_orm/users/models.py\n",
    "\n",
    "from django.db import models\n",
    "\n",
    "class User(models.Model):\n",
    "    pseudo = models.CharField(max_length=16)\n",
    "    email = models.CharField(max_length=255)\n",
    "    pwd = models.CharField(max_length=32)\n",
    "\n",
    "    def __str__(self):\n",
    "      return self.email\n",
    "</pre>"
   ]
  },
  {
   "cell_type": "markdown",
   "metadata": {},
   "source": [
    "<p>\n",
    "<b>N.B.</b> Le nom des tables dans la base est automatiquement déterminé par Django en concaténant le nom de l'application (users) avec le nom de la classe (Users) en minuscules. La table correspondant à cette classe d'objets s'appelera donc <code>users_user</code> dans la base de données.\n",
    "</p>"
   ]
  },
  {
   "cell_type": "markdown",
   "metadata": {},
   "source": [
    "### Configuration de Django"
   ]
  },
  {
   "cell_type": "markdown",
   "metadata": {},
   "source": [
    "<pre style=\"background-color:#f0f0f0; border: 1px solid #ccc; margin:0; padding:0.5em; font-size:1em\">\n",
    "# django_orm/django_orm/settings.py\n",
    "\n",
    "...\n",
    "\n",
    "INSTALLED_APPS = [\n",
    "    'users.apps.UsersConfig',\n",
    "    'django.contrib.admin',\n",
    "    'django.contrib.auth',\n",
    "    'django.contrib.contenttypes',\n",
    "    'django.contrib.sessions',\n",
    "    'django.contrib.messages',\n",
    "    #'django.contrib.staticfiles',\n",
    "]\n",
    "\n",
    "MIDDLEWARE = [\n",
    "    'django.middleware.security.SecurityMiddleware',\n",
    "    'django.contrib.sessions.middleware.SessionMiddleware',\n",
    "    'django.middleware.common.CommonMiddleware',\n",
    "    'django.middleware.csrf.CsrfViewMiddleware',\n",
    "    'django.contrib.auth.middleware.AuthenticationMiddleware',\n",
    "    'django.contrib.messages.middleware.MessageMiddleware',\n",
    "    #'django.middleware.clickjacking.XFrameOptionsMiddleware',\n",
    "]\n",
    "\n",
    "...\n",
    "\n",
    "DATABASES = {\n",
    "    'default': {\n",
    "        'ENGINE': 'django.db.backends.sqlite3',\n",
    "        'NAME': BASE_DIR / 'db.sqlite3',\n",
    "    }\n",
    "}\n",
    "\n",
    "...\n",
    "</pre>"
   ]
  },
  {
   "cell_type": "markdown",
   "metadata": {},
   "source": [
    "<p>\n",
    "<b>N.B.</b> On note ci-dessus le nom de la base de données, qui s'appelle par défaut <code>db.sqlite3</code>\n",
    "</p>"
   ]
  },
  {
   "cell_type": "markdown",
   "metadata": {},
   "source": [
    "<p style=\"font-size:120%\">\n",
    "Les commandes ci-dessous créent / mettent à jour les tables dans la base de\n",
    "données&#160;:\n",
    "</p>"
   ]
  },
  {
   "cell_type": "markdown",
   "metadata": {},
   "source": [
    "<pre style=\"background-color:#f0f0f0; border: 1px solid #ccc; margin:0; padding:0.5em; font-size:1em\">\n",
    "python manage.py makemigrations users\n",
    "python manage.py sqlmigrate users 0001\n",
    "python manage.py migrate\n",
    "</pre>"
   ]
  },
  {
   "cell_type": "markdown",
   "metadata": {},
   "source": [
    "### Import des modules pour le fonctionnement de l'ORM\n",
    "\n",
    "https://stackoverflow.com/questions/2180415/using-django-database-layer-outside-of-django"
   ]
  },
  {
   "cell_type": "markdown",
   "metadata": {},
   "source": [
    "<p style=\"font-size:120%\">\n",
    "Pour utiliser l'ORM de Django, notre programme doit importer et configurer les éléments suivants&#160;:\n",
    "</p>"
   ]
  },
  {
   "cell_type": "code",
   "execution_count": 2,
   "metadata": {
    "collapsed": false
   },
   "outputs": [],
   "source": [
    "# https://stackoverflow.com/a/68140614\n",
    "import sys, os\n",
    "\n",
    "BASE_DIR = os.getcwd()\n",
    "PROJ_DIR = os.path.abspath(os.path.join(BASE_DIR, \"django_orm\"))\n",
    "sys.path.append(PROJ_DIR)\n",
    "\n",
    "os.environ.setdefault(\n",
    "    'DJANGO_SETTINGS_MODULE', 'django_orm.settings'\n",
    ")\n",
    "\n",
    "import django\n",
    "django.setup()\n",
    "\n",
    "from users.models import User"
   ]
  },
  {
   "cell_type": "markdown",
   "metadata": {},
   "source": [
    "### Création d'un utilisateur"
   ]
  },
  {
   "cell_type": "code",
   "execution_count": 3,
   "metadata": {
    "collapsed": true
   },
   "outputs": [],
   "source": [
    "import random\n",
    "import string\n",
    "\n",
    "# Génération d'une chaîne de caractères aléatoire\n",
    "def get_random_string(length):\n",
    "    letters = string.ascii_lowercase\n",
    "    return ''.join(random.choice(letters) for i in range(length))"
   ]
  },
  {
   "cell_type": "markdown",
   "metadata": {},
   "source": [
    "<p style=\"font-size:120%\">\n",
    "On peut ensuite créer des objets métier, et les enregistrer dans la base par un appel à leur méthode <code>save()</code>.\n",
    "</p>"
   ]
  },
  {
   "cell_type": "code",
   "execution_count": 4,
   "metadata": {
    "collapsed": false
   },
   "outputs": [
    {
     "name": "stdout",
     "output_type": "stream",
     "text": [
      "10 npn npn@gmail.com byfgfbii\n"
     ]
    }
   ],
   "source": [
    "pseudo = get_random_string(3)\n",
    "user = User(pseudo=pseudo, email='{}@gmail.com'.format(pseudo), pwd=get_random_string(8))\n",
    "user.save()\n",
    "\n",
    "print(user.id, user.pseudo, user.email, user.pwd)"
   ]
  },
  {
   "cell_type": "code",
   "execution_count": null,
   "metadata": {
    "collapsed": true
   },
   "outputs": [],
   "source": []
  }
 ],
 "metadata": {
  "kernelspec": {
   "display_name": "Python 3",
   "language": "python",
   "name": "python3"
  },
  "language_info": {
   "codemirror_mode": {
    "name": "ipython",
    "version": 3
   },
   "file_extension": ".py",
   "mimetype": "text/x-python",
   "name": "python",
   "nbconvert_exporter": "python",
   "pygments_lexer": "ipython3",
   "version": "3.6.6"
  }
 },
 "nbformat": 4,
 "nbformat_minor": 2
}
