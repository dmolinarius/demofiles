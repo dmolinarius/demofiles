{
 "cells": [
  {
   "cell_type": "markdown",
   "metadata": {},
   "source": [
    "## 2.1 Django ORM\n",
    "\n",
    "<div style=\"font-size: 120%; margin-top:1.33em\">\n",
    "Usage de l'ORM de Django\n",
    "</div>"
   ]
  },
  {
   "cell_type": "code",
   "execution_count": 1,
   "metadata": {
    "collapsed": true
   },
   "outputs": [],
   "source": [
    "import sys, os\n",
    "\n",
    "BASE_DIR = os.getcwd()\n",
    "PROJ_DIR = os.path.abspath(os.path.join(BASE_DIR, \"django_orm\"))\n",
    "sys.path.append(PROJ_DIR)\n",
    "\n",
    "os.environ.setdefault(\n",
    "    'DJANGO_SETTINGS_MODULE', 'django_orm.settings'\n",
    ")\n",
    "\n",
    "import django\n",
    "django.setup()\n",
    "\n",
    "from users.models import User"
   ]
  },
  {
   "cell_type": "markdown",
   "metadata": {},
   "source": [
    "### Méthodes d'accès aux données"
   ]
  },
  {
   "cell_type": "markdown",
   "metadata": {},
   "source": [
    "<div style=\"font-size: 120%\">\n",
    "Récupération d'un objet - SELECT\n",
    "</div>"
   ]
  },
  {
   "cell_type": "code",
   "execution_count": 14,
   "metadata": {
    "collapsed": false
   },
   "outputs": [
    {
     "name": "stdout",
     "output_type": "stream",
     "text": [
      "1 rde Raymond.Deubaze@gmail.com hello\n"
     ]
    }
   ],
   "source": [
    "user = User.objects.get(pseudo=\"rde\")\n",
    "print(user.id, user.pseudo, user.email, user.pwd)"
   ]
  },
  {
   "cell_type": "markdown",
   "metadata": {},
   "source": [
    "<div style=\"font-size: 120%\">\n",
    "Création d'un objet persistant - INSERT\n",
    "</div>"
   ]
  },
  {
   "cell_type": "code",
   "execution_count": 15,
   "metadata": {
    "collapsed": false
   },
   "outputs": [
    {
     "name": "stdout",
     "output_type": "stream",
     "text": [
      "9 bsz bsz@gmail.com yneybrpe\n"
     ]
    }
   ],
   "source": [
    "import random\n",
    "import string\n",
    "\n",
    "# Génération d'une chaîne de caractères aléatoire\n",
    "def get_random_string(length):\n",
    "    letters = string.ascii_lowercase\n",
    "    return ''.join(random.choice(letters) for i in range(length))\n",
    "\n",
    "pseudo = get_random_string(3)\n",
    "user = User(pseudo=pseudo, email='{}@gmail.com'.format(pseudo), pwd=get_random_string(8))\n",
    "user.save()\n",
    "\n",
    "print(user.id, user.pseudo, user.email, user.pwd)"
   ]
  },
  {
   "cell_type": "markdown",
   "metadata": {},
   "source": [
    "<div style=\"font-size: 120%\">\n",
    "Modification d'un objet existant - UPDATE\n",
    "</div>"
   ]
  },
  {
   "cell_type": "code",
   "execution_count": 16,
   "metadata": {
    "collapsed": false
   },
   "outputs": [
    {
     "name": "stdout",
     "output_type": "stream",
     "text": [
      "9 bsz bsz@gmail.com hello, there\n"
     ]
    }
   ],
   "source": [
    "user.pwd = 'hello, there'\n",
    "user.save()\n",
    "\n",
    "check = User.objects.get(id=user.id)\n",
    "print(check.id, check.pseudo, check.email, check.pwd)"
   ]
  },
  {
   "cell_type": "markdown",
   "metadata": {},
   "source": [
    "<div style=\"font-size: 120%\">\n",
    "Suppression d'un objet dans la base - DELETE\n",
    "</div>"
   ]
  },
  {
   "cell_type": "code",
   "execution_count": 17,
   "metadata": {
    "collapsed": false
   },
   "outputs": [
    {
     "name": "stdout",
     "output_type": "stream",
     "text": [
      "User matching query does not exist.\n"
     ]
    }
   ],
   "source": [
    "check.delete()\n",
    "\n",
    "# Une requête vers un objet non existant provoque une erreur\n",
    "try:\n",
    "    not_found = User.objects.get(id=user.id)\n",
    "    print(not_found)\n",
    "    \n",
    "except User.DoesNotExist as e:\n",
    "    print(e)"
   ]
  },
  {
   "cell_type": "code",
   "execution_count": null,
   "metadata": {
    "collapsed": true
   },
   "outputs": [],
   "source": []
  }
 ],
 "metadata": {
  "kernelspec": {
   "display_name": "Python 3",
   "language": "python",
   "name": "python3"
  },
  "language_info": {
   "codemirror_mode": {
    "name": "ipython",
    "version": 3
   },
   "file_extension": ".py",
   "mimetype": "text/x-python",
   "name": "python",
   "nbconvert_exporter": "python",
   "pygments_lexer": "ipython3",
   "version": "3.6.6"
  }
 },
 "nbformat": 4,
 "nbformat_minor": 2
}
