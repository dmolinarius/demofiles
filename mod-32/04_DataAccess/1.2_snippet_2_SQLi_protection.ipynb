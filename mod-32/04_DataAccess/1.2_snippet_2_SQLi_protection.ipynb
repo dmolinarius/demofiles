{
 "cells": [
  {
   "cell_type": "markdown",
   "metadata": {},
   "source": [
    "## 1.2 Injection SQL\n",
    "\n",
    "### Se prémunir contre l'injection SQL"
   ]
  },
  {
   "cell_type": "markdown",
   "metadata": {},
   "source": [
    "<p style=\"font-size: 120%\">\n",
    "Pour se protéger contre les attaques par injection SQL il ne <b>jamais</b> construire ses requêtes par concaténation\n",
    "des parties variables.\n",
    "</p>\n",
    "<p style=\"font-size: 120%\">\n",
    "En python/sqlite il suffit de remplacer les parties variables de la requête par des caractères <code>?</code>\n",
    "et d'appeler la méthode <code>execute</code> de l'objet curseur avec en second argument un tuple contenant les\n",
    "variables :\n",
    "</p>\n"
   ]
  },
  {
   "cell_type": "code",
   "execution_count": 2,
   "metadata": {
    "collapsed": false
   },
   "outputs": [
    {
     "name": "stdout",
     "output_type": "stream",
     "text": [
      "rde\n",
      "hello\n",
      "SELECT * FROM users WHERE pseudo=? AND pwd=?\n",
      "('rde', 'Raymond.Deubaze@ec-lyon.fr', 'hello')\n"
     ]
    }
   ],
   "source": [
    "import sqlite3\n",
    "conn = sqlite3.connect('my_database.sqlite')\n",
    "c = conn.cursor()\n",
    "\n",
    "pseudo = input()    # rde\n",
    "password = input()  # hello\n",
    "\n",
    "request = \"SELECT * FROM users WHERE pseudo=? AND pwd=?\"\n",
    "c.execute(request,(pseudo,password))\n",
    "\n",
    "print(request)\n",
    "print(c.fetchone())"
   ]
  },
  {
   "cell_type": "markdown",
   "metadata": {},
   "source": [
    "<p style=\"font-size: 120%\">\n",
    "De cette manière la librairie sqlite3 effectue toutes les vérifications nécessaires avant de soumettre la requête à la base, et les requêtes malveillantes ne passent plus.\n",
    "</p>\n",
    "<p>Essayer avec <code style=\"background-color:#ddd;\">' OR 1=1 -- </code> et une chaîne vide pour le mot de passe&#160;:\n",
    "</p>"
   ]
  },
  {
   "cell_type": "code",
   "execution_count": 3,
   "metadata": {
    "collapsed": false
   },
   "outputs": [
    {
     "name": "stdout",
     "output_type": "stream",
     "text": [
      "' OR 1=1 --\n",
      "\n",
      "SELECT * FROM users WHERE pseudo=? AND pwd=?\n",
      "None\n"
     ]
    }
   ],
   "source": [
    "pseudo = input()\n",
    "password = input()\n",
    "\n",
    "request = \"SELECT * FROM users WHERE pseudo=? AND pwd=?\"\n",
    "c.execute(request,(pseudo,password))\n",
    "\n",
    "print(request)\n",
    "print(c.fetchone())"
   ]
  },
  {
   "cell_type": "code",
   "execution_count": null,
   "metadata": {
    "collapsed": true
   },
   "outputs": [],
   "source": []
  }
 ],
 "metadata": {
  "kernelspec": {
   "display_name": "Python 3",
   "language": "python",
   "name": "python3"
  },
  "language_info": {
   "codemirror_mode": {
    "name": "ipython",
    "version": 3
   },
   "file_extension": ".py",
   "mimetype": "text/x-python",
   "name": "python",
   "nbconvert_exporter": "python",
   "pygments_lexer": "ipython3",
   "version": "3.6.6"
  }
 },
 "nbformat": 4,
 "nbformat_minor": 2
}
