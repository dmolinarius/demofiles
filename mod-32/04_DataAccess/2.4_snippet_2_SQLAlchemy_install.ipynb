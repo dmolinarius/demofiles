{
 "cells": [
  {
   "cell_type": "markdown",
   "metadata": {},
   "source": [
    "## 2.5 SQLAlchemy"
   ]
  },
  {
   "cell_type": "markdown",
   "metadata": {},
   "source": [
    "### Installation de SQLAlchemy"
   ]
  },
  {
   "cell_type": "markdown",
   "metadata": {},
   "source": [
    "<pre style=\"background-color:#f0f0f0; border: 1px solid #ccc; margin:0; padding:0.5em; font-size:1em\">\n",
    "$ pip install SQLAlchemy\n",
    "Requirement already satisfied: SQLAlchemy in c:\\users\\muller\\anaconda3\\lib\\site-packages (1.1.5)\n",
    "\n",
    "$ pip install --upgrade SQLAlchemy\n",
    "Requirement already satisfied: SQLAlchemy in c:\\users\\muller\\anaconda3\\lib\\site-packages (1.1.5)\n",
    "Collecting SQLAlchemy\n",
    "  Downloading SQLAlchemy-1.4.41-cp36-cp36m-win_amd64.whl (1.6 MB)\n",
    "  ...\n",
    "</pre>"
   ]
  },
  {
   "cell_type": "markdown",
   "metadata": {},
   "source": [
    "### Définition de la classe User et création de la base de données"
   ]
  },
  {
   "cell_type": "code",
   "execution_count": 1,
   "metadata": {
    "collapsed": true
   },
   "outputs": [],
   "source": [
    "# sqlalchemy_declarative.py\n",
    "\n",
    "import os\n",
    "import sys\n",
    "from sqlalchemy import Column, Integer, String\n",
    "from sqlalchemy.ext.declarative import declarative_base\n",
    "from sqlalchemy import create_engine\n",
    "\n",
    "# Moteur d'accès à la base sqlalchemy.sqlite\n",
    "engine = create_engine('sqlite:///sqlalchemy.sqlite')\n",
    "\n",
    "Base = declarative_base()\n",
    "\n",
    "# Définition de la classe correspondant à la table \"user\"\n",
    "class Person(Base):\n",
    "    __tablename__ = 'person'\n",
    "\n",
    "    id = Column(Integer, primary_key=True)\n",
    "    pseudo = Column(String(16), nullable=False)\n",
    "    email = Column(String(255), nullable=False)\n",
    "    pwd = Column(String(32), nullable=False) \n",
    "\n",
    "\n",
    "# Création du moteur d'accès à la base sqlalchemy.sqlite\n",
    "engine = create_engine('sqlite:///sqlalchemy.sqlite')\n",
    "\n",
    "# Création des tables dans la base\n",
    "Base.metadata.create_all(engine)"
   ]
  },
  {
   "cell_type": "markdown",
   "metadata": {},
   "source": [
    "### Création d'un utilisateur"
   ]
  },
  {
   "cell_type": "code",
   "execution_count": 2,
   "metadata": {
    "collapsed": true
   },
   "outputs": [],
   "source": [
    "import random\n",
    "import string\n",
    "\n",
    "# Génération d'une chaîne de caractères aléatoire\n",
    "def get_random_string(length):\n",
    "    letters = string.ascii_lowercase\n",
    "    return ''.join(random.choice(letters) for i in range(length))"
   ]
  },
  {
   "cell_type": "code",
   "execution_count": 3,
   "metadata": {
    "collapsed": false
   },
   "outputs": [],
   "source": [
    "from sqlalchemy import create_engine\n",
    "from sqlalchemy.orm import sessionmaker\n",
    "\n",
    "# fichier créé précédemment, avec les déclarations de classes\n",
    "from sqlalchemy_declarative import Base, User\n",
    "\n",
    "# Moteur d'accès à la base sqlalchemy.sqlite\n",
    "engine = create_engine('sqlite:///sqlalchemy.sqlite')\n",
    "\n",
    "# On associe le moteur d'accès, à la classe de base de nos objets\n",
    "Base.metadata.bind = engine\n",
    "\n",
    "# On crée une session\n",
    "DBSession = sessionmaker(bind=engine)\n",
    "session = DBSession()\n",
    "\n",
    "# Création d'un utilisateur\n",
    "pseudo = get_random_string(3)\n",
    "user = User(pseudo=pseudo, email='{}@gmail.com'.format(pseudo), pwd=get_random_string(8))\n",
    "\n",
    "# Insertion dans la base\n",
    "session.add(user)\n",
    "session.commit()"
   ]
  },
  {
   "cell_type": "code",
   "execution_count": null,
   "metadata": {
    "collapsed": true
   },
   "outputs": [],
   "source": []
  }
 ],
 "metadata": {
  "kernelspec": {
   "display_name": "Python 3",
   "language": "python",
   "name": "python3"
  },
  "language_info": {
   "codemirror_mode": {
    "name": "ipython",
    "version": 3
   },
   "file_extension": ".py",
   "mimetype": "text/x-python",
   "name": "python",
   "nbconvert_exporter": "python",
   "pygments_lexer": "ipython3",
   "version": "3.6.6"
  }
 },
 "nbformat": 4,
 "nbformat_minor": 2
}
