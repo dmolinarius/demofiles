{
 "cells": [
  {
   "cell_type": "markdown",
   "metadata": {},
   "source": [
    "## 1.3 Couche d'abstraction\n",
    "### Exemple python/MySQL"
   ]
  },
  {
   "cell_type": "markdown",
   "metadata": {},
   "source": [
    "<div style=\"font-size: 120%\">\n",
    "Installation du module pour l'utilisation d'une base de données MySQL sous python\n",
    "</div>"
   ]
  },
  {
   "cell_type": "raw",
   "metadata": {},
   "source": [
    "pip install mysql-connector-python"
   ]
  },
  {
   "cell_type": "markdown",
   "metadata": {},
   "source": [
    "<div style=\"font-size: 120%\">\n",
    "Sous MySQL, outre le nom de la base de donnée, l'ouverture d'une connexion nécessite le nom du serveur sur lequel tourne le SGBDR, un nom d'utilisateur ayant des droits suffisants sur la base, et son mot de passe :\n",
    "</div>"
   ]
  },
  {
   "cell_type": "code",
   "execution_count": 1,
   "metadata": {
    "collapsed": false
   },
   "outputs": [],
   "source": [
    "import mysql.connector\n",
    "\n",
    "conn = mysql.connector.connect(\n",
    "    host=\"localhost\",             # nom du serveur\n",
    "    user=\"my_database\",           # nom d'utilisateur\n",
    "    password=\"pwd\",               # mot de passe\n",
    "    database=\"my_database\"        # nom de la base\n",
    ")"
   ]
  },
  {
   "cell_type": "markdown",
   "metadata": {},
   "source": [
    "<div style=\"font-size: 120%\">\n",
    "Une fois la connexion effectuée, et grâce à la compatibilité PEP249 des divers modules d'accès, les opérations sur le contenu de la base s'effectuent de la même manière quelle que soit le SGBDR :\n",
    "</div>"
   ]
  },
  {
   "cell_type": "code",
   "execution_count": 2,
   "metadata": {
    "collapsed": false
   },
   "outputs": [
    {
     "name": "stdout",
     "output_type": "stream",
     "text": [
      "('rde', 'Raymond.Deubaze@gmail.com', 'hello')\n"
     ]
    }
   ],
   "source": [
    "c = conn.cursor()\n",
    "c.execute(\"SELECT * FROM users\")\n",
    "data = c.fetchone()\n",
    "\n",
    "print(data)"
   ]
  },
  {
   "cell_type": "markdown",
   "metadata": {},
   "source": [
    "<p style=\"font-size: 120%\">\n",
    "Malheureusement la compatibilité s'arrête là. En effet PEP249 permet divers formats pour le paramétrage des requêtes, dont le libre choix est laissé à l'implémentation.\n",
    "</p>\n",
    "\n",
    "<p style=\"font-size: 120%\">\n",
    "<a href=\"1.2_snippet_1_PEP249_paramstyle.ipynb\">[demo]</a>\n",
    "</p>\n",
    "\n"
   ]
  }
 ],
 "metadata": {
  "kernelspec": {
   "display_name": "Python 3",
   "language": "python",
   "name": "python3"
  },
  "language_info": {
   "codemirror_mode": {
    "name": "ipython",
    "version": 3
   },
   "file_extension": ".py",
   "mimetype": "text/x-python",
   "name": "python",
   "nbconvert_exporter": "python",
   "pygments_lexer": "ipython3",
   "version": "3.6.6"
  }
 },
 "nbformat": 4,
 "nbformat_minor": 2
}
