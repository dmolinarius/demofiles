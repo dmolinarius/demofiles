{
 "cells": [
  {
   "cell_type": "markdown",
   "metadata": {},
   "source": [
    "## 1.4 Les limites de PEP249"
   ]
  },
  {
   "cell_type": "markdown",
   "metadata": {},
   "source": [
    "<p style=\"font-size: 120%\">\n",
    "Un package donné indique le format retenu pour les requêtes paramétrées à l'aide de l'attribut <code>paramstyle</code>&#160;:<br>\n",
    "<a href=\"https://peps.python.org/pep-0249/#paramstyle\">https://peps.python.org/pep-0249/#paramstyle</a>\n",
    "</p>"
   ]
  },
  {
   "cell_type": "code",
   "execution_count": 1,
   "metadata": {
    "collapsed": false
   },
   "outputs": [
    {
     "name": "stdout",
     "output_type": "stream",
     "text": [
      "qmark\n"
     ]
    }
   ],
   "source": [
    "import sqlite3\n",
    "print(sqlite3.paramstyle)"
   ]
  },
  {
   "cell_type": "code",
   "execution_count": 2,
   "metadata": {
    "collapsed": false
   },
   "outputs": [
    {
     "name": "stdout",
     "output_type": "stream",
     "text": [
      "pyformat\n"
     ]
    }
   ],
   "source": [
    "import mysql.connector\n",
    "print(mysql.connector.paramstyle)"
   ]
  },
  {
   "cell_type": "markdown",
   "metadata": {},
   "source": [
    "<p style=\"font-size: 120%\">\n",
    "La syntaxe des requêtes paramétrées n'est donc pas la même sous SQLite ou MySQL :\n",
    "</p>"
   ]
  },
  {
   "cell_type": "code",
   "execution_count": 3,
   "metadata": {
    "collapsed": false
   },
   "outputs": [
    {
     "name": "stdout",
     "output_type": "stream",
     "text": [
      "('rde', 'Raymond.Deubaze@ec-lyon.fr', 'hello')\n"
     ]
    }
   ],
   "source": [
    "import sqlite3\n",
    "conn = sqlite3.connect('my_database.sqlite')\n",
    "c = conn.cursor()\n",
    "\n",
    "pseudo = 'rde'\n",
    "password = 'hello'\n",
    "\n",
    "request = \"SELECT * FROM users WHERE pseudo=? AND pwd=?\"\n",
    "c.execute(request,(pseudo,password))\n",
    "\n",
    "print(c.fetchone())\n",
    "conn.close()\n"
   ]
  },
  {
   "cell_type": "code",
   "execution_count": 4,
   "metadata": {
    "collapsed": false
   },
   "outputs": [
    {
     "name": "stdout",
     "output_type": "stream",
     "text": [
      "('rde', 'Raymond.Deubaze@gmail.com', 'hello')\n"
     ]
    }
   ],
   "source": [
    "conn = mysql.connector.connect(\n",
    "    host=\"localhost\",\n",
    "    user=\"my_database\",\n",
    "    password=\"pwd\",\n",
    "    database=\"my_database\"\n",
    ")\n",
    "c = conn.cursor()\n",
    "\n",
    "pseudo = 'rde'\n",
    "password = 'hello'\n",
    "\n",
    "request = \"SELECT * FROM users WHERE pseudo=%s AND pwd=%s\"\n",
    "c.execute(request,(pseudo,password))\n",
    "\n",
    "print(c.fetchone())\n",
    "conn.close()"
   ]
  },
  {
   "cell_type": "markdown",
   "metadata": {},
   "source": [
    "<p style=\"font-size: 120%\">\n",
    "<b>N.B.</b> Dans le cas du driver MySQL utilisé, on peut utiliser la notation <code>%s</code> quels que soient les types python et SQL (cf. <a href=\"https://gayerie.dev/docs/python/python3/mysql.html#insertion-de-donnees\">la doc</a>).\n",
    "</p>"
   ]
  },
  {
   "cell_type": "markdown",
   "metadata": {},
   "source": [
    "<pre style=\"background-color:#f0f0f0; border: 1px solid #ccc; margin:0; padding:0.5em; font-size:1em\">\n",
    "conn = mysql.connector.connect(\n",
    "    host=\"localhost\",\n",
    "    user=\"my_database\",\n",
    "    password=\"pwd\",\n",
    "    database=\"my_database\"\n",
    ")\n",
    "c = conn.cursor()\n",
    "\n",
    "\n",
    "request = \"INSERT INTO test_values (id,name,value) VALUES (%s,%s,%s)\"\n",
    "retval = c.execute(request,(1,'pi',3.141592))\n",
    "\n",
    "print(retval)\n",
    "conn.close()\n",
    "</pre>"
   ]
  },
  {
   "cell_type": "markdown",
   "metadata": {},
   "source": [
    "### Code générique\n",
    "\n",
    "<p style=\"font-size: 120%\">\n",
    "La construction de code générique pour ces deux drivers est possible, mais nécessite une petite gymnastique...\n",
    "</p>"
   ]
  },
  {
   "cell_type": "code",
   "execution_count": 5,
   "metadata": {
    "collapsed": false
   },
   "outputs": [],
   "source": [
    "def build_select(driver,sql,numargs):\n",
    "    s = { 'qmark' : '?', 'pyformat': '%s'}\n",
    "    return sql.format(*([s[driver.paramstyle]]*numargs))\n",
    "\n",
    "args = ('rde','hello')\n",
    "sql = 'SELECT * FROM users WHERE pseudo={} AND pwd={}'"
   ]
  },
  {
   "cell_type": "code",
   "execution_count": 6,
   "metadata": {
    "collapsed": false
   },
   "outputs": [
    {
     "name": "stdout",
     "output_type": "stream",
     "text": [
      "SELECT * FROM users WHERE pseudo=? AND pwd=?\n"
     ]
    }
   ],
   "source": [
    "import sqlite3\n",
    "driver = sqlite3\n",
    "\n",
    "request = build_select(driver, sql, len(args))\n",
    "print(request)"
   ]
  },
  {
   "cell_type": "code",
   "execution_count": 7,
   "metadata": {
    "collapsed": false
   },
   "outputs": [
    {
     "name": "stdout",
     "output_type": "stream",
     "text": [
      "SELECT * FROM users WHERE pseudo=%s AND pwd=%s\n"
     ]
    }
   ],
   "source": [
    "import mysql.connector\n",
    "driver = mysql.connector\n",
    "\n",
    "request = build_select(driver, sql, len(args))\n",
    "print(request)"
   ]
  },
  {
   "cell_type": "markdown",
   "metadata": {},
   "source": [
    "<p style=\"font-size: 120%\">\n",
    "Toutefois, <code>paramstyle</code> permet 5 approches différentes dont seulement 2 ont été illustrées ici, sans préjuger de l'interprétation que peuvent en faire les divers drivers. Le construction de code agnostique et totalement générique n'est donc pas du tout triviale...\n",
    "</p>"
   ]
  },
  {
   "cell_type": "code",
   "execution_count": null,
   "metadata": {
    "collapsed": true
   },
   "outputs": [],
   "source": []
  }
 ],
 "metadata": {
  "kernelspec": {
   "display_name": "Python 3",
   "language": "python",
   "name": "python3"
  },
  "language_info": {
   "codemirror_mode": {
    "name": "ipython",
    "version": 3
   },
   "file_extension": ".py",
   "mimetype": "text/x-python",
   "name": "python",
   "nbconvert_exporter": "python",
   "pygments_lexer": "ipython3",
   "version": "3.6.6"
  }
 },
 "nbformat": 4,
 "nbformat_minor": 2
}
