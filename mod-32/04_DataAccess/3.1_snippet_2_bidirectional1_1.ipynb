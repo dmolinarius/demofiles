{
 "cells": [
  {
   "cell_type": "markdown",
   "metadata": {},
   "source": [
    "## 3.1 Implémentation des relations 1:1"
   ]
  },
  {
   "cell_type": "markdown",
   "metadata": {
    "collapsed": true
   },
   "source": [
    "### Relation 1:1 bidirectionnelle avec SQLAlchemy"
   ]
  },
  {
   "cell_type": "code",
   "execution_count": 1,
   "metadata": {
    "collapsed": true
   },
   "outputs": [],
   "source": [
    "from sqlalchemy import Column,  ForeignKey, Integer, String\n",
    "from sqlalchemy.ext.declarative import declarative_base\n",
    "from sqlalchemy import create_engine\n",
    "from sqlalchemy.orm import sessionmaker,  relationship\n",
    "\n",
    "# Moteur d'accès à la base sqlalchemy.sqlite\n",
    "engine = create_engine('sqlite:///sqlalchemy.sqlite')"
   ]
  },
  {
   "cell_type": "markdown",
   "metadata": {},
   "source": [
    "<img src=\"../Relation_1_1_bidirectionnelle.png\">"
   ]
  },
  {
   "cell_type": "markdown",
   "metadata": {},
   "source": [
    "<p id=\"declarations\" style=\"font-size:120%\">Déclaration des classes métier :</p>"
   ]
  },
  {
   "cell_type": "code",
   "execution_count": 2,
   "metadata": {
    "collapsed": false
   },
   "outputs": [],
   "source": [
    "# Classe de base\n",
    "Base = declarative_base()\n",
    "Base.metadata.bind = engine\n",
    "\n",
    "# Définition des classes\n",
    "class User(Base):\n",
    "    __tablename__ = 'user'\n",
    "\n",
    "    id = Column(Integer, primary_key=True)\n",
    "    pseudo = Column(String(16), nullable=False)\n",
    "    email = Column(String(255), nullable=False)\n",
    "    pwd = Column(String(32), nullable=False)\n",
    "    \n",
    "    office_id = Column(Integer,ForeignKey(\"office.id\"))\n",
    "    office = relationship(\"Office\", uselist=False, back_populates=\"user\")\n",
    "\n",
    "class Office(Base):\n",
    "    __tablename__ = 'office'\n",
    "    \n",
    "    id = Column(Integer, primary_key=True)\n",
    "    building = Column(String(32),nullable=False)\n",
    "    floor = Column(Integer,nullable=False)\n",
    "    room_id = Column(String(32),nullable=False)\n",
    "    \n",
    "    user=relationship(\"User\", uselist=False, back_populates=\"office\")"
   ]
  },
  {
   "cell_type": "markdown",
   "metadata": {},
   "source": [
    "<p id=\"usage\" style=\"font-size:120%\">Usage :</p>"
   ]
  },
  {
   "cell_type": "code",
   "execution_count": 3,
   "metadata": {
    "collapsed": false
   },
   "outputs": [
    {
     "name": "stdout",
     "output_type": "stream",
     "text": [
      "rde 110 rde\n"
     ]
    }
   ],
   "source": [
    "# Session\n",
    "DBSession = sessionmaker(bind=engine)\n",
    "session = DBSession()\n",
    "\n",
    "# Récupération d'un utilisateur, avec son bureau\n",
    "user = session.query(User).filter(User.pseudo == 'rde').one()\n",
    "print(user.pseudo, user.office.room_id, user.office.user.pseudo)"
   ]
  },
  {
   "cell_type": "code",
   "execution_count": 4,
   "metadata": {
    "collapsed": false
   },
   "outputs": [
    {
     "name": "stdout",
     "output_type": "stream",
     "text": [
      "W1bis 1 110 rde\n"
     ]
    }
   ],
   "source": [
    "# Récupération d'un bureau, avec son utilisateur\n",
    "office1 = session.query(Office).filter(Office.id == 1).one()\n",
    "print(office1.building, office1.floor, office1.room_id, office1.user.pseudo)"
   ]
  },
  {
   "cell_type": "code",
   "execution_count": 5,
   "metadata": {
    "collapsed": false
   },
   "outputs": [
    {
     "name": "stdout",
     "output_type": "stream",
     "text": [
      "W1bis 1 110 None\n",
      "rjh83 1 kijmdklt rde\n"
     ]
    }
   ],
   "source": [
    "# Le changement de bureau d'un utilisateur modifie le nouveau bureau et le bureau initial\n",
    "user = office1.user\n",
    "office2 = session.query(Office).filter(Office.id == 2).one()\n",
    "user.office = office2\n",
    "\n",
    "print(office1.building, office1.floor, office1.room_id, office1.user)\n",
    "print(office2.building, office2.floor, office2.room_id, office2.user.pseudo)\n",
    "\n",
    "session.add(user)\n",
    "session.commit()"
   ]
  },
  {
   "cell_type": "code",
   "execution_count": 6,
   "metadata": {
    "collapsed": false
   },
   "outputs": [
    {
     "name": "stdout",
     "output_type": "stream",
     "text": [
      "rde None\n",
      "nxq 2\n"
     ]
    }
   ],
   "source": [
    "# Le changement de l'occupant d'un bureau modifie l'occupant initial\n",
    "user2 = session.query(User).filter(User.id == 2).one()\n",
    "\n",
    "office2.user = user2\n",
    "print(user.pseudo,user.office)\n",
    "print(user2.pseudo,user2.office.id)\n",
    "\n",
    "session.add(office2)\n",
    "session.commit()"
   ]
  },
  {
   "cell_type": "code",
   "execution_count": 7,
   "metadata": {
    "collapsed": false
   },
   "outputs": [],
   "source": [
    "user.office = office1\n",
    "session.add(user)\n",
    "session.commit()\n",
    "\n",
    "# Exemple de cours\n",
    "user = session.query(User).filter(User.pseudo == 'rde').one()\n",
    "office1 = user.office\n",
    "\n",
    "# Le changement de bureau d'un utilisateur modifie le nouveau bureau et le bureau initial\n",
    "office2 = Office(building='Deck',floor=1,room_id='RC 10')\n",
    "user.office = office2\n",
    "\n",
    "assert office1.user == None\n",
    "assert office2.user == user"
   ]
  },
  {
   "cell_type": "code",
   "execution_count": null,
   "metadata": {
    "collapsed": true
   },
   "outputs": [],
   "source": []
  }
 ],
 "metadata": {
  "kernelspec": {
   "display_name": "Python 3",
   "language": "python",
   "name": "python3"
  },
  "language_info": {
   "codemirror_mode": {
    "name": "ipython",
    "version": 3
   },
   "file_extension": ".py",
   "mimetype": "text/x-python",
   "name": "python",
   "nbconvert_exporter": "python",
   "pygments_lexer": "ipython3",
   "version": "3.6.6"
  }
 },
 "nbformat": 4,
 "nbformat_minor": 2
}
