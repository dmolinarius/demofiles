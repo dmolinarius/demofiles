{
 "cells": [
  {
   "cell_type": "markdown",
   "metadata": {},
   "source": [
    "## 2.5 SQLAlchemy"
   ]
  },
  {
   "cell_type": "code",
   "execution_count": 1,
   "metadata": {
    "collapsed": true
   },
   "outputs": [],
   "source": [
    "from sqlalchemy import create_engine\n",
    "from sqlalchemy.orm import sessionmaker\n",
    "\n",
    "# fichier avec les déclarations de classes\n",
    "from sqlalchemy_declarative import Base, User\n",
    "\n",
    "# Moteur d'accès à la base sqlalchemy.sqlite\n",
    "engine = create_engine('sqlite:///sqlalchemy.sqlite')\n",
    "Base.metadata.bind = engine\n",
    "\n",
    "# Session\n",
    "DBSession = sessionmaker(bind=engine)\n",
    "session = DBSession()"
   ]
  },
  {
   "cell_type": "markdown",
   "metadata": {},
   "source": [
    "### Accès aux données"
   ]
  },
  {
   "cell_type": "markdown",
   "metadata": {},
   "source": [
    "<div style=\"font-size: 120%\">\n",
    "Récupération d'un objet - SELECT\n",
    "</div>"
   ]
  },
  {
   "cell_type": "code",
   "execution_count": 2,
   "metadata": {
    "collapsed": false
   },
   "outputs": [
    {
     "name": "stdout",
     "output_type": "stream",
     "text": [
      "rde\n"
     ]
    }
   ],
   "source": [
    "users = session.query(User).all()\n",
    "print(users[0].pseudo)"
   ]
  },
  {
   "cell_type": "code",
   "execution_count": 3,
   "metadata": {
    "collapsed": false
   },
   "outputs": [
    {
     "name": "stdout",
     "output_type": "stream",
     "text": [
      "2 nxq nxq@gmail.com zmkzarpj\n"
     ]
    }
   ],
   "source": [
    "user = session.query(User).filter(User.id == 2).one()\n",
    "print(user.id, user.pseudo, user.email, user.pwd)"
   ]
  },
  {
   "cell_type": "markdown",
   "metadata": {},
   "source": [
    "<div style=\"font-size: 120%\">\n",
    "Création d'un objet persistant - INSERT\n",
    "</div>"
   ]
  },
  {
   "cell_type": "code",
   "execution_count": 7,
   "metadata": {
    "collapsed": false
   },
   "outputs": [
    {
     "name": "stdout",
     "output_type": "stream",
     "text": [
      "13 deu deu@gmail.com phnebgij\n"
     ]
    }
   ],
   "source": [
    "import random\n",
    "import string\n",
    "\n",
    "# Génération d'une chaîne de caractères aléatoire\n",
    "def get_random_string(length):\n",
    "    letters = string.ascii_lowercase\n",
    "    return ''.join(random.choice(letters) for i in range(length))\n",
    "\n",
    "pseudo = get_random_string(3)\n",
    "user = User(pseudo=pseudo, email='{}@gmail.com'.format(pseudo), pwd=get_random_string(8))\n",
    "\n",
    "session.add(user)\n",
    "session.commit()\n",
    "\n",
    "print(user.id, user.pseudo, user.email, user.pwd)"
   ]
  },
  {
   "cell_type": "markdown",
   "metadata": {},
   "source": [
    "<div style=\"font-size: 120%\">\n",
    "Modification d'un objet existant - UPDATE\n",
    "</div>"
   ]
  },
  {
   "cell_type": "code",
   "execution_count": 8,
   "metadata": {
    "collapsed": false
   },
   "outputs": [
    {
     "name": "stdout",
     "output_type": "stream",
     "text": [
      "13 deu deu@gmail.com hello, there\n"
     ]
    }
   ],
   "source": [
    "user.pwd = 'hello, there'\n",
    "session.add(user)\n",
    "session.commit()\n",
    "\n",
    "check = session.query(User).filter(User.id == user.id).one()\n",
    "print(check.id, check.pseudo, check.email, check.pwd)"
   ]
  },
  {
   "cell_type": "markdown",
   "metadata": {},
   "source": [
    "<div style=\"font-size: 120%\">\n",
    "Suppression d'un objet dans la base - DELETE \n",
    "</div>"
   ]
  },
  {
   "cell_type": "code",
   "execution_count": 9,
   "metadata": {
    "collapsed": false
   },
   "outputs": [
    {
     "name": "stdout",
     "output_type": "stream",
     "text": [
      "None\n"
     ]
    }
   ],
   "source": [
    "session.delete(check)\n",
    "session.commit()\n",
    "\n",
    "from sqlalchemy.exc import *\n",
    "\n",
    "not_found = session.query(User).filter(User.id == check.id).first()\n",
    "print(not_found)"
   ]
  },
  {
   "cell_type": "code",
   "execution_count": null,
   "metadata": {
    "collapsed": true
   },
   "outputs": [],
   "source": []
  }
 ],
 "metadata": {
  "kernelspec": {
   "display_name": "Python 3",
   "language": "python",
   "name": "python3"
  },
  "language_info": {
   "codemirror_mode": {
    "name": "ipython",
    "version": 3
   },
   "file_extension": ".py",
   "mimetype": "text/x-python",
   "name": "python",
   "nbconvert_exporter": "python",
   "pygments_lexer": "ipython3",
   "version": "3.6.6"
  }
 },
 "nbformat": 4,
 "nbformat_minor": 2
}
