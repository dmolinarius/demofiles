{
 "cells": [
  {
   "cell_type": "markdown",
   "metadata": {},
   "source": [
    "## 2.5 SQLAlchemy"
   ]
  },
  {
   "cell_type": "markdown",
   "metadata": {},
   "source": [
    "<p style=\"font-size:120%\">\n",
    "Déclaration du mapping objet-relationnel, méthode impérative ou déclarative\n",
    "</p>"
   ]
  },
  {
   "cell_type": "markdown",
   "metadata": {},
   "source": [
    "### Méthode impérative"
   ]
  },
  {
   "cell_type": "code",
   "execution_count": 1,
   "metadata": {
    "collapsed": false
   },
   "outputs": [],
   "source": [
    "### imperative\n",
    "\n",
    "from sqlalchemy import create_engine\n",
    "from sqlalchemy import MetaData, Table, Column, Integer, String\n",
    "from sqlalchemy.orm import sessionmaker, mapper\n",
    "\n",
    "# Description de la table\n",
    "user_table = Table(\n",
    "    \"user\",\n",
    "    MetaData(),\n",
    "    Column('id',Integer, primary_key=True),\n",
    "    Column('pseudo',String(16), nullable=False),\n",
    "    Column('email',String(255), nullable=False),\n",
    "    Column('pwd',String(32), nullable=False) \n",
    ")\n",
    "\n",
    "# Objet métier\n",
    "class User2:\n",
    "    \n",
    "    def __init__(self,pseudo,email,pwd):\n",
    "        self.pseudo = pseudo\n",
    "        self.email = email\n",
    "        self.pwd = pwd\n",
    "        self.id = None\n",
    "        \n",
    "    def __str__(self):\n",
    "        return '[{}] {}: {}'.format(self.id,self.pseudo,self.email)\n",
    "\n",
    "# Mapper - correspondance entre l'objet métier et la description de la table\n",
    "m = mapper(User2, user_table)\n",
    "\n",
    "# Création d'un objet métier\n",
    "import random\n",
    "import string\n",
    "\n",
    "def get_random_string(length):\n",
    "    letters = string.ascii_lowercase\n",
    "    return ''.join(random.choice(letters) for i in range(length))\n",
    "\n",
    "# Insert\n",
    "pseudo = get_random_string(3)\n",
    "user = User2(pseudo=pseudo, email='{}@gmail.com'.format(pseudo), pwd=get_random_string(8))"
   ]
  },
  {
   "cell_type": "markdown",
   "metadata": {},
   "source": [
    "<div style=\"font-size: 120%\" id=\"mapperlink\">\n",
    "L'objet métier comporte un lien vers le mapper :\n",
    "</div>"
   ]
  },
  {
   "cell_type": "code",
   "execution_count": 2,
   "metadata": {
    "collapsed": false
   },
   "outputs": [],
   "source": [
    "from sqlalchemy.orm import  object_mapper\n",
    "\n",
    "assert(object_mapper(user) == m)\n",
    "assert(user._sa_class_manager.mapper == m)"
   ]
  },
  {
   "cell_type": "markdown",
   "metadata": {},
   "source": [
    "<div style=\"font-size: 120%\">\n",
    "On peut donc l'enregistrer dans la base :\n",
    "</div>"
   ]
  },
  {
   "cell_type": "code",
   "execution_count": 3,
   "metadata": {
    "collapsed": false
   },
   "outputs": [
    {
     "name": "stdout",
     "output_type": "stream",
     "text": [
      "20 mye mye@gmail.com tvvvefsk\n"
     ]
    }
   ],
   "source": [
    "# Moteur d'accès à la base sqlalchemy.sqlite\n",
    "engine = create_engine('sqlite:///sqlalchemy.sqlite')\n",
    "\n",
    "# Session\n",
    "Session = sessionmaker(bind=engine)\n",
    "session = Session()\n",
    "\n",
    "# Insert\n",
    "session.add(user)\n",
    "session.commit()\n",
    "\n",
    "print(user.id, user.pseudo, user.email, user.pwd)"
   ]
  },
  {
   "cell_type": "markdown",
   "metadata": {},
   "source": [
    "<div style=\"font-size: 120%\">\n",
    "La relation avec le mapper existe au niveau de la classe de l'objet métier :\n",
    "</div>"
   ]
  },
  {
   "cell_type": "code",
   "execution_count": 4,
   "metadata": {
    "collapsed": false
   },
   "outputs": [],
   "source": [
    "assert(User2._sa_class_manager.mapper == m)"
   ]
  },
  {
   "cell_type": "markdown",
   "metadata": {},
   "source": [
    "<div style=\"font-size: 120%\">\n",
    "ce qui permet d'effectuer des requêtes comme celle-ci :\n",
    "</div>"
   ]
  },
  {
   "cell_type": "code",
   "execution_count": 15,
   "metadata": {
    "collapsed": false
   },
   "outputs": [
    {
     "name": "stdout",
     "output_type": "stream",
     "text": [
      "[1] rde: Raymond.Deubaze@gmail.com\n",
      "[2] nxq: nxq@gmail.com\n",
      "[3] ztj: ztj@gmail.com\n",
      "[4] plm: plm@gmail.com\n",
      "[5] rtv: rtv@gmail.com\n",
      "[6] ofp: ofp@gmail.com\n",
      "[7] kae: kae@gmail.com\n",
      "[8] vbs: vbs@gmail.com\n",
      "[9] jty: jty@gmail.com\n",
      "[10] jbt: jean.bonnot@ec-lyon.fr\n",
      "[11] phh: phh@gmail.com\n",
      "[12] xil: xil@gmail.com\n",
      "[13] qfk: qfk@gmail.com\n",
      "[14] ijt: ijt@gmail.com\n",
      "[15] yhw: yhw@gmail.com\n",
      "[16] upc: upc@gmail.com\n",
      "[17] nym: nym@gmail.com\n",
      "[18] lgu: lgu@gmail.com\n",
      "[19] obu: obu@gmail.com\n",
      "[20] mye: mye@gmail.com\n"
     ]
    }
   ],
   "source": [
    "# Select\n",
    "users = session.query(User2).all()\n",
    "for user in users:\n",
    "    print(user)"
   ]
  },
  {
   "cell_type": "markdown",
   "metadata": {},
   "source": [
    "### Méthode déclarative"
   ]
  },
  {
   "cell_type": "code",
   "execution_count": 6,
   "metadata": {
    "collapsed": false
   },
   "outputs": [],
   "source": [
    "### declarative\n",
    "\n",
    "from sqlalchemy import Column, Integer, String\n",
    "from sqlalchemy.ext.declarative import declarative_base\n",
    "from sqlalchemy import create_engine\n",
    "from sqlalchemy.orm import sessionmaker\n",
    "\n",
    "# Moteur d'accès à la base sqlalchemy.sqlite\n",
    "engine = create_engine('sqlite:///sqlalchemy.sqlite')\n",
    "\n",
    "# Classe de base\n",
    "Base = declarative_base()\n",
    "Base.metadata.bind = engine\n",
    "\n",
    "# Définition de la classe correspondant à la table \"user\"\n",
    "class User(Base):\n",
    "    __tablename__ = 'user'\n",
    "\n",
    "    id = Column(Integer, primary_key=True)\n",
    "    pseudo = Column(String(16), nullable=False)\n",
    "    email = Column(String(255), nullable=False)\n",
    "    pwd = Column(String(32), nullable=False) "
   ]
  },
  {
   "cell_type": "markdown",
   "metadata": {},
   "source": [
    "<div style=\"font-size: 120%\">\n",
    "Ici, la table est indiquée de manière explicite dans le corps de la classe métier, et le mapper est automatiquement instancié et lié avec la classe mère :\n",
    "</div>"
   ]
  },
  {
   "cell_type": "code",
   "execution_count": 7,
   "metadata": {
    "collapsed": false
   },
   "outputs": [],
   "source": [
    "user = User(pseudo='abc', email='abc@gmail.com', pwd='hello')"
   ]
  },
  {
   "cell_type": "code",
   "execution_count": 8,
   "metadata": {
    "collapsed": false
   },
   "outputs": [],
   "source": [
    "from sqlalchemy.orm import  object_mapper\n",
    "\n",
    "assert(object_mapper(user) == user.__mapper__)\n",
    "assert(user.__tablename__ == 'user')\n",
    "\n",
    "assert User.__mapper__ == user.__mapper__"
   ]
  },
  {
   "cell_type": "markdown",
   "metadata": {},
   "source": [
    "<div style=\"font-size: 120%\" id=\"session\">\n",
    "Quelle que soit la méthode utilisée pour décrire le mapping (impérative ou déclarative) les accès\n",
    "à la base de données se font ensuite via une instance de la classe <code>Session</code>:\n",
    "</div>"
   ]
  },
  {
   "cell_type": "code",
   "execution_count": 12,
   "metadata": {
    "collapsed": false
   },
   "outputs": [
    {
     "name": "stdout",
     "output_type": "stream",
     "text": [
      "<sqlalchemy.orm.session.Session object at 0x00000253DB671AC8>\n"
     ]
    }
   ],
   "source": [
    "# Session\n",
    "Session = sessionmaker(bind=engine)\n",
    "session = Session()\n",
    "print(session)"
   ]
  },
  {
   "cell_type": "code",
   "execution_count": 13,
   "metadata": {
    "collapsed": false
   },
   "outputs": [
    {
     "name": "stdout",
     "output_type": "stream",
     "text": [
      "rde Raymond.Deubaze@gmail.com\n",
      "nxq nxq@gmail.com\n",
      "ztj ztj@gmail.com\n",
      "plm plm@gmail.com\n",
      "rtv rtv@gmail.com\n",
      "ofp ofp@gmail.com\n",
      "kae kae@gmail.com\n",
      "vbs vbs@gmail.com\n",
      "jty jty@gmail.com\n",
      "jbt jean.bonnot@ec-lyon.fr\n",
      "phh phh@gmail.com\n",
      "xil xil@gmail.com\n",
      "qfk qfk@gmail.com\n",
      "ijt ijt@gmail.com\n",
      "yhw yhw@gmail.com\n",
      "upc upc@gmail.com\n",
      "nym nym@gmail.com\n",
      "lgu lgu@gmail.com\n",
      "obu obu@gmail.com\n",
      "mye mye@gmail.com\n"
     ]
    }
   ],
   "source": [
    "# Requête\n",
    "users = session.query(User).all()\n",
    "for user in users:\n",
    "    print(user.pseudo,user.email)"
   ]
  },
  {
   "cell_type": "code",
   "execution_count": null,
   "metadata": {
    "collapsed": true
   },
   "outputs": [],
   "source": []
  }
 ],
 "metadata": {
  "kernelspec": {
   "display_name": "Python 3",
   "language": "python",
   "name": "python3"
  },
  "language_info": {
   "codemirror_mode": {
    "name": "ipython",
    "version": 3
   },
   "file_extension": ".py",
   "mimetype": "text/x-python",
   "name": "python",
   "nbconvert_exporter": "python",
   "pygments_lexer": "ipython3",
   "version": "3.6.6"
  }
 },
 "nbformat": 4,
 "nbformat_minor": 2
}
