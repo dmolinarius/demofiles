{
 "cells": [
  {
   "cell_type": "markdown",
   "metadata": {},
   "source": [
    "## 3.1 Implémentation des relations 1:1"
   ]
  },
  {
   "cell_type": "markdown",
   "metadata": {},
   "source": [
    "### Exemple sous SQLAlchemy"
   ]
  },
  {
   "cell_type": "code",
   "execution_count": 1,
   "metadata": {
    "collapsed": false
   },
   "outputs": [],
   "source": [
    "from sqlalchemy import Column,  ForeignKey, Integer, String\n",
    "from sqlalchemy.ext.declarative import declarative_base\n",
    "from sqlalchemy import create_engine\n",
    "from sqlalchemy.orm import sessionmaker,  relationship\n",
    "\n",
    "# Moteur d'accès à la base sqlalchemy.sqlite\n",
    "engine = create_engine('sqlite:///sqlalchemy.sqlite')"
   ]
  },
  {
   "cell_type": "markdown",
   "metadata": {},
   "source": [
    "<img src=\"Relation_1_1_User_Office.png\">"
   ]
  },
  {
   "cell_type": "code",
   "execution_count": 2,
   "metadata": {
    "collapsed": true
   },
   "outputs": [],
   "source": [
    "import random\n",
    "import string\n",
    "\n",
    "# Génération d'une chaîne de caractères aléatoire\n",
    "def get_random_string(length):\n",
    "    letters = string.ascii_lowercase\n",
    "    return ''.join(random.choice(letters) for i in range(length))"
   ]
  },
  {
   "cell_type": "markdown",
   "metadata": {},
   "source": [
    "<p id=\"declarations\" style=\"font-size:120%\">Déclaration des classes métier :</p>"
   ]
  },
  {
   "cell_type": "code",
   "execution_count": 3,
   "metadata": {
    "collapsed": false
   },
   "outputs": [],
   "source": [
    "# Classe de base\n",
    "Base = declarative_base()\n",
    "Base.metadata.bind = engine\n",
    "\n",
    "# Définition des classes\n",
    "class User(Base):\n",
    "    __tablename__ = 'user'\n",
    "\n",
    "    id = Column(Integer, primary_key=True)\n",
    "    pseudo = Column(String(16), nullable=False)\n",
    "    email = Column(String(255), nullable=False)\n",
    "    pwd = Column(String(32), nullable=False)\n",
    "    \n",
    "    office_id = Column(Integer,ForeignKey(\"office.id\"))\n",
    "    office = relationship(\"Office\", uselist=False)\n",
    "\n",
    "class Office(Base):\n",
    "    __tablename__ = 'office'\n",
    "    \n",
    "    id = Column(Integer, primary_key=True)\n",
    "    building = Column(String(32),nullable=False)\n",
    "    floor = Column(Integer,nullable=False)\n",
    "    room_id = Column(String(32),nullable=False)"
   ]
  },
  {
   "cell_type": "markdown",
   "metadata": {},
   "source": [
    "<p id=\"usage\" style=\"font-size:120%\">Usage :</p>"
   ]
  },
  {
   "cell_type": "code",
   "execution_count": 4,
   "metadata": {
    "collapsed": false
   },
   "outputs": [],
   "source": [
    "# Session\n",
    "DBSession = sessionmaker(bind=engine)\n",
    "session = DBSession()\n",
    "\n",
    "# Récupération d'un utilisateur\n",
    "user = session.query(User).filter(User.pseudo == 'rde').one()\n",
    "\n",
    "# Création d'un bureau\n",
    "building='{}{}'.format(get_random_string(3),random.randint(10,99))\n",
    "floor=random.randint(0,10)\n",
    "room_id = get_random_string(8)\n",
    "office = Office(building=building,floor=floor,room_id=room_id)\n",
    "\n",
    "#Affectation du bureau à l'utilisateur\n",
    "user.office = office\n",
    "\n",
    "# Enregistrement de l'utilisateur et du bureau par la même occasion\n",
    "session.add(user)\n",
    "session.commit()"
   ]
  },
  {
   "cell_type": "code",
   "execution_count": 5,
   "metadata": {
    "collapsed": false
   },
   "outputs": [
    {
     "name": "stdout",
     "output_type": "stream",
     "text": [
      "<__main__.Office object at 0x000001B07362F160>\n",
      "5 qnq42 7 iskdnkqr\n"
     ]
    }
   ],
   "source": [
    "print(user.office)\n",
    "print(office.id,office.building,office.floor,office.room_id)"
   ]
  },
  {
   "cell_type": "code",
   "execution_count": 6,
   "metadata": {
    "collapsed": false
   },
   "outputs": [
    {
     "name": "stdout",
     "output_type": "stream",
     "text": [
      "5 qnq42 7 iskdnkqr\n"
     ]
    }
   ],
   "source": [
    "# Le bureau a bien été enregistré dans la base\n",
    "office2 = session.query(Office).filter(Office.id == user.office.id).one()\n",
    "print(office2.id,office2.building,office2.floor,office2.room_id)"
   ]
  },
  {
   "cell_type": "code",
   "execution_count": 7,
   "metadata": {
    "collapsed": true
   },
   "outputs": [],
   "source": [
    "# On remet rde dans son bureau\n",
    "office3 = session.query(Office).all()[0]\n",
    "user.office = office3\n",
    "session.add(user)\n",
    "session.commit()"
   ]
  },
  {
   "cell_type": "code",
   "execution_count": null,
   "metadata": {
    "collapsed": true
   },
   "outputs": [],
   "source": []
  }
 ],
 "metadata": {
  "kernelspec": {
   "display_name": "Python 3",
   "language": "python",
   "name": "python3"
  },
  "language_info": {
   "codemirror_mode": {
    "name": "ipython",
    "version": 3
   },
   "file_extension": ".py",
   "mimetype": "text/x-python",
   "name": "python",
   "nbconvert_exporter": "python",
   "pygments_lexer": "ipython3",
   "version": "3.6.6"
  }
 },
 "nbformat": 4,
 "nbformat_minor": 2
}
