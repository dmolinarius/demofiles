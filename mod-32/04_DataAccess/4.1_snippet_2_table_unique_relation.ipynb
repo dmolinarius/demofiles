{
 "cells": [
  {
   "cell_type": "markdown",
   "metadata": {},
   "source": [
    "## 4.1 Modélisation de l'héritage avec une table unique"
   ]
  },
  {
   "cell_type": "markdown",
   "metadata": {},
   "source": [
    "### Implémentation sous SQLAlchemy avec illustration d'une relation 1:n"
   ]
  },
  {
   "cell_type": "code",
   "execution_count": 1,
   "metadata": {
    "collapsed": true
   },
   "outputs": [],
   "source": [
    "from sqlalchemy import Table, Column,  ForeignKey, Integer, String\n",
    "from sqlalchemy.ext.declarative import declarative_base\n",
    "from sqlalchemy import create_engine\n",
    "from sqlalchemy.orm import sessionmaker,  relationship\n",
    "\n",
    "# Moteur d'accès à la base sqlalchemy.sqlite\n",
    "engine = create_engine('sqlite:///sqlalchemy.sqlite')"
   ]
  },
  {
   "cell_type": "code",
   "execution_count": 2,
   "metadata": {
    "collapsed": true
   },
   "outputs": [],
   "source": [
    "# Session\n",
    "DBSession = sessionmaker(bind=engine)\n",
    "session = DBSession()"
   ]
  },
  {
   "cell_type": "markdown",
   "metadata": {},
   "source": [
    "<p id=\"declarations\" style=\"font-size:120%\">Déclaration des classes métier :</p>"
   ]
  },
  {
   "cell_type": "code",
   "execution_count": 3,
   "metadata": {
    "collapsed": true
   },
   "outputs": [],
   "source": [
    "# Classe mère\n",
    "Base = declarative_base()\n",
    "Base.metadata.bind = engine\n",
    "\n",
    "# Définition des classes \n",
    "class Person(Base):\n",
    "    __tablename__ = 'poly_person'\n",
    "\n",
    "    id = Column(Integer, primary_key=True)\n",
    "    first_name = Column(String(64), nullable=False)\n",
    "    last_name = Column(String(64), nullable=False)\n",
    "    type = Column(String(20), nullable=False)\n",
    "\n",
    "    __mapper_args__ = {\n",
    "        \"polymorphic_on\": type,\n",
    "        \"polymorphic_identity\": \"person\",\n",
    "    }\n",
    "    \n",
    "    def __str__(self):\n",
    "        return '{} {} {} {}'.format(self.id,self.type,self.first_name,self.last_name)\n",
    "\n",
    "class Developer(Person):\n",
    "    login = Column(String(32))\n",
    "    pwd = Column(String(32))\n",
    "    \n",
    "    office_id = Column(Integer,ForeignKey(\"poly_office.id\"))\n",
    "    office = relationship(\"DeveloperOffice\", uselist=False, back_populates=\"developer\")\n",
    "\n",
    "    __mapper_args__ = {\n",
    "        \"polymorphic_identity\": \"developer\",\n",
    "    }\n",
    "\n",
    "    def __str__(self):\n",
    "        return super().__str__() + ' {} {} in office {}'.format(\n",
    "            self.login,\n",
    "            self.pwd,\n",
    "            self.office.room if self.office else None)\n",
    "\n",
    "class Player(Person):\n",
    "    pseudo = Column(String(16))\n",
    "    score = Column(Integer)\n",
    "    \n",
    "    __mapper_args__ = {\n",
    "        \"polymorphic_identity\": \"player\",\n",
    "    }\n",
    "\n",
    "    def __str__(self):\n",
    "        return super().__str__() + ' {} {}'.format(self.pseudo,self.score)\n",
    "\n",
    "class VIP(Player):\n",
    "    email = Column(String(255))\n",
    "    preferences = Column(String(255)) \n",
    "\n",
    "    __mapper_args__ = {\n",
    "        \"polymorphic_identity\": \"VIP\",\n",
    "    }\n",
    "\n",
    "    def __str__(self):\n",
    "        return super().__str__() + ' {} {}'.format(self.email,self.preferences)\n",
    "\n",
    "class DeveloperOffice(Base):\n",
    "    __tablename__ = 'poly_office'\n",
    "    \n",
    "    id = Column(Integer, primary_key=True)\n",
    "    room = Column(String(128),nullable=False)\n",
    "\n",
    "    developer=relationship(\"Developer\", back_populates=\"office\")\n",
    "    \n",
    "    def __str__(self):\n",
    "        return '{} {}'.format(self.id,self.room)\n",
    "    \n",
    "# Création éventuelle des tables dans la base\n",
    "Base.metadata.create_all(engine)"
   ]
  },
  {
   "cell_type": "markdown",
   "metadata": {},
   "source": [
    "<p id=\"usage\" style=\"font-size:120%\">Usage d'une relation dans le contexte d'une classe fille</p>"
   ]
  },
  {
   "cell_type": "code",
   "execution_count": 4,
   "metadata": {
    "collapsed": false
   },
   "outputs": [
    {
     "name": "stdout",
     "output_type": "stream",
     "text": [
      "2 developer Maud Zarella mozarella di Bufala in office Deck RC 10\n"
     ]
    }
   ],
   "source": [
    "# Création éventuelle d'un developer\n",
    "devs = session.query(Developer).all()\n",
    "if len(devs) == 0:\n",
    "    dev = Developer(first_name=\"Maud\",last_name='Zarella',login=\"mozarella\",pwd='di Bufala')\n",
    "    session.add(dev)\n",
    "    session.commit()\n",
    "else:\n",
    "    dev = devs[0]\n",
    "\n",
    "print(dev)"
   ]
  },
  {
   "cell_type": "code",
   "execution_count": 5,
   "metadata": {
    "collapsed": false
   },
   "outputs": [
    {
     "name": "stdout",
     "output_type": "stream",
     "text": [
      "2 Deck RC 10\n"
     ]
    }
   ],
   "source": [
    "# Création éventuelle d'un bureau\n",
    "offices = session.query(DeveloperOffice).all()\n",
    "if len(offices) == 0:\n",
    "    office = DeveloperOffice(room=\"Deck RC 10\")\n",
    "    session.add(office)\n",
    "    session.commit()\n",
    "else:\n",
    "    office = offices[0]\n",
    "\n",
    "print(office)"
   ]
  },
  {
   "cell_type": "code",
   "execution_count": 6,
   "metadata": {
    "collapsed": false
   },
   "outputs": [
    {
     "name": "stdout",
     "output_type": "stream",
     "text": [
      "2 developer Maud Zarella mozarella di Bufala in office Deck RC 10\n"
     ]
    }
   ],
   "source": [
    "# Affectation d'un bureau à un développeur\n",
    "dev = session.query(Developer).first()\n",
    "dev.office = office\n",
    "\n",
    "session.add(office)\n",
    "session.commit()\n",
    "\n",
    "print(dev)"
   ]
  },
  {
   "cell_type": "code",
   "execution_count": 7,
   "metadata": {
    "collapsed": false
   },
   "outputs": [
    {
     "name": "stdout",
     "output_type": "stream",
     "text": [
      "Maud Zarella Deck RC 10\n",
      "2 Deck RC 10 Maud Zarella\n"
     ]
    }
   ],
   "source": [
    "# Vérification dans la base\n",
    "check_dev = session.query(Developer).filter(Developer.id == dev.id).one()\n",
    "print (check_dev.first_name,check_dev.last_name,check_dev.office.room)\n",
    "\n",
    "check_office = session.query(DeveloperOffice). \\\n",
    "    join(Developer). \\\n",
    "    filter(Developer.office_id == office.id). \\\n",
    "    one()\n",
    "    \n",
    "print(check_office, check_office.developer[0].first_name,check_office.developer[0].last_name)"
   ]
  },
  {
   "cell_type": "code",
   "execution_count": 8,
   "metadata": {
    "collapsed": false
   },
   "outputs": [
    {
     "name": "stdout",
     "output_type": "stream",
     "text": [
      "1 person Raymond Deubaze\n",
      "2 developer Maud Zarella mozarella di Bufala in office Deck RC 10\n"
     ]
    }
   ],
   "source": [
    "# liste polymorphique des personnes\n",
    "people = session.query(Person).all()\n",
    "for person in people:\n",
    "    print(person)"
   ]
  },
  {
   "cell_type": "code",
   "execution_count": 9,
   "metadata": {
    "collapsed": true
   },
   "outputs": [],
   "source": [
    "# suppression du bureau\n",
    "session.delete(check_office)\n",
    "session.commit()"
   ]
  }
 ],
 "metadata": {
  "kernelspec": {
   "display_name": "Python 3",
   "language": "python",
   "name": "python3"
  },
  "language_info": {
   "codemirror_mode": {
    "name": "ipython",
    "version": 3
   },
   "file_extension": ".py",
   "mimetype": "text/x-python",
   "name": "python",
   "nbconvert_exporter": "python",
   "pygments_lexer": "ipython3",
   "version": "3.6.6"
  }
 },
 "nbformat": 4,
 "nbformat_minor": 2
}
