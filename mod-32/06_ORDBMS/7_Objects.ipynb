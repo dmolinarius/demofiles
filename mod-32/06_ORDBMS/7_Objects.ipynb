{
 "cells": [
  {
   "cell_type": "markdown",
   "metadata": {},
   "source": [
    "## 4.1 PostgreSQL - Approche relationnelle-objet"
   ]
  },
  {
   "cell_type": "code",
   "execution_count": 1,
   "metadata": {
    "collapsed": true
   },
   "outputs": [],
   "source": [
    "import psycopg2\n",
    "import psycopg2.extras\n",
    "\n",
    "conn = psycopg2.connect(\n",
    "    host=\"localhost\",\n",
    "    database=\"demo\",\n",
    "    user=\"demo_owner\",\n",
    "    password=\"OODBMS\")\n",
    "\n",
    "# query result as dict\n",
    "c = conn.cursor(cursor_factory=psycopg2.extras.DictCursor)"
   ]
  },
  {
   "cell_type": "markdown",
   "metadata": {},
   "source": [
    "<div id=\"constructor\" style=\"font-size:120%\">\n",
    "Exemple de constructeur\n",
    "</div>"
   ]
  },
  {
   "cell_type": "code",
   "execution_count": 2,
   "metadata": {
    "collapsed": false
   },
   "outputs": [],
   "source": [
    "c.execute('DROP FUNCTION IF EXISTS new_student();')\n",
    "\n",
    "c.execute('''\n",
    "CREATE FUNCTION new_student() RETURNS students AS $$\n",
    "    INSERT INTO students(person,address) VALUES (NULL,NULL)\n",
    "        RETURNING *;\n",
    "$$ LANGUAGE SQL;\n",
    "''')\n",
    "conn.commit()"
   ]
  },
  {
   "cell_type": "code",
   "execution_count": 28,
   "metadata": {
    "collapsed": false
   },
   "outputs": [
    {
     "name": "stdout",
     "output_type": "stream",
     "text": [
      "{'id': 41, 'person': None, 'address': None}\n"
     ]
    }
   ],
   "source": [
    "c.execute('DELETE FROM students WHERE id > 3')\n",
    "conn.commit()\n",
    "\n",
    "c.execute('SELECT * FROM new_student()')\n",
    "student_data = dict(c.fetchone())\n",
    "print(student_data)"
   ]
  },
  {
   "cell_type": "code",
   "execution_count": 29,
   "metadata": {
    "collapsed": false
   },
   "outputs": [
    {
     "name": "stdout",
     "output_type": "stream",
     "text": [
      "[1, '(Raymond,Deubaze)', '(31,\"avenue Guy de Collongue\",69130,Ecully)']\n",
      "[2, '(Anna,Conda)', '(51,\"chemin des Mouilles\",69130,Ecully)']\n",
      "[3, '(Jean,Peuplu)', '(51,\"chemin des Mouilles\",69130,Ecully)']\n",
      "[41, None, None]\n"
     ]
    }
   ],
   "source": [
    "c.execute('SELECT * FROM students')\n",
    "for s in c.fetchall(): print(s)"
   ]
  },
  {
   "cell_type": "markdown",
   "metadata": {},
   "source": [
    "<div id=\"setters\" style=\"font-size:120%\">\n",
    "Exemples de setters\n",
    "</div>"
   ]
  },
  {
   "cell_type": "code",
   "execution_count": 30,
   "metadata": {
    "collapsed": false
   },
   "outputs": [],
   "source": [
    "# Setter pour la personne\n",
    "c.execute('DROP FUNCTION IF EXISTS student_set_person(INT, TEXT, TEXT);')\n",
    "\n",
    "c.execute('''\n",
    "CREATE FUNCTION student_set_person(INTEGER, TEXT, TEXT) RETURNS students AS $$\n",
    "    UPDATE students SET person.first_name=$2, person.last_name=$3 WHERE id = $1\n",
    "        RETURNING *;\n",
    "$$ LANGUAGE SQL;\n",
    "''')\n",
    "conn.commit()"
   ]
  },
  {
   "cell_type": "code",
   "execution_count": 31,
   "metadata": {
    "collapsed": false
   },
   "outputs": [
    {
     "name": "stdout",
     "output_type": "stream",
     "text": [
      "{'id': 41, 'person': '(Alex,Terrieur)', 'address': None}\n"
     ]
    }
   ],
   "source": [
    "c.execute(\"SELECT * FROM student_set_person(%s,'Alex','Terrieur')\",(student_data['id'],))\n",
    "student_data = dict(c.fetchone())\n",
    "print(student_data)"
   ]
  },
  {
   "cell_type": "code",
   "execution_count": 7,
   "metadata": {
    "collapsed": false
   },
   "outputs": [
    {
     "name": "stdout",
     "output_type": "stream",
     "text": [
      "[1, '(Raymond,Deubaze)', '(31,\"avenue Guy de Collongue\",69130,Ecully)']\n",
      "[2, '(Anna,Conda)', '(51,\"chemin des Mouilles\",69130,Ecully)']\n",
      "[3, '(Jean,Peuplu)', '(51,\"chemin des Mouilles\",69130,Ecully)']\n",
      "[39, '(Alex,Terrieur)', None]\n"
     ]
    }
   ],
   "source": [
    "c.execute('SELECT * FROM students')\n",
    "for s in c.fetchall(): print(s)"
   ]
  },
  {
   "cell_type": "code",
   "execution_count": 8,
   "metadata": {
    "collapsed": false
   },
   "outputs": [],
   "source": [
    "# Setter pour l'adresse\n",
    "c.execute('DROP FUNCTION IF EXISTS student_set_address(INTEGER, INTEGER, TEXT, INTEGER, TEXT);')\n",
    "\n",
    "c.execute('''\n",
    "CREATE FUNCTION student_set_address(INTEGER, INTEGER, TEXT, INTEGER, TEXT) RETURNS students AS $$\n",
    "    UPDATE students SET address.number=$2, address.street=$3, address.zipcode=$4, address.city=$5\n",
    "    WHERE id = $1\n",
    "        RETURNING *;\n",
    "$$ LANGUAGE SQL;\n",
    "''')\n",
    "conn.commit()"
   ]
  },
  {
   "cell_type": "code",
   "execution_count": 32,
   "metadata": {
    "collapsed": false
   },
   "outputs": [
    {
     "name": "stdout",
     "output_type": "stream",
     "text": [
      "{'id': 41, 'person': '(Alex,Terrieur)', 'address': '(78,\"route de Paris\",69260,Charbonnières-les-Bains)'}\n"
     ]
    }
   ],
   "source": [
    "c.execute(\"SELECT * FROM student_set_address(%s,78,'route de Paris',69260,'Charbonnières-les-Bains')\",(student_data['id'],))\n",
    "student_data = dict(c.fetchone())\n",
    "print(student_data)"
   ]
  },
  {
   "cell_type": "code",
   "execution_count": 33,
   "metadata": {
    "collapsed": false
   },
   "outputs": [
    {
     "name": "stdout",
     "output_type": "stream",
     "text": [
      "[1, '(Raymond,Deubaze)', '(31,\"avenue Guy de Collongue\",69130,Ecully)']\n",
      "[2, '(Anna,Conda)', '(51,\"chemin des Mouilles\",69130,Ecully)']\n",
      "[3, '(Jean,Peuplu)', '(51,\"chemin des Mouilles\",69130,Ecully)']\n",
      "[41, '(Alex,Terrieur)', '(78,\"route de Paris\",69260,Charbonnières-les-Bains)']\n"
     ]
    }
   ],
   "source": [
    "c.execute('SELECT * FROM students')\n",
    "for s in c.fetchall(): print(s)"
   ]
  },
  {
   "cell_type": "markdown",
   "metadata": {},
   "source": [
    "<div id=\"getters\" style=\"font-size:120%\">\n",
    "Exemples de getters\n",
    "</div>"
   ]
  },
  {
   "cell_type": "code",
   "execution_count": 11,
   "metadata": {
    "collapsed": false
   },
   "outputs": [],
   "source": [
    "c.execute('DROP FUNCTION IF EXISTS student_get_person(INTEGER);')\n",
    "\n",
    "c.execute('''\n",
    "CREATE FUNCTION student_get_person(INTEGER) RETURNS person_type AS $$\n",
    "    SELECT person FROM students WHERE id = $1;\n",
    "$$ LANGUAGE SQL;\n",
    "''')\n",
    "conn.commit()"
   ]
  },
  {
   "cell_type": "code",
   "execution_count": 12,
   "metadata": {
    "collapsed": false
   },
   "outputs": [
    {
     "name": "stdout",
     "output_type": "stream",
     "text": [
      "{'first_name': 'Alex', 'last_name': 'Terrieur'}\n"
     ]
    }
   ],
   "source": [
    "c.execute(\"SELECT * FROM student_get_person(%s)\",(student_data['id'],))\n",
    "person = dict(c.fetchone())\n",
    "print(person)"
   ]
  },
  {
   "cell_type": "code",
   "execution_count": 13,
   "metadata": {
    "collapsed": true
   },
   "outputs": [],
   "source": [
    "c.execute('DROP FUNCTION IF EXISTS student_get_address(INTEGER);')\n",
    "\n",
    "c.execute('''\n",
    "CREATE FUNCTION student_get_address(INTEGER) RETURNS address_type AS $$\n",
    "    SELECT address FROM students WHERE id = $1;\n",
    "$$ LANGUAGE SQL;\n",
    "''')\n",
    "conn.commit()"
   ]
  },
  {
   "cell_type": "code",
   "execution_count": 14,
   "metadata": {
    "collapsed": false
   },
   "outputs": [
    {
     "name": "stdout",
     "output_type": "stream",
     "text": [
      "{'number': 78, 'street': 'route de Paris', 'zipcode': 69260, 'city': 'Charbonnières-les-Bains'}\n"
     ]
    }
   ],
   "source": [
    "c.execute(\"SELECT * FROM student_get_address(%s)\",(student_data['id'],))\n",
    "address = dict(c.fetchone())\n",
    "print(address)"
   ]
  },
  {
   "cell_type": "markdown",
   "metadata": {},
   "source": [
    "<div id=\"find\" style=\"font-size:120%\">\n",
    "Fonctions de recherche\n",
    "</div>"
   ]
  },
  {
   "cell_type": "code",
   "execution_count": 15,
   "metadata": {
    "collapsed": false
   },
   "outputs": [],
   "source": [
    "c.execute('''\n",
    "DROP FUNCTION IF EXISTS student_find_by_id(INTEGER);\n",
    "\n",
    "CREATE FUNCTION student_find_by_id(INTEGER) RETURNS students AS $$\n",
    "    SELECT * FROM students WHERE id = $1;\n",
    "$$ LANGUAGE SQL;\n",
    "\n",
    "DROP FUNCTION IF EXISTS students_find_by_person(person_type);\n",
    "\n",
    "CREATE FUNCTION students_find_by_person(person_type) RETURNS SETOF students AS $$\n",
    "    SELECT * FROM students WHERE (person).first_name = ($1).first_name AND (person).last_name=($1).last_name;\n",
    "$$ LANGUAGE SQL;\n",
    "\n",
    "''')\n",
    "conn.commit()"
   ]
  },
  {
   "cell_type": "code",
   "execution_count": 16,
   "metadata": {
    "collapsed": false
   },
   "outputs": [
    {
     "name": "stdout",
     "output_type": "stream",
     "text": [
      "{'id': 1, 'person': '(Raymond,Deubaze)', 'address': '(31,\"avenue Guy de Collongue\",69130,Ecully)'}\n"
     ]
    }
   ],
   "source": [
    "c.execute(\"SELECT * FROM student_find_by_id(%s)\",(1,))\n",
    "print(dict(c.fetchone()))"
   ]
  },
  {
   "cell_type": "code",
   "execution_count": 17,
   "metadata": {
    "collapsed": false
   },
   "outputs": [
    {
     "name": "stdout",
     "output_type": "stream",
     "text": [
      "{'id': None, 'person': None, 'address': None}\n"
     ]
    }
   ],
   "source": [
    "c.execute(\"SELECT * FROM student_find_by_id(%s)\",(33,))\n",
    "print(dict(c.fetchone()))"
   ]
  },
  {
   "cell_type": "code",
   "execution_count": 18,
   "metadata": {
    "collapsed": false
   },
   "outputs": [
    {
     "name": "stdout",
     "output_type": "stream",
     "text": [
      "[39, '(Alex,Terrieur)', '(78,\"route de Paris\",69260,Charbonnières-les-Bains)']\n"
     ]
    }
   ],
   "source": [
    "c.execute(\"SELECT * FROM students_find_by_person(%s)\",(student_data['person'],))\n",
    "for s in c.fetchall(): print(s)"
   ]
  },
  {
   "cell_type": "code",
   "execution_count": 19,
   "metadata": {
    "collapsed": false
   },
   "outputs": [
    {
     "name": "stdout",
     "output_type": "stream",
     "text": [
      "[1, '(Raymond,Deubaze)', '(31,\"avenue Guy de Collongue\",69130,Ecully)']\n"
     ]
    }
   ],
   "source": [
    "c.execute(\"SELECT * FROM students_find_by_person(%s)\",(('Raymond','Deubaze'),))\n",
    "for s in c.fetchall(): print(s)"
   ]
  },
  {
   "cell_type": "code",
   "execution_count": 20,
   "metadata": {
    "collapsed": false
   },
   "outputs": [],
   "source": [
    "c.execute(\"SELECT * FROM students_find_by_person(%s)\",(('Alain','Terrieur'),))\n",
    "for s in c.fetchall(): print(s)"
   ]
  },
  {
   "cell_type": "markdown",
   "metadata": {},
   "source": [
    "<div id=\"delete\" style=\"font-size:120%\">\n",
    "Procédure de suppression\n",
    "</div>"
   ]
  },
  {
   "cell_type": "code",
   "execution_count": 21,
   "metadata": {
    "collapsed": true
   },
   "outputs": [],
   "source": [
    "c.execute('''\n",
    "DROP PROCEDURE IF EXISTS student_delete(INTEGER);\n",
    "\n",
    "CREATE PROCEDURE student_delete(INTEGER) AS $$\n",
    "    DELETE FROM students WHERE id = $1;\n",
    "$$ LANGUAGE SQL;\n",
    "\n",
    "''')\n",
    "conn.commit()"
   ]
  },
  {
   "cell_type": "markdown",
   "metadata": {},
   "source": [
    "<div id=\"class\" style=\"font-size:120%\">\n",
    "Utilisation via une classe python\n",
    "</div>"
   ]
  },
  {
   "cell_type": "code",
   "execution_count": 22,
   "metadata": {
    "collapsed": false
   },
   "outputs": [],
   "source": [
    "class Student():\n",
    "\n",
    "    @classmethod\n",
    "    def by_id(cls, conn,  id):\n",
    "        c = conn.cursor(cursor_factory=psycopg2.extras.DictCursor)\n",
    "        c.execute('SELECT * FROM student_find_by_id(%s)',(id,))\n",
    "        return cls(conn,dict(c.fetchone()))\n",
    "\n",
    "    @classmethod\n",
    "    def by_name(cls, conn, first_name, last_name):\n",
    "        c = conn.cursor(cursor_factory=psycopg2.extras.DictCursor)\n",
    "        c.execute('SELECT * FROM students_find_by_person(%s)',((first_name,last_name),))\n",
    "        return [ cls(conn,dict(u)) for u in c.fetchall()]\n",
    "        \n",
    "    @classmethod\n",
    "    def new(cls, conn):\n",
    "        c = conn.cursor(cursor_factory=psycopg2.extras.DictCursor)\n",
    "        c.execute('SELECT * FROM new_student()')\n",
    "        self = cls(conn,dict(c.fetchone()))\n",
    "        return self\n",
    "        \n",
    "    def __init__(self,conn,student_data):\n",
    "        self.__conn = conn\n",
    "        for k in student_data:\n",
    "            setattr(self,k,student_data[k])\n",
    "        \n",
    "    def set_person(self,first_name,last_name):\n",
    "        c = self.__conn.cursor(cursor_factory=psycopg2.extras.DictCursor)\n",
    "        c.execute('SELECT * FROM student_set_person(%s,%s,%s)',(self.id,first_name,last_name))\n",
    "        self.person = dict(c.fetchone())['person']\n",
    "        \n",
    "    def set_address(self,number,street,zipcode,city):\n",
    "        c = self.__conn.cursor(cursor_factory=psycopg2.extras.DictCursor)\n",
    "        c.execute('SELECT * FROM student_set_address(%s,%s,%s,%s,%s)',(self.id,number,street,zipcode,city))\n",
    "        self.address = dict(c.fetchone())['address']\n",
    "\n",
    "    def delete(self):\n",
    "        c = self.__conn.cursor()\n",
    "        c.execute('CALL student_delete(%s)',(self.id,))\n",
    "    \n",
    "    def __str__(self):\n",
    "        return '[{}] {} {}'.format(self.id, self.person,self.address)"
   ]
  },
  {
   "cell_type": "code",
   "execution_count": 23,
   "metadata": {
    "collapsed": false
   },
   "outputs": [
    {
     "name": "stdout",
     "output_type": "stream",
     "text": [
      "[40] None None\n",
      "[40] (Elsa,Plique) None\n",
      "[40] (Elsa,Plique) (36,\"Quai des Orfèvres\",75001,Paris)\n",
      "[40] (Elsa,Plique) (36,\"Quai des Orfèvres\",75001,Paris)\n"
     ]
    }
   ],
   "source": [
    "student = Student.new(conn)\n",
    "print(student)\n",
    "\n",
    "student.set_person('Elsa','Plique')\n",
    "print(student)\n",
    "\n",
    "student.set_address(36,'Quai des Orfèvres',75001,'Paris')\n",
    "print(student)\n",
    "\n",
    "other = Student.by_id(conn,student.id)\n",
    "print(other)"
   ]
  },
  {
   "cell_type": "code",
   "execution_count": 24,
   "metadata": {
    "collapsed": false
   },
   "outputs": [
    {
     "name": "stdout",
     "output_type": "stream",
     "text": [
      "[1, '(Raymond,Deubaze)', '(31,\"avenue Guy de Collongue\",69130,Ecully)']\n",
      "[2, '(Anna,Conda)', '(51,\"chemin des Mouilles\",69130,Ecully)']\n",
      "[3, '(Jean,Peuplu)', '(51,\"chemin des Mouilles\",69130,Ecully)']\n",
      "[39, '(Alex,Terrieur)', '(78,\"route de Paris\",69260,Charbonnières-les-Bains)']\n",
      "[40, '(Elsa,Plique)', '(36,\"Quai des Orfèvres\",75001,Paris)']\n"
     ]
    }
   ],
   "source": [
    "c.execute(\"SELECT * FROM students\")\n",
    "for s in c.fetchall(): print(s)"
   ]
  },
  {
   "cell_type": "code",
   "execution_count": 25,
   "metadata": {
    "collapsed": false
   },
   "outputs": [
    {
     "name": "stdout",
     "output_type": "stream",
     "text": [
      "[40] (Elsa,Plique) (36,\"Quai des Orfèvres\",75001,Paris)\n"
     ]
    }
   ],
   "source": [
    "students = Student.by_name(conn,'Elsa','Plique')\n",
    "for s in students: print(s)"
   ]
  },
  {
   "cell_type": "code",
   "execution_count": 26,
   "metadata": {
    "collapsed": true
   },
   "outputs": [],
   "source": [
    "for s in students: s.delete()\n",
    "\n",
    "Student.by_name(conn,'Alex','Terrieur')[0].delete()"
   ]
  },
  {
   "cell_type": "code",
   "execution_count": 27,
   "metadata": {
    "collapsed": false
   },
   "outputs": [
    {
     "name": "stdout",
     "output_type": "stream",
     "text": [
      "[1, '(Raymond,Deubaze)', '(31,\"avenue Guy de Collongue\",69130,Ecully)']\n",
      "[2, '(Anna,Conda)', '(51,\"chemin des Mouilles\",69130,Ecully)']\n",
      "[3, '(Jean,Peuplu)', '(51,\"chemin des Mouilles\",69130,Ecully)']\n"
     ]
    }
   ],
   "source": [
    "c.execute(\"SELECT * FROM students\")\n",
    "for s in c.fetchall(): print(s)"
   ]
  },
  {
   "cell_type": "code",
   "execution_count": 28,
   "metadata": {
    "collapsed": true
   },
   "outputs": [],
   "source": [
    "conn.close()"
   ]
  }
 ],
 "metadata": {
  "kernelspec": {
   "display_name": "Python 3",
   "language": "python",
   "name": "python3"
  },
  "language_info": {
   "codemirror_mode": {
    "name": "ipython",
    "version": 3
   },
   "file_extension": ".py",
   "mimetype": "text/x-python",
   "name": "python",
   "nbconvert_exporter": "python",
   "pygments_lexer": "ipython3",
   "version": "3.6.6"
  }
 },
 "nbformat": 4,
 "nbformat_minor": 2
}
