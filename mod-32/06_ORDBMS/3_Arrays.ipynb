{
 "cells": [
  {
   "cell_type": "markdown",
   "metadata": {},
   "source": [
    "### 2.2 Types de données PostgreSQL -  Exemples de  Listes"
   ]
  },
  {
   "cell_type": "code",
   "execution_count": 1,
   "metadata": {
    "collapsed": false
   },
   "outputs": [],
   "source": [
    "import psycopg2\n",
    "\n",
    "conn = psycopg2.connect(\n",
    "    host=\"localhost\",\n",
    "    database=\"demo\",\n",
    "    user=\"demo_owner\",\n",
    "    password=\"OODBMS\")\n",
    "\n",
    "c = conn.cursor()"
   ]
  },
  {
   "cell_type": "markdown",
   "metadata": {},
   "source": [
    "<div style=\"font-size:120%\" id=\"create\">\n",
    "Création d'une table comportant des champs liste :\n",
    "</div>"
   ]
  },
  {
   "cell_type": "code",
   "execution_count": 2,
   "metadata": {
    "collapsed": false
   },
   "outputs": [],
   "source": [
    "sql = 'DROP TABLE IF EXISTS fibonacci;'\n",
    "c.execute(sql)\n",
    "\n",
    "sql = '''CREATE TABLE fibonacci (\n",
    "    index    integer,\n",
    "    value    integer,\n",
    "    previous integer[2],\n",
    "    sequence integer[]\n",
    ");'''\n",
    "c.execute(sql)\n",
    "conn.commit()"
   ]
  },
  {
   "cell_type": "markdown",
   "metadata": {},
   "source": [
    "<div style=\"font-size:120%\" id=\"data\">\n",
    "Création de quelques données :\n",
    "</div>"
   ]
  },
  {
   "cell_type": "code",
   "execution_count": 3,
   "metadata": {
    "collapsed": true
   },
   "outputs": [],
   "source": [
    "fibo = [0,1]\n",
    "prev = [[0,0],[0,0]]\n",
    "for n in range(2,7):\n",
    "    fibo.append(fibo[n-2] + fibo[n-1])\n",
    "    prev.append([fibo[n-2],fibo[n-1]])"
   ]
  },
  {
   "cell_type": "markdown",
   "metadata": {},
   "source": [
    "<div style=\"font-size:120%\" id=\"insert_sql\">\n",
    "Renseignement des données dans la base :\n",
    "</div>"
   ]
  },
  {
   "cell_type": "code",
   "execution_count": 4,
   "metadata": {
    "collapsed": false
   },
   "outputs": [
    {
     "name": "stdout",
     "output_type": "stream",
     "text": [
      "INSERT INTO fibonacci VALUES (0,0,ARRAY[0,0],ARRAY[0]);\n",
      "INSERT INTO fibonacci VALUES (1,1,ARRAY[0,0],ARRAY[0,1]);\n",
      "INSERT INTO fibonacci VALUES (2,1,ARRAY[0,1],ARRAY[0,1,1]);\n",
      "INSERT INTO fibonacci VALUES (3,2,ARRAY[1,1],ARRAY[0,1,1,2]);\n",
      "INSERT INTO fibonacci VALUES (4,3,ARRAY[1,2],ARRAY[0,1,1,2,3]);\n",
      "INSERT INTO fibonacci VALUES (5,5,ARRAY[2,3],ARRAY[0,1,1,2,3,5]);\n",
      "INSERT INTO fibonacci VALUES (6,8,ARRAY[3,5],ARRAY[0,1,1,2,3,5,8]);\n"
     ]
    }
   ],
   "source": [
    "c.execute(\"TRUNCATE TABLE fibonacci;\")\n",
    "\n",
    "# SQL natif\n",
    "sql = \"INSERT INTO fibonacci VALUES ({},{},{},{});\"\n",
    "for n in range(7):\n",
    "    previous = 'ARRAY['+','.join([str(p) for p in prev[n]])+']'\n",
    "    sequence = 'ARRAY['+','.join([str(f) for f in fibo[:n+1]])+']'\n",
    "    request = sql.format(n,fibo[n],previous,sequence)\n",
    "    print(request)\n",
    "    c.execute(request)\n",
    "    \n",
    "conn.commit()"
   ]
  },
  {
   "cell_type": "markdown",
   "metadata": {},
   "source": [
    "<div style=\"font-size:120%\" id=\"insert_dbapi\">\n",
    "Méthode alternative avec des arguments à la DB-API:\n",
    "</div>"
   ]
  },
  {
   "cell_type": "code",
   "execution_count": 5,
   "metadata": {
    "collapsed": false
   },
   "outputs": [
    {
     "name": "stdout",
     "output_type": "stream",
     "text": [
      "(0, 0, [0, 0], [0])\n",
      "(1, 1, [0, 0], [0, 1])\n",
      "(2, 1, [0, 1], [0, 1, 1])\n",
      "(3, 2, [1, 1], [0, 1, 1, 2])\n",
      "(4, 3, [1, 2], [0, 1, 1, 2, 3])\n",
      "(5, 5, [2, 3], [0, 1, 1, 2, 3, 5])\n",
      "(6, 8, [3, 5], [0, 1, 1, 2, 3, 5, 8])\n"
     ]
    }
   ],
   "source": [
    "c.execute(\"TRUNCATE TABLE fibonacci;\")\n",
    "\n",
    "sql = \"INSERT INTO fibonacci VALUES (%s,%s,%s,%s);\"\n",
    "for n in range(7):\n",
    "    args = (n,fibo[n],prev[n],fibo[:n+1])\n",
    "    print(args)\n",
    "    c.execute(sql,args)"
   ]
  },
  {
   "cell_type": "markdown",
   "metadata": {},
   "source": [
    "<div style=\"font-size:120%\" id=\"select\">\n",
    "Requêtage des données :\n",
    "</div>"
   ]
  },
  {
   "cell_type": "code",
   "execution_count": 6,
   "metadata": {
    "collapsed": false
   },
   "outputs": [
    {
     "name": "stdout",
     "output_type": "stream",
     "text": [
      "(6, 8, [3, 5], [0, 1, 1, 2, 3, 5, 8])\n"
     ]
    }
   ],
   "source": [
    "c = conn.cursor()\n",
    "sql = 'SELECT * FROM fibonacci WHERE index=6'\n",
    "c.execute(sql)\n",
    "print(c.fetchone())"
   ]
  },
  {
   "cell_type": "code",
   "execution_count": 7,
   "metadata": {
    "collapsed": false
   },
   "outputs": [
    {
     "name": "stdout",
     "output_type": "stream",
     "text": [
      "(4, 3, [1, 2], [0, 1, 1, 2, 3])\n",
      "(5, 5, [2, 3], [0, 1, 1, 2, 3, 5])\n",
      "(6, 8, [3, 5], [0, 1, 1, 2, 3, 5, 8])\n"
     ]
    }
   ],
   "source": [
    "c = conn.cursor()\n",
    "sql = 'SELECT * FROM fibonacci WHERE sequence[5]=3'\n",
    "c.execute(sql)\n",
    "for d in c.fetchall(): print(d)"
   ]
  },
  {
   "cell_type": "code",
   "execution_count": 8,
   "metadata": {
    "collapsed": true
   },
   "outputs": [],
   "source": [
    "conn.commit()"
   ]
  },
  {
   "cell_type": "code",
   "execution_count": null,
   "metadata": {
    "collapsed": true
   },
   "outputs": [],
   "source": []
  }
 ],
 "metadata": {
  "kernelspec": {
   "display_name": "Python 3",
   "language": "python",
   "name": "python3"
  },
  "language_info": {
   "codemirror_mode": {
    "name": "ipython",
    "version": 3
   },
   "file_extension": ".py",
   "mimetype": "text/x-python",
   "name": "python",
   "nbconvert_exporter": "python",
   "pygments_lexer": "ipython3",
   "version": "3.6.6"
  }
 },
 "nbformat": 4,
 "nbformat_minor": 2
}
