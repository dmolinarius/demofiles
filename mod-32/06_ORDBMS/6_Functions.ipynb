{
 "cells": [
  {
   "cell_type": "markdown",
   "metadata": {},
   "source": [
    "## 3. PostgreSQL -  Opérateurs, Fonctions et Procédures"
   ]
  },
  {
   "cell_type": "code",
   "execution_count": 1,
   "metadata": {
    "collapsed": true
   },
   "outputs": [],
   "source": [
    "import psycopg2\n",
    "import psycopg2.extras\n",
    "\n",
    "conn = psycopg2.connect(\n",
    "    host=\"localhost\",\n",
    "    database=\"demo\",\n",
    "    user=\"demo_owner\",\n",
    "    password=\"OODBMS\")\n",
    "\n",
    "# query result as dict\n",
    "c = conn.cursor(cursor_factory=psycopg2.extras.DictCursor)"
   ]
  },
  {
   "cell_type": "markdown",
   "metadata": {},
   "source": [
    "### A - Opérateurs SQL et propriétaires PostgreSQL"
   ]
  },
  {
   "cell_type": "markdown",
   "metadata": {},
   "source": [
    "<div style=\"font-size:120%\" id=\"create_table_sequence\">\n",
    "A - 1. Création d'une séquence et d'une table avec une colonne autoincrémentée\n",
    "</div>"
   ]
  },
  {
   "cell_type": "code",
   "execution_count": 2,
   "metadata": {
    "collapsed": false
   },
   "outputs": [],
   "source": [
    "c.execute('DROP TABLE IF EXISTS testfuncs;')\n",
    "\n",
    "# Création d'une séquence\n",
    "c.execute('CREATE SEQUENCE testfuncs_seq AS INTEGER;')\n",
    "\n",
    "# Création d'une table avec un champ autoincrémenté\n",
    "c.execute('''CREATE TABLE testfuncs (\n",
    "    i INTEGER NOT NULL DEFAULT nextval('testfuncs_seq'),\n",
    "    v DECIMAL\n",
    ");''')\n",
    "\n",
    "# Suppression de la séquence en cas de suppression de la table/colonne \n",
    "c.execute('ALTER SEQUENCE testfuncs_seq OWNED BY testfuncs.i;')\n",
    "\n",
    "conn.commit()"
   ]
  },
  {
   "cell_type": "markdown",
   "metadata": {},
   "source": [
    "<div style=\"font-size:120%;\" id=\"insert_from_array\">\n",
    "A - 2. Insertion d'une série de lignes dans la table\n",
    "</div>\n",
    "\n",
    "https://www.postgresql.org/docs/current/functions-array.html<br/>\n",
    "\n",
    "- <code>array_fill(1,ARRAY[10])</code> crée une liste comme l'instruction python <code>[1]*10</code>\n",
    "- <code>unnest()</code> transforme une liste en autant de lignes (rows)\n",
    "\n",
    "https://mariadbtips.com/postgresql-insert-multiple-rows/#PostgreSQL_INSERT_Multiple_Rows_from_SELECT_query\n",
    "- <code>INSERT INTO ... SELECT ...</code> \n"
   ]
  },
  {
   "cell_type": "code",
   "execution_count": 3,
   "metadata": {
    "collapsed": false
   },
   "outputs": [],
   "source": [
    "c.execute('INSERT INTO testfuncs(v) SELECT unnest(array_fill(1,ARRAY[13]));')\n",
    "c.execute('UPDATE testfuncs SET v = i-1')\n",
    "conn.commit()"
   ]
  },
  {
   "cell_type": "code",
   "execution_count": 4,
   "metadata": {
    "collapsed": false
   },
   "outputs": [
    {
     "name": "stdout",
     "output_type": "stream",
     "text": [
      "1, 0\n",
      "2, 1\n",
      "3, 2\n",
      "4, 3\n",
      "5, 4\n",
      "6, 5\n",
      "7, 6\n",
      "8, 7\n",
      "9, 8\n",
      "10, 9\n",
      "11, 10\n",
      "12, 11\n",
      "13, 12\n"
     ]
    }
   ],
   "source": [
    "c.execute('SELECT * FROM testfuncs')\n",
    "for d in c.fetchall(): print(', '.join([str(v) for v in d]))"
   ]
  },
  {
   "cell_type": "markdown",
   "metadata": {},
   "source": [
    "<div style=\"font-size:120%;\" id=\"insert_from_array\">\n",
    "A - 3. Quelques colonnes mathématiques...\n",
    "</div>\n",
    "\n",
    "https://www.postgresql.org/docs/current/functions-math.html"
   ]
  },
  {
   "cell_type": "code",
   "execution_count": 5,
   "metadata": {
    "collapsed": false
   },
   "outputs": [],
   "source": [
    "c.execute('ALTER TABLE testfuncs ADD COLUMN IF NOT EXISTS sqrt DECIMAL')\n",
    "c.execute('UPDATE testfuncs SET sqrt = |/v')\n",
    "conn.commit()"
   ]
  },
  {
   "cell_type": "code",
   "execution_count": 6,
   "metadata": {
    "collapsed": true
   },
   "outputs": [],
   "source": [
    "c.execute('ALTER TABLE testfuncs ADD COLUMN IF NOT EXISTS rad DECIMAL')\n",
    "c.execute('UPDATE testfuncs SET rad = radians(30*v)')\n",
    "conn.commit()"
   ]
  },
  {
   "cell_type": "code",
   "execution_count": 7,
   "metadata": {
    "collapsed": true
   },
   "outputs": [],
   "source": [
    "c.execute('ALTER TABLE testfuncs ADD COLUMN IF  NOT EXISTS cos DECIMAL')\n",
    "c.execute('UPDATE testfuncs SET cos = cos(rad)')\n",
    "conn.commit()"
   ]
  },
  {
   "cell_type": "code",
   "execution_count": 8,
   "metadata": {
    "collapsed": false
   },
   "outputs": [
    {
     "name": "stdout",
     "output_type": "stream",
     "text": [
      " v  sqrt(v)   rad(v*30)  cos(rad)\n",
      " 0  0.000000  0.000000   1.000000\n",
      " 1  1.000000  0.523599   0.866025\n",
      " 2  1.414214  1.047198   0.500000\n",
      " 3  1.732051  1.570796  -0.000000\n",
      " 4  2.000000  2.094395  -0.500000\n",
      " 5  2.236068  2.617994  -0.866025\n",
      " 6  2.449490  3.141593  -1.000000\n",
      " 7  2.645751  3.665191  -0.866025\n",
      " 8  2.828427  4.188790  -0.500000\n",
      " 9  3.000000  4.712389  -0.000000\n",
      "10  3.162278  5.235988   0.500000\n",
      "11  3.316625  5.759587   0.866025\n",
      "12  3.464102  6.283185   1.000000\n"
     ]
    }
   ],
   "source": [
    "c.execute(\"SELECT v,sqrt,rad,cos FROM testfuncs\")\n",
    "print(' v  sqrt(v)   rad(v*30)  cos(rad)')\n",
    "for d in c.fetchall(): print('{:2.0f}  {:8.6f}  {:8.6f}  {:9.6f}'.format(*d))"
   ]
  },
  {
   "cell_type": "markdown",
   "metadata": {},
   "source": [
    "### B - Fonctions SQL\n",
    "<div id=\"SQL_functions\"/>"
   ]
  },
  {
   "cell_type": "markdown",
   "metadata": {},
   "source": [
    "<b>N.B.</b> Pour les types <code>person_type</code> et <code>address_type</code> et pour la table <code>students</code> cf. le <a href=\"5_CompositeTypes.ipynb\">notebook sur les types composites</a>."
   ]
  },
  {
   "cell_type": "code",
   "execution_count": 9,
   "metadata": {
    "collapsed": false
   },
   "outputs": [],
   "source": [
    "# arguments numérotés\n",
    "c.execute('''\n",
    "DROP FUNCTION person_name(person_type);\n",
    "CREATE FUNCTION person_name(person_type) RETURNS TEXT AS $$\n",
    "    SELECT $1.first_name || ' ' || $1.last_name;\n",
    "$$ LANGUAGE SQL;\n",
    "''')\n",
    "conn.commit()"
   ]
  },
  {
   "cell_type": "code",
   "execution_count": 10,
   "metadata": {
    "collapsed": false,
    "scrolled": true
   },
   "outputs": [
    {
     "name": "stdout",
     "output_type": "stream",
     "text": [
      "3, (Raymond,Deubaze), Raymond Deubaze\n",
      "4, (Anna,Conda), Anna Conda\n",
      "5, (Jean,Peuplu), Jean Peuplu\n"
     ]
    }
   ],
   "source": [
    "c.execute('SELECT id,person,person_name(person) FROM students')\n",
    "for d in c.fetchall(): print(', '.join([str(v) for v in d]))"
   ]
  },
  {
   "cell_type": "markdown",
   "metadata": {},
   "source": [
    "<div style=\"font-size:120%\" id=\"named_args\">\n",
    "Il est également possible de nommer les arguments de la fonction&#160;:\n",
    "</div>"
   ]
  },
  {
   "cell_type": "code",
   "execution_count": 11,
   "metadata": {
    "collapsed": true
   },
   "outputs": [],
   "source": [
    "# arguments nommés\n",
    "c.execute('''\n",
    "DROP FUNCTION person_name(person_type);\n",
    "CREATE FUNCTION person_name(p person_type) RETURNS TEXT AS $$\n",
    "    SELECT p.first_name || ' ' || p.last_name;\n",
    "$$ LANGUAGE SQL;\n",
    "''')\n",
    "conn.commit()"
   ]
  },
  {
   "cell_type": "code",
   "execution_count": 12,
   "metadata": {
    "collapsed": false
   },
   "outputs": [
    {
     "name": "stdout",
     "output_type": "stream",
     "text": [
      "3, (Raymond,Deubaze), Raymond Deubaze\n",
      "4, (Anna,Conda), Anna Conda\n",
      "5, (Jean,Peuplu), Jean Peuplu\n"
     ]
    }
   ],
   "source": [
    "c.execute('SELECT id,person,person_name(person) FROM students')\n",
    "for d in c.fetchall(): print(', '.join([str(v) for v in d]))"
   ]
  },
  {
   "cell_type": "markdown",
   "metadata": {},
   "source": [
    "<div style=\"font-size:120%\" id=\"on_the_fly_arg\">\n",
    "Appel avec un argument forgé à la volée&#160;:\n",
    "</div>"
   ]
  },
  {
   "cell_type": "code",
   "execution_count": 13,
   "metadata": {
    "collapsed": false
   },
   "outputs": [
    {
     "name": "stdout",
     "output_type": "stream",
     "text": [
      "Alex Terrieur\n"
     ]
    }
   ],
   "source": [
    "conn.rollback()\n",
    "c.execute(\"SELECT person_name(ROW('Alex','Terrieur'))\")\n",
    "print(c.fetchone()[0])"
   ]
  },
  {
   "cell_type": "markdown",
   "metadata": {},
   "source": [
    "<div style=\"font-size:120%\" id=\"select_func\">\n",
    "Fonction effectuant un select&#160;:\n",
    "</div>"
   ]
  },
  {
   "cell_type": "code",
   "execution_count": 14,
   "metadata": {
    "collapsed": true
   },
   "outputs": [],
   "source": [
    "c.execute('ALTER TABLE testfuncs ADD COLUMN IF NOT EXISTS fibo INTEGER')\n",
    "\n",
    "c.execute('''\n",
    "CREATE OR REPLACE FUNCTION compute_fibo(n decimal) RETURNS DECIMAL AS $$\n",
    "    SELECT SUM(fibo) FROM testfuncs WHERE i=n-1 OR i=n-2\n",
    "$$ LANGUAGE SQL;\n",
    "''')\n",
    "\n",
    "c.execute('UPDATE testfuncs SET fibo=0')\n",
    "c.execute('UPDATE testfuncs SET fibo=1 WHERE i=2')\n",
    "c.execute('UPDATE testfuncs SET fibo = compute_fibo(i) WHERE i > 2')\n",
    "conn.commit()"
   ]
  },
  {
   "cell_type": "code",
   "execution_count": 15,
   "metadata": {
    "collapsed": false
   },
   "outputs": [
    {
     "name": "stdout",
     "output_type": "stream",
     "text": [
      " i   v  sqrt(v)   rad(v*30)  cos(rad)  fibo(i)\n",
      " 1   0  0.000000  0.000000   1.000000    0\n",
      " 2   1  1.000000  0.523599   0.866025    1\n",
      " 3   2  1.414214  1.047198   0.500000    1\n",
      " 4   3  1.732051  1.570796  -0.000000    2\n",
      " 5   4  2.000000  2.094395  -0.500000    3\n",
      " 6   5  2.236068  2.617994  -0.866025    5\n",
      " 7   6  2.449490  3.141593  -1.000000    8\n",
      " 8   7  2.645751  3.665191  -0.866025   13\n",
      " 9   8  2.828427  4.188790  -0.500000   21\n",
      "10   9  3.000000  4.712389  -0.000000   34\n",
      "11  10  3.162278  5.235988   0.500000   55\n",
      "12  11  3.316625  5.759587   0.866025   89\n",
      "13  12  3.464102  6.283185   1.000000  144\n"
     ]
    }
   ],
   "source": [
    "c.execute(\"SELECT * FROM testfuncs ORDER BY i\")\n",
    "print(' i   v  sqrt(v)   rad(v*30)  cos(rad)  fibo(i)')\n",
    "for d in c.fetchall(): print('{:2d}  {:2.0f}  {:8.6f}  {:8.6f}  {:9.6f} {:4d}'.format(*d))"
   ]
  },
  {
   "cell_type": "markdown",
   "metadata": {},
   "source": [
    "<div style=\"font-size:120%\" id=\"procedure\">\n",
    "Définition d'une procédure modifiant la table <code>testfuncs</code> :\n",
    "</div>"
   ]
  },
  {
   "cell_type": "code",
   "execution_count": 16,
   "metadata": {
    "collapsed": true
   },
   "outputs": [],
   "source": [
    "c.execute('''\n",
    "CREATE OR REPLACE PROCEDURE testfuncs_extend(INTEGER) AS $$\n",
    "    INSERT INTO testfuncs(fibo) SELECT unnest(array_fill(0,ARRAY[$1]));\n",
    "    UPDATE testfuncs\n",
    "        SET\n",
    "            v = i-1,\n",
    "            sqrt = |/i,\n",
    "            rad = radians(30*(i-1)),\n",
    "            cos = cos(radians(30*(i-1))),\n",
    "            fibo = compute_fibo(i)\n",
    "        WHERE i > 2;\n",
    "$$ LANGUAGE SQL;\n",
    "''')\n",
    "conn.commit()"
   ]
  },
  {
   "cell_type": "code",
   "execution_count": 17,
   "metadata": {
    "collapsed": false
   },
   "outputs": [
    {
     "name": "stdout",
     "output_type": "stream",
     "text": [
      "13\n",
      "25\n"
     ]
    }
   ],
   "source": [
    "c.execute('DELETE FROM testfuncs WHERE i > 13')\n",
    "c.execute('ALTER SEQUENCE testfuncs_seq RESTART WITH 14')\n",
    "\n",
    "c.execute('SELECT COUNT(*) FROM testfuncs')\n",
    "print(c.fetchone()[0])\n",
    "\n",
    "c.execute('CALL testfuncs_extend(12)')\n",
    "\n",
    "c.execute('SELECT COUNT(*) FROM testfuncs')\n",
    "print(c.fetchone()[0])"
   ]
  },
  {
   "cell_type": "code",
   "execution_count": 18,
   "metadata": {
    "collapsed": false
   },
   "outputs": [
    {
     "name": "stdout",
     "output_type": "stream",
     "text": [
      " i   v  sqrt(v)    rad(v*30)  cos(rad)  fibo(i)\n",
      "13  12  3.605551   6.283185   1.000000     144\n",
      "14  13  3.741657   6.806784   0.866025     233\n",
      "15  14  3.872983   7.330383   0.500000     377\n",
      "16  15  4.000000   7.853982   0.000000     610\n",
      "17  16  4.123106   8.377580  -0.500000     987\n",
      "18  17  4.242641   8.901179  -0.866025    1597\n",
      "19  18  4.358899   9.424778  -1.000000    2584\n",
      "20  19  4.472136   9.948377  -0.866025    4181\n",
      "21  20  4.582576  10.471976  -0.500000    6765\n",
      "22  21  4.690416  10.995574  -0.000000   10946\n",
      "23  22  4.795832  11.519173   0.500000   17711\n",
      "24  23  4.898979  12.042772   0.866025   28657\n",
      "25  24  5.000000  12.566371   1.000000   46368\n"
     ]
    }
   ],
   "source": [
    "c.execute(\"SELECT * FROM testfuncs WHERE i > 12 ORDER BY i\")\n",
    "print(' i   v  sqrt(v)    rad(v*30)  cos(rad)  fibo(i)')\n",
    "for d in c.fetchall(): print('{:2d}  {:2.0f}  {:8.6f}  {:9.6f}  {:9.6f}   {:5d}'.format(*d))"
   ]
  },
  {
   "cell_type": "markdown",
   "metadata": {},
   "source": [
    "<div style=\"font-size:120%\" id=\"func_returning_table\">\n",
    "Une fonction peut retourner une donnée composée ou un enregistrement, issu d'une table ou non. Mieux, il est également possible de renvoyer <b>plusieurs</b> lignes de tables&#160;:\n",
    "</div>"
   ]
  },
  {
   "cell_type": "code",
   "execution_count": 19,
   "metadata": {
    "collapsed": false
   },
   "outputs": [],
   "source": [
    "c.execute('''\n",
    "DROP FUNCTION get_trigonometric_period();\n",
    "CREATE FUNCTION get_trigonometric_period()\n",
    "RETURNS TABLE( deg DECIMAL, rad DECIMAL, cos DECIMAL, sin DECIMAL ) AS $$\n",
    "    SELECT degrees(rad) as deg, rad, cos, sin(rad) FROM testfuncs WHERE degrees(rad) <= 361;\n",
    "$$ LANGUAGE SQL;\n",
    "''')\n",
    "conn.commit()"
   ]
  },
  {
   "cell_type": "code",
   "execution_count": 20,
   "metadata": {
    "collapsed": false
   },
   "outputs": [
    {
     "name": "stdout",
     "output_type": "stream",
     "text": [
      "deg    rad        cos       sin\n",
      "  0  0.000000   1.000000  0.000000\n",
      " 30  0.523599   0.866025  0.500000\n",
      " 60  1.047198   0.500000  0.866025\n",
      " 90  1.570796   0.000000  1.000000\n",
      "120  2.094395  -0.500000  0.866025\n",
      "150  2.617994  -0.866025  0.500000\n",
      "180  3.141593  -1.000000  0.000000\n",
      "210  3.665191  -0.866025 -0.500000\n",
      "240  4.188790  -0.500000 -0.866025\n",
      "270  4.712389  -0.000000 -1.000000\n",
      "300  5.235988   0.500000 -0.866025\n",
      "330  5.759587   0.866025 -0.500000\n",
      "360  6.283185   1.000000  0.000000\n"
     ]
    }
   ],
   "source": [
    "c.execute('SELECT * FROM get_trigonometric_period()')\n",
    "print('{}    {}        {}       {}'.format(*[d[0] for d in c.description]))\n",
    "for d in c.fetchall(): print('{:3.0f}  {:8.6f}  {:9.6f} {:9.6f}'.format(*d))"
   ]
  },
  {
   "cell_type": "code",
   "execution_count": null,
   "metadata": {
    "collapsed": true
   },
   "outputs": [],
   "source": []
  }
 ],
 "metadata": {
  "kernelspec": {
   "display_name": "Python 3",
   "language": "python",
   "name": "python3"
  },
  "language_info": {
   "codemirror_mode": {
    "name": "ipython",
    "version": 3
   },
   "file_extension": ".py",
   "mimetype": "text/x-python",
   "name": "python",
   "nbconvert_exporter": "python",
   "pygments_lexer": "ipython3",
   "version": "3.6.6"
  }
 },
 "nbformat": 4,
 "nbformat_minor": 2
}
