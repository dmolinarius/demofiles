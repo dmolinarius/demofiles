{
 "cells": [
  {
   "cell_type": "markdown",
   "metadata": {},
   "source": [
    "### Installation de PostgreSQL\n",
    "\n",
    "<div style=\"font-size:120%\">\n",
    "Pour installer le serveur PostgreSQL :\n",
    "</div>\n",
    "https://www.postgresql.org/download/\n",
    "\n",
    "### Installation du driver pour python\n",
    "\n",
    "<div style=\"font-size:120%\">\n",
    "Il faut ensuite installer le driver pour accéder au serveur depuis python :\n",
    "</div>\n",
    "https://www.postgresqltutorial.com/postgresql-python/\n",
    "<pre style=\"background-color:#f0f0f0; border: 1px solid #ccc; margin:0; padding:0.5em; font-size:1em\">\n",
    "pip install psycopg2-binary\n",
    "</pre>"
   ]
  },
  {
   "cell_type": "code",
   "execution_count": 2,
   "metadata": {
    "collapsed": false
   },
   "outputs": [],
   "source": [
    "import psycopg2"
   ]
  },
  {
   "cell_type": "markdown",
   "metadata": {},
   "source": [
    "### Création d'un utilisateur et d'une base de données\n",
    "\n",
    "<p style=\"font-size:120%\">\n",
    "Utiliser ensuite l'outil pgAdmin pour créer un utilisateur, avec le droit de se connecter, et une base de données appartenant à cet utilisateur.\n",
    "</p>\n",
    "\n",
    "### Connexion depuis python\n",
    "\n",
    "<p style=\"font-size:120%\">\n",
    "Une fois ces opérations effectuées, il devrait être possible de se connecter :\n",
    "</p>"
   ]
  },
  {
   "cell_type": "code",
   "execution_count": 3,
   "metadata": {
    "collapsed": false
   },
   "outputs": [],
   "source": [
    "conn = psycopg2.connect(\n",
    "    host=\"localhost\",\n",
    "    database=\"demo\",\n",
    "    user=\"demo_owner\",\n",
    "    password=\"OODBMS\")"
   ]
  },
  {
   "cell_type": "code",
   "execution_count": 4,
   "metadata": {
    "collapsed": true
   },
   "outputs": [],
   "source": [
    "conn.close()"
   ]
  },
  {
   "cell_type": "code",
   "execution_count": null,
   "metadata": {
    "collapsed": true
   },
   "outputs": [],
   "source": []
  }
 ],
 "metadata": {
  "kernelspec": {
   "display_name": "Python 3",
   "language": "python",
   "name": "python3"
  },
  "language_info": {
   "codemirror_mode": {
    "name": "ipython",
    "version": 3
   },
   "file_extension": ".py",
   "mimetype": "text/x-python",
   "name": "python",
   "nbconvert_exporter": "python",
   "pygments_lexer": "ipython3",
   "version": "3.6.6"
  }
 },
 "nbformat": 4,
 "nbformat_minor": 2
}
