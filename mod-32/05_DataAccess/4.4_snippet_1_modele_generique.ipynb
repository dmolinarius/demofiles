{
 "cells": [
  {
   "cell_type": "markdown",
   "metadata": {
    "collapsed": true
   },
   "source": [
    "## 4.4 Modèle générique\n",
    "\n",
    "#### Code source de l'ORM simplifié"
   ]
  },
  {
   "cell_type": "code",
   "execution_count": 1,
   "metadata": {
    "collapsed": false
   },
   "outputs": [],
   "source": [
    "import sqlite3\n",
    "import builtins\n",
    "\n",
    "class ORM():\n",
    "    def __init__(self, dbname):\n",
    "        self.__dbname = dbname\n",
    "        self.__conn = sqlite3.connect(self.__dbname)\n",
    "\n",
    "        # liste des classes métier gérées par l'ORM\n",
    "        data = self.execute(\"SELECT id,name FROM entity\").fetchall()\n",
    "        self.__entities = { e[1]:e[0] for e in data}\n",
    "\n",
    "    #\n",
    "    # exécution d'une requête SQL quelconque\n",
    "    #\n",
    "    def execute(self, sql, args=()):\n",
    "        r = self.__conn.cursor().execute(sql,args)\n",
    "        self.__conn.commit()\n",
    "        return r\n",
    "\n",
    "    #\n",
    "    # création éventuelle d'une classe dans la base\n",
    "    #\n",
    "    def create_entity(self, entity):\n",
    "        \n",
    "        # on vérifie si la classe est déjà renseignée dans la base\n",
    "        name = entity.__name__\n",
    "        sql = \"SELECT id FROM entity WHERE name=?\"\n",
    "        id = self.execute(sql,(name,)).fetchone()\n",
    "\n",
    "        # si la classe n'est pas encore dans la base...\n",
    "        if not id:\n",
    "            # ... on la crée\n",
    "            self.execute(\"INSERT INTO entity (name) VALUES (?)\",(name,))\n",
    "            id = self.execute(sql,(name,)).fetchone()\n",
    "            self.__entities[name] = id[0]\n",
    "\n",
    "        # informations sur ses classes mères\n",
    "        self.__create_inheritance_chain(entity)\n",
    "        \n",
    "        # informations sur ses attributs\n",
    "        self.__create_attributes(entity)\n",
    "        return id[0]\n",
    "\n",
    "    #\n",
    "    # création des informations sur la chaîne d'héritage d'une classe\n",
    "    #\n",
    "    def __create_inheritance_chain(self,entity):\n",
    "        ancestors = [c.__name__ for c in entity.superclasses()]\n",
    "        \n",
    "        # boucle sur les classes mères\n",
    "        if len(ancestors) > 1:\n",
    "            for n in range(len(ancestors)-1):\n",
    "\n",
    "                # on vérifie si l'information existe déjà\n",
    "                request = \"SELECT COUNT(*) FROM inheritance WHERE superclass_id=? AND subclass_id=?\"\n",
    "                args = (self.__entities[ancestors[n+1]],self.__entities[ancestors[n]])\n",
    "                count = self.execute(request,args).fetchone()[0]\n",
    "\n",
    "                # si l'information n'existe pas encore...\n",
    "                if not count:\n",
    "                    # création de l'information sur un couple classe mère / classe fille\n",
    "                    req = \"INSERT INTO inheritance (superclass_id,subclass_id) VALUES (?,?)\"\n",
    "                    self.execute(req,args)\n",
    "                    \n",
    "    #\n",
    "    # création éventuelle d'une liste attributs dans la base\n",
    "    #\n",
    "    def __create_attributes(self, entity):\n",
    "        attrs = entity.attributes()\n",
    "        mock = entity()\n",
    "        for attr_name in attrs:\n",
    "            self.__create_attribute(entity,attr_name,type(getattr(mock,attr_name)).__name__)\n",
    "\n",
    "    #\n",
    "    # création éventuelle d'un attribut dans la base\n",
    "    #\n",
    "    def __create_attribute(self, cls, name, _type):\n",
    "        \n",
    "        # on vérifie si l'attribut existe déjà\n",
    "        class_name = cls.__name__\n",
    "        class_id = self.execute(\"SELECT id FROM entity WHERE name=?\",(class_name,)).fetchone()[0]\n",
    "        sql = \"SELECT id FROM attribute WHERE class_id=? AND name=?\"\n",
    "        id = self.execute(sql,(class_id,name)).fetchone()\n",
    "        \n",
    "        # si l'attribut n'existe pas encore...\n",
    "        if not id:\n",
    "            # ...on le crée\n",
    "            request = \"INSERT INTO attribute (class_id,name,type) VALUES (?,?,?)\"\n",
    "            self.execute(request, (class_id, name, _type))\n",
    "            id = self.execute(sql,(class_id,name)).fetchone()\n",
    "        return id[0]\n",
    "\n",
    "    #\n",
    "    # récupération de l'id d'un attribut\n",
    "    #\n",
    "    def __get_attribute_id(self, class_name, attribute_name):\n",
    "        request = \"SELECT id FROM attribute WHERE name = ? AND class_id = \" + \\\n",
    "                \"(SELECT id FROM entity WHERE name = ?)\"\n",
    "        return self.execute(request, (attribute_name, class_name)).fetchone()[0]\n",
    "\n",
    "    #\n",
    "    # enregistrement d'un objet dans la base (update ou insert)\n",
    "    #\n",
    "    def persist(self, o):\n",
    "        self.update(o) if hasattr(o,'id') else self.insert(o)\n",
    "\n",
    "    #\n",
    "    # mise à jour d'un objet dans la base\n",
    "    #\n",
    "    def update(self,o):\n",
    "        class_name = o.__class__.__name__\n",
    "        attributes = {k: getattr(o,k) for k in o.__class__.attributes() if not k == 'id'}   \n",
    "        \n",
    "        # pour une mise à jour un objet doit posséder un attribut id\n",
    "        if not hasattr(o,'id'): return # un raise serait plus avisé...\n",
    "\n",
    "        # boucle sur les attributs de l'objet\n",
    "        object_id = o.id\n",
    "        for k in attributes.keys():\n",
    "            \n",
    "            # mise à jour de la valeur d'un attribut\n",
    "            attribute_id = self.__get_attribute_id(class_name,k)\n",
    "            request = \"UPDATE `value` SET value=? WHERE object_id=? AND attribute_id = ?\"\n",
    "            self.execute(request,(attributes[k],object_id, attribute_id))\n",
    "\n",
    "    #\n",
    "    # création d'un objet dans la base\n",
    "    #\n",
    "    def insert(self,o):\n",
    "        class_name = o.__class__.__name__\n",
    "        attributes = {k: getattr(o,k) for k in o.__class__.attributes()}\n",
    "\n",
    "        # pour une création un objet ne doit pas posséder d'attribut id\n",
    "        if hasattr(o,'id'): return # un raise serait plus avisé...\n",
    "\n",
    "        # id de l'objet créé\n",
    "        object_id = 1 + self.execute(\"SELECT MAX(object_id) FROM value\").fetchone()[0] or 0\n",
    "        \n",
    "        # boucle sur les attributs de l'objet\n",
    "        for k in attributes.keys():\n",
    "\n",
    "            # création de la valeur d'un attribut\n",
    "            attribute_id = self.__get_attribute_id(class_name,k)\n",
    "            request = \"INSERT INTO `value` (object_id,attribute_id,value) VALUES (?,?,?)\"\n",
    "            self.execute(request,(object_id, attribute_id, attributes[k]))\n",
    "        \n",
    "        # renseignement de l'id de l'objet créé\n",
    "        o.id = object_id\n",
    "\n",
    "    #\n",
    "    # suppression d'un objet dans la base\n",
    "    #\n",
    "    def delete(self,o):\n",
    "        if hasattr(o,'id'):\n",
    "            self.execute(\"DELETE FROM `value` WHERE object_id = ?\",(o.id,))\n",
    "            delattr(o,'id')\n",
    "\n",
    "    #\n",
    "    # récupération d'un objet ou d'une liste depuis la base\n",
    "    #\n",
    "    def query(self, cls, id=None, polymorphic=False):\n",
    "        \n",
    "        # pour une requête polymorphique il faut requêter sur l'ensemble des classes filles\n",
    "        if polymorphic:\n",
    "            data = self.execute(\"SELECT superclass_id, subclass_id FROM inheritance\").fetchall()\n",
    "            inheritance = { c[0]:c[1] for c in data}\n",
    "            superid = self.__entities[cls.__name__]\n",
    "            subclasses = [superid]\n",
    "            while superid in inheritance.keys():\n",
    "                subclasses.append(inheritance[superid])\n",
    "                superid = inheritance[superid]\n",
    "        else:\n",
    "            subclasses = [self.__entities[cls.__name__]]\n",
    "\n",
    "        # construction de la requête\n",
    "        sql = \"SELECT value.object_id, entity.name, attribute.name, value.value, attribute.type \" + \\\n",
    "              \"FROM entity, attribute, value \" + \\\n",
    "              \"WHERE attribute.class_id = entity.id \" + \\\n",
    "              \"AND value.attribute_id = attribute.id \" + \\\n",
    "              \"AND entity.id in ({})\".format(','.join(['?']*len(subclasses)))\n",
    "        args = [sc for sc in subclasses]\n",
    "        if id:\n",
    "            sql = sql + \" AND value.object_id = ?\"\n",
    "            args.append(id)\n",
    "        \n",
    "        # exécution de la requête\n",
    "        r = self.__conn.cursor().execute(sql,args).fetchall()\n",
    "        \n",
    "        # construction d'un dictionnaire indexé par l'id des objets retournés\n",
    "        g = globals()\n",
    "        objdict = {}\n",
    "        for (id, classname, attname, value, type) in r:\n",
    "            if not id in objdict.keys():\n",
    "                objdict[id] = g[classname]()\n",
    "                setattr(objdict[id],'id',int(id))\n",
    "            setattr(objdict[id],attname,getattr(builtins,type)(value))\n",
    "        \n",
    "        # on retourne une liste\n",
    "        return list(objdict.values())\n",
    "\n",
    "orm = ORM('generic_orm.sqlite')"
   ]
  },
  {
   "cell_type": "markdown",
   "metadata": {},
   "source": [
    "#### Création des tables"
   ]
  },
  {
   "cell_type": "code",
   "execution_count": 2,
   "metadata": {
    "collapsed": false
   },
   "outputs": [],
   "source": [
    "sql = \"CREATE TABLE IF NOT EXISTS entity (\" + \\\n",
    "        \"`id` INTEGER NOT NULL PRIMARY KEY AUTOINCREMENT, \" + \\\n",
    "        \"`name` TEXT NOT NULL UNIQUE\" + \\\n",
    "    \")\"\n",
    "orm.execute(sql)\n",
    "\n",
    "sql = \"CREATE TABLE IF NOT EXISTS attribute (\" + \\\n",
    "        \"`id` INTEGER NOT NULL PRIMARY KEY AUTOINCREMENT, \" + \\\n",
    "        \"`class_id` INTEGER NOT NULL, \" + \\\n",
    "        \"`name` TEXT NOT NULL, \" + \\\n",
    "        \"`type` TEXT NOT NULL,\" + \\\n",
    "        \"FOREIGN KEY(`class_id`) REFERENCES `entity.id` \" + \\\n",
    "    \")\"\n",
    "orm.execute(sql)\n",
    "\n",
    "sql = \"CREATE TABLE IF NOT EXISTS value (\" + \\\n",
    "        \"`object_id` INTEGER NOT NULL, \" + \\\n",
    "        \"`attribute_id` INTEGER NOT NULL, \" + \\\n",
    "        \"`value` TEXT, \" + \\\n",
    "        \"FOREIGN KEY(`attribute_id`) REFERENCES `attribute.id`, \" + \\\n",
    "        \"PRIMARY KEY(`object_id`,`attribute_id`) \" + \\\n",
    "    \")\"\n",
    "orm.execute(sql)\n",
    "\n",
    "sql = \"CREATE TABLE IF NOT EXISTS inheritance(\" + \\\n",
    "        \"superclass_id INTEGER NOT NULL, \" + \\\n",
    "        \"subclass_id INTEGER NOT NULL, \" + \\\n",
    "        \"FOREIGN KEY(`superclass_id`) REFERENCES `entity.id`, \" + \\\n",
    "        \"FOREIGN KEY(`subclass_id`) REFERENCES `entity.id`, \" + \\\n",
    "        \"PRIMARY KEY(`superclass_id`,`subclass_id`) \" + \\\n",
    "    \")\"\n",
    "orm.execute(sql)\n",
    "\n",
    "pass"
   ]
  },
  {
   "cell_type": "markdown",
   "metadata": {},
   "source": [
    "#### Classe de base des classes métier"
   ]
  },
  {
   "cell_type": "code",
   "execution_count": 3,
   "metadata": {
    "collapsed": true
   },
   "outputs": [],
   "source": [
    "class Base():\n",
    "    \n",
    "    #\n",
    "    # renvoie la liste des attributs d'une classe\n",
    "    #\n",
    "    @classmethod\n",
    "    def attributes(cls):\n",
    "        attrs = [k for k in cls.__dict__ if not k.startswith('__') and not type(getattr(cls,k)).__name__ == 'method' ]\n",
    "        if hasattr(cls.__bases__[0],'attributes'):\n",
    "            attrs = attrs + cls.__bases__[0].attributes()\n",
    "        return attrs\n",
    "\n",
    "    #\n",
    "    # renvoie la liste des classes mères d'une classe\n",
    "    #\n",
    "    @classmethod\n",
    "    def superclasses(cls):\n",
    "        ancestors = [cls]       \n",
    "        if hasattr(cls.__bases__[0],'superclasses') and not cls.__bases__[0] == Base:\n",
    "            ancestors = ancestors + cls.__bases__[0].superclasses()\n",
    "        return ancestors\n",
    "\n",
    "    #\n",
    "    # constructeur des classes métier\n",
    "    #\n",
    "    def __init__(self,**kwargs):\n",
    "        attributes = self.__class__.attributes()\n",
    "        for k in attributes:\n",
    "            if k in kwargs.keys():\n",
    "                setattr(self,k,kwargs[k])"
   ]
  },
  {
   "cell_type": "markdown",
   "metadata": {},
   "source": [
    "#### Définition des classes métier"
   ]
  },
  {
   "cell_type": "code",
   "execution_count": 4,
   "metadata": {
    "collapsed": false
   },
   "outputs": [],
   "source": [
    "#\n",
    "# N.B. l'ORM simplifié fonctionne uniquement si les attributs sont déclarés au niveau de la classe\n",
    "# avec une valeur par défaut destinée à indiquer son type. L'héritage multiple n'est pas pris en\n",
    "# compte, ni la gestion de relations entre classes...\n",
    "#\n",
    "class Person(Base):\n",
    "    first_name = ''\n",
    "    last_name = ''\n",
    "    \n",
    "    def __str__(self):\n",
    "        return \"{}: {} {}\".format(self.__class__.__name__, self.first_name,self.last_name)\n",
    "    \n",
    "class Developer(Person):\n",
    "    login = ''\n",
    "    pwd = ''\n",
    "\n",
    "    def __str__(self):\n",
    "        return \"{} (login,pwd)=({},{})\".format(super().__str__(), self.login,self.pwd)\n",
    "    \n",
    "class Player(Person):\n",
    "    pseudo = ''\n",
    "    score = 0\n",
    "\n",
    "    def __str__(self):\n",
    "        return \"{} (pseudo,score)=({},{})\".format(super().__str__(), self.pseudo,self.score)\n",
    "    \n",
    "class VIP(Player):\n",
    "    email = ''\n",
    "    preferences = ''\n",
    "\n",
    "    def __str__(self):\n",
    "        return \"{} {} prefs={}\".format(super().__str__(), self.email,self.preferences)\n"
   ]
  },
  {
   "cell_type": "markdown",
   "metadata": {},
   "source": [
    "#### Description des classes dans la base"
   ]
  },
  {
   "cell_type": "code",
   "execution_count": 5,
   "metadata": {
    "collapsed": false
   },
   "outputs": [],
   "source": [
    "orm.create_entity(Person)\n",
    "orm.create_entity(Developer)\n",
    "orm.create_entity(Player)\n",
    "orm.create_entity(VIP)\n",
    "pass"
   ]
  },
  {
   "cell_type": "markdown",
   "metadata": {},
   "source": [
    "#### Création d'objets métier et enregistrement dans la base"
   ]
  },
  {
   "cell_type": "code",
   "execution_count": 6,
   "metadata": {
    "collapsed": false
   },
   "outputs": [],
   "source": [
    "raymond = Person(first_name='Raymond',last_name='Deubaze')\n",
    "raymond.id = 1\n",
    "orm.persist(raymond)"
   ]
  },
  {
   "cell_type": "code",
   "execution_count": 7,
   "metadata": {
    "collapsed": false
   },
   "outputs": [],
   "source": [
    "p = Player(first_name='Jean', last_name='Bonnot', pseudo='jbt', score=0)\n",
    "p.id = 2\n",
    "orm.persist(p)"
   ]
  },
  {
   "cell_type": "code",
   "execution_count": 8,
   "metadata": {
    "collapsed": false
   },
   "outputs": [],
   "source": [
    "dev = Developer(first_name='Maud',last_name='Zarella', login=\"mozarella\", pwd=\"di Bufala\")\n",
    "dev.id = 3\n",
    "orm.persist(dev)"
   ]
  },
  {
   "cell_type": "code",
   "execution_count": 9,
   "metadata": {
    "collapsed": false
   },
   "outputs": [],
   "source": [
    "vip = VIP(first_name=\"Kelly\", last_name=\"Diotte\", pseudo=\"kde\", score=0, email='kelly@gmail.com', preferences='')\n",
    "vip.id = 4\n",
    "orm.persist(vip)"
   ]
  },
  {
   "cell_type": "code",
   "execution_count": 10,
   "metadata": {
    "collapsed": false
   },
   "outputs": [],
   "source": [
    "elsa = Person(first_name='Elsa',last_name='Plique')\n",
    "elsa.id = 5\n",
    "orm.persist(elsa)"
   ]
  },
  {
   "cell_type": "code",
   "execution_count": 11,
   "metadata": {
    "collapsed": false
   },
   "outputs": [],
   "source": [
    "jean = Person(first_name='Jean',last_name='Peuplu')\n",
    "jean.id = 6\n",
    "orm.persist(jean)"
   ]
  },
  {
   "cell_type": "markdown",
   "metadata": {},
   "source": [
    "#### Récupération des objets d'une classe"
   ]
  },
  {
   "cell_type": "code",
   "execution_count": 12,
   "metadata": {
    "collapsed": false
   },
   "outputs": [
    {
     "name": "stdout",
     "output_type": "stream",
     "text": [
      "Person: Raymond Deubaze\n",
      "Person: Elsa Plique\n",
      "Person: Jean Peuplu\n"
     ]
    }
   ],
   "source": [
    "# Requête fetchall()\n",
    "people = orm.query(Person)\n",
    "for p in people:\n",
    "    print(p)"
   ]
  },
  {
   "cell_type": "markdown",
   "metadata": {},
   "source": [
    "#### Récupération d'un objet à partir de son identifiant"
   ]
  },
  {
   "cell_type": "code",
   "execution_count": 13,
   "metadata": {
    "collapsed": false
   },
   "outputs": [
    {
     "name": "stdout",
     "output_type": "stream",
     "text": [
      "Person: Raymond Deubaze\n"
     ]
    }
   ],
   "source": [
    "# Requête fetch by id\n",
    "people = orm.query(Person,1)\n",
    "for p in people:\n",
    "    print(p)"
   ]
  },
  {
   "cell_type": "markdown",
   "metadata": {},
   "source": [
    "#### Récupération d'une liste polymorphique"
   ]
  },
  {
   "cell_type": "code",
   "execution_count": 14,
   "metadata": {
    "collapsed": false
   },
   "outputs": [
    {
     "name": "stdout",
     "output_type": "stream",
     "text": [
      "Person: Raymond Deubaze\n",
      "Player: Jean Bonnot (pseudo,score)=(jbt,0)\n",
      "VIP: Kelly Diotte (pseudo,score)=(kde,0) kelly@gmail.com prefs=\n",
      "Person: Elsa Plique\n",
      "Person: Jean Peuplu\n"
     ]
    }
   ],
   "source": [
    "# Requête polymorphique\n",
    "people = orm.query(Person,None,True)\n",
    "for p in people:\n",
    "    print(p)"
   ]
  }
 ],
 "metadata": {
  "kernelspec": {
   "display_name": "Python 3",
   "language": "python",
   "name": "python3"
  },
  "language_info": {
   "codemirror_mode": {
    "name": "ipython",
    "version": 3
   },
   "file_extension": ".py",
   "mimetype": "text/x-python",
   "name": "python",
   "nbconvert_exporter": "python",
   "pygments_lexer": "ipython3",
   "version": "3.6.6"
  }
 },
 "nbformat": 4,
 "nbformat_minor": 2
}
