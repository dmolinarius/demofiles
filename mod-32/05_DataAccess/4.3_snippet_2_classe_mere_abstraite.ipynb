{
 "cells": [
  {
   "cell_type": "markdown",
   "metadata": {},
   "source": [
    "## 4.2 Modélisation de l'héritage avec une table par classe concrète"
   ]
  },
  {
   "cell_type": "markdown",
   "metadata": {},
   "source": [
    "### Implémentation sous SQLAlchemy avec une classe mère abstraite"
   ]
  },
  {
   "cell_type": "code",
   "execution_count": 1,
   "metadata": {
    "collapsed": true
   },
   "outputs": [],
   "source": [
    "from sqlalchemy import Table, Column,  ForeignKey, Integer, String\n",
    "from sqlalchemy.ext.declarative import declarative_base, AbstractConcreteBase\n",
    "from sqlalchemy import create_engine\n",
    "from sqlalchemy.orm import sessionmaker,  relationship\n",
    "\n",
    "# Moteur d'accès à la base sqlalchemy.sqlite\n",
    "engine = create_engine('sqlite:///sqlalchemy.sqlite')"
   ]
  },
  {
   "cell_type": "code",
   "execution_count": 2,
   "metadata": {
    "collapsed": true
   },
   "outputs": [],
   "source": [
    "# Session\n",
    "DBSession = sessionmaker(bind=engine)\n",
    "session = DBSession()"
   ]
  },
  {
   "cell_type": "markdown",
   "metadata": {},
   "source": [
    "<p id=\"declarations\" style=\"font-size:120%\">Déclaration des classes métier :</p>"
   ]
  },
  {
   "cell_type": "code",
   "execution_count": 3,
   "metadata": {
    "collapsed": false
   },
   "outputs": [],
   "source": [
    "# Classe mère\n",
    "Base = declarative_base()\n",
    "Base.metadata.bind = engine\n",
    "\n",
    "# Définition des classes \n",
    "class Person(AbstractConcreteBase, Base):\n",
    "    \n",
    "    # on trouvera ici uniquement les méthodes métier partagées\n",
    "    def __str__(self):\n",
    "        return '{} {} {}'.format(self.id,self.first_name,self.last_name)\n",
    "    \n",
    "class Developer(Person):\n",
    "    __tablename__ = \"abstract_developer\"\n",
    "    id = Column(Integer, primary_key=True)\n",
    "    first_name = Column(String(64), nullable=False)\n",
    "    last_name = Column(String(64), nullable=False)\n",
    "    login = Column(String(32))\n",
    "    pwd = Column(String(32))\n",
    "    \n",
    "    __mapper_args__ = {\n",
    "        \"polymorphic_identity\": \"developer\",\n",
    "        \"concrete\": True\n",
    "    }\n",
    "\n",
    "    def __str__(self):\n",
    "        return super().__str__() + ' {} {}'.format(self.login,self.pwd)\n",
    "    \n",
    "class Player(Person):\n",
    "    __tablename__ = \"abstract_player\"\n",
    "    id = Column(Integer, primary_key=True)\n",
    "    first_name = Column(String(64), nullable=False)\n",
    "    last_name = Column(String(64), nullable=False)\n",
    "    pseudo = Column(String(16))\n",
    "    score = Column(Integer)\n",
    "    \n",
    "    __mapper_args__ = {\n",
    "        \"polymorphic_identity\": \"player\",\n",
    "        \"concrete\": True\n",
    "    }\n",
    "\n",
    "    def __str__(self):\n",
    "        return super().__str__() + ' {} {}'.format(self.pseudo,self.score)\n",
    "\n",
    "class VIP(Player):\n",
    "    __tablename__ = \"abstract_vip\"\n",
    "    id = Column(Integer, primary_key=True)\n",
    "    first_name = Column(String(64), nullable=False)\n",
    "    last_name = Column(String(64), nullable=False)\n",
    "    pseudo = Column(String(16))\n",
    "    score = Column(Integer)\n",
    "    email = Column(String(255))\n",
    "    preferences = Column(String(255)) \n",
    "\n",
    "    __mapper_args__ = {\n",
    "        \"polymorphic_identity\": \"VIP\",\n",
    "        \"concrete\": True\n",
    "    }\n",
    "\n",
    "    def __str__(self):\n",
    "        return super().__str__() + ' {} {}'.format(self.email,self.preferences)\n",
    "\n",
    "Base.registry.configure()\n",
    "\n",
    "# Création éventuelle des tables dans la base\n",
    "Base.metadata.create_all(engine)"
   ]
  },
  {
   "cell_type": "markdown",
   "metadata": {},
   "source": [
    "<div id=\"usage\" style=\"font-size:120%\"></div>\n",
    "#### Classe Player : exemple d'usage"
   ]
  },
  {
   "cell_type": "code",
   "execution_count": 4,
   "metadata": {
    "collapsed": false
   },
   "outputs": [
    {
     "name": "stdout",
     "output_type": "stream",
     "text": [
      "1 Jean Bonnot jbt 0\n"
     ]
    }
   ],
   "source": [
    "# Création éventuelle d'un player\n",
    "players = session.query(Player).all()\n",
    "if len(players) == 0:\n",
    "    player = Player(first_name=\"Jean\",last_name='Bonnot',pseudo=\"jbt\",score=0)\n",
    "    session.add(player)\n",
    "    session.commit()\n",
    "else:\n",
    "    player = players[0]\n",
    "\n",
    "print(player)"
   ]
  },
  {
   "cell_type": "markdown",
   "metadata": {},
   "source": [
    "#### Classe Developer : exemple d'usage"
   ]
  },
  {
   "cell_type": "code",
   "execution_count": 5,
   "metadata": {
    "collapsed": false
   },
   "outputs": [
    {
     "name": "stdout",
     "output_type": "stream",
     "text": [
      "1 Maud Zarella mozarella di Bufala\n"
     ]
    }
   ],
   "source": [
    "# Création éventuelle d'un developer\n",
    "devs = session.query(Developer).all()\n",
    "if len(devs) == 0:\n",
    "    dev = Developer(first_name=\"Maud\",last_name='Zarella',login=\"mozarella\",pwd='di Bufala')\n",
    "    session.add(dev)\n",
    "    session.commit()\n",
    "else:\n",
    "    dev = devs[0]\n",
    "\n",
    "print(dev)"
   ]
  },
  {
   "cell_type": "markdown",
   "metadata": {},
   "source": [
    "#### Classe VIP : exemple d'usage"
   ]
  },
  {
   "cell_type": "code",
   "execution_count": 6,
   "metadata": {
    "collapsed": false
   },
   "outputs": [
    {
     "name": "stdout",
     "output_type": "stream",
     "text": [
      "1 Kelly Diotte kde 0 kelly@gmail.com None\n"
     ]
    }
   ],
   "source": [
    "# Création éventuelle d'un VIP\n",
    "vips = session.query(VIP).all()\n",
    "if len(vips) == 0:\n",
    "    vip = VIP(first_name=\"Kelly\",last_name='Diotte',pseudo=\"kde\",score=0,email=\"kelly@gmail.com\")\n",
    "    session.add(vip)\n",
    "    session.commit()\n",
    "else:\n",
    "    vip = vips[0]\n",
    "\n",
    "print(vip)"
   ]
  },
  {
   "cell_type": "markdown",
   "metadata": {},
   "source": [
    "<div id=\"liste_polymorphique\" style=\"font-size:120%\"></div>\n",
    "#### Requête renvoyant une liste polymorphique"
   ]
  },
  {
   "cell_type": "code",
   "execution_count": 7,
   "metadata": {
    "collapsed": false
   },
   "outputs": [
    {
     "name": "stdout",
     "output_type": "stream",
     "text": [
      "Player     1 Jean Bonnot jbt 0\n",
      "VIP        1 Kelly Diotte kde 0 kelly@gmail.com None\n",
      "Developer  1 Maud Zarella mozarella di Bufala\n"
     ]
    }
   ],
   "source": [
    "# Requête all sur la table des users\n",
    "all_people = session.query(Person).all()\n",
    "for p in all_people:\n",
    "    print(\"{0: <10} \".format(p.__class__.__name__) + str(p))"
   ]
  },
  {
   "cell_type": "code",
   "execution_count": null,
   "metadata": {
    "collapsed": true
   },
   "outputs": [],
   "source": []
  }
 ],
 "metadata": {
  "kernelspec": {
   "display_name": "Python 3",
   "language": "python",
   "name": "python3"
  },
  "language_info": {
   "codemirror_mode": {
    "name": "ipython",
    "version": 3
   },
   "file_extension": ".py",
   "mimetype": "text/x-python",
   "name": "python",
   "nbconvert_exporter": "python",
   "pygments_lexer": "ipython3",
   "version": "3.6.6"
  }
 },
 "nbformat": 4,
 "nbformat_minor": 2
}
