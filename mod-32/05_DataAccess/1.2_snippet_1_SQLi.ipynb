{
 "cells": [
  {
   "cell_type": "markdown",
   "metadata": {},
   "source": [
    "## 1.2 Injection SQL"
   ]
  },
  {
   "cell_type": "markdown",
   "metadata": {},
   "source": [
    "<img src=\"exploits_of_a_mom.png\">\n",
    "<div style=\"text-align:center; margin-top:1.33em;\">\n",
    " source: <a href=\"https://xkcd.com/327/\">https://xkcd.com/327/</a>\n",
    "</div>"
   ]
  },
  {
   "cell_type": "markdown",
   "metadata": {},
   "source": [
    "### Exemple de requête vulnérable à une attaque du type 'Injection SQL'"
   ]
  },
  {
   "cell_type": "code",
   "execution_count": 4,
   "metadata": {
    "collapsed": false
   },
   "outputs": [
    {
     "name": "stdout",
     "output_type": "stream",
     "text": [
      "rde\n",
      "hello\n",
      "SELECT * FROM users WHERE pseudo='rde' AND pwd='hello'\n",
      "[('rde', 'Raymond.Deubaze@ec-lyon.fr', 'hello')]\n"
     ]
    }
   ],
   "source": [
    "import sqlite3\n",
    "conn = sqlite3.connect('my_database.sqlite')\n",
    "c = conn.cursor()\n",
    "\n",
    "pseudo = input()    # rde\n",
    "password = input()  # hello\n",
    "\n",
    "request = \"SELECT * FROM users WHERE pseudo='{}' AND pwd='{}'\".format(pseudo,password)\n",
    "c.execute(request)\n",
    "\n",
    "print(request)\n",
    "print(c.fetchall())"
   ]
  },
  {
   "cell_type": "markdown",
   "metadata": {},
   "source": [
    "<div style=\"font-size: 120%\">\n",
    "Ce type de requête peut par exemple servir à connecter un utilisateur après avoir demandé son pseudo et son mot de passe.\n",
    "</div>"
   ]
  },
  {
   "cell_type": "markdown",
   "metadata": {},
   "source": [
    "### Exemple d'attaque par un utilisateur malveillant\n",
    "\n",
    "<p style=\"font-size: 120%\">\n",
    "En entrant le pseudo <code style=\"background-color:#ddd;\">' OR 1=1 -- </code> et une chaîne vide pour le mot de passe, un utilisateur malveillant peut obtenir l'accès au système :\n",
    "</p>"
   ]
  },
  {
   "cell_type": "code",
   "execution_count": 8,
   "metadata": {
    "collapsed": false
   },
   "outputs": [
    {
     "name": "stdout",
     "output_type": "stream",
     "text": [
      "' OR 1=1 -- \n",
      "\n",
      "SELECT * FROM users WHERE pseudo='' OR 1=1 -- ' AND pwd=''\n",
      "[('rde', 'Raymond.Deubaze@ec-lyon.fr', 'hello'), ('dmr', 'Daniel.muller@eclyon.fr', 'tagada')]\n"
     ]
    }
   ],
   "source": [
    "pseudo = input()\n",
    "password = input()\n",
    "\n",
    "request = \"SELECT * FROM users WHERE pseudo='{}' AND pwd='{}'\".format(pseudo,password)\n",
    "c.execute(request)\n",
    "\n",
    "print(request)\n",
    "print(c.fetchall())"
   ]
  },
  {
   "cell_type": "markdown",
   "metadata": {},
   "source": [
    "### Possibilité malveillante d'exécuter une requête SQL arbitraire\n",
    "\n",
    "<p style=\"font-size: 120%\">\n",
    "La méthode <code>execute</code> de l'objet curseur ne permet heureusement l'exécution que d'une seule requête à la fois. Ce n'est pas le cas de la méthode <code>executescript</code> qui ouvre la porte à des attaques encore plus dangereuses.\n",
    "</p>\n",
    "<p style=\"font-size: 120%\">\n",
    "Entrer le pseudo :<br>\n",
    "<code style=\"background-color:#ddd;\">' OR 1='1'; INSERT INTO users VALUES('test','test@gmail.com','paswword') -- </code><br>\n",
    "et une chaîne vide pour le mot de passe :\n",
    "</p>"
   ]
  },
  {
   "cell_type": "code",
   "execution_count": 7,
   "metadata": {
    "collapsed": false
   },
   "outputs": [
    {
     "name": "stdout",
     "output_type": "stream",
     "text": [
      "' OR 1='1'; DELETE FROM users WHERE pseudo='test' -- \n",
      "\n",
      "SELECT * FROM users WHERE pseudo='' OR 1='1'; DELETE FROM users WHERE pseudo='test' -- ' AND pwd=''\n",
      "[]\n"
     ]
    }
   ],
   "source": [
    "pseudo = input()\n",
    "password = input()\n",
    "\n",
    "sql = \"SELECT * FROM users WHERE pseudo='{}' AND pwd='{}'\"\n",
    "request = sql.format(pseudo,password)\n",
    "c.executescript(request)\n",
    "\n",
    "print(request)\n",
    "print(c.fetchall())"
   ]
  },
  {
   "cell_type": "markdown",
   "metadata": {},
   "source": [
    "<p style=\"font-size: 120%\">\n",
    "<b>N.B.</b> Des commandes beaucoup plus agressives fonctionneraient tout aussi bien...\n",
    "</p>\n",
    "<p style=\"font-size: 120%\">\n",
    "<code style=\"background-color:#ddd;\">' OR 1='1'; DELETE FROM users WHERE pseudo='test' -- </code>"
   ]
  },
  {
   "cell_type": "code",
   "execution_count": 9,
   "metadata": {
    "collapsed": true
   },
   "outputs": [],
   "source": [
    "conn.close()"
   ]
  },
  {
   "cell_type": "code",
   "execution_count": null,
   "metadata": {
    "collapsed": true
   },
   "outputs": [],
   "source": []
  }
 ],
 "metadata": {
  "kernelspec": {
   "display_name": "Python 3",
   "language": "python",
   "name": "python3"
  },
  "language_info": {
   "codemirror_mode": {
    "name": "ipython",
    "version": 3
   },
   "file_extension": ".py",
   "mimetype": "text/x-python",
   "name": "python",
   "nbconvert_exporter": "python",
   "pygments_lexer": "ipython3",
   "version": "3.6.6"
  }
 },
 "nbformat": 4,
 "nbformat_minor": 2
}
