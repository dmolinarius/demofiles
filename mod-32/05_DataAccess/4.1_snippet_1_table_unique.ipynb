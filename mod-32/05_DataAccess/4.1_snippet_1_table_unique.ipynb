{
 "cells": [
  {
   "cell_type": "markdown",
   "metadata": {},
   "source": [
    "## 4.1 Modélisation de l'héritage avec une table unique"
   ]
  },
  {
   "cell_type": "markdown",
   "metadata": {},
   "source": [
    "### Implémentation sous SQLAlchemy"
   ]
  },
  {
   "cell_type": "code",
   "execution_count": 1,
   "metadata": {
    "collapsed": true
   },
   "outputs": [],
   "source": [
    "from sqlalchemy import Table, Column,  ForeignKey, Integer, String\n",
    "from sqlalchemy.ext.declarative import declarative_base\n",
    "from sqlalchemy import create_engine\n",
    "from sqlalchemy.orm import sessionmaker\n",
    "\n",
    "# Moteur d'accès à la base sqlalchemy.sqlite\n",
    "engine = create_engine('sqlite:///sqlalchemy.sqlite')"
   ]
  },
  {
   "cell_type": "code",
   "execution_count": 2,
   "metadata": {
    "collapsed": true
   },
   "outputs": [],
   "source": [
    "# Session\n",
    "DBSession = sessionmaker(bind=engine)\n",
    "session = DBSession()"
   ]
  },
  {
   "cell_type": "markdown",
   "metadata": {},
   "source": [
    "<p id=\"declarations\" style=\"font-size:120%\">Déclaration des classes métier :</p>"
   ]
  },
  {
   "cell_type": "code",
   "execution_count": 3,
   "metadata": {
    "collapsed": false
   },
   "outputs": [],
   "source": [
    "# Classe mère\n",
    "Base = declarative_base()\n",
    "Base.metadata.bind = engine\n",
    "\n",
    "# Définition des classes \n",
    "class Person(Base):\n",
    "    __tablename__ = 'person'\n",
    "\n",
    "    id = Column(Integer, primary_key=True)\n",
    "    first_name = Column(String(64), nullable=False)\n",
    "    last_name = Column(String(64), nullable=False)\n",
    "    type = Column(String(20), nullable=False)\n",
    "\n",
    "    __mapper_args__ = {\n",
    "        \"polymorphic_on\": type,\n",
    "        \"polymorphic_identity\": \"person\",\n",
    "    }\n",
    "    \n",
    "    def __str__(self):\n",
    "        return '{} {} {} {}'.format(self.id,self.type,self.first_name,self.last_name)\n",
    "\n",
    "class Developer(Person):\n",
    "    login = Column(String(32))\n",
    "    pwd = Column(String(32)) \n",
    "\n",
    "    __mapper_args__ = {\n",
    "        \"polymorphic_identity\": \"developer\",\n",
    "    }\n",
    "\n",
    "    def __str__(self):\n",
    "        return super().__str__() + ' {} {}'.format(self.login,self.pwd)\n",
    "\n",
    "class Player(Person):\n",
    "    pseudo = Column(String(16))\n",
    "    score = Column(Integer)\n",
    "    \n",
    "    __mapper_args__ = {\n",
    "        \"polymorphic_identity\": \"player\",\n",
    "    }\n",
    "\n",
    "    def __str__(self):\n",
    "        return super().__str__() + ' {} {}'.format(self.pseudo,self.score)\n",
    "\n",
    "class VIP(Player):\n",
    "    email = Column(String(255))\n",
    "    preferences = Column(String(255)) \n",
    "\n",
    "    __mapper_args__ = {\n",
    "        \"polymorphic_identity\": \"VIP\",\n",
    "    }\n",
    "\n",
    "    def __str__(self):\n",
    "        return super().__str__() + ' {} {}'.format(self.email,self.preferences)\n",
    "\n",
    "\n",
    "# Création éventuelle des tables dans la base\n",
    "Base.metadata.create_all(engine)"
   ]
  },
  {
   "cell_type": "markdown",
   "metadata": {},
   "source": [
    "<div id=\"usage\"/>\n",
    "#### Classe Person : exemple d'usage"
   ]
  },
  {
   "cell_type": "code",
   "execution_count": 4,
   "metadata": {
    "collapsed": false
   },
   "outputs": [
    {
     "name": "stdout",
     "output_type": "stream",
     "text": [
      "1 person Raymond Deubaze\n"
     ]
    }
   ],
   "source": [
    "# Création éventuelle d'une personne\n",
    "people = session.query(Person).filter(Person.id == 1).all()\n",
    "if len(people) == 0:\n",
    "    person = Person(first_name=\"Raymond\",last_name='Deubaze')\n",
    "    session.add(person)\n",
    "    session.commit()\n",
    "else:\n",
    "    person = people[0]\n",
    "\n",
    "print(person)"
   ]
  },
  {
   "cell_type": "markdown",
   "metadata": {},
   "source": [
    "#### Classe Player : exemple d'usage"
   ]
  },
  {
   "cell_type": "code",
   "execution_count": 5,
   "metadata": {
    "collapsed": false
   },
   "outputs": [
    {
     "name": "stdout",
     "output_type": "stream",
     "text": [
      "2 player Jean Bonnot jbt 0\n"
     ]
    }
   ],
   "source": [
    "# Création éventuelle d'un player\n",
    "players = session.query(Player).all()\n",
    "if len(players) == 0:\n",
    "    player = Player(first_name=\"Jean\",last_name='Bonnot',pseudo=\"jbt\",score=0)\n",
    "    session.add(player)\n",
    "    session.commit()\n",
    "else:\n",
    "    player = players[0]\n",
    "\n",
    "print(player)"
   ]
  },
  {
   "cell_type": "markdown",
   "metadata": {},
   "source": [
    "#### Classe Developer : exemple d'usage"
   ]
  },
  {
   "cell_type": "code",
   "execution_count": 6,
   "metadata": {
    "collapsed": false
   },
   "outputs": [
    {
     "name": "stdout",
     "output_type": "stream",
     "text": [
      "3 developer Maud Zarella mozarella di Bufala\n"
     ]
    }
   ],
   "source": [
    "# Création éventuelle d'un developer\n",
    "devs = session.query(Developer).all()\n",
    "if len(devs) == 0:\n",
    "    dev = Developer(first_name=\"Maud\",last_name='Zarella',login=\"mozarella\",pwd='di Bufala')\n",
    "    session.add(dev)\n",
    "    session.commit()\n",
    "else:\n",
    "    dev = devs[0]\n",
    "\n",
    "print(dev)"
   ]
  },
  {
   "cell_type": "markdown",
   "metadata": {},
   "source": [
    "#### Classe VIP : exemple d'usage"
   ]
  },
  {
   "cell_type": "code",
   "execution_count": 7,
   "metadata": {
    "collapsed": false
   },
   "outputs": [
    {
     "name": "stdout",
     "output_type": "stream",
     "text": [
      "4 VIP Kelly Diotte kde 0 kelly@gmail.com None\n"
     ]
    }
   ],
   "source": [
    "# Création éventuelle d'un VIP\n",
    "vips = session.query(VIP).all()\n",
    "if len(vips) == 0:\n",
    "    vip = VIP(first_name=\"Kelly\",last_name='Diotte',pseudo=\"kde\",score=0,email=\"kelly@gmail.com\")\n",
    "    session.add(vip)\n",
    "    session.commit()\n",
    "else:\n",
    "    vip = vips[0]\n",
    "\n",
    "print(vip)"
   ]
  },
  {
   "cell_type": "markdown",
   "metadata": {},
   "source": [
    "<div id=\"liste_polymorphique\"/>\n",
    "#### Requête renvoyant une liste polymorphique"
   ]
  },
  {
   "cell_type": "code",
   "execution_count": 8,
   "metadata": {
    "collapsed": false
   },
   "outputs": [
    {
     "name": "stdout",
     "output_type": "stream",
     "text": [
      "Person     1 person Raymond Deubaze\n",
      "Player     2 player Jean Bonnot jbt 0\n",
      "Developer  3 developer Maud Zarella mozarella di Bufala\n",
      "VIP        4 VIP Kelly Diotte kde 0 kelly@gmail.com None\n"
     ]
    }
   ],
   "source": [
    "# Requête all sur la table des users\n",
    "all_people = session.query(Person).all()\n",
    "for p in all_people:\n",
    "    print(\"{0: <10} \".format(p.__class__.__name__) + str(p))"
   ]
  },
  {
   "cell_type": "code",
   "execution_count": null,
   "metadata": {
    "collapsed": true
   },
   "outputs": [],
   "source": []
  }
 ],
 "metadata": {
  "kernelspec": {
   "display_name": "Python 3",
   "language": "python",
   "name": "python3"
  },
  "language_info": {
   "codemirror_mode": {
    "name": "ipython",
    "version": 3
   },
   "file_extension": ".py",
   "mimetype": "text/x-python",
   "name": "python",
   "nbconvert_exporter": "python",
   "pygments_lexer": "ipython3",
   "version": "3.6.6"
  }
 },
 "nbformat": 4,
 "nbformat_minor": 2
}
