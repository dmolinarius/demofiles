{
 "cells": [
  {
   "cell_type": "markdown",
   "metadata": {},
   "source": [
    "## 3.3 Implémentation des relations n:n"
   ]
  },
  {
   "cell_type": "markdown",
   "metadata": {},
   "source": [
    "### Exemple sous SQLAlchemy"
   ]
  },
  {
   "cell_type": "code",
   "execution_count": 2,
   "metadata": {
    "collapsed": true
   },
   "outputs": [],
   "source": [
    "from sqlalchemy import Table, Column,  ForeignKey, Integer, String\n",
    "from sqlalchemy.ext.declarative import declarative_base\n",
    "from sqlalchemy import create_engine\n",
    "from sqlalchemy.orm import sessionmaker,  relationship\n",
    "\n",
    "# Moteur d'accès à la base sqlalchemy.sqlite\n",
    "engine = create_engine('sqlite:///sqlalchemy.sqlite')"
   ]
  },
  {
   "cell_type": "markdown",
   "metadata": {},
   "source": [
    "<img src=\"../Relation_n_n.png\">"
   ]
  },
  {
   "cell_type": "code",
   "execution_count": 1,
   "metadata": {
    "collapsed": true
   },
   "outputs": [],
   "source": [
    "import random\n",
    "import string\n",
    "\n",
    "# Génération d'une chaîne de caractères aléatoire\n",
    "def get_random_string(length):\n",
    "    letters = string.ascii_lowercase\n",
    "    return ''.join(random.choice(letters) for i in range(length))"
   ]
  },
  {
   "cell_type": "markdown",
   "metadata": {},
   "source": [
    "<p id=\"declarations\" style=\"font-size:120%\">Déclaration des classes métier :</p>"
   ]
  },
  {
   "cell_type": "code",
   "execution_count": 19,
   "metadata": {
    "collapsed": false
   },
   "outputs": [],
   "source": [
    "Base = declarative_base()\n",
    "Base.metadata.bind = engine\n",
    "\n",
    "# Table intermédiaire\n",
    "user_role = Table(\n",
    "    \"user_role\",\n",
    "    Base.metadata,\n",
    "    Column(\"id\", Integer, primary_key=True),\n",
    "    Column(\"user_id\", ForeignKey(\"user.id\")),\n",
    "    Column(\"role_id\", ForeignKey(\"role.id\")),\n",
    ")\n",
    "\n",
    "# Définition des classes\n",
    "class User(Base):\n",
    "    __tablename__ = 'user'\n",
    "\n",
    "    id = Column(Integer, primary_key=True)\n",
    "    pseudo = Column(String(16), nullable=False)\n",
    "    email = Column(String(255), nullable=False)\n",
    "    pwd = Column(String(32), nullable=False)\n",
    "    \n",
    "    roles = relationship(\"Role\", secondary=user_role, back_populates=\"users\")\n",
    "    \n",
    "class Role(Base):\n",
    "    __tablename__ = 'role'\n",
    "    \n",
    "    id = Column(Integer, primary_key=True)\n",
    "    name = Column(String(16), nullable=False)\n",
    "    description = Column(String(255), nullable=False)\n",
    "    \n",
    "    users = relationship(\"User\", secondary=user_role, back_populates=\"roles\")\n",
    "    "
   ]
  },
  {
   "cell_type": "markdown",
   "metadata": {},
   "source": [
    "<p id=\"usage\" style=\"font-size:120%\">Usage :</p>"
   ]
  },
  {
   "cell_type": "code",
   "execution_count": 20,
   "metadata": {
    "collapsed": true
   },
   "outputs": [],
   "source": [
    "# Session\n",
    "DBSession = sessionmaker(bind=engine)\n",
    "session = DBSession()"
   ]
  },
  {
   "cell_type": "code",
   "execution_count": 21,
   "metadata": {
    "collapsed": false
   },
   "outputs": [],
   "source": [
    "# Création de rôles\n",
    "roles = session.query(Role).all()\n",
    "names = [role.name for role in roles]\n",
    "if not 'admin' in names:\n",
    "    admin = Role(name=\"admin\",description=\"Administrateur de l'application\")\n",
    "    session.add(admin)\n",
    "if not 'root' in names:\n",
    "    root = Role(name=\"root\",description=\"Root a tous les droits\")\n",
    "    session.add(root)\n",
    "session.commit()"
   ]
  },
  {
   "cell_type": "code",
   "execution_count": 22,
   "metadata": {
    "collapsed": false
   },
   "outputs": [
    {
     "name": "stdout",
     "output_type": "stream",
     "text": [
      "[<__main__.Role object at 0x0000028DFA025B38>]\n"
     ]
    }
   ],
   "source": [
    "# Récupération d'un utilisateur\n",
    "user = session.query(User).filter(User.pseudo == 'rde').one()\n",
    "print(user.roles)"
   ]
  },
  {
   "cell_type": "code",
   "execution_count": 23,
   "metadata": {
    "collapsed": false
   },
   "outputs": [],
   "source": [
    "# Affectation d'un rôle à un utilisateur\n",
    "admin = session.query(Role).filter(Role.name == \"admin\").one()\n",
    "user.roles.append(admin)\n",
    "\n",
    "session.add(user)\n",
    "session.commit()"
   ]
  },
  {
   "cell_type": "code",
   "execution_count": 24,
   "metadata": {
    "collapsed": false
   },
   "outputs": [
    {
     "name": "stdout",
     "output_type": "stream",
     "text": [
      "['admin']\n",
      "['ijt', 'rde', 'upc']\n"
     ]
    }
   ],
   "source": [
    "# La relation a été enregistrée dans la base, via la table intermédiaire\n",
    "user = session.query(User).filter(User.pseudo == 'rde').one()\n",
    "print([role.name for role in user.roles])\n",
    "\n",
    "admin = session.query(Role).filter(Role.name == \"admin\").one()\n",
    "print([user.pseudo for user in admin.users])"
   ]
  },
  {
   "cell_type": "code",
   "execution_count": 25,
   "metadata": {
    "collapsed": false
   },
   "outputs": [
    {
     "name": "stdout",
     "output_type": "stream",
     "text": [
      "nym\n"
     ]
    }
   ],
   "source": [
    "# Création d'un utilisateur\n",
    "pseudo = get_random_string(3)\n",
    "user = User(pseudo=pseudo, email='{}@gmail.com'.format(pseudo), pwd=get_random_string(8))\n",
    "\n",
    "# Ajout d'un utilisateur dans la liste d'un rôle\n",
    "admin.users.append(user)\n",
    "\n",
    "print(user.pseudo)\n",
    "\n",
    "session.add(admin)\n",
    "session.commit()"
   ]
  },
  {
   "cell_type": "code",
   "execution_count": 26,
   "metadata": {
    "collapsed": false
   },
   "outputs": [
    {
     "name": "stdout",
     "output_type": "stream",
     "text": [
      "['admin']\n",
      "['ijt', 'rde', 'upc', 'nym']\n"
     ]
    }
   ],
   "source": [
    "# La relation a été enregistrée dans la base, via la table intermédiaire\n",
    "check = session.query(User).filter(User.pseudo == user.pseudo).one()\n",
    "print([role.name for role in check.roles])\n",
    "\n",
    "admin = session.query(Role).filter(Role.name == \"admin\").one()\n",
    "print([user.pseudo for user in admin.users])"
   ]
  },
  {
   "cell_type": "code",
   "execution_count": 27,
   "metadata": {
    "collapsed": true
   },
   "outputs": [],
   "source": [
    "# Suppression de l'utilisateur parmi les admin\n",
    "admin.users.remove(check)\n",
    "session.add(admin)\n",
    "session.commit()"
   ]
  },
  {
   "cell_type": "code",
   "execution_count": 28,
   "metadata": {
    "collapsed": false
   },
   "outputs": [
    {
     "name": "stdout",
     "output_type": "stream",
     "text": [
      "['ijt', 'rde', 'upc']\n"
     ]
    }
   ],
   "source": [
    "admin = session.query(Role).filter(Role.name == \"admin\").one()\n",
    "print([user.pseudo for user in admin.users])"
   ]
  },
  {
   "cell_type": "code",
   "execution_count": null,
   "metadata": {
    "collapsed": true
   },
   "outputs": [],
   "source": []
  }
 ],
 "metadata": {
  "kernelspec": {
   "display_name": "Python 3",
   "language": "python",
   "name": "python3"
  },
  "language_info": {
   "codemirror_mode": {
    "name": "ipython",
    "version": 3
   },
   "file_extension": ".py",
   "mimetype": "text/x-python",
   "name": "python",
   "nbconvert_exporter": "python",
   "pygments_lexer": "ipython3",
   "version": "3.6.6"
  }
 },
 "nbformat": 4,
 "nbformat_minor": 2
}
