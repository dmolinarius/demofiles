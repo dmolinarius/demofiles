{
 "cells": [
  {
   "cell_type": "markdown",
   "metadata": {},
   "source": [
    "## 3.2 Implémentation des relations 1:n\n",
    "\n",
    "### Exemple sous SQLAlchemy"
   ]
  },
  {
   "cell_type": "code",
   "execution_count": 1,
   "metadata": {
    "collapsed": true
   },
   "outputs": [],
   "source": [
    "from sqlalchemy import Column,  ForeignKey, Integer, String\n",
    "from sqlalchemy.ext.declarative import declarative_base\n",
    "from sqlalchemy import create_engine\n",
    "from sqlalchemy.orm import sessionmaker,  relationship\n",
    "\n",
    "# Moteur d'accès à la base sqlalchemy.sqlite\n",
    "engine = create_engine('sqlite:///sqlalchemy.sqlite')"
   ]
  },
  {
   "cell_type": "markdown",
   "metadata": {},
   "source": [
    "<img src=\"../Relation_1_n.png\">"
   ]
  },
  {
   "cell_type": "markdown",
   "metadata": {},
   "source": [
    "<p id=\"declarations\" style=\"font-size:120%\">Déclaration des classes métier :</p>"
   ]
  },
  {
   "cell_type": "code",
   "execution_count": 2,
   "metadata": {
    "collapsed": true
   },
   "outputs": [],
   "source": [
    "# Classe de base\n",
    "Base = declarative_base()\n",
    "Base.metadata.bind = engine\n",
    "\n",
    "# Définition des classes\n",
    "class User(Base):\n",
    "    __tablename__ = 'user'\n",
    "\n",
    "    id = Column(Integer, primary_key=True)\n",
    "    pseudo = Column(String(16), nullable=False)\n",
    "    email = Column(String(255), nullable=False)\n",
    "    pwd = Column(String(32), nullable=False)\n",
    "    \n",
    "    office_id = Column(Integer,ForeignKey(\"office.id\"))\n",
    "    office = relationship(\"Office\", uselist=False, back_populates=\"user\")\n",
    "    \n",
    "    address_id = Column(Integer,ForeignKey(\"address.id\"))\n",
    "    address = relationship(\"Address\", uselist=False)\n",
    "\n",
    "class Office(Base):\n",
    "    __tablename__ = 'office'\n",
    "    \n",
    "    id = Column(Integer, primary_key=True)\n",
    "    building = Column(String(32),nullable=False)\n",
    "    floor = Column(Integer,nullable=False)\n",
    "    room_id = Column(String(32),nullable=False)\n",
    "    \n",
    "    user=relationship(\"User\", uselist=False, back_populates=\"office\")\n",
    "    \n",
    "class Address(Base):\n",
    "    __tablename__ = 'address'\n",
    "    \n",
    "    id = Column(Integer, primary_key=True)\n",
    "    detail = Column(String(255),nullable=False)\n",
    "    street_name = Column(String(255),nullable=False)\n",
    "    number = Column(Integer,nullable=False)\n",
    "    city = Column(String(255),nullable=False)\n",
    "    zipcode = Column(Integer,nullable=False)"
   ]
  },
  {
   "cell_type": "markdown",
   "metadata": {},
   "source": [
    "<p id=\"usage\" style=\"font-size:120%\">Usage :</p>"
   ]
  },
  {
   "cell_type": "code",
   "execution_count": 3,
   "metadata": {
    "collapsed": false
   },
   "outputs": [
    {
     "name": "stdout",
     "output_type": "stream",
     "text": [
      "rde <__main__.Address object at 0x000002AA48054080>\n"
     ]
    }
   ],
   "source": [
    "# Session\n",
    "DBSession = sessionmaker(bind=engine)\n",
    "session = DBSession()\n",
    "\n",
    "# Récupération d'un utilisateur\n",
    "user = session.query(User).filter(User.pseudo == 'rde').one()\n",
    "print(user.pseudo, user.address)"
   ]
  },
  {
   "cell_type": "code",
   "execution_count": 4,
   "metadata": {
    "collapsed": true
   },
   "outputs": [],
   "source": [
    "# Création d'une adresse\n",
    "address = session.query(Address).filter(Address.detail==\"Résidence Paul Comparat\").first()\n",
    "if address == None:\n",
    "    address = Address(\n",
    "        detail=\"Résidence Paul Comparat\",\n",
    "        street_name=\"Chemin des Mouilles\",\n",
    "        number=51,\n",
    "        city=\"Ecully\",\n",
    "        zipcode=\"69130\")\n",
    "\n",
    "# Affectation de cette adresse à l'utilisateur\n",
    "user.address = address\n",
    "\n",
    "session.add(user)\n",
    "session.commit()"
   ]
  },
  {
   "cell_type": "code",
   "execution_count": 8,
   "metadata": {
    "collapsed": false
   },
   "outputs": [
    {
     "name": "stdout",
     "output_type": "stream",
     "text": [
      "rde Raymond.Deubaze@gmail.com Résidence Paul Comparat\n",
      "jbt jean.bonnot@ec-lyon.fr Résidence Paul Comparat\n"
     ]
    }
   ],
   "source": [
    "users = session.query(User).\\\n",
    "    join(Address).\\\n",
    "    filter(Address.detail == 'Résidence Paul Comparat').\\\n",
    "    all()\n",
    "    \n",
    "for user in users:\n",
    "    print(user.pseudo, user.email, user.address.detail)"
   ]
  },
  {
   "cell_type": "code",
   "execution_count": null,
   "metadata": {
    "collapsed": true
   },
   "outputs": [],
   "source": []
  }
 ],
 "metadata": {
  "kernelspec": {
   "display_name": "Python 3",
   "language": "python",
   "name": "python3"
  },
  "language_info": {
   "codemirror_mode": {
    "name": "ipython",
    "version": 3
   },
   "file_extension": ".py",
   "mimetype": "text/x-python",
   "name": "python",
   "nbconvert_exporter": "python",
   "pygments_lexer": "ipython3",
   "version": "3.6.6"
  }
 },
 "nbformat": 4,
 "nbformat_minor": 2
}
