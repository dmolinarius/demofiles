{
 "cells": [
  {
   "cell_type": "markdown",
   "metadata": {},
   "source": [
    "### Exemple de base clés-valeurs : DBM\n",
    "\n",
    "\n",
    "<div id=\"usage\" style=\"font-size:120%; margin-top:1.33em\">\n",
    "Utilisation du module dbm\n",
    "</div>"
   ]
  },
  {
   "cell_type": "code",
   "execution_count": 1,
   "metadata": {
    "collapsed": false
   },
   "outputs": [
    {
     "name": "stdout",
     "output_type": "stream",
     "text": [
      "dbm.dumb\n"
     ]
    }
   ],
   "source": [
    "import dbm\n",
    "\n",
    "db = dbm.open('dbm/test_dbm.db', flag='c')\n",
    "\n",
    "print(dbm.whichdb('dbm/test_dbm.db'))"
   ]
  },
  {
   "cell_type": "markdown",
   "metadata": {},
   "source": [
    "<div id=\"read\" style=\"font-size:120%\">\n",
    "Tentative d'accès à la valeur d'une clé\n",
    "</div>"
   ]
  },
  {
   "cell_type": "code",
   "execution_count": 7,
   "metadata": {
    "collapsed": false
   },
   "outputs": [
    {
     "name": "stdout",
     "output_type": "stream",
     "text": [
      "never\n"
     ]
    }
   ],
   "source": [
    "try:\n",
    "    last_used = db['last_used'].decode('utf-8')\n",
    "except KeyError:\n",
    "    last_used = 'never'\n",
    "    \n",
    "print(last_used)"
   ]
  },
  {
   "cell_type": "markdown",
   "metadata": {},
   "source": [
    "<div id=\"update\" style=\"font-size:120%\">\n",
    "Modification de la valeur d'une clé\n",
    "</div>"
   ]
  },
  {
   "cell_type": "code",
   "execution_count": 3,
   "metadata": {
    "collapsed": false
   },
   "outputs": [
    {
     "name": "stdout",
     "output_type": "stream",
     "text": [
      "2022-11-21 11:25:15.197452\n"
     ]
    }
   ],
   "source": [
    "from datetime import datetime\n",
    "now = datetime.now()\n",
    "print(now)\n",
    "\n",
    "db['last_used'] = str(now)"
   ]
  },
  {
   "cell_type": "markdown",
   "metadata": {},
   "source": [
    "<div id=\"binary_string\" style=\"font-size:120%\">\n",
    "Les valeurs enregistrées, aussi bien que la clé elle-même, sont stockées sous la forme d'une chaîne binaire.\n",
    "</div>"
   ]
  },
  {
   "cell_type": "code",
   "execution_count": 5,
   "metadata": {
    "collapsed": false
   },
   "outputs": [
    {
     "name": "stdout",
     "output_type": "stream",
     "text": [
      "b'2022-11-21 11:25:15.197452'\n",
      "2022-11-21 11:25:15.197452\n"
     ]
    }
   ],
   "source": [
    "print(db[b'last_used'])\n",
    "last_used = db['last_used'].decode('utf-8')\n",
    "print(last_used)"
   ]
  },
  {
   "cell_type": "code",
   "execution_count": 5,
   "metadata": {
    "collapsed": false
   },
   "outputs": [
    {
     "name": "stdout",
     "output_type": "stream",
     "text": [
      "jeudi 17 novembre 2022, 18:26:22\n"
     ]
    }
   ],
   "source": [
    "import locale\n",
    "locale.setlocale(locale.LC_TIME, \"fr_FR\")\n",
    "\n",
    "# transformation de la chaîne en objet date\n",
    "dt = datetime.strptime(last_used, \"%Y-%m-%d %H:%M:%S.%f\")\n",
    "\n",
    "# on peut s'en servir comme d'une date...\n",
    "dt_string = dt.strftime(\"%A %d %B %Y, %H:%M:%S\")\n",
    "print(dt_string)"
   ]
  },
  {
   "cell_type": "markdown",
   "metadata": {},
   "source": [
    "<div id=\"delete\" style=\"font-size:120%\">\n",
    "Suppression d'une valeur dans la base\n",
    "</div>"
   ]
  },
  {
   "cell_type": "code",
   "execution_count": 6,
   "metadata": {
    "collapsed": true
   },
   "outputs": [],
   "source": [
    "del db[b'last_used']"
   ]
  },
  {
   "cell_type": "markdown",
   "metadata": {},
   "source": [
    "<div id=\"sync\" style=\"font-size:120%\">\n",
    "Synchronisation des fichiers\n",
    "</div>"
   ]
  },
  {
   "cell_type": "code",
   "execution_count": 7,
   "metadata": {
    "collapsed": true
   },
   "outputs": [],
   "source": [
    "db.sync()"
   ]
  },
  {
   "cell_type": "markdown",
   "metadata": {},
   "source": [
    "<div id=\"close\" style=\"font-size:120%\">\n",
    "Clôture de la connexion\n",
    "</div>"
   ]
  },
  {
   "cell_type": "code",
   "execution_count": 8,
   "metadata": {
    "collapsed": false
   },
   "outputs": [],
   "source": [
    "db.close()"
   ]
  },
  {
   "cell_type": "code",
   "execution_count": null,
   "metadata": {
    "collapsed": true
   },
   "outputs": [],
   "source": []
  }
 ],
 "metadata": {
  "kernelspec": {
   "display_name": "Python 3",
   "language": "python",
   "name": "python3"
  },
  "language_info": {
   "codemirror_mode": {
    "name": "ipython",
    "version": 3
   },
   "file_extension": ".py",
   "mimetype": "text/x-python",
   "name": "python",
   "nbconvert_exporter": "python",
   "pygments_lexer": "ipython3",
   "version": "3.6.6"
  }
 },
 "nbformat": 4,
 "nbformat_minor": 2
}
