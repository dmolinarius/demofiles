{
 "cells": [
  {
   "cell_type": "markdown",
   "metadata": {},
   "source": [
    "<div style=\"color:#800\">Attention le rendu de ce notebook sur Github est buggé : les balises XML sont interprétées au lieu d'être représentées. Le fichier .ipynb sur le dépôt Github est donc uniquement destiné à être téléchargé, pas visualisé sur place. Pour une version HTML, utiliser l'adresse :\n",
    "http://dmolinarius.github.io/demofiles/mod-32/07_NoSQL/04_PostgreSQL_XML.html\n",
    "</div>"
   ]
  },
  {
   "cell_type": "markdown",
   "metadata": {},
   "source": [
    "## PostgreSQL et XML"
   ]
  },
  {
   "cell_type": "code",
   "execution_count": 1,
   "metadata": {
    "collapsed": true
   },
   "outputs": [],
   "source": [
    "import psycopg2\n",
    "import psycopg2.extras\n",
    "\n",
    "conn = psycopg2.connect(\n",
    "    host=\"localhost\",\n",
    "    database=\"demo\",\n",
    "    user=\"demo_owner\",\n",
    "    password=\"OODBMS\")\n",
    "\n",
    "# query result as dict\n",
    "c = conn.cursor(cursor_factory=psycopg2.extras.DictCursor)"
   ]
  },
  {
   "cell_type": "markdown",
   "metadata": {},
   "source": [
    "<h3 id=\"data-table-from-XML\">Alimentation d'une table à partir d'un document XML</h3>"
   ]
  },
  {
   "cell_type": "markdown",
   "metadata": {},
   "source": [
    "<div style=\"font-size;120%\">\n",
    "Document XML  source\n",
    "</div>"
   ]
  },
  {
   "cell_type": "code",
   "execution_count": 2,
   "metadata": {
    "collapsed": true
   },
   "outputs": [],
   "source": [
    "document = '''<?xml version=\"1.0\" ?>\n",
    "<people>\n",
    " <person>\n",
    "   <first_name>Raymond</first_name>\n",
    "   <last_name>Deubaze</last_name>\n",
    "   <email>raymond.deubaze@ec-lyon.fr</email>\n",
    " </person>\n",
    " <person>\n",
    "   <first_name>Jean</first_name>\n",
    "   <last_name>Peuplu</last_name>\n",
    "   <email>jpu@gmail.com</email>\n",
    " </person>\n",
    " <person>\n",
    "   <first_name>Alex</first_name>\n",
    "   <last_name>Terrieur</last_name>\n",
    "   <email>atr1@gmail.com</email>\n",
    " </person>\n",
    " <person>\n",
    "   <first_name>Alain</first_name>\n",
    "   <last_name>Terrieur</last_name>\n",
    "   <email>atr2@gmail.com</email>\n",
    " </person>\n",
    "  <person>\n",
    "   <first_name>Anna</first_name>\n",
    "   <last_name>Conda</last_name>\n",
    "   <email>Anna.Conda@ec-lyon.fr</email>\n",
    " </person>\n",
    " <person>\n",
    "   <first_name>Ginette</first_name>\n",
    "   <last_name>Ringard</last_name>\n",
    "   <email>ginette@wanadoo.fr</email>\n",
    " </person>\n",
    "</people>'''"
   ]
  },
  {
   "cell_type": "markdown",
   "metadata": {},
   "source": [
    "<p style=\"font-size:120%\">\n",
    "Création de la table destination\n",
    "</p>"
   ]
  },
  {
   "cell_type": "code",
   "execution_count": 3,
   "metadata": {
    "collapsed": true
   },
   "outputs": [],
   "source": [
    "c.execute('DROP TABLE IF EXISTS people')\n",
    "\n",
    "sql = '''CREATE TABLE people (\n",
    "  id         SERIAL PRIMARY KEY,\n",
    "  first_name TEXT,\n",
    "  last_name  TEXT,\n",
    "  email      TEXT,\n",
    "  centralien BOOLEAN\n",
    ");'''\n",
    "c.execute(sql)\n",
    "\n",
    "conn.commit()"
   ]
  },
  {
   "cell_type": "markdown",
   "metadata": {},
   "source": [
    "<div style=\"font-size:120%\">\n",
    "Syntaxe pour la création d'une donnée du type XML\n",
    "</div>"
   ]
  },
  {
   "cell_type": "code",
   "execution_count": 4,
   "metadata": {
    "collapsed": false
   },
   "outputs": [
    {
     "name": "stdout",
     "output_type": "stream",
     "text": [
      "['<people>\\n <person>\\n   <first_name>Raymond</first_name>\\n   <last_name>Deubaze</last_name>\\n   <email>raymond.deubaze@ec-lyon.fr</email>\\n </person>\\n <person>\\n   <first_name>Jean</first_name>\\n   <last_name>Peuplu</last_name>\\n   <email>jpu@gmail.com</email>\\n </person>\\n <person>\\n   <first_name>Alex</first_name>\\n   <last_name>Terrieur</last_name>\\n   <email>atr1@gmail.com</email>\\n </person>\\n <person>\\n   <first_name>Alain</first_name>\\n   <last_name>Terrieur</last_name>\\n   <email>atr2@gmail.com</email>\\n </person>\\n  <person>\\n   <first_name>Anna</first_name>\\n   <last_name>Conda</last_name>\\n   <email>Anna.Conda@ec-lyon.fr</email>\\n </person>\\n <person>\\n   <first_name>Ginette</first_name>\\n   <last_name>Ringard</last_name>\\n   <email>ginette@wanadoo.fr</email>\\n </person>\\n</people>']\n"
     ]
    }
   ],
   "source": [
    "sql = '''SELECT XMLPARSE( DOCUMENT %s ) AS data'''\n",
    "c.execute(sql, (document,))\n",
    "print(c.fetchone())"
   ]
  },
  {
   "cell_type": "markdown",
   "metadata": {},
   "source": [
    "<div style=\"font-size:120%;margin-bottom:0.66em\">\n",
    "Création d'une table à partir d'une donnée XML<br>\n",
    "Noter la présence d'expressions XPath\n",
    "</div>\n",
    "https://www.postgresql.org/docs/current/functions-xml.html#FUNCTIONS-XML-PROCESSING-XMLTABLE"
   ]
  },
  {
   "cell_type": "code",
   "execution_count": 5,
   "metadata": {
    "collapsed": false
   },
   "outputs": [
    {
     "name": "stdout",
     "output_type": "stream",
     "text": [
      "[[1, 'Raymond', 'Deubaze', 'raymond.deubaze@ec-lyon.fr', True], [2, 'Jean', 'Peuplu', 'jpu@gmail.com', False], [3, 'Alex', 'Terrieur', 'atr1@gmail.com', False], [4, 'Alain', 'Terrieur', 'atr2@gmail.com', False], [5, 'Anna', 'Conda', 'Anna.Conda@ec-lyon.fr', True], [6, 'Ginette', 'Ringard', 'ginette@wanadoo.fr', False]]\n"
     ]
    }
   ],
   "source": [
    "sql = '''\n",
    "SELECT xmltable.* FROM\n",
    "  (SELECT xml %s AS data) AS data,\n",
    "  XMLTABLE( '//people/person'\n",
    "    PASSING data\n",
    "    COLUMNS\n",
    "      id FOR ORDINALITY,\n",
    "        \"first_name\" TEXT,\n",
    "        \"last_name\" TEXT,\n",
    "        \"email\" TEXT,\n",
    "        centralien BOOLEAN PATH 'contains(email,\"ec-lyon\")'\n",
    "  );'''\n",
    "c.execute(sql, (document,))\n",
    "\n",
    "print(c.fetchall())"
   ]
  },
  {
   "cell_type": "markdown",
   "metadata": {},
   "source": [
    "<div id=\"feed-table\" style=\"font-size:120%\">\n",
    "Alimentation de la table people à partir des informations du document XML :\n",
    "</div>"
   ]
  },
  {
   "cell_type": "code",
   "execution_count": 6,
   "metadata": {
    "collapsed": false
   },
   "outputs": [],
   "source": [
    "sql = '''\n",
    "INSERT INTO people (id, first_name, last_name, email, centralien) \n",
    "  SELECT xmltable.* FROM\n",
    "    (SELECT xml %s AS data) AS data,\n",
    "    XMLTABLE( '//people/person'\n",
    "      PASSING data\n",
    "      COLUMNS\n",
    "        id FOR ORDINALITY,\n",
    "        \"first_name\" TEXT,\n",
    "        \"last_name\" TEXT,\n",
    "        \"email\" TEXT,\n",
    "        centralien BOOLEAN PATH 'contains(email,\"ec-lyon\")'\n",
    "    )\n",
    ";\n",
    "'''\n",
    "c.execute(sql, (document,))\n",
    "conn.commit()"
   ]
  },
  {
   "cell_type": "code",
   "execution_count": 7,
   "metadata": {
    "collapsed": false
   },
   "outputs": [
    {
     "name": "stdout",
     "output_type": "stream",
     "text": [
      "[1] Raymond Deubaze  raymond.deubaze@ec-lyon.fr True\n",
      "[2] Jean    Peuplu   jpu@gmail.com              False\n",
      "[3] Alex    Terrieur atr1@gmail.com             False\n",
      "[4] Alain   Terrieur atr2@gmail.com             False\n",
      "[5] Anna    Conda    Anna.Conda@ec-lyon.fr      True\n",
      "[6] Ginette Ringard  ginette@wanadoo.fr         False\n"
     ]
    }
   ],
   "source": [
    "c.execute('SELECT * FROM people')\n",
    "for p in c.fetchall():\n",
    "    print('[{}] {:<7} {:<8} {:<26} {}'.format(*p))"
   ]
  },
  {
   "cell_type": "markdown",
   "metadata": {},
   "source": [
    "<div id=\"XML-data-from-XML\"></div>\n",
    "<h3>Alimentation d'une table avec des données XML à partir d'un document XML</h3>"
   ]
  },
  {
   "cell_type": "code",
   "execution_count": 8,
   "metadata": {
    "collapsed": false
   },
   "outputs": [],
   "source": [
    "c.execute('DROP TABLE IF EXISTS xml_people')\n",
    "\n",
    "sql = '''CREATE TABLE xml_people (\n",
    "  id         SERIAL PRIMARY KEY,\n",
    "  data       XML,\n",
    "  centralien BOOLEAN\n",
    ");'''\n",
    "c.execute(sql)\n",
    "\n",
    "conn.commit()"
   ]
  },
  {
   "cell_type": "markdown",
   "metadata": {},
   "source": [
    "<div id=\"feed-XML-table\" style=\"font-size:120%\">\n",
    "Alimentation de la table\n",
    "</div>"
   ]
  },
  {
   "cell_type": "code",
   "execution_count": 9,
   "metadata": {
    "collapsed": false
   },
   "outputs": [],
   "source": [
    "sql = '''\n",
    "INSERT INTO xml_people (data, centralien) \n",
    "  SELECT xmltable.* FROM\n",
    "    (SELECT xml %s AS data) AS data,\n",
    "    XMLTABLE( '//people/person'\n",
    "      PASSING data\n",
    "      COLUMNS\n",
    "        data XML PATH '.',\n",
    "        centralien BOOLEAN PATH 'contains(email,\"ec-lyon\")'\n",
    "    )\n",
    ";\n",
    "'''\n",
    "c.execute(sql, (document,))\n",
    "conn.commit()"
   ]
  },
  {
   "cell_type": "code",
   "execution_count": 10,
   "metadata": {
    "collapsed": false
   },
   "outputs": [
    {
     "name": "stdout",
     "output_type": "stream",
     "text": [
      "[1] True  <person><first_name>Raymond</first_name><last_name>Deubaze</last_name><email>raymond.deubaze@ec-lyon.fr</email></person>\n",
      "[2] False <person><first_name>Jean</first_name><last_name>Peuplu</last_name><email>jpu@gmail.com</email></person>\n",
      "[3] False <person><first_name>Alex</first_name><last_name>Terrieur</last_name><email>atr1@gmail.com</email></person>\n",
      "[4] False <person><first_name>Alain</first_name><last_name>Terrieur</last_name><email>atr2@gmail.com</email></person>\n",
      "[5] True  <person><first_name>Anna</first_name><last_name>Conda</last_name><email>Anna.Conda@ec-lyon.fr</email></person>\n",
      "[6] False <person><first_name>Ginette</first_name><last_name>Ringard</last_name><email>ginette@wanadoo.fr</email></person>\n"
     ]
    }
   ],
   "source": [
    "import re\n",
    "\n",
    "c.execute('SELECT * FROM xml_people')\n",
    "for p in c.fetchall():\n",
    "    print('[{}] {:<5} {}'.format(p['id'],str(p['centralien']),re.sub(r'[\\n ]+','',p['data'])))"
   ]
  },
  {
   "cell_type": "markdown",
   "metadata": {},
   "source": [
    "<div id=\"insert-XML\" style=\"font-size:120%\">\n",
    "Insertion d'un champ de contenu XML\n",
    "</div>"
   ]
  },
  {
   "cell_type": "code",
   "execution_count": 11,
   "metadata": {
    "collapsed": false
   },
   "outputs": [],
   "source": [
    "sql = 'INSERT INTO xml_people (data) VALUES (XMLPARSE( CONTENT %s ))'\n",
    "args = ('<person><first_name>Ella</first_name><last_name>Ducran</last_name><email>edn@gmail.com</email></person>',)\n",
    "c.execute(sql,args)\n",
    "conn.commit()"
   ]
  },
  {
   "cell_type": "markdown",
   "metadata": {},
   "source": [
    "<div id=\"XML-Xpath-request\"></div>\n",
    "<h3>Sélection d'un champ XML</h3>"
   ]
  },
  {
   "cell_type": "markdown",
   "metadata": {},
   "source": [
    "<div style=\"font-size:120%\">\n",
    "Pour SQL le résultat d'une requête XPath est une séquence d'éléments ou de valeurs atomiques du type XML[]\n",
    "</div>"
   ]
  },
  {
   "cell_type": "code",
   "execution_count": 12,
   "metadata": {
    "collapsed": false
   },
   "outputs": [
    {
     "name": "stdout",
     "output_type": "stream",
     "text": [
      "['{<email>raymond.deubaze@ec-lyon.fr</email>}', True]\n",
      "['{<email>jpu@gmail.com</email>}', False]\n",
      "['{<email>atr1@gmail.com</email>}', False]\n",
      "['{<email>atr2@gmail.com</email>}', False]\n",
      "['{<email>Anna.Conda@ec-lyon.fr</email>}', True]\n",
      "['{<email>ginette@wanadoo.fr</email>}', False]\n",
      "['{<email>edn@gmail.com</email>}', None]\n"
     ]
    }
   ],
   "source": [
    "c.execute('''SELECT XPATH( '//email' , data), centralien FROM xml_people''')\n",
    "for r in c.fetchall():\n",
    "    print(r)"
   ]
  },
  {
   "cell_type": "markdown",
   "metadata": {},
   "source": [
    "<div id=\"XMLSERIALIZE\" style=\"font-size:120%\">\n",
    "Pour obtenir du texte, il faut éventuellement prendre le premier élément de la séquence et le convertir via XMLSERIALIZE :\n",
    "</div>"
   ]
  },
  {
   "cell_type": "code",
   "execution_count": 13,
   "metadata": {
    "collapsed": false
   },
   "outputs": [
    {
     "name": "stdout",
     "output_type": "stream",
     "text": [
      "['raymond.deubaze@ec-lyon.fr', True]\n",
      "['jpu@gmail.com', False]\n",
      "['atr1@gmail.com', False]\n",
      "['atr2@gmail.com', False]\n",
      "['Anna.Conda@ec-lyon.fr', True]\n",
      "['ginette@wanadoo.fr', False]\n",
      "['edn@gmail.com', None]\n"
     ]
    }
   ],
   "source": [
    "c.execute('''SELECT\n",
    "  XMLSERIALIZE( CONTENT (XPATH( '//email/text()' , data))[1] AS TEXT),\n",
    "  centralien FROM xml_people\n",
    "''')\n",
    "for r in c.fetchall():\n",
    "    print(r)"
   ]
  },
  {
   "cell_type": "markdown",
   "metadata": {},
   "source": [
    "<div style=\"font-size:120%\">\n",
    "Même lorsque XPath renvoie un nombre ou un booléen, pour SQL le résultat est une séquence du type XML[] :\n",
    "</div>"
   ]
  },
  {
   "cell_type": "code",
   "execution_count": 14,
   "metadata": {
    "collapsed": false
   },
   "outputs": [
    {
     "name": "stdout",
     "output_type": "stream",
     "text": [
      "['{false}']\n",
      "['{false}']\n",
      "['{false}']\n",
      "['{false}']\n",
      "['{false}']\n",
      "['{false}']\n",
      "['{true}']\n"
     ]
    }
   ],
   "source": [
    "c.execute('''SELECT XPATH('//first_name=\"Ella\"', data) FROM xml_people''')\n",
    "for r in c.fetchall():\n",
    "    print(r)"
   ]
  },
  {
   "cell_type": "markdown",
   "metadata": {},
   "source": [
    "<div id=\"convert-boolean\" style=\"font-size:120%\">\n",
    "Pour obtenir un nombre ou un booléen, il faut d'abord convertir le résultat en texte, puis vers le type désiré :\n",
    "</div>"
   ]
  },
  {
   "cell_type": "code",
   "execution_count": 15,
   "metadata": {
    "collapsed": false
   },
   "outputs": [
    {
     "name": "stdout",
     "output_type": "stream",
     "text": [
      "[False]\n",
      "[False]\n",
      "[False]\n",
      "[False]\n",
      "[False]\n",
      "[False]\n",
      "[True]\n"
     ]
    }
   ],
   "source": [
    "c.execute('''SELECT XMLSERIALIZE(CONTENT (XPATH('//first_name=\"Ella\"', data))[1] AS TEXT)::BOOLEAN FROM xml_people''')\n",
    "for r in c.fetchall():\n",
    "    print(r)"
   ]
  },
  {
   "cell_type": "markdown",
   "metadata": {},
   "source": [
    "<div id=\"where-XML-boolean\" style=\"font-size:120%\">\n",
    "Ce qui permet de l'exploiter dans une directive WHERE :\n",
    "</div>"
   ]
  },
  {
   "cell_type": "code",
   "execution_count": 16,
   "metadata": {
    "collapsed": false
   },
   "outputs": [
    {
     "name": "stdout",
     "output_type": "stream",
     "text": [
      "[7, '<person><first_name>Ella</first_name><last_name>Ducran</last_name><email>edn@gmail.com</email></person>', None]\n"
     ]
    }
   ],
   "source": [
    "c.execute('''\n",
    "SELECT * FROM xml_people WHERE\n",
    "  XMLSERIALIZE (\n",
    "    CONTENT\n",
    "      (\n",
    "        XPATH('//first_name=\"Ella\"', data)\n",
    "      )[1]\n",
    "    AS TEXT\n",
    "  )::BOOLEAN = true\n",
    ";\n",
    "''')\n",
    "for r in c.fetchall():\n",
    "    print(r)"
   ]
  },
  {
   "cell_type": "code",
   "execution_count": 17,
   "metadata": {
    "collapsed": false
   },
   "outputs": [],
   "source": [
    "c.execute('''\n",
    "UPDATE xml_people SET centralien=False WHERE\n",
    "  XMLSERIALIZE (\n",
    "    CONTENT\n",
    "      (\n",
    "        XPATH('//first_name=\"Ella\"', data)\n",
    "      )[1]\n",
    "    AS TEXT\n",
    "  )::BOOLEAN = true\n",
    ";\n",
    "''')\n",
    "conn.commit()"
   ]
  },
  {
   "cell_type": "code",
   "execution_count": 18,
   "metadata": {
    "collapsed": false
   },
   "outputs": [
    {
     "name": "stdout",
     "output_type": "stream",
     "text": [
      "['Raymond', 'Deubaze', 'raymond.deubaze@ec-lyon.fr', True]\n",
      "['Jean', 'Peuplu', 'jpu@gmail.com', False]\n",
      "['Alex', 'Terrieur', 'atr1@gmail.com', False]\n",
      "['Alain', 'Terrieur', 'atr2@gmail.com', False]\n",
      "['Anna', 'Conda', 'Anna.Conda@ec-lyon.fr', True]\n",
      "['Ginette', 'Ringard', 'ginette@wanadoo.fr', False]\n",
      "['Ella', 'Ducran', 'edn@gmail.com', False]\n"
     ]
    }
   ],
   "source": [
    "c.execute('''SELECT\n",
    "  XMLSERIALIZE( CONTENT (XPATH( '//first_name/text()' , data))[1] AS TEXT),\n",
    "  XMLSERIALIZE( CONTENT (XPATH( '//last_name/text()' , data))[1] AS TEXT),\n",
    "  XMLSERIALIZE( CONTENT (XPATH( '//email/text()' , data))[1] AS TEXT),\n",
    "  centralien FROM xml_people\n",
    "''')\n",
    "for r in c.fetchall():\n",
    "    print(r)"
   ]
  },
  {
   "cell_type": "markdown",
   "metadata": {},
   "source": [
    "<div id=\"generate-XML\"></div>\n",
    "<h3 style=\"margin-bottom:1em\">Génération de contenu XML</h3>\n",
    "<div style=\"font-size:120%\">\n",
    "Génération d'une série d'éléments à partir d'une ligne de table\n",
    "</div>"
   ]
  },
  {
   "cell_type": "code",
   "execution_count": 19,
   "metadata": {
    "collapsed": false
   },
   "outputs": [
    {
     "name": "stdout",
     "output_type": "stream",
     "text": [
      "<first_name>Raymond</first_name><last_name>Deubaze</last_name><email>raymond.deubaze@ec-lyon.fr</email>\n",
      "<first_name>Jean</first_name><last_name>Peuplu</last_name><email>jpu@gmail.com</email>\n",
      "<first_name>Alex</first_name><last_name>Terrieur</last_name><email>atr1@gmail.com</email>\n",
      "<first_name>Alain</first_name><last_name>Terrieur</last_name><email>atr2@gmail.com</email>\n",
      "<first_name>Anna</first_name><last_name>Conda</last_name><email>Anna.Conda@ec-lyon.fr</email>\n",
      "<first_name>Ginette</first_name><last_name>Ringard</last_name><email>ginette@wanadoo.fr</email>\n"
     ]
    }
   ],
   "source": [
    "c.execute('SELECT XMLFOREST(first_name, last_name, email) FROM people')\n",
    "for r in c.fetchall():\n",
    "    print(r[0])"
   ]
  },
  {
   "cell_type": "markdown",
   "metadata": {},
   "source": [
    "<div style=\"font-size:120%\">\n",
    "Encapsulation de chaque ligne dans un élément avec attributs\n",
    "</div>"
   ]
  },
  {
   "cell_type": "code",
   "execution_count": 20,
   "metadata": {
    "collapsed": false
   },
   "outputs": [
    {
     "name": "stdout",
     "output_type": "stream",
     "text": [
      "<person ecl=\"true\"><first_name>Raymond</first_name><last_name>Deubaze</last_name><email>raymond.deubaze@ec-lyon.fr</email></person>\n",
      "<person ecl=\"false\"><first_name>Jean</first_name><last_name>Peuplu</last_name><email>jpu@gmail.com</email></person>\n",
      "<person ecl=\"false\"><first_name>Alex</first_name><last_name>Terrieur</last_name><email>atr1@gmail.com</email></person>\n",
      "<person ecl=\"false\"><first_name>Alain</first_name><last_name>Terrieur</last_name><email>atr2@gmail.com</email></person>\n",
      "<person ecl=\"true\"><first_name>Anna</first_name><last_name>Conda</last_name><email>Anna.Conda@ec-lyon.fr</email></person>\n",
      "<person ecl=\"false\"><first_name>Ginette</first_name><last_name>Ringard</last_name><email>ginette@wanadoo.fr</email></person>\n"
     ]
    }
   ],
   "source": [
    "sql = '''\n",
    "SELECT XMLELEMENT(\n",
    "  NAME person,\n",
    "  XMLATTRIBUTES(centralien AS ecl),\n",
    "  XMLFOREST(first_name, last_name, email)\n",
    ") FROM people\n",
    "'''\n",
    "c.execute(sql)\n",
    "for r in c.fetchall():\n",
    "    print(r[0])"
   ]
  },
  {
   "cell_type": "markdown",
   "metadata": {},
   "source": [
    "<div style=\"font-size:120%\">\n",
    "Aggrégation des lignes de la table\n",
    "</div>"
   ]
  },
  {
   "cell_type": "code",
   "execution_count": 21,
   "metadata": {
    "collapsed": false
   },
   "outputs": [
    {
     "name": "stdout",
     "output_type": "stream",
     "text": [
      "<person ecl=\"true\"><first_name>Raymond</first_name><last_name>Deubaze</last_name><email>raymond.deubaze@ec-lyon.fr</email></person><person ecl=\"false\"><first_name>Jean</first_name><last_name>Peuplu</last_name><email>jpu@gmail.com</email></person><person ecl=\"false\"><first_name>Alex</first_name><last_name>Terrieur</last_name><email>atr1@gmail.com</email></person><person ecl=\"false\"><first_name>Alain</first_name><last_name>Terrieur</last_name><email>atr2@gmail.com</email></person><person ecl=\"true\"><first_name>Anna</first_name><last_name>Conda</last_name><email>Anna.Conda@ec-lyon.fr</email></person><person ecl=\"false\"><first_name>Ginette</first_name><last_name>Ringard</last_name><email>ginette@wanadoo.fr</email></person>\n"
     ]
    }
   ],
   "source": [
    "sql = '''\n",
    "SELECT XMLAGG(\n",
    "  XMLELEMENT(\n",
    "    NAME person,\n",
    "    XMLATTRIBUTES(centralien AS ecl),\n",
    "    XMLFOREST(first_name, last_name, email)\n",
    "  )\n",
    ") FROM people\n",
    "'''\n",
    "c.execute(sql)\n",
    "for r in c.fetchall():\n",
    "    print(r[0])"
   ]
  },
  {
   "cell_type": "markdown",
   "metadata": {},
   "source": [
    "<div style=\"font-size:120%\">\n",
    "Encapsulation par l'élément racine\n",
    "</div>"
   ]
  },
  {
   "cell_type": "code",
   "execution_count": 22,
   "metadata": {
    "collapsed": false
   },
   "outputs": [
    {
     "name": "stdout",
     "output_type": "stream",
     "text": [
      "<people><person ecl=\"true\"><first_name>Raymond</first_name><last_name>Deubaze</last_name><email>raymond.deubaze@ec-lyon.fr</email></person><person ecl=\"false\"><first_name>Jean</first_name><last_name>Peuplu</last_name><email>jpu@gmail.com</email></person><person ecl=\"false\"><first_name>Alex</first_name><last_name>Terrieur</last_name><email>atr1@gmail.com</email></person><person ecl=\"false\"><first_name>Alain</first_name><last_name>Terrieur</last_name><email>atr2@gmail.com</email></person><person ecl=\"true\"><first_name>Anna</first_name><last_name>Conda</last_name><email>Anna.Conda@ec-lyon.fr</email></person><person ecl=\"false\"><first_name>Ginette</first_name><last_name>Ringard</last_name><email>ginette@wanadoo.fr</email></person></people>\n"
     ]
    }
   ],
   "source": [
    "sql = '''\n",
    "SELECT XMLELEMENT(\n",
    "  NAME people,\n",
    "  XMLAGG(\n",
    "    XMLELEMENT(\n",
    "      NAME person,\n",
    "      XMLATTRIBUTES(centralien AS ecl),\n",
    "      XMLFOREST(first_name, last_name, email)\n",
    "    )\n",
    "  )\n",
    ") FROM people\n",
    "'''\n",
    "c.execute(sql)\n",
    "for r in c.fetchall():\n",
    "    print(r[0])"
   ]
  },
  {
   "cell_type": "markdown",
   "metadata": {},
   "source": [
    "<div style=\"font-size:120%\">\n",
    "Ajout de la déclaration XML\n",
    "</div>"
   ]
  },
  {
   "cell_type": "code",
   "execution_count": 23,
   "metadata": {
    "collapsed": false
   },
   "outputs": [
    {
     "name": "stdout",
     "output_type": "stream",
     "text": [
      "<?xml version=\"1.0\" standalone=\"yes\"?><people><person ecl=\"true\"><first_name>Raymond</first_name><last_name>Deubaze</last_name><email>raymond.deubaze@ec-lyon.fr</email></person><person ecl=\"false\"><first_name>Jean</first_name><last_name>Peuplu</last_name><email>jpu@gmail.com</email></person><person ecl=\"false\"><first_name>Alex</first_name><last_name>Terrieur</last_name><email>atr1@gmail.com</email></person><person ecl=\"false\"><first_name>Alain</first_name><last_name>Terrieur</last_name><email>atr2@gmail.com</email></person><person ecl=\"true\"><first_name>Anna</first_name><last_name>Conda</last_name><email>Anna.Conda@ec-lyon.fr</email></person><person ecl=\"false\"><first_name>Ginette</first_name><last_name>Ringard</last_name><email>ginette@wanadoo.fr</email></person></people>\n"
     ]
    }
   ],
   "source": [
    "sql = '''\n",
    "SELECT XMLROOT(\n",
    "  XMLELEMENT(\n",
    "    NAME people,\n",
    "    XMLAGG(\n",
    "      XMLELEMENT(\n",
    "        NAME person,\n",
    "        XMLATTRIBUTES(centralien AS ecl),\n",
    "        XMLFOREST(first_name, last_name, email)\n",
    "      )\n",
    "    )\n",
    "  ),\n",
    "  VERSION '1.0',\n",
    "  STANDALONE yes\n",
    ") FROM people\n",
    "'''\n",
    "c.execute(sql)\n",
    "for r in c.fetchall():\n",
    "    print(r[0])"
   ]
  },
  {
   "cell_type": "code",
   "execution_count": null,
   "metadata": {
    "collapsed": true
   },
   "outputs": [],
   "source": []
  }
 ],
 "metadata": {
  "kernelspec": {
   "display_name": "Python 3",
   "language": "python",
   "name": "python3"
  },
  "language_info": {
   "codemirror_mode": {
    "name": "ipython",
    "version": 3
   },
   "file_extension": ".py",
   "mimetype": "text/x-python",
   "name": "python",
   "nbconvert_exporter": "python",
   "pygments_lexer": "ipython3",
   "version": "3.6.6"
  }
 },
 "nbformat": 4,
 "nbformat_minor": 2
}
