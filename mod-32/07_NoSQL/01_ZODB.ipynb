{
 "cells": [
  {
   "cell_type": "markdown",
   "metadata": {},
   "source": [
    "## Zope Object Database\n",
    "\n",
    "\n",
    "https://zodb.org/en/latest/\n",
    "\n",
    "### Mise en service\n",
    "\n",
    "<p id=\"install\" style=\"font-size:120%\">\n",
    "Installation\n",
    "</p>\n",
    "\n",
    "<pre style=\"background-color:#f0f0f0; border: 1px solid #ccc; margin:0; padding:0.5em; font-size:1em; margin-top:1.33em\">\n",
    "pip install ZODB\n",
    "</pre>"
   ]
  },
  {
   "cell_type": "markdown",
   "metadata": {},
   "source": [
    "<p id=\"usage\" style=\"font-size:120%\">\n",
    "Usage\n",
    "</p>"
   ]
  },
  {
   "cell_type": "code",
   "execution_count": 1,
   "metadata": {
    "collapsed": true
   },
   "outputs": [],
   "source": [
    "import ZODB"
   ]
  },
  {
   "cell_type": "markdown",
   "metadata": {},
   "source": [
    "<div style=\"font-size:120%\">\n",
    "Choix du mécanisme de stockage : ici un fichier sur disque.\n",
    "</div>"
   ]
  },
  {
   "cell_type": "code",
   "execution_count": 2,
   "metadata": {
    "collapsed": true
   },
   "outputs": [],
   "source": [
    "import ZODB.FileStorage, zc.lockfile"
   ]
  },
  {
   "cell_type": "code",
   "execution_count": 3,
   "metadata": {
    "collapsed": false
   },
   "outputs": [],
   "source": [
    "try:\n",
    "    storage = ZODB.FileStorage.FileStorage('zodb/zodb_demo.fs')\n",
    "except zc.lockfile.LockError:\n",
    "    print('lock error')"
   ]
  },
  {
   "cell_type": "markdown",
   "metadata": {},
   "source": [
    "<div style=\"font-size:120%\">\n",
    "On observe l'apparition d'un certain nombre de fichiers associés à la base de données :\n",
    "</div>\n",
    "<img src=\"zodb_demo.png\" style=\"margin-left:0\">"
   ]
  },
  {
   "cell_type": "markdown",
   "metadata": {},
   "source": [
    "### Connexion\n",
    "\n",
    "<p style=\"font-size:120%\">\n",
    "Instantiation du moteur de base de données :\n",
    "</p>"
   ]
  },
  {
   "cell_type": "code",
   "execution_count": 4,
   "metadata": {
    "collapsed": false
   },
   "outputs": [],
   "source": [
    "db = ZODB.DB(storage)"
   ]
  },
  {
   "cell_type": "markdown",
   "metadata": {},
   "source": [
    "<div style=\"font-size:120%\">\n",
    "Ouverture d'une connexion, et récupération de la racine de la base de données\n",
    "</div>"
   ]
  },
  {
   "cell_type": "code",
   "execution_count": 5,
   "metadata": {
    "collapsed": false
   },
   "outputs": [],
   "source": [
    "conn = db.open()\n",
    "root = conn.root()"
   ]
  },
  {
   "cell_type": "markdown",
   "metadata": {},
   "source": [
    "<div id=\"persistent\"/>\n",
    "\n",
    "### Classe persistante"
   ]
  },
  {
   "cell_type": "code",
   "execution_count": 6,
   "metadata": {
    "collapsed": true
   },
   "outputs": [],
   "source": [
    "import persistent"
   ]
  },
  {
   "cell_type": "code",
   "execution_count": 7,
   "metadata": {
    "collapsed": false
   },
   "outputs": [],
   "source": [
    "class Person(persistent.Persistent):\n",
    "\n",
    "    def __init__(self, first_name, last_name):\n",
    "        self.first_name = first_name\n",
    "        self.last_name= last_name\n",
    "        self.unique = \"{}:{} {}\".format(\n",
    "            self.__class__.__name__, self.first_name, self.last_name )\n",
    "        \n",
    "    #def __str__(self):\n",
    "    #   return self.unique"
   ]
  },
  {
   "cell_type": "markdown",
   "metadata": {},
   "source": [
    "<div id=\"create\"/>\n",
    "\n",
    "### Enregistrement d'un objet"
   ]
  },
  {
   "cell_type": "code",
   "execution_count": 8,
   "metadata": {
    "collapsed": false
   },
   "outputs": [],
   "source": [
    "import transaction\n",
    "\n",
    "raymond = Person('Raymond','Deubaze')\n",
    "\n",
    "root.raymond = raymond\n",
    "transaction.commit()\n",
    "conn.close()"
   ]
  },
  {
   "cell_type": "code",
   "execution_count": 9,
   "metadata": {
    "collapsed": false
   },
   "outputs": [
    {
     "name": "stdout",
     "output_type": "stream",
     "text": [
      "Person:Raymond Deubaze <__main__.Person object at 0x0000027C94E4E6D8 oid 0x23 in <Connection at 27c94ee3198>>\n"
     ]
    }
   ],
   "source": [
    "print(raymond.unique, raymond)"
   ]
  },
  {
   "cell_type": "markdown",
   "metadata": {},
   "source": [
    "<div id=\"read\"/>\n",
    "\n",
    "### Récupération d'un objet"
   ]
  },
  {
   "cell_type": "code",
   "execution_count": 10,
   "metadata": {
    "collapsed": false
   },
   "outputs": [
    {
     "name": "stdout",
     "output_type": "stream",
     "text": [
      "Person:Raymond Deubaze <__main__.Person object at 0x0000027C94E4E828 oid 0x23 in <Connection at 27c94ee3dd8>>\n"
     ]
    }
   ],
   "source": [
    "db = ZODB.DB(storage)\n",
    "conn = db.open()\n",
    "root = conn.root()\n",
    "person = root.raymond\n",
    "\n",
    "print(person.unique, person)\n",
    "conn.close()"
   ]
  },
  {
   "cell_type": "markdown",
   "metadata": {},
   "source": [
    "<div id=\"oid\" />\n",
    "\n",
    "### Identifiant unique"
   ]
  },
  {
   "cell_type": "code",
   "execution_count": 11,
   "metadata": {
    "collapsed": false
   },
   "outputs": [
    {
     "name": "stdout",
     "output_type": "stream",
     "text": [
      "b'\\x00\\x00\\x00\\x00\\x00\\x00\\x00#'\n",
      "35\n"
     ]
    }
   ],
   "source": [
    "id = person._p_oid\n",
    "print(id)\n",
    "\n",
    "oid = int.from_bytes(id,byteorder='big')\n",
    "print(oid)"
   ]
  },
  {
   "cell_type": "markdown",
   "metadata": {},
   "source": [
    "<div id=\"get_by_oid\" style=\"font-size:120%\">\n",
    "On peut récupérer un objet à partir de son identifiant\n",
    "</div>"
   ]
  },
  {
   "cell_type": "code",
   "execution_count": 12,
   "metadata": {
    "collapsed": false
   },
   "outputs": [
    {
     "name": "stdout",
     "output_type": "stream",
     "text": [
      "b'\\x00\\x00\\x00\\x00\\x00\\x00\\x00#'\n"
     ]
    }
   ],
   "source": [
    "print(oid.to_bytes(8, byteorder='big'))"
   ]
  },
  {
   "cell_type": "code",
   "execution_count": 13,
   "metadata": {
    "collapsed": false
   },
   "outputs": [
    {
     "name": "stdout",
     "output_type": "stream",
     "text": [
      "Person:Raymond Deubaze <__main__.Person object at 0x0000027C94E4E828 oid 0x23 in <Connection at 27c94ee3dd8>>\n"
     ]
    }
   ],
   "source": [
    "conn2 = db.open()\n",
    "same_person = conn2.get(id)\n",
    "print(same_person.unique, same_person )"
   ]
  },
  {
   "cell_type": "markdown",
   "metadata": {},
   "source": [
    "<div style=\"font-size:120%\">\n",
    "Bizarre : on récupère <b>le même</b> objet, si on se sert d'une nouvelle connexion\n",
    "alors que la première a été fermée...\n",
    "</div>"
   ]
  },
  {
   "cell_type": "code",
   "execution_count": 14,
   "metadata": {
    "collapsed": false
   },
   "outputs": [],
   "source": [
    "assert same_person == person\n",
    "assert conn.root().raymond == conn2.root().raymond"
   ]
  },
  {
   "cell_type": "markdown",
   "metadata": {},
   "source": [
    "<div style=\"font-size:120%\">\n",
    "Si par contre un crée une seconde connexion alors que la première n'est pas fermée, on récupère un clone...\n",
    "</div>"
   ]
  },
  {
   "cell_type": "code",
   "execution_count": 15,
   "metadata": {
    "collapsed": false
   },
   "outputs": [
    {
     "name": "stdout",
     "output_type": "stream",
     "text": [
      "Person:Raymond Deubaze <__main__.Person object at 0x0000027C94E4E908 oid 0x23 in <Connection at 27c94ee34e0>>\n"
     ]
    }
   ],
   "source": [
    "conn3 = db.open()\n",
    "third_person = conn3.get(id)\n",
    "print(third_person.unique, third_person )"
   ]
  },
  {
   "cell_type": "code",
   "execution_count": 16,
   "metadata": {
    "collapsed": false
   },
   "outputs": [
    {
     "name": "stdout",
     "output_type": "stream",
     "text": [
      "pas la même personne\n"
     ]
    }
   ],
   "source": [
    "try:\n",
    "    assert third_person == same_person\n",
    "except AssertionError:\n",
    "    print(\"pas la même personne\")\n",
    "\n",
    "assert not conn2.root().raymond == conn3.root().raymond"
   ]
  },
  {
   "cell_type": "code",
   "execution_count": 17,
   "metadata": {
    "collapsed": false
   },
   "outputs": [
    {
     "name": "stdout",
     "output_type": "stream",
     "text": [
      "{'first_name': 'Raymond', 'last_name': 'Deubaze', 'unique': 'Person:Raymond Deubaze', 'new_attribute': 'test'}\n",
      "{'first_name': 'Raymond', 'last_name': 'Deubaze', 'unique': 'Person:Raymond Deubaze', 'new_attribute': 'test'}\n",
      "{'first_name': 'Raymond', 'last_name': 'Deubaze', 'unique': 'Person:Raymond Deubaze'}\n"
     ]
    }
   ],
   "source": [
    "person.new_attribute = \"test\"\n",
    "print(person.__dict__)\n",
    "print(same_person.__dict__)\n",
    "print(third_person.__dict__)"
   ]
  },
  {
   "cell_type": "code",
   "execution_count": 18,
   "metadata": {
    "collapsed": false
   },
   "outputs": [
    {
     "name": "stdout",
     "output_type": "stream",
     "text": [
      "<transaction._manager.TransactionManager object at 0x0000027C949DD748>\n",
      "<transaction._manager.TransactionManager object at 0x0000027C949DD748>\n",
      "<transaction._manager.TransactionManager object at 0x0000027C949DD748>\n"
     ]
    }
   ],
   "source": [
    "print(conn.transaction_manager)\n",
    "print(conn2.transaction_manager)\n",
    "print(conn3.transaction_manager)"
   ]
  },
  {
   "cell_type": "code",
   "execution_count": 19,
   "metadata": {
    "collapsed": false
   },
   "outputs": [],
   "source": [
    "transaction.abort()\n",
    "conn2.close()\n",
    "conn3.close()"
   ]
  },
  {
   "cell_type": "markdown",
   "metadata": {},
   "source": [
    "<div style=\"font-size:120%\">\n",
    "Si on récupère un objet de même id via un autre moteur, on obtient également un clone\n",
    "</div>"
   ]
  },
  {
   "cell_type": "code",
   "execution_count": 20,
   "metadata": {
    "collapsed": false
   },
   "outputs": [
    {
     "name": "stdout",
     "output_type": "stream",
     "text": [
      "<__main__.Person object at 0x0000027C94E4E978 oid 0x23 in <Connection at 27c94efda58>>\n"
     ]
    }
   ],
   "source": [
    "db2 = ZODB.DB(storage)\n",
    "conn3= db2.open()\n",
    "clone = conn3.get(person._p_oid)\n",
    "print(clone)"
   ]
  },
  {
   "cell_type": "code",
   "execution_count": 21,
   "metadata": {
    "collapsed": false
   },
   "outputs": [
    {
     "name": "stdout",
     "output_type": "stream",
     "text": [
      "le clone n'est pas l'objet\n"
     ]
    }
   ],
   "source": [
    "try:\n",
    "    assert clone == person\n",
    "except AssertionError:\n",
    "    print(\"le clone n'est pas l'objet\")"
   ]
  },
  {
   "cell_type": "code",
   "execution_count": 22,
   "metadata": {
    "collapsed": true
   },
   "outputs": [],
   "source": [
    "conn3.close()"
   ]
  },
  {
   "cell_type": "markdown",
   "metadata": {},
   "source": [
    "<div id=\"update\" />\n",
    "\n",
    "### Update\n",
    "\n",
    "<p style=\"font-size:120%\">\n",
    "Si l'on modifie les attributs d'un objet, le prochain commit enregistre automatiquement l'objet modifié\n",
    "</p>"
   ]
  },
  {
   "cell_type": "code",
   "execution_count": 23,
   "metadata": {
    "collapsed": false
   },
   "outputs": [],
   "source": [
    "class Office:\n",
    "    def __init__(self, building, room):\n",
    "        self.building = building\n",
    "        self.room = room\n",
    "\n",
    "conn = db.open()\n",
    "\n",
    "root = conn.root()\n",
    "raymond = root.raymond\n",
    "raymond.office = Office('H9','Aquitaine')\n",
    "\n",
    "transaction.commit()"
   ]
  },
  {
   "cell_type": "code",
   "execution_count": 24,
   "metadata": {
    "collapsed": false
   },
   "outputs": [
    {
     "name": "stdout",
     "output_type": "stream",
     "text": [
      "<__main__.Office object at 0x0000027C94EFDE10>\n"
     ]
    }
   ],
   "source": [
    "conn2 = db2.open()\n",
    "clone = conn2.get(raymond._p_oid)\n",
    "assert not clone == raymond\n",
    "print(clone.office)"
   ]
  },
  {
   "cell_type": "markdown",
   "metadata": {},
   "source": [
    "<div style=\"font-size:120%\">\n",
    "Le passage d'information au clone n'est pas automatique...\n",
    "</div>"
   ]
  },
  {
   "cell_type": "code",
   "execution_count": 25,
   "metadata": {
    "collapsed": false
   },
   "outputs": [
    {
     "name": "stdout",
     "output_type": "stream",
     "text": [
      "0.9800159224768171\n",
      "None\n",
      "None\n",
      "None\n",
      "None\n",
      "0.9800159224768171\n"
     ]
    }
   ],
   "source": [
    "from random import random\n",
    "\n",
    "conn = db.open()\n",
    "\n",
    "root = conn.root()\n",
    "raymond = root.raymond\n",
    "raymond.random = random()\n",
    "transaction.commit()\n",
    "\n",
    "print(raymond.random)\n",
    "\n",
    "# le clone n'est pas mis à jour\n",
    "try:\n",
    "    print(clone.random)\n",
    "except AttributeError:\n",
    "    print('None')\n",
    "\n",
    "# même en essayant de le relire\n",
    "clone = conn2.get(raymond._p_oid)\n",
    "try:\n",
    "    print(clone.random)\n",
    "except AttributeError:\n",
    "    print('None')\n",
    "\n",
    "clone = conn2.root().raymond\n",
    "try:\n",
    "    print(clone.random)\n",
    "except AttributeError:\n",
    "    print('None')\n",
    "conn2.close()\n",
    "\n",
    "# ou en créant une nouvelle connexion\n",
    "conn3 = db2.open()\n",
    "clone = conn3.root().raymond\n",
    "try:\n",
    "    print(clone.random)\n",
    "except AttributeError:\n",
    "    print('None')\n",
    "conn3.close()\n",
    "\n",
    "# Il faut un nouveau moteur pour relire la base de donnée\n",
    "db2 = ZODB.DB(storage)\n",
    "conn2 = db2.open()\n",
    "clone = conn2.root().raymond\n",
    "print(clone.random)\n",
    "conn2.close()"
   ]
  },
  {
   "cell_type": "markdown",
   "metadata": {},
   "source": [
    "Fonction pour vérifier si un objet a bien été modifié dans la base"
   ]
  },
  {
   "cell_type": "code",
   "execution_count": 26,
   "metadata": {
    "collapsed": false
   },
   "outputs": [],
   "source": [
    "import copy\n",
    "\n",
    "def get_from_db(oid):\n",
    "    with ZODB.DB(storage).transaction() as conn:\n",
    "        obj = conn.get(oid)\n",
    "    \n",
    "        # deepcopy pour éviter une erreur du genre\n",
    "        # Shouldn't load state for ... when the connection is closed\n",
    "        return copy.deepcopy(obj)"
   ]
  },
  {
   "cell_type": "markdown",
   "metadata": {},
   "source": [
    "<div id=\"p_changed\"/>\n",
    "\n",
    "### Modification d'objets composés\n",
    "\n"
   ]
  },
  {
   "cell_type": "markdown",
   "metadata": {},
   "source": [
    "<p style=\"font-size:120%\">\n",
    "Attention aux listes et aux dictionnaires, car l'ajout d'un élément ne modifie pas la liste elle-même !\n",
    "</p>"
   ]
  },
  {
   "cell_type": "code",
   "execution_count": 27,
   "metadata": {
    "collapsed": false
   },
   "outputs": [
    {
     "name": "stdout",
     "output_type": "stream",
     "text": [
      "['Person:Jean Bombeur', 'Person:Alex Terrieur']\n"
     ]
    }
   ],
   "source": [
    "raymond.friends = [ Person('Jean','Bombeur'), Person('Alex','Terrieur') ]\n",
    "print([f.unique for f in raymond.friends])\n",
    "\n",
    "transaction.commit()"
   ]
  },
  {
   "cell_type": "code",
   "execution_count": 28,
   "metadata": {
    "collapsed": false
   },
   "outputs": [
    {
     "name": "stdout",
     "output_type": "stream",
     "text": [
      "['Person:Jean Bombeur', 'Person:Alex Terrieur']\n"
     ]
    }
   ],
   "source": [
    "clone = get_from_db(raymond._p_oid)\n",
    "print([f.unique for f in clone.friends])"
   ]
  },
  {
   "cell_type": "code",
   "execution_count": 29,
   "metadata": {
    "collapsed": false
   },
   "outputs": [
    {
     "name": "stdout",
     "output_type": "stream",
     "text": [
      "['Person:Jean Bombeur', 'Person:Alex Terrieur']\n"
     ]
    }
   ],
   "source": [
    "# On ajoute un élément à la liste\n",
    "raymond.friends.append(Person('Anna','Conda'))\n",
    "transaction.commit()\n",
    "\n",
    "# La modification n'a pas été vue par ZODB,\n",
    "# car les attributs de Raymond n'ont pas été modifiés\n",
    "clone = get_from_db(raymond._p_oid)\n",
    "print([f.unique for f in clone.friends])"
   ]
  },
  {
   "cell_type": "markdown",
   "metadata": {},
   "source": [
    "<div style=\"font-size:120%\">\n",
    "Il faut signifier à ZODB que l'objet a été modifié :\n",
    "</div>"
   ]
  },
  {
   "cell_type": "code",
   "execution_count": 30,
   "metadata": {
    "collapsed": false
   },
   "outputs": [
    {
     "name": "stdout",
     "output_type": "stream",
     "text": [
      "['Person:Jean Bombeur', 'Person:Alex Terrieur', 'Person:Anna Conda']\n"
     ]
    }
   ],
   "source": [
    "raymond._p_changed = True\n",
    "transaction.commit()\n",
    "\n",
    "clone = get_from_db(raymond._p_oid)\n",
    "print([f.unique for f in clone.friends])"
   ]
  },
  {
   "cell_type": "markdown",
   "metadata": {},
   "source": [
    "<div id=\"setter_changed\" style=\"font-size:120%\">\n",
    "Exemple d'implémentation au sein de la classe Person\n",
    "</div>"
   ]
  },
  {
   "cell_type": "code",
   "execution_count": 31,
   "metadata": {
    "collapsed": true
   },
   "outputs": [],
   "source": [
    "class Person(persistent.Persistent):\n",
    "\n",
    "    def __init__(self, first_name, last_name):\n",
    "        self.first_name = first_name\n",
    "        self.last_name= last_name\n",
    "        self.unique = \"{}:{} {}\".format(\n",
    "            self.__class__.__name__, self.first_name, self.last_name )\n",
    "        self.friends = []\n",
    "        \n",
    "    def add_friend(self,f):\n",
    "        self.friends.append(f)\n",
    "        self._p_changed = True"
   ]
  },
  {
   "cell_type": "code",
   "execution_count": 32,
   "metadata": {
    "collapsed": false
   },
   "outputs": [],
   "source": [
    "conn = db.open()\n",
    "root = conn.root()\n",
    "raymond = root.raymond\n",
    "\n",
    "raymond.add_friend(Person('Jean','Aymard'))\n",
    "transaction.commit()"
   ]
  },
  {
   "cell_type": "code",
   "execution_count": 33,
   "metadata": {
    "collapsed": false
   },
   "outputs": [
    {
     "name": "stdout",
     "output_type": "stream",
     "text": [
      "['Person:Jean Bombeur', 'Person:Alex Terrieur', 'Person:Anna Conda', 'Person:Jean Aymard']\n"
     ]
    }
   ],
   "source": [
    "clone = get_from_db(raymond._p_oid)\n",
    "print([f.unique for f in clone.friends])"
   ]
  },
  {
   "cell_type": "code",
   "execution_count": null,
   "metadata": {
    "collapsed": true
   },
   "outputs": [],
   "source": []
  }
 ],
 "metadata": {
  "kernelspec": {
   "display_name": "Python 3",
   "language": "python",
   "name": "python3"
  },
  "language_info": {
   "codemirror_mode": {
    "name": "ipython",
    "version": 3
   },
   "file_extension": ".py",
   "mimetype": "text/x-python",
   "name": "python",
   "nbconvert_exporter": "python",
   "pygments_lexer": "ipython3",
   "version": "3.6.6"
  }
 },
 "nbformat": 4,
 "nbformat_minor": 2
}
