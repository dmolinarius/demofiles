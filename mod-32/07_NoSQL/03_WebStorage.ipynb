{
 "cells": [
  {
   "cell_type": "markdown",
   "metadata": {},
   "source": [
    "### SessionStorage et localStorage\n",
    "\n",
    "https://developer.mozilla.org/en-US/docs/Learn/JavaScript/Client-side_web_APIs/Client-side_storage"
   ]
  },
  {
   "cell_type": "code",
   "execution_count": 1,
   "metadata": {
    "collapsed": false
   },
   "outputs": [
    {
     "data": {
      "application/javascript": [
       "window.echo = function(element, str) {\n",
       "    element[0].innerHTML += str + '<br/>';\n",
       "}"
      ],
      "text/plain": [
       "<IPython.core.display.Javascript object>"
      ]
     },
     "metadata": {},
     "output_type": "display_data"
    }
   ],
   "source": [
    "%%javascript\n",
    "window.echo = function(element, str) {\n",
    "    element[0].innerHTML += str + '<br/>';\n",
    "}"
   ]
  },
  {
   "cell_type": "markdown",
   "metadata": {},
   "source": [
    "<div id=\"read\" style=\"font-size:120%\">\n",
    "Lecture d'une variable stockée sur le client\n",
    "</div>"
   ]
  },
  {
   "cell_type": "code",
   "execution_count": 5,
   "metadata": {
    "collapsed": false
   },
   "outputs": [
    {
     "data": {
      "application/javascript": [
       "window.last_used = localStorage.getItem(\"MOD32/webStorage/last_used\");\n",
       "echo(element, last_used );"
      ],
      "text/plain": [
       "<IPython.core.display.Javascript object>"
      ]
     },
     "metadata": {},
     "output_type": "display_data"
    }
   ],
   "source": [
    "%%javascript\n",
    "window.last_used = localStorage.getItem(\"MOD32/webStorage/last_used\");\n",
    "echo(element, last_used );"
   ]
  },
  {
   "cell_type": "markdown",
   "metadata": {},
   "source": [
    "<div id=\"update\" style=\"font-size:120%\">\n",
    "Modification d'une variable stockée sur le client\n",
    "</div>"
   ]
  },
  {
   "cell_type": "code",
   "execution_count": 6,
   "metadata": {
    "collapsed": false
   },
   "outputs": [
    {
     "data": {
      "application/javascript": [
       "localStorage.setItem(\"MOD32/webStorage/last_used\",new Date());\n",
       "\n",
       "echo(element, last_used);\n",
       "window.last_used = localStorage.getItem(\"MOD32/webStorage/last_used\");\n",
       "echo(element, last_used);"
      ],
      "text/plain": [
       "<IPython.core.display.Javascript object>"
      ]
     },
     "metadata": {},
     "output_type": "display_data"
    }
   ],
   "source": [
    "%%javascript\n",
    "localStorage.setItem(\"MOD32/webStorage/last_used\",new Date());\n",
    "\n",
    "echo(element, last_used);\n",
    "window.last_used = localStorage.getItem(\"MOD32/webStorage/last_used\");\n",
    "echo(element, last_used);"
   ]
  },
  {
   "cell_type": "markdown",
   "metadata": {
    "collapsed": true
   },
   "source": [
    "<div id=\"delete\" style=\"font-size:120%\">\n",
    "Suppression d'une variable stockée sur le client\n",
    "</div>"
   ]
  },
  {
   "cell_type": "code",
   "execution_count": 7,
   "metadata": {
    "collapsed": false
   },
   "outputs": [
    {
     "data": {
      "application/javascript": [
       "localStorage.removeItem(\"MOD32/webStorage/last_used\");\n",
       "\n",
       "echo(element, last_used);\n",
       "window.last_used = localStorage.getItem(\"MOD32/webStorage/last_used\");\n",
       "echo(element, last_used);"
      ],
      "text/plain": [
       "<IPython.core.display.Javascript object>"
      ]
     },
     "metadata": {},
     "output_type": "display_data"
    }
   ],
   "source": [
    "%%javascript\n",
    "localStorage.removeItem(\"MOD32/webStorage/last_used\");\n",
    "\n",
    "echo(element, last_used);\n",
    "window.last_used = localStorage.getItem(\"MOD32/webStorage/last_used\");\n",
    "echo(element, last_used);"
   ]
  },
  {
   "cell_type": "code",
   "execution_count": null,
   "metadata": {
    "collapsed": true
   },
   "outputs": [],
   "source": []
  }
 ],
 "metadata": {
  "kernelspec": {
   "display_name": "Python 3",
   "language": "python",
   "name": "python3"
  },
  "language_info": {
   "codemirror_mode": {
    "name": "ipython",
    "version": 3
   },
   "file_extension": ".py",
   "mimetype": "text/x-python",
   "name": "python",
   "nbconvert_exporter": "python",
   "pygments_lexer": "ipython3",
   "version": "3.6.6"
  }
 },
 "nbformat": 4,
 "nbformat_minor": 2
}
