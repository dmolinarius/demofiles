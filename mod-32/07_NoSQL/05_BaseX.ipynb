{
 "cells": [
  {
   "cell_type": "markdown",
   "metadata": {},
   "source": [
    "<div style=\"color:#800\">Attention le rendu de ce notebook sur Github est buggé : les balises XML sont interprétées au lieu d'être représentées. Le fichier .ipynb sur le dépôt Github est donc uniquement destiné à être téléchargé, pas visualisé sur place. Pour une version HTML, utiliser l'adresse :\n",
    "http://dmolinarius.github.io/demofiles/mod-32/07_NoSQL//05_BaseX.html\n",
    "</div>"
   ]
  },
  {
   "cell_type": "markdown",
   "metadata": {},
   "source": [
    "## Base de données XML : BaseX"
   ]
  },
  {
   "cell_type": "markdown",
   "metadata": {},
   "source": [
    "<div style=\"font-size:120%\">\n",
    "Installation cf. https://docs.basex.org/wiki/Startup via le package adéquat\n",
    "</div>\n",
    "<div style=\"font-size:120%; margin-top:1em\">\n",
    "&rightarrow; fichier .jar ou installeur Windows sur https://basex.org/download/\n",
    "</div>\n",
    "<div style=\"font-size:120%; margin-top:1em\">\n",
    "Démarrage du serveur HTTP <span style=\"font-family:Consolas; font-size:90%\">~BaseX\\bin\\basexhttpstop.bat</span> (par défaut sur le port 8080)\n",
    "</div>\n"
   ]
  },
  {
   "cell_type": "code",
   "execution_count": 1,
   "metadata": {
    "collapsed": true
   },
   "outputs": [],
   "source": [
    "import http.client\n",
    "\n",
    "with open('__baseX_credentials.txt', 'r') as f:\n",
    "    credentials = f.read().strip()\n",
    "\n",
    "def baseX_request(method, path, body=None, headers={}):\n",
    "    conn = http.client.HTTPConnection('127.0.0.1', 8080)\n",
    "    headers['Authorization'] = 'Basic {}'.format(credentials)\n",
    "    conn.request(method, path, body.encode('UTF-8'), headers)\n",
    "    response = conn.getresponse()\n",
    "    body = response.read()\n",
    "    return body.decode()"
   ]
  },
  {
   "cell_type": "markdown",
   "metadata": {},
   "source": [
    "<div id=\"create-DB\"></div>\n",
    "<h3>Création d'une base de données</h3>\n",
    "<p style=\"font-size:120%\">Document source :</p>"
   ]
  },
  {
   "cell_type": "code",
   "execution_count": 2,
   "metadata": {
    "collapsed": true
   },
   "outputs": [],
   "source": [
    "document = '''\n",
    "<people>\n",
    " <person>\n",
    "   <first_name>Raymond</first_name>\n",
    "   <last_name>Deubaze</last_name>\n",
    "   <email>raymond.deubaze@ec-lyon.fr</email>\n",
    " </person>\n",
    " <person>\n",
    "   <first_name>Jean</first_name>\n",
    "   <last_name>Peuplu</last_name>\n",
    "   <email>jpu@gmail.com</email>\n",
    " </person>\n",
    " <person>\n",
    "   <first_name>Alex</first_name>\n",
    "   <last_name>Terrieur</last_name>\n",
    "   <email>atr1@gmail.com</email>\n",
    " </person>\n",
    " <person>\n",
    "   <first_name>Alain</first_name>\n",
    "   <last_name>Terrieur</last_name>\n",
    "   <email>atr2@gmail.com</email>\n",
    " </person>\n",
    "  <person>\n",
    "   <first_name>Anna</first_name>\n",
    "   <last_name>Conda</last_name>\n",
    "   <email>Anna.Conda@ec-lyon.fr</email>\n",
    " </person>\n",
    " <person>\n",
    "   <first_name>Ginette</first_name>\n",
    "   <last_name>Ringard</last_name>\n",
    "   <email>ginette@wanadoo.fr</email>\n",
    " </person>\n",
    "</people>'''"
   ]
  },
  {
   "cell_type": "markdown",
   "metadata": {},
   "source": [
    "<div style=\"font-size:120%\">\n",
    "Création et alimentation de la base.\n",
    "</div>\n",
    "<p style=\"font-size:120%\">Si la base de données existe déjà, elle sera écrasée...</p>"
   ]
  },
  {
   "cell_type": "code",
   "execution_count": 4,
   "metadata": {
    "collapsed": false
   },
   "outputs": [
    {
     "name": "stdout",
     "output_type": "stream",
     "text": [
      "Name    Resources  Size  Input Path  \r\n",
      "-----------------------------------\r\n",
      "people  1          5660  people.xml  \r\n",
      "\r\n",
      "1 database(s).\n",
      "\n"
     ]
    }
   ],
   "source": [
    "body = '''\n",
    "<commands>\n",
    "  <create-db name='people'>{}</create-db>\n",
    "  <list/>\n",
    "</commands>\n",
    "'''.format(document)\n",
    "\n",
    "resp = baseX_request('POST', '/rest', body)\n",
    "print(resp)"
   ]
  },
  {
   "cell_type": "markdown",
   "metadata": {},
   "source": [
    "<h3>Requêtes XQuery</h3>\n",
    "<p id=\"query-XPath\" style=\"font-size:120%\">Expression XPath</p>"
   ]
  },
  {
   "cell_type": "code",
   "execution_count": 4,
   "metadata": {
    "collapsed": false
   },
   "outputs": [
    {
     "name": "stdout",
     "output_type": "stream",
     "text": [
      "atr1@gmail.com\r\n",
      "atr2@gmail.com\n"
     ]
    }
   ],
   "source": [
    "# Requête XPath\n",
    "body = '''\n",
    "<query>\n",
    "  <text>doc('people')//person[last_name=\"Terrieur\"]/email/text()</text>\n",
    "</query>\n",
    "'''\n",
    "\n",
    "resp = baseX_request('POST', '/rest', body)\n",
    "print(resp)"
   ]
  },
  {
   "cell_type": "code",
   "execution_count": 8,
   "metadata": {
    "collapsed": false
   },
   "outputs": [
    {
     "name": "stdout",
     "output_type": "stream",
     "text": [
      "<person>\r\n",
      "   <first_name>Jean</first_name>\r\n",
      "   <last_name>Peuplu</last_name>\r\n",
      "   <email>jpu@gmail.com</email>\r\n",
      " </person>\n"
     ]
    }
   ],
   "source": [
    "body = '''\n",
    "<query>\n",
    "  <text>\n",
    "    doc('people')//person[\n",
    "      contains(email,\"gmail.com\") and\n",
    "      not(starts-with(first_name,'A'))\n",
    "    ]\n",
    "  </text>\n",
    "</query>\n",
    "'''\n",
    "\n",
    "resp = baseX_request('POST', '/rest', body)\n",
    "print(resp)"
   ]
  },
  {
   "cell_type": "markdown",
   "metadata": {},
   "source": [
    "<div id=\"query-XQuery\" style=\"font-size:120%\">Expression XQuery</div>"
   ]
  },
  {
   "cell_type": "code",
   "execution_count": 5,
   "metadata": {
    "collapsed": false
   },
   "outputs": [
    {
     "name": "stdout",
     "output_type": "stream",
     "text": [
      "raymond.deubaze@ec-lyon.fr\r\n",
      "Anna.Conda@ec-lyon.fr\n"
     ]
    }
   ],
   "source": [
    "# Requête XQuery\n",
    "body = '''\n",
    "<query>\n",
    "  <text>\n",
    "    for $person in doc(\"people\")//person\n",
    "      where contains($person/email,'ec-lyon')\n",
    "      return $person/email/text()\n",
    "  </text>\n",
    "</query>\n",
    "'''\n",
    "\n",
    "resp = baseX_request('POST', '/rest', body)\n",
    "print(resp)"
   ]
  },
  {
   "cell_type": "markdown",
   "metadata": {},
   "source": [
    "<div id=\"query-FLWOR\" style=\"font-size:120%\">Expression FLWOR</div>"
   ]
  },
  {
   "cell_type": "code",
   "execution_count": 6,
   "metadata": {
    "collapsed": false
   },
   "outputs": [
    {
     "name": "stdout",
     "output_type": "stream",
     "text": [
      "<person>\r\n",
      "   <first_name>Ginette</first_name>\r\n",
      "   <last_name>Ringard</last_name>\r\n",
      "   <email>ginette@wanadoo.fr</email>\r\n",
      " </person>\n"
     ]
    }
   ],
   "source": [
    "# Requête FLWOR\n",
    "body = '''\n",
    "<query>\n",
    "  <text>\n",
    "    for $person in doc(\"people\")//person\n",
    "      let $email := $person/email\n",
    "      where contains($email,'wanadoo')\n",
    "      order by $person/last_name\n",
    "      return $person\n",
    "  </text>\n",
    "</query>\n",
    "'''\n",
    "\n",
    "resp = baseX_request('POST', '/rest', body)\n",
    "print(resp)"
   ]
  },
  {
   "cell_type": "markdown",
   "metadata": {},
   "source": [
    "<div id=\"generate-XML\"></div>\n",
    "<h3>Génération de code HTML ou XML</h3>"
   ]
  },
  {
   "cell_type": "code",
   "execution_count": 7,
   "metadata": {
    "collapsed": false
   },
   "outputs": [
    {
     "name": "stdout",
     "output_type": "stream",
     "text": [
      "<ul><li>Anna Conda</li><li>Raymond Deubaze</li></ul>\n"
     ]
    }
   ],
   "source": [
    "body = '''\n",
    "<query>\n",
    "  <text><![CDATA[\n",
    "    <ul>\n",
    "    {for $person in doc(\"people\")//person\n",
    "      let $email := $person/email\n",
    "      where contains($email,'ec-lyon.fr')\n",
    "      order by $person/last_name\n",
    "      return <li>{$person/first_name/text()}&#160;{$person/last_name/text()}</li>\n",
    "    }</ul>\n",
    "  ]]></text>\n",
    "</query>\n",
    "'''\n",
    "\n",
    "resp = baseX_request('POST', '/rest', body)\n",
    "print(resp)"
   ]
  },
  {
   "cell_type": "markdown",
   "metadata": {},
   "source": [
    "<div id=\"predefined-function\"></div>\n",
    "<h3>Fonctions prédéfinies</h3>\n",
    "<p>https://www.w3.org/TR/xpath-functions-31/</p>"
   ]
  },
  {
   "cell_type": "code",
   "execution_count": 8,
   "metadata": {
    "collapsed": false
   },
   "outputs": [
    {
     "name": "stdout",
     "output_type": "stream",
     "text": [
      "3.141592653589793\n"
     ]
    }
   ],
   "source": [
    "body = '''\n",
    "<query>\n",
    "  <text>\n",
    "    math:pi()\n",
    "  </text>\n",
    "</query>\n",
    "'''\n",
    "\n",
    "resp = baseX_request('POST', '/rest', body)\n",
    "print(resp)"
   ]
  },
  {
   "cell_type": "markdown",
   "metadata": {},
   "source": [
    "<div id=\"user-function\"></div>\n",
    "<h3>Fonction utilisateur</h3>"
   ]
  },
  {
   "cell_type": "code",
   "execution_count": 9,
   "metadata": {
    "collapsed": false
   },
   "outputs": [
    {
     "name": "stdout",
     "output_type": "stream",
     "text": [
      "<ul><li>Anna Conda</li><li>Raymond Deubaze</li></ul>\n"
     ]
    }
   ],
   "source": [
    "body = '''\n",
    "<query>\n",
    "  <text>\n",
    "    declare function local:full_name($p as element(person)) as xs:string\n",
    "    {\n",
    "      concat($p/first_name,' ',$p/last_name)\n",
    "    };\n",
    "  <![CDATA[\n",
    "    <ul>{\n",
    "    for $person in doc(\"people\")//person\n",
    "      let $email := $person/email\n",
    "      where contains($email,'ec-lyon.fr')\n",
    "      order by $person/last_name\n",
    "      return <li>{local:full_name($person)}</li>\n",
    "    }</ul>\n",
    "  ]]></text>\n",
    "</query>\n",
    "'''\n",
    "\n",
    "resp = baseX_request('POST', '/rest', body)\n",
    "print(resp)"
   ]
  },
  {
   "cell_type": "markdown",
   "metadata": {},
   "source": [
    "<div id=\"Newton\" style=\"font-size:120%\">\n",
    "Calcul de racine carrée par la méthode de Newton\n",
    "</div>\n",
    "<p>\n",
    "https://files.basex.org/.xml15/slides/05-XQuery-II.pdf\n",
    "</p>"
   ]
  },
  {
   "cell_type": "code",
   "execution_count": 10,
   "metadata": {
    "collapsed": false
   },
   "outputs": [
    {
     "name": "stdout",
     "output_type": "stream",
     "text": [
      "1.4142135623746899\n"
     ]
    }
   ],
   "source": [
    "body = '''\n",
    "<query>\n",
    "  <text>\n",
    "    declare function local:square-root($n as xs:double, $eps as xs:double) {\n",
    "      local:square-root($n, 1, $eps)\n",
    "    };\n",
    "    declare function local:square-root($n, $guess, $eps) {\n",
    "      let $new:= $n div ($guess)\n",
    "      let $diff:= abs($n - $guess * $guess)\n",
    "      return if ($diff lt $eps) then $guess else\n",
    "      let $better-guess := ($guess + $new) div 2\n",
    "      return local:square-root($n, $better-guess, $eps)\n",
    "    };\n",
    "    local:square-root(2, 0.000001)\n",
    "</text>\n",
    "</query>\n",
    "'''\n",
    "\n",
    "resp = baseX_request('POST', '/rest', body)\n",
    "print(resp)"
   ]
  },
  {
   "cell_type": "code",
   "execution_count": null,
   "metadata": {
    "collapsed": true
   },
   "outputs": [],
   "source": []
  }
 ],
 "metadata": {
  "kernelspec": {
   "display_name": "Python 3",
   "language": "python",
   "name": "python3"
  },
  "language_info": {
   "codemirror_mode": {
    "name": "ipython",
    "version": 3
   },
   "file_extension": ".py",
   "mimetype": "text/x-python",
   "name": "python",
   "nbconvert_exporter": "python",
   "pygments_lexer": "ipython3",
   "version": "3.6.6"
  }
 },
 "nbformat": 4,
 "nbformat_minor": 2
}
