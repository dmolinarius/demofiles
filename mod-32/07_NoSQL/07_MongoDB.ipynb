{
 "cells": [
  {
   "cell_type": "markdown",
   "metadata": {},
   "source": [
    "## Base de données JSON : MongoDB"
   ]
  },
  {
   "cell_type": "markdown",
   "metadata": {},
   "source": [
    "### Installation et configuration"
   ]
  },
  {
   "cell_type": "markdown",
   "metadata": {},
   "source": [
    "https://www.mongodb.com/docs/manual/tutorial/install-mongodb-on-windows/\n",
    "\n",
    "Téléchargement du package d'installation de mongoDB 6.0.2 community server for Windows\n",
    "https://www.mongodb.com/try/download/community\n",
    "\n",
    "Eventuellement télécharger le shell (ou pas)\n",
    "https://www.mongodb.com/try/download/shell\n",
    "\n",
    "<pre style=\"background-color:#f0f0f0; border: 1px solid #ccc; margin:0; padding:0.5em; font-size:1em; margin-top:1.33em\">\n",
    "python -m pip install \"pymongo[srv]\" \n",
    "</pre>\n",
    "\n",
    "Exemple de commande à exécuter pour le lancement de mongod.exe s'il n'a pas été configuré comme un service\n",
    "\n",
    "<pre style=\"background-color:#f0f0f0; border: 1px solid #ccc; margin:0; padding:0.5em; font-size:1em; margin-top:1.33em\">\n",
    "C:\\\"Program Files\"\\MongoDB\\Server\\6.0\\bin\\mongod.exe --config 07_NoSQL/demos/mongo_db/mongod.cfg\n",
    "</pre>"
   ]
  },
  {
   "cell_type": "code",
   "execution_count": 77,
   "metadata": {
    "collapsed": false
   },
   "outputs": [],
   "source": [
    "from pymongo import MongoClient"
   ]
  },
  {
   "cell_type": "markdown",
   "metadata": {},
   "source": [
    "<div id=\"client\"></div>\n",
    "\n",
    "### Instantiation d'un client"
   ]
  },
  {
   "cell_type": "code",
   "execution_count": 2,
   "metadata": {
    "collapsed": false
   },
   "outputs": [
    {
     "name": "stdout",
     "output_type": "stream",
     "text": [
      "MongoClient(host=['localhost:27017'], document_class=dict, tz_aware=False, connect=True)\n"
     ]
    }
   ],
   "source": [
    "client = MongoClient('localhost', 27017)\n",
    "print(client)"
   ]
  },
  {
   "cell_type": "code",
   "execution_count": 3,
   "metadata": {
    "collapsed": false
   },
   "outputs": [
    {
     "name": "stdout",
     "output_type": "stream",
     "text": [
      "{'name': 'admin', 'sizeOnDisk': 40960, 'empty': False}\n",
      "{'name': 'config', 'sizeOnDisk': 73728, 'empty': False}\n",
      "{'name': 'local', 'sizeOnDisk': 73728, 'empty': False}\n",
      "{'name': 'test', 'sizeOnDisk': 196608, 'empty': False}\n"
     ]
    }
   ],
   "source": [
    "for db in client.list_databases():\n",
    "    print(db)"
   ]
  },
  {
   "cell_type": "markdown",
   "metadata": {},
   "source": [
    "<div id=\"list_collections\"></div>\n",
    "\n",
    "### Base de données"
   ]
  },
  {
   "cell_type": "code",
   "execution_count": 4,
   "metadata": {
    "collapsed": false
   },
   "outputs": [
    {
     "data": {
      "text/plain": [
       "['transiliens', 'transiliens:mesures', 'people']"
      ]
     },
     "execution_count": 4,
     "metadata": {},
     "output_type": "execute_result"
    }
   ],
   "source": [
    "db = client['test']\n",
    "db.list_collection_names()"
   ]
  },
  {
   "cell_type": "markdown",
   "metadata": {},
   "source": [
    "### Collection"
   ]
  },
  {
   "cell_type": "code",
   "execution_count": 5,
   "metadata": {
    "collapsed": false
   },
   "outputs": [],
   "source": [
    "# Collection\n",
    "people = db['people']"
   ]
  },
  {
   "cell_type": "markdown",
   "metadata": {},
   "source": [
    "### Document"
   ]
  },
  {
   "cell_type": "markdown",
   "metadata": {},
   "source": [
    "<div id=\"insert_one\" style=\"font-size:120%; border-bottom:1px solid #444; background-color:#eee\">Create</div>"
   ]
  },
  {
   "cell_type": "code",
   "execution_count": 6,
   "metadata": {
    "collapsed": false
   },
   "outputs": [],
   "source": [
    "person = people.find_one({\"first_name\":\"Raymond\"})\n",
    "if person:\n",
    "    person_id = person['_id']\n",
    "else:\n",
    "    person = {\n",
    "        \"first_name\": \"Raymond\",\n",
    "        \"last_name\": \"Deubaze\",\n",
    "        \"email\": \"raymond.deubaze@ec-lyon.fr\"\n",
    "    }\n",
    "    person_id = people.insert_one(person).inserted_id"
   ]
  },
  {
   "cell_type": "code",
   "execution_count": 7,
   "metadata": {
    "collapsed": false
   },
   "outputs": [
    {
     "name": "stdout",
     "output_type": "stream",
     "text": [
      "{'_id': ObjectId('637785c399a65486d33db0e7'),\n",
      " 'email': 'raymond.deubaze@ec-lyon.fr',\n",
      " 'first_name': 'Raymond',\n",
      " 'last_name': 'Deubaze'}\n"
     ]
    }
   ],
   "source": [
    "import pprint\n",
    "\n",
    "pprint.pprint(person)\n",
    "\n",
    "assert person_id == person['_id']"
   ]
  },
  {
   "cell_type": "markdown",
   "metadata": {},
   "source": [
    "<div id=\"insert_many\">Insertion multiple</div>"
   ]
  },
  {
   "cell_type": "code",
   "execution_count": 8,
   "metadata": {
    "collapsed": true
   },
   "outputs": [],
   "source": [
    "list_of_people = [\n",
    "    {\n",
    "        \"first_name\": \"Jeanne\",\n",
    "        \"last_name\": \"Aulapin\",\n",
    "        \"email\": \"jan@provider.net\"\n",
    "    },\n",
    "    {\n",
    "        \"first_name\": \"Anna\",\n",
    "        \"last_name\": \"Conda\",\n",
    "        \"email\": \"aca@provider.net\"\n",
    "    },\n",
    "    {\n",
    "        \"first_name\": \"Jean\",\n",
    "        \"last_name\": \"Bonnot\",\n",
    "        \"email\": \"jbt@gmail.com\"\n",
    "    },\n",
    "    {\n",
    "        \"first_name\": \"Alex\",\n",
    "        \"last_name\": \"Terrieur\",\n",
    "        \"email\": \"axtr@gmail.com\"\n",
    "    },\n",
    "    {\n",
    "        \"first_name\": \"Alain\",\n",
    "        \"last_name\": \"Terrieur\",\n",
    "        \"email\": \"antr@gmail.com\"\n",
    "    },\n",
    "    {\n",
    "        \"first_name\": \"Ginette\",\n",
    "        \"last_name\": \"Ringard\",\n",
    "        \"email\": \"gigi@wanadoo.fr\"\n",
    "    }\n",
    "]"
   ]
  },
  {
   "cell_type": "code",
   "execution_count": 9,
   "metadata": {
    "collapsed": false
   },
   "outputs": [],
   "source": [
    "jeanne = people.find_one({\"first_name\":\"Jeanne\"})\n",
    "if not jeanne:\n",
    "    result = people.insert_many(list_of_people)\n",
    "    pprint.pprint(result.inserted_ids)"
   ]
  },
  {
   "cell_type": "code",
   "execution_count": 10,
   "metadata": {
    "collapsed": false,
    "scrolled": false
   },
   "outputs": [
    {
     "name": "stdout",
     "output_type": "stream",
     "text": [
      "[{'email': 'jan@provider.net', 'first_name': 'Jeanne', 'last_name': 'Aulapin'},\n",
      " {'email': 'aca@provider.net', 'first_name': 'Anna', 'last_name': 'Conda'},\n",
      " {'email': 'jbt@gmail.com', 'first_name': 'Jean', 'last_name': 'Bonnot'},\n",
      " {'email': 'axtr@gmail.com', 'first_name': 'Alex', 'last_name': 'Terrieur'},\n",
      " {'email': 'antr@gmail.com', 'first_name': 'Alain', 'last_name': 'Terrieur'},\n",
      " {'email': 'gigi@wanadoo.fr', 'first_name': 'Ginette', 'last_name': 'Ringard'}]\n"
     ]
    }
   ],
   "source": [
    "pprint.pprint(list_of_people)"
   ]
  },
  {
   "cell_type": "markdown",
   "metadata": {},
   "source": [
    "<div id=\"read\" style=\"font-size:120%; border-bottom:1px solid #444; background-color:#eee\">Read</div>"
   ]
  },
  {
   "cell_type": "code",
   "execution_count": 11,
   "metadata": {
    "collapsed": false
   },
   "outputs": [
    {
     "name": "stdout",
     "output_type": "stream",
     "text": [
      "{'_id': ObjectId('637785c399a65486d33db0e7'),\n",
      " 'email': 'raymond.deubaze@ec-lyon.fr',\n",
      " 'first_name': 'Raymond',\n",
      " 'last_name': 'Deubaze'}\n"
     ]
    }
   ],
   "source": [
    "raymond = people.find_one()\n",
    "pprint.pprint(raymond)"
   ]
  },
  {
   "cell_type": "code",
   "execution_count": 12,
   "metadata": {
    "collapsed": false
   },
   "outputs": [
    {
     "name": "stdout",
     "output_type": "stream",
     "text": [
      "Raymond Deubaze\n",
      "Jeanne Aulapin\n",
      "Anna Conda\n",
      "Jean Bonnot\n",
      "Alex Terrieur\n",
      "Alain Terrieur\n",
      "Ginette Ringard\n"
     ]
    }
   ],
   "source": [
    "all = people.find()\n",
    "for p in all:\n",
    "    print(p['first_name'] + ' ' + p['last_name'])"
   ]
  },
  {
   "cell_type": "markdown",
   "metadata": {},
   "source": [
    "<div id=\"filter\" style=\"font-size:120%; border-bottom:1px solid #444; background-color:#eee\">Read and Filter</div>"
   ]
  },
  {
   "cell_type": "code",
   "execution_count": 13,
   "metadata": {
    "collapsed": false
   },
   "outputs": [
    {
     "name": "stdout",
     "output_type": "stream",
     "text": [
      "{'_id': ObjectId('637785c399a65486d33db0e7'),\n",
      " 'email': 'raymond.deubaze@ec-lyon.fr',\n",
      " 'first_name': 'Raymond',\n",
      " 'last_name': 'Deubaze'}\n"
     ]
    }
   ],
   "source": [
    "deubaze = people.find_one({'last_name': 'Deubaze'})\n",
    "pprint.pprint(deubaze)"
   ]
  },
  {
   "cell_type": "markdown",
   "metadata": {},
   "source": [
    "<div id=\"filter_by_strid\"></div>"
   ]
  },
  {
   "cell_type": "code",
   "execution_count": 14,
   "metadata": {
    "collapsed": false
   },
   "outputs": [
    {
     "name": "stdout",
     "output_type": "stream",
     "text": [
      "{'_id': ObjectId('637785c399a65486d33db0e7'),\n",
      " 'email': 'raymond.deubaze@ec-lyon.fr',\n",
      " 'first_name': 'Raymond',\n",
      " 'last_name': 'Deubaze'}\n"
     ]
    }
   ],
   "source": [
    "p = people.find_one({'_id': deubaze['_id']})\n",
    "pprint.pprint(p)"
   ]
  },
  {
   "cell_type": "code",
   "execution_count": 15,
   "metadata": {
    "collapsed": false
   },
   "outputs": [
    {
     "name": "stdout",
     "output_type": "stream",
     "text": [
      "637785c399a65486d33db0e7\n",
      "None\n"
     ]
    }
   ],
   "source": [
    "id = str(deubaze['_id'])\n",
    "print(id)\n",
    "\n",
    "p = people.find_one({'_id': id })\n",
    "print(p)"
   ]
  },
  {
   "cell_type": "markdown",
   "metadata": {},
   "source": [
    "<div id=\"filter_by_oid\"></div>"
   ]
  },
  {
   "cell_type": "code",
   "execution_count": 16,
   "metadata": {
    "collapsed": false
   },
   "outputs": [
    {
     "name": "stdout",
     "output_type": "stream",
     "text": [
      "{'_id': ObjectId('637785c399a65486d33db0e7'),\n",
      " 'email': 'raymond.deubaze@ec-lyon.fr',\n",
      " 'first_name': 'Raymond',\n",
      " 'last_name': 'Deubaze'}\n"
     ]
    }
   ],
   "source": [
    "from bson.objectid import ObjectId\n",
    "\n",
    "p = people.find_one({'_id': ObjectId(id)})\n",
    "pprint.pprint(p)"
   ]
  },
  {
   "cell_type": "code",
   "execution_count": 17,
   "metadata": {
    "collapsed": false
   },
   "outputs": [
    {
     "name": "stdout",
     "output_type": "stream",
     "text": [
      "Alex Terrieur\n",
      "Alain Terrieur\n"
     ]
    }
   ],
   "source": [
    "family = people.find({\"last_name\": 'Terrieur'})\n",
    "for member in family:\n",
    "    print(member['first_name'] + ' ' + member['last_name'])"
   ]
  },
  {
   "cell_type": "markdown",
   "metadata": {},
   "source": [
    "<div style=\"font-size:120%; border-bottom:1px solid #444; background-color:#eee\">Count</div>"
   ]
  },
  {
   "cell_type": "code",
   "execution_count": 18,
   "metadata": {
    "collapsed": false
   },
   "outputs": [
    {
     "name": "stdout",
     "output_type": "stream",
     "text": [
      "7\n",
      "2\n"
     ]
    }
   ],
   "source": [
    "print(people.count_documents({}))\n",
    "print(people.count_documents({'last_name': 'Terrieur'}))"
   ]
  },
  {
   "cell_type": "code",
   "execution_count": 19,
   "metadata": {
    "collapsed": false
   },
   "outputs": [
    {
     "name": "stdout",
     "output_type": "stream",
     "text": [
      "1\n"
     ]
    }
   ],
   "source": [
    "print(people.count_documents({'first_name': 'Raymond'}))"
   ]
  },
  {
   "cell_type": "markdown",
   "metadata": {},
   "source": [
    "<div id=\"update\" style=\"font-size:120%; border-bottom:1px solid #444; background-color:#eee\">Update</div>"
   ]
  },
  {
   "cell_type": "code",
   "execution_count": 20,
   "metadata": {
    "collapsed": false
   },
   "outputs": [
    {
     "name": "stdout",
     "output_type": "stream",
     "text": [
      "{'n': 1, 'nModified': 1, 'ok': 1.0, 'updatedExisting': True}\n"
     ]
    }
   ],
   "source": [
    "retval = people.update_one(\n",
    "    {'first_name':'Ginette'},\n",
    "    { '$set': {'first_name':'Gigi'},\n",
    "      '$unset': {'aka':''}\n",
    "    }\n",
    ")\n",
    "print(retval.raw_result)"
   ]
  },
  {
   "cell_type": "code",
   "execution_count": 21,
   "metadata": {
    "collapsed": false
   },
   "outputs": [
    {
     "name": "stdout",
     "output_type": "stream",
     "text": [
      "Gigi\n"
     ]
    }
   ],
   "source": [
    "ginette = people.find_one({'first_name': 'Gigi'})\n",
    "print(ginette['first_name'])"
   ]
  },
  {
   "cell_type": "code",
   "execution_count": 22,
   "metadata": {
    "collapsed": false
   },
   "outputs": [
    {
     "name": "stdout",
     "output_type": "stream",
     "text": [
      "{'n': 1, 'nModified': 1, 'ok': 1.0, 'updatedExisting': True}\n"
     ]
    }
   ],
   "source": [
    "ginette['first_name'] = 'Ginette'\n",
    "retval = people.update_one({'_id': ginette['_id']},{'$set': ginette})\n",
    "print(retval.raw_result)"
   ]
  },
  {
   "cell_type": "code",
   "execution_count": 23,
   "metadata": {
    "collapsed": false
   },
   "outputs": [
    {
     "name": "stdout",
     "output_type": "stream",
     "text": [
      "{'n': 1, 'nModified': 1, 'ok': 1.0, 'updatedExisting': True}\n"
     ]
    }
   ],
   "source": [
    "retval = people.update_one(\n",
    "    {'_id': ginette['_id']},\n",
    "    {'$set': {'aka': 'Gigi'}}\n",
    ")\n",
    "print(retval.raw_result)"
   ]
  },
  {
   "cell_type": "code",
   "execution_count": 24,
   "metadata": {
    "collapsed": false
   },
   "outputs": [
    {
     "name": "stdout",
     "output_type": "stream",
     "text": [
      "{'_id': ObjectId('63778677be21fce9c982c586'),\n",
      " 'aka': 'Gigi',\n",
      " 'email': 'gigi@wanadoo.fr',\n",
      " 'first_name': 'Ginette',\n",
      " 'last_name': 'Ringard'}\n"
     ]
    }
   ],
   "source": [
    "gigi = people.find_one({'first_name': 'Ginette'})\n",
    "pprint.pprint(gigi)"
   ]
  },
  {
   "cell_type": "code",
   "execution_count": 25,
   "metadata": {
    "collapsed": false
   },
   "outputs": [
    {
     "name": "stdout",
     "output_type": "stream",
     "text": [
      "{'n': 1, 'nModified': 0, 'ok': 1.0, 'updatedExisting': True}\n"
     ]
    }
   ],
   "source": [
    "retval = people.update_one({'_id': ginette['_id']}, {'$set': ginette})\n",
    "print(retval.raw_result)"
   ]
  },
  {
   "cell_type": "markdown",
   "metadata": {},
   "source": [
    "<p id=\"replace\">\n",
    "La commande précédente met uniquement à jour les attributs communs avec ginette, donc ne fait rien dans le cas présent (nModified = 0).\n",
    "</p>\n",
    "<p>\n",
    "Contrairement à la commande suivante, qui remplace complètement le document existant avec le document fourni, ce qui revient dans le cas présent à supprimer l'attribut 'aka'.\n",
    "</p>"
   ]
  },
  {
   "cell_type": "code",
   "execution_count": 26,
   "metadata": {
    "collapsed": false
   },
   "outputs": [
    {
     "name": "stdout",
     "output_type": "stream",
     "text": [
      "{'n': 1, 'nModified': 1, 'ok': 1.0, 'updatedExisting': True}\n"
     ]
    }
   ],
   "source": [
    "retval = people.replace_one({'_id': ginette['_id']}, ginette)\n",
    "print(retval.raw_result)"
   ]
  },
  {
   "cell_type": "markdown",
   "metadata": {},
   "source": [
    "<div id=\"update_many\"></div>"
   ]
  },
  {
   "cell_type": "code",
   "execution_count": 27,
   "metadata": {
    "collapsed": false
   },
   "outputs": [
    {
     "name": "stdout",
     "output_type": "stream",
     "text": [
      "{'n': 2, 'nModified': 0, 'ok': 1.0, 'updatedExisting': True}\n"
     ]
    }
   ],
   "source": [
    "retval = people.update_many(\n",
    "    {'last_name': 'Terrieur'},\n",
    "    {'$set': {'address': 'Ecully'}}\n",
    ")\n",
    "print(retval.raw_result)"
   ]
  },
  {
   "cell_type": "markdown",
   "metadata": {},
   "source": [
    "<div id=\"delete\" style=\"font-size:120%; border-bottom:1px solid #444; background-color:#eee\">Delete</div>"
   ]
  },
  {
   "cell_type": "code",
   "execution_count": 28,
   "metadata": {
    "collapsed": false
   },
   "outputs": [
    {
     "data": {
      "text/plain": [
       "<pymongo.results.InsertManyResult at 0x174ecdcaf60>"
      ]
     },
     "execution_count": 28,
     "metadata": {},
     "output_type": "execute_result"
    }
   ],
   "source": [
    "does = [\n",
    "    { 'first_name': 'John', 'last_name': 'Doe'},\n",
    "    { 'first_name': 'Jane', 'last_name': 'Doe'},\n",
    "    { 'first_name': 'Baby', 'last_name': 'Doe'}\n",
    "]\n",
    "people.insert_many(does)"
   ]
  },
  {
   "cell_type": "code",
   "execution_count": 29,
   "metadata": {
    "collapsed": false
   },
   "outputs": [
    {
     "name": "stdout",
     "output_type": "stream",
     "text": [
      "{'n': 1, 'ok': 1.0}\n"
     ]
    }
   ],
   "source": [
    "retval = people.delete_one({'first_name': 'Baby'})\n",
    "print(retval.raw_result)"
   ]
  },
  {
   "cell_type": "code",
   "execution_count": 30,
   "metadata": {
    "collapsed": false
   },
   "outputs": [
    {
     "name": "stdout",
     "output_type": "stream",
     "text": [
      "{'n': 2, 'ok': 1.0}\n"
     ]
    }
   ],
   "source": [
    "retval = people.delete_many({'last_name': 'Doe'})\n",
    "print(retval.raw_result)"
   ]
  },
  {
   "cell_type": "code",
   "execution_count": 31,
   "metadata": {
    "collapsed": false
   },
   "outputs": [
    {
     "name": "stdout",
     "output_type": "stream",
     "text": [
      "1\n"
     ]
    }
   ],
   "source": [
    "deubazes = people.find({'first_name': 'Raymond'})\n",
    "for p in deubazes[1:]:\n",
    "    people.delete_one(p)\n",
    "print(people.count_documents({'first_name': 'Raymond'}))"
   ]
  },
  {
   "cell_type": "markdown",
   "metadata": {},
   "source": [
    "<div id=\"query_operators\"></div>\n",
    "\n",
    "### Opérateurs pour les requêtes"
   ]
  },
  {
   "cell_type": "code",
   "execution_count": 32,
   "metadata": {
    "collapsed": false
   },
   "outputs": [
    {
     "name": "stdout",
     "output_type": "stream",
     "text": [
      "Alex Terrieur\n",
      "Alain Terrieur\n"
     ]
    }
   ],
   "source": [
    "friends = people.find({ 'first_name': {'$in': ['Alain','Alex']}})\n",
    "for p in friends:\n",
    "    print(p['first_name'] + ' ' + p['last_name'])"
   ]
  },
  {
   "cell_type": "code",
   "execution_count": 33,
   "metadata": {
    "collapsed": false
   },
   "outputs": [
    {
     "name": "stdout",
     "output_type": "stream",
     "text": [
      "Jeanne Aulapin\n",
      "Anna Conda\n",
      "Ginette Ringard\n"
     ]
    }
   ],
   "source": [
    "girls = people.find({ '$or': [\n",
    "    {'first_name': 'Anna'},\n",
    "    {'last_name': 'Aulapin'},\n",
    "    {'email': 'gigi@wanadoo.fr'}\n",
    "]})\n",
    "for p in girls:\n",
    "    print(p['first_name'] + ' ' + p['last_name'])                     "
   ]
  },
  {
   "cell_type": "code",
   "execution_count": 75,
   "metadata": {
    "collapsed": false
   },
   "outputs": [
    {
     "name": "stdout",
     "output_type": "stream",
     "text": [
      "raymond.deubaze@ec-lyon.fr\n"
     ]
    }
   ],
   "source": [
    "raymond = people.find_one({ '$and': [\n",
    "    {'first_name': 'Raymond'},\n",
    "    {'last_name': 'Deubaze'},\n",
    "]})\n",
    "print(raymond['email'])"
   ]
  },
  {
   "cell_type": "code",
   "execution_count": 76,
   "metadata": {
    "collapsed": false
   },
   "outputs": [
    {
     "name": "stdout",
     "output_type": "stream",
     "text": [
      "raymond.deubaze@ec-lyon.fr\n"
     ]
    }
   ],
   "source": [
    "raymond = people.find_one({'first_name': 'Raymond', 'last_name': 'Deubaze'})\n",
    "print(raymond['email'])"
   ]
  },
  {
   "cell_type": "markdown",
   "metadata": {},
   "source": [
    "<div id=\"regexp\"></div>"
   ]
  },
  {
   "cell_type": "code",
   "execution_count": 34,
   "metadata": {
    "collapsed": false
   },
   "outputs": [
    {
     "name": "stdout",
     "output_type": "stream",
     "text": [
      "Raymond Deubaze\n",
      "Jean Bonnot\n",
      "Alex Terrieur\n",
      "Alain Terrieur\n"
     ]
    }
   ],
   "source": [
    "import re\n",
    "\n",
    "boys = people.find({\n",
    "    '$or' : [\n",
    "        {'first_name': 'Raymond'},\n",
    "        {'email': { '$regex': re.compile('gmail.com')}}\n",
    "    ]\n",
    "})\n",
    "for p in boys:\n",
    "    print(p['first_name'] + ' ' + p['last_name'])                     "
   ]
  },
  {
   "cell_type": "code",
   "execution_count": 35,
   "metadata": {
    "collapsed": false
   },
   "outputs": [
    {
     "name": "stdout",
     "output_type": "stream",
     "text": [
      "{'_id': ObjectId('637785c399a65486d33db0e7'), 'first_name': 'Raymond', 'last_name': 'Deubaze', 'email': 'raymond.deubaze@ec-lyon.fr'}\n",
      "{'_id': ObjectId('63778677be21fce9c982c581'), 'first_name': 'Jeanne', 'last_name': 'Aulapin', 'email': 'jan@provider.net'}\n",
      "{'_id': ObjectId('63778677be21fce9c982c582'), 'first_name': 'Anna', 'last_name': 'Conda', 'email': 'aca@provider.net'}\n",
      "{'_id': ObjectId('63778677be21fce9c982c583'), 'first_name': 'Jean', 'last_name': 'Bonnot', 'email': 'jbt@gmail.com'}\n",
      "{'_id': ObjectId('63778677be21fce9c982c584'), 'first_name': 'Alex', 'last_name': 'Terrieur', 'email': 'axtr@gmail.com', 'address': 'Ecully'}\n",
      "{'_id': ObjectId('63778677be21fce9c982c585'), 'first_name': 'Alain', 'last_name': 'Terrieur', 'email': 'antr@gmail.com', 'address': 'Ecully'}\n",
      "{'_id': ObjectId('63778677be21fce9c982c586'), 'first_name': 'Ginette', 'last_name': 'Ringard', 'email': 'gigi@wanadoo.fr'}\n"
     ]
    }
   ],
   "source": [
    "all = people.find()\n",
    "for p in all:\n",
    "    print(p)"
   ]
  },
  {
   "cell_type": "markdown",
   "metadata": {},
   "source": [
    "<div id=\"datetime\"></div>\n",
    "### Date, Timestamp et types spécialisés\n",
    "#### Date\n",
    "\n",
    "Avec le driver PyMongo, les dates et les timestamp s'utilisent via datetime, le module standard de python."
   ]
  },
  {
   "cell_type": "code",
   "execution_count": 36,
   "metadata": {
    "collapsed": false
   },
   "outputs": [
    {
     "name": "stdout",
     "output_type": "stream",
     "text": [
      "{'n': 1, 'nModified': 1, 'ok': 1.0, 'updatedExisting': True}\n"
     ]
    }
   ],
   "source": [
    "import datetime\n",
    "\n",
    "# Date\n",
    "date = datetime.datetime(2002,11,24,17,53,0)\n",
    "retval = people.update_one({'first_name': 'Raymond'}, {'$set': {'birthdate': date}})\n",
    "print(retval.raw_result)"
   ]
  },
  {
   "cell_type": "code",
   "execution_count": 38,
   "metadata": {
    "collapsed": false
   },
   "outputs": [
    {
     "name": "stdout",
     "output_type": "stream",
     "text": [
      "{'_id': ObjectId('637785c399a65486d33db0e7'), 'first_name': 'Raymond', 'last_name': 'Deubaze', 'email': 'raymond.deubaze@ec-lyon.fr', 'birthdate': datetime.datetime(2002, 11, 24, 17, 53)}\n"
     ]
    }
   ],
   "source": [
    "raymond = people.find_one({'first_name': 'Raymond'})\n",
    "print(raymond)"
   ]
  },
  {
   "cell_type": "code",
   "execution_count": 63,
   "metadata": {
    "collapsed": false
   },
   "outputs": [
    {
     "name": "stdout",
     "output_type": "stream",
     "text": [
      "{'birthdate': datetime.datetime(2002, 11, 24, 17, 53)}\n"
     ]
    }
   ],
   "source": [
    "print(people.find_one({'_id':raymond['_id']},{'birthdate':1,'_id':0}))"
   ]
  },
  {
   "cell_type": "code",
   "execution_count": 40,
   "metadata": {
    "collapsed": false
   },
   "outputs": [
    {
     "name": "stdout",
     "output_type": "stream",
     "text": [
      "<class 'datetime.datetime'> 2002-11-24 17:53:00\n"
     ]
    }
   ],
   "source": [
    "print(type(raymond['birthdate']), raymond['birthdate'])"
   ]
  },
  {
   "cell_type": "markdown",
   "metadata": {},
   "source": [
    "#### Timestamp"
   ]
  },
  {
   "cell_type": "markdown",
   "metadata": {},
   "source": [
    "now = datetime.datetime.utcnow()\n",
    "retval = people.update_one({'first_name': 'Raymond'}, {'$set': {'last_updated': now}})\n",
    "print(retval.raw_result)"
   ]
  },
  {
   "cell_type": "code",
   "execution_count": 49,
   "metadata": {
    "collapsed": false
   },
   "outputs": [
    {
     "name": "stdout",
     "output_type": "stream",
     "text": [
      "<class 'datetime.datetime'> 2022-11-24 17:22:47.717000\n"
     ]
    }
   ],
   "source": [
    "raymond = people.find_one({'first_name': 'Raymond'})\n",
    "print(type(raymond['last_updated']), raymond['last_updated'])"
   ]
  },
  {
   "cell_type": "markdown",
   "metadata": {},
   "source": [
    "<div id=\"objectid\"></div>\n",
    "#### Object ID"
   ]
  },
  {
   "cell_type": "code",
   "execution_count": 41,
   "metadata": {
    "collapsed": false
   },
   "outputs": [
    {
     "name": "stdout",
     "output_type": "stream",
     "text": [
      "<class 'bson.objectid.ObjectId'> 637785c399a65486d33db0e7\n"
     ]
    }
   ],
   "source": [
    "from bson.objectid import ObjectId\n",
    "\n",
    "print(type(raymond['_id']), raymond['_id'])"
   ]
  },
  {
   "cell_type": "markdown",
   "metadata": {},
   "source": [
    "<div id=\"decimal128\"></div>\n",
    "#### Decimal 128"
   ]
  },
  {
   "cell_type": "code",
   "execution_count": 57,
   "metadata": {
    "collapsed": false
   },
   "outputs": [
    {
     "name": "stdout",
     "output_type": "stream",
     "text": [
      "{'n': 1, 'nModified': 1, 'ok': 1.0, 'updatedExisting': True}\n"
     ]
    }
   ],
   "source": [
    "from bson.decimal128 import Decimal128\n",
    "\n",
    "retval = people.update_one({'first_name': 'Raymond'}, {'$set': {'credit': Decimal128('123456789.12')}})\n",
    "print(retval.raw_result)"
   ]
  },
  {
   "cell_type": "code",
   "execution_count": 58,
   "metadata": {
    "collapsed": false
   },
   "outputs": [
    {
     "name": "stdout",
     "output_type": "stream",
     "text": [
      "<class 'bson.decimal128.Decimal128'> 123456789.12\n"
     ]
    }
   ],
   "source": [
    "raymond = people.find_one({'first_name': 'Raymond'})\n",
    "print(type(raymond['credit']), raymond['credit'])"
   ]
  },
  {
   "cell_type": "markdown",
   "metadata": {},
   "source": [
    "<div id=\"projection\"></div>\n",
    "\n",
    "#### Requêtes avec projection"
   ]
  },
  {
   "cell_type": "code",
   "execution_count": 72,
   "metadata": {
    "collapsed": false
   },
   "outputs": [
    {
     "name": "stdout",
     "output_type": "stream",
     "text": [
      "{'first_name': 'Raymond', 'last_name': 'Deubaze'}\n",
      "{'first_name': 'Jeanne', 'last_name': 'Aulapin'}\n",
      "{'first_name': 'Anna', 'last_name': 'Conda'}\n",
      "{'first_name': 'Jean', 'last_name': 'Bonnot'}\n",
      "{'first_name': 'Alex', 'last_name': 'Terrieur'}\n",
      "{'first_name': 'Alain', 'last_name': 'Terrieur'}\n",
      "{'first_name': 'Ginette', 'last_name': 'Ringard'}\n"
     ]
    }
   ],
   "source": [
    "all = people.find({},{\"first_name\": 1, \"last_name\":1, \"_id\":0})\n",
    "for p in all: pprint.pprint(p)"
   ]
  },
  {
   "cell_type": "code",
   "execution_count": 37,
   "metadata": {
    "collapsed": false
   },
   "outputs": [],
   "source": [
    "#people.delete_many({})"
   ]
  }
 ],
 "metadata": {
  "kernelspec": {
   "display_name": "Python 3",
   "language": "python",
   "name": "python3"
  },
  "language_info": {
   "codemirror_mode": {
    "name": "ipython",
    "version": 3
   },
   "file_extension": ".py",
   "mimetype": "text/x-python",
   "name": "python",
   "nbconvert_exporter": "python",
   "pygments_lexer": "ipython3",
   "version": "3.6.6"
  }
 },
 "nbformat": 4,
 "nbformat_minor": 2
}
