{
 "cells": [
  {
   "cell_type": "markdown",
   "metadata": {},
   "source": [
    "## Base de données JSON : MongoDB avancé"
   ]
  },
  {
   "cell_type": "markdown",
   "metadata": {},
   "source": [
    "### Lecture de données"
   ]
  },
  {
   "cell_type": "code",
   "execution_count": 1,
   "metadata": {
    "collapsed": false
   },
   "outputs": [],
   "source": [
    "import csv\n",
    "\n",
    "lignes = []\n",
    "def get_ligne(id):\n",
    "    for l in lignes:\n",
    "        if l['_id'] == id:\n",
    "            return l\n",
    "    return None\n",
    "    \n",
    "# Lecture des informations\n",
    "with open(\"ponctualite-mensuelle-transilien.csv\",'r',encoding='ISO-8859-1') as csvfile:\n",
    "    reader = csv.reader(csvfile, delimiter=';', quotechar='\"')\n",
    "    first_line = True\n",
    "    for row in reader:\n",
    "        if not first_line:\n",
    "            (id,date,service,sigle,nom,ponctualite,satisfaction) = row\n",
    "            ponctualite = float(ponctualite) if not ponctualite == '' else 0.0\n",
    "            satisfaction = float(satisfaction)\n",
    "            ligne = get_ligne(id)\n",
    "            if not ligne:\n",
    "                ligne = { \"_id\":id, \"service\":service, \"sigle\":sigle, \"nom\":nom, \"mesures\":[] }\n",
    "                lignes.append(ligne)\n",
    "            ligne['mesures'].append({'date': date, 'ponctualite': ponctualite, 'satisfaction': satisfaction})\n",
    "        first_line = False"
   ]
  },
  {
   "cell_type": "markdown",
   "metadata": {},
   "source": [
    "### Collections"
   ]
  },
  {
   "cell_type": "code",
   "execution_count": 3,
   "metadata": {
    "collapsed": true
   },
   "outputs": [],
   "source": [
    "from pymongo import MongoClient\n",
    "\n",
    "client = MongoClient('localhost', 27017)\n",
    "db = client['test']\n",
    "\n",
    "# Structure arborescente (liste des lignes, contenant les mesures)\n",
    "transiliens = db['transiliens']\n",
    "\n",
    "# Structure à plat (liste des mesures, avec indication des lignes)\n",
    "mesures = db['transiliens:mesures']"
   ]
  },
  {
   "cell_type": "markdown",
   "metadata": {},
   "source": [
    "<div id=\"alimentation_des_collections\"></div>\n",
    "\n",
    "### Alimentation des collections"
   ]
  },
  {
   "cell_type": "code",
   "execution_count": 4,
   "metadata": {
    "collapsed": false
   },
   "outputs": [],
   "source": [
    "for l in lignes:\n",
    "    # structure arborescente\n",
    "    transiliens.update_one( {'_id': l['_id']}, {'$set': l}, upsert=True)\n",
    "    \n",
    "    # mesures à plat (cf. fichier d'origine)\n",
    "    for m in l['mesures']:\n",
    "        mesures.update_one(\n",
    "            {\"id\": l['_id'], 'date': m['date'] },\n",
    "            { '$set': {\n",
    "                \"id\": l['_id'], \"service\":l['service'], \"sigle\":l['sigle'], \"nom\":l['nom'],\n",
    "                'date': m['date'], 'ponctualite': m['ponctualite'], 'satisfaction': m['satisfaction']\n",
    "            }},\n",
    "            upsert=True\n",
    "        )"
   ]
  },
  {
   "cell_type": "markdown",
   "metadata": {},
   "source": [
    "<div id=\"contenu_des_collections\"></div>"
   ]
  },
  {
   "cell_type": "code",
   "execution_count": 5,
   "metadata": {
    "collapsed": false
   },
   "outputs": [
    {
     "name": "stdout",
     "output_type": "stream",
     "text": [
      "13 416\n"
     ]
    }
   ],
   "source": [
    "print(transiliens.count_documents({}), mesures.count_documents({}))"
   ]
  },
  {
   "cell_type": "code",
   "execution_count": 13,
   "metadata": {
    "collapsed": false
   },
   "outputs": [
    {
     "name": "stdout",
     "output_type": "stream",
     "text": [
      "{'_id': ObjectId('6377b94049977c26af2efc93'),\n",
      " 'date': '2013-01',\n",
      " 'id': 'TRA_1',\n",
      " 'nom': 'RER A',\n",
      " 'ponctualite': 83.6,\n",
      " 'satisfaction': 5.1,\n",
      " 'service': 'RER',\n",
      " 'sigle': 'A'}\n"
     ]
    }
   ],
   "source": [
    "import pprint\n",
    "pprint.pprint(mesures.find_one())"
   ]
  },
  {
   "cell_type": "code",
   "execution_count": 12,
   "metadata": {
    "collapsed": false,
    "scrolled": true
   },
   "outputs": [
    {
     "name": "stdout",
     "output_type": "stream",
     "text": [
      "{'_id': 'TRA_1',\n",
      " 'mesures': [{'date': '2013-01', 'ponctualite': 83.6, 'satisfaction': 5.1},\n",
      "             {'date': '2013-04', 'ponctualite': 83.3, 'satisfaction': 5.0},\n",
      "             {'date': '2013-08', 'ponctualite': 88.9, 'satisfaction': 8.0},\n",
      "             {'date': '2014-02', 'ponctualite': 85.7, 'satisfaction': 6.0},\n",
      "             {'date': '2015-02',\n",
      "              'ponctualite': 73.0954862767,\n",
      "              'satisfaction': 2.7},\n",
      "             {'date': '2015-03',\n",
      "              'ponctualite': 71.9550770992,\n",
      "              'satisfaction': 2.6},\n",
      "             {'date': '2015-06',\n",
      "              'ponctualite': 71.1496303121,\n",
      "              'satisfaction': 2.5},\n",
      "             {'date': '2013-09', 'ponctualite': 83.3, 'satisfaction': 5.0},\n",
      "             {'date': '2013-11', 'ponctualite': 80.9, 'satisfaction': 4.2},\n",
      "             {'date': '2014-05', 'ponctualite': 87.6, 'satisfaction': 7.1},\n",
      "             {'date': '2014-10', 'ponctualite': 68.8, 'satisfaction': 2.2},\n",
      "             {'date': '2014-11', 'ponctualite': 69.8, 'satisfaction': 2.3},\n",
      "             {'date': '2015-04',\n",
      "              'ponctualite': 71.9766560096,\n",
      "              'satisfaction': 2.6},\n",
      "             {'date': '2015-08',\n",
      "              'ponctualite': 82.9967982302,\n",
      "              'satisfaction': 4.9},\n",
      "             {'date': '2013-02', 'ponctualite': 86.2, 'satisfaction': 6.2},\n",
      "             {'date': '2013-06', 'ponctualite': 83.4, 'satisfaction': 5.0},\n",
      "             {'date': '2013-12', 'ponctualite': 81.2, 'satisfaction': 4.3},\n",
      "             {'date': '2014-01', 'ponctualite': 81.1, 'satisfaction': 4.3},\n",
      "             {'date': '2014-04', 'ponctualite': 85.7, 'satisfaction': 6.0},\n",
      "             {'date': '2014-06', 'ponctualite': 72.6, 'satisfaction': 2.6},\n",
      "             {'date': '2014-07', 'ponctualite': 70.5, 'satisfaction': 2.4},\n",
      "             {'date': '2014-08', 'ponctualite': 81.2, 'satisfaction': 4.3},\n",
      "             {'date': '2013-07', 'ponctualite': 83.2, 'satisfaction': 5.0},\n",
      "             {'date': '2014-03', 'ponctualite': 83.3, 'satisfaction': 5.0},\n",
      "             {'date': '2015-05',\n",
      "              'ponctualite': 71.2171208681,\n",
      "              'satisfaction': 2.5},\n",
      "             {'date': '2013-03', 'ponctualite': 84.0, 'satisfaction': 5.3},\n",
      "             {'date': '2013-05', 'ponctualite': 86.4, 'satisfaction': 6.4},\n",
      "             {'date': '2013-10', 'ponctualite': 83.1, 'satisfaction': 4.9},\n",
      "             {'date': '2014-09', 'ponctualite': 70.9, 'satisfaction': 2.4},\n",
      "             {'date': '2014-12', 'ponctualite': 67.3, 'satisfaction': 2.1},\n",
      "             {'date': '2015-01', 'ponctualite': 74.5, 'satisfaction': 2.9},\n",
      "             {'date': '2015-07', 'ponctualite': 73.1, 'satisfaction': 2.7}],\n",
      " 'nom': 'RER A',\n",
      " 'service': 'RER',\n",
      " 'sigle': 'A'}\n"
     ]
    }
   ],
   "source": [
    "pprint.pprint(transiliens.find_one())"
   ]
  },
  {
   "cell_type": "markdown",
   "metadata": {},
   "source": [
    "### Recherches sur la structure à plat\n",
    "\n",
    "Cette requête renvoie l'ensemble des informations d'une ligne de données (cf. SELECT * WHERE ponctualite > 96.2)"
   ]
  },
  {
   "cell_type": "code",
   "execution_count": 6,
   "metadata": {
    "collapsed": false
   },
   "outputs": [
    {
     "name": "stdout",
     "output_type": "stream",
     "text": [
      "Paris Nord Ouest 2014-05 96.9\n",
      "Paris Nord Ouest 2015-08 96.3\n",
      "Paris Nord Ouest 2014-03 96.4\n",
      "Paris Nord Ouest 2014-09 96.3\n",
      "RER E 2013-09 96.8\n",
      "RER E 2015-03 96.3263168075\n",
      "Paris Montparnasse 2015-08 96.3\n"
     ]
    }
   ],
   "source": [
    "found = mesures.find({'ponctualite': {'$gt': 96.2}})\n",
    "for f in found:\n",
    "    print(f['nom'], f['date'], f['ponctualite'])"
   ]
  },
  {
   "cell_type": "markdown",
   "metadata": {},
   "source": [
    "<div id=\"gt\">\n",
    "Requête avec projection : ne renvoie que le nom, la date et la ponctualité\n",
    "</div>"
   ]
  },
  {
   "cell_type": "code",
   "execution_count": 23,
   "metadata": {
    "collapsed": false
   },
   "outputs": [
    {
     "name": "stdout",
     "output_type": "stream",
     "text": [
      "{'date': '2014-05', 'nom': 'Paris Nord Ouest', 'ponctualite': 96.9}\n",
      "{'date': '2015-08', 'nom': 'Paris Nord Ouest', 'ponctualite': 96.3}\n",
      "{'date': '2014-03', 'nom': 'Paris Nord Ouest', 'ponctualite': 96.4}\n",
      "{'date': '2014-09', 'nom': 'Paris Nord Ouest', 'ponctualite': 96.3}\n",
      "{'date': '2013-09', 'nom': 'RER E', 'ponctualite': 96.8}\n",
      "{'date': '2015-03', 'nom': 'RER E', 'ponctualite': 96.3263168075}\n",
      "{'date': '2015-08', 'nom': 'Paris Montparnasse', 'ponctualite': 96.3}\n"
     ]
    }
   ],
   "source": [
    "found = mesures.find({'ponctualite': {'$gt': 96.2}}, {\"nom\":1, \"date\":1, \"ponctualite\":1, \"_id\":0 })\n",
    "for f in found:\n",
    "    print(f)"
   ]
  },
  {
   "cell_type": "markdown",
   "metadata": {},
   "source": [
    "### Recherches sur la structure arborescente\n",
    "\n",
    "Cette requête renvoie le nom de la ligne pour les lignes qui présentent une mesure de ponctualité meilleure que 96.2%, ainsi que la date et la valeur de la ponctualité pour l'ensemble des mesures des lignes concernées."
   ]
  },
  {
   "cell_type": "code",
   "execution_count": 8,
   "metadata": {
    "collapsed": false
   },
   "outputs": [
    {
     "name": "stdout",
     "output_type": "stream",
     "text": [
      "Paris Nord Ouest\n",
      "{'date': '2014-05', 'ponctualite': 96.9}\n",
      "{'date': '2015-08', 'ponctualite': 96.3}\n",
      "{'date': '2014-03', 'ponctualite': 96.4}\n",
      "{'date': '2014-09', 'ponctualite': 96.3}\n",
      "RER E\n",
      "{'date': '2013-09', 'ponctualite': 96.8}\n",
      "{'date': '2015-03', 'ponctualite': 96.3263168075}\n",
      "Paris Montparnasse\n",
      "{'date': '2015-08', 'ponctualite': 96.3}\n"
     ]
    }
   ],
   "source": [
    "# renvoie toutes les mesures des listes en contenant une de ponctualité > 96.2%\n",
    "found = transiliens.find(\n",
    "    {\"mesures.ponctualite\" : {\"$gt\": 96.2 }},\n",
    "    {\"nom\":1, \"mesures.date\":1, \"mesures.ponctualite\": 1 }\n",
    ")\n",
    "\n",
    "# traitement en python pour n'afficher que les mesures de ponctualité > 96.2%\n",
    "for f in found:\n",
    "    print(f['nom'])\n",
    "    for m in f['mesures']:\n",
    "        if m['ponctualite'] > 96.2:\n",
    "            pprint.pprint(m)"
   ]
  },
  {
   "cell_type": "markdown",
   "metadata": {},
   "source": [
    "Cette requête renvoie le nom de la ligne et la première mesure concernée, pour les lignes qui présentent une mesure de ponctualité meilleure que 96.2%. "
   ]
  },
  {
   "cell_type": "code",
   "execution_count": 26,
   "metadata": {
    "collapsed": false
   },
   "outputs": [
    {
     "name": "stdout",
     "output_type": "stream",
     "text": [
      "{'mesures': [{'date': '2014-05', 'ponctualite': 96.9, 'satisfaction': 31.3}],\n",
      " 'nom': 'Paris Nord Ouest'}\n",
      "{'mesures': [{'date': '2013-09', 'ponctualite': 96.8, 'satisfaction': 30.3}],\n",
      " 'nom': 'RER E'}\n",
      "{'mesures': [{'date': '2015-08', 'ponctualite': 96.3, 'satisfaction': 26.0}],\n",
      " 'nom': 'Paris Montparnasse'}\n"
     ]
    }
   ],
   "source": [
    "# renvoie le nom de la ligne, et la première mesure de ponctualité > 96.2% des ligne qui en contiennent au moins une\n",
    "found = transiliens.find(\n",
    "    {\"mesures.ponctualite\" : {\"$gt\": 96.2 }},\n",
    "    {\"nom\":1, \"mesures.$\": 1, \"_id\":0}\n",
    "    )\n",
    "for f in found:\n",
    "    pprint.pprint(f)"
   ]
  },
  {
   "cell_type": "markdown",
   "metadata": {},
   "source": [
    "Renvoie le nom de toutes lignes et la première mesure de ponctualité > 96.2% s'il en existe une"
   ]
  },
  {
   "cell_type": "code",
   "execution_count": 27,
   "metadata": {
    "collapsed": false
   },
   "outputs": [
    {
     "name": "stdout",
     "output_type": "stream",
     "text": [
      "{'nom': 'RER A'}\n",
      "{'nom': 'RER B'}\n",
      "{'mesures': [{'date': '2014-05', 'ponctualite': 96.9, 'satisfaction': 31.3}],\n",
      " 'nom': 'Paris Nord Ouest'}\n",
      "{'nom': 'Paris Nord Crépy'}\n",
      "{'nom': 'Paris Est'}\n",
      "{'nom': 'RER D'}\n",
      "{'mesures': [{'date': '2013-09', 'ponctualite': 96.8, 'satisfaction': 30.3}],\n",
      " 'nom': 'RER E'}\n",
      "{'nom': 'Paris Saint-Lazare Nord'}\n",
      "{'mesures': [{'date': '2015-08', 'ponctualite': 96.3, 'satisfaction': 26.0}],\n",
      " 'nom': 'Paris Montparnasse'}\n",
      "{'nom': 'Paris Saint-Lazare Sud'}\n",
      "{'nom': 'La Verrière - La Défense'}\n",
      "{'nom': 'Paris Sud Est'}\n",
      "{'nom': 'RER C'}\n"
     ]
    }
   ],
   "source": [
    "found = transiliens.find(\n",
    "    {},\n",
    "    {\"_id\":0, \"nom\":1, \"mesures\": {\"$elemMatch\": { \"ponctualite\": { \"$gt\": 96.2 }}}}\n",
    ")\n",
    "for f in found:\n",
    "    pprint.pprint(f)"
   ]
  },
  {
   "cell_type": "markdown",
   "metadata": {},
   "source": [
    "<div id=\"aggregation\">\n",
    "Requête avec aggrégation pour renvoyer le nom des lignes avec des mesures de ponctualité > 96% et les mesures correspondantes, triées par date\n",
    "</div>"
   ]
  },
  {
   "cell_type": "code",
   "execution_count": 48,
   "metadata": {
    "collapsed": false
   },
   "outputs": [
    {
     "name": "stdout",
     "output_type": "stream",
     "text": [
      "[{'mesures': [{'date': '2014-03', 'ponctualite': 96.4, 'satisfaction': 26.8},\n",
      "              {'date': '2014-05', 'ponctualite': 96.9, 'satisfaction': 31.3},\n",
      "              {'date': '2014-09', 'ponctualite': 96.3, 'satisfaction': 26.0},\n",
      "              {'date': '2015-08', 'ponctualite': 96.3, 'satisfaction': 26.0}],\n",
      "  'nom': 'Paris Nord Ouest'},\n",
      " {'mesures': [{'date': '2013-09', 'ponctualite': 96.8, 'satisfaction': 30.3},\n",
      "              {'date': '2015-03',\n",
      "               'ponctualite': 96.3263168075,\n",
      "               'satisfaction': 26.2}],\n",
      "  'nom': 'RER E'},\n",
      " {'mesures': [{'date': '2015-08', 'ponctualite': 96.3, 'satisfaction': 26.0}],\n",
      "  'nom': 'Paris Montparnasse'}]\n"
     ]
    }
   ],
   "source": [
    "found = transiliens.aggregate([\n",
    "    {\n",
    "        \"$match\": {\"mesures.ponctualite\" : {\"$gt\": 96.2 }}\n",
    "    },\n",
    "    {\n",
    "         \"$project\": {\n",
    "             \"mesures\": {\n",
    "                 \"$filter\": {\n",
    "                     \"input\": \"$mesures\",\n",
    "                     \"cond\": { \"$gt\": [\"$$this.ponctualite\", 96.2] }\n",
    "                 },\n",
    "             },\n",
    "             \"nom\": 1,\n",
    "             \"_id\": 0\n",
    "        }\n",
    "    },\n",
    "    {\n",
    "         \"$project\": {\n",
    "             \"mesures\": {\n",
    "                 \"$sortArray\": {\n",
    "                     \"input\": \"$mesures\",\n",
    "                     \"sortBy\": { \"date\": 1 }\n",
    "                 }\n",
    "             },\n",
    "            \"nom\": 1\n",
    "         }\n",
    "    }\n",
    "\n",
    "])\n",
    "pprint.pprint([f for f in found])"
   ]
  },
  {
   "cell_type": "code",
   "execution_count": 46,
   "metadata": {
    "collapsed": false
   },
   "outputs": [
    {
     "name": "stdout",
     "output_type": "stream",
     "text": [
      "<pymongo.command_cursor.CommandCursor object at 0x0000022570A1B9B0>\n"
     ]
    }
   ],
   "source": [
    "pprint.pprint(found)"
   ]
  },
  {
   "cell_type": "markdown",
   "metadata": {},
   "source": [
    "<div id=\"tri\"></div>\n",
    "### Tri"
   ]
  },
  {
   "cell_type": "code",
   "execution_count": 24,
   "metadata": {
    "collapsed": false
   },
   "outputs": [
    {
     "name": "stdout",
     "output_type": "stream",
     "text": [
      "{'date': '2013-09', 'nom': 'RER E', 'ponctualite': 96.8}\n",
      "{'date': '2014-03', 'nom': 'Paris Nord Ouest', 'ponctualite': 96.4}\n",
      "{'date': '2014-05', 'nom': 'Paris Nord Ouest', 'ponctualite': 96.9}\n",
      "{'date': '2014-09', 'nom': 'Paris Nord Ouest', 'ponctualite': 96.3}\n",
      "{'date': '2015-03', 'nom': 'RER E', 'ponctualite': 96.3263168075}\n",
      "{'date': '2015-08', 'nom': 'Paris Nord Ouest', 'ponctualite': 96.3}\n",
      "{'date': '2015-08', 'nom': 'Paris Montparnasse', 'ponctualite': 96.3}\n"
     ]
    }
   ],
   "source": [
    "found = mesures.find({'ponctualite': {'$gt': 96.2}}, {\"nom\":1, \"date\":1, \"ponctualite\":1, \"_id\":0 }).sort(\"date\",1)\n",
    "for f in found:\n",
    "    print(f)"
   ]
  },
  {
   "cell_type": "code",
   "execution_count": 25,
   "metadata": {
    "collapsed": false
   },
   "outputs": [
    {
     "name": "stdout",
     "output_type": "stream",
     "text": [
      "{'date': '2015-08', 'nom': 'Paris Montparnasse', 'ponctualite': 96.3}\n",
      "{'date': '2014-03', 'nom': 'Paris Nord Ouest', 'ponctualite': 96.4}\n",
      "{'date': '2014-05', 'nom': 'Paris Nord Ouest', 'ponctualite': 96.9}\n",
      "{'date': '2014-09', 'nom': 'Paris Nord Ouest', 'ponctualite': 96.3}\n",
      "{'date': '2015-08', 'nom': 'Paris Nord Ouest', 'ponctualite': 96.3}\n",
      "{'date': '2013-09', 'nom': 'RER E', 'ponctualite': 96.8}\n",
      "{'date': '2015-03', 'nom': 'RER E', 'ponctualite': 96.3263168075}\n"
     ]
    }
   ],
   "source": [
    "found = mesures.find(\n",
    "    {'ponctualite': {'$gt': 96.2}},\n",
    "    {\"nom\":1, \"date\":1, \"ponctualite\":1, \"_id\":0 }\n",
    ").sort([(\"nom\",1),(\"date\",1)])\n",
    "for f in found:\n",
    "    print(f)"
   ]
  },
  {
   "cell_type": "code",
   "execution_count": null,
   "metadata": {
    "collapsed": true
   },
   "outputs": [],
   "source": []
  }
 ],
 "metadata": {
  "kernelspec": {
   "display_name": "Python 3",
   "language": "python",
   "name": "python3"
  },
  "language_info": {
   "codemirror_mode": {
    "name": "ipython",
    "version": 3
   },
   "file_extension": ".py",
   "mimetype": "text/x-python",
   "name": "python",
   "nbconvert_exporter": "python",
   "pygments_lexer": "ipython3",
   "version": "3.6.6"
  }
 },
 "nbformat": 4,
 "nbformat_minor": 2
}
