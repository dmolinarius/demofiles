{
 "cells": [
  {
   "cell_type": "markdown",
   "metadata": {},
   "source": [
    "## PostgreSQL et JSON"
   ]
  },
  {
   "cell_type": "code",
   "execution_count": 1,
   "metadata": {
    "collapsed": true
   },
   "outputs": [],
   "source": [
    "import psycopg2\n",
    "import psycopg2.extras\n",
    "\n",
    "conn = psycopg2.connect(\n",
    "    host=\"localhost\",\n",
    "    database=\"demo\",\n",
    "    user=\"demo_owner\",\n",
    "    password=\"OODBMS\")\n",
    "\n",
    "# query result as dict\n",
    "c = conn.cursor(cursor_factory=psycopg2.extras.DictCursor)"
   ]
  },
  {
   "cell_type": "markdown",
   "metadata": {},
   "source": [
    "<div id=\"create-JSON-table\"></div>\n",
    "<h3>Création d'une table contenant des données JSON</h3>"
   ]
  },
  {
   "cell_type": "code",
   "execution_count": 2,
   "metadata": {
    "collapsed": true
   },
   "outputs": [],
   "source": [
    "data = [\n",
    "  { \"first_name\": \"Raymond\", \"last_name\": \"Deubaze\",  \"email\": \"raymond.deubaze@ec-lyon.fr\" },\n",
    "  { \"first_name\": \"Jean\",    \"last_name\": \"Peuplu\",   \"email\": \"jpu@gmail.com\" },\n",
    "  { \"first_name\": \"Alex\",    \"last_name\": \"Terrieur\", \"email\": \"atr1@gmail.com\" },\n",
    "  { \"first_name\": \"Alain\",   \"last_name\": \"Terrieur\", \"email\": \"atr2@gmail.com\" },\n",
    "  { \"first_name\": \"Anna\",    \"last_name\": \"Conda\",    \"email\": \"Anna.Conda@ec-lyon.fr\" },\n",
    "  { \"first_name\": \"Ginette\", \"last_name\": \"Ringard\",  \"email\": \"ginette@wanadoo.fr\" }\n",
    "]"
   ]
  },
  {
   "cell_type": "code",
   "execution_count": 3,
   "metadata": {
    "collapsed": true
   },
   "outputs": [],
   "source": [
    "c.execute('DROP TABLE IF EXISTS json_people')\n",
    "\n",
    "sql = '''CREATE TABLE json_people (\n",
    "  id         SERIAL NOT NULL PRIMARY KEY,\n",
    "  person     JSON NOT NULL\n",
    ");'''\n",
    "c.execute(sql)\n",
    "\n",
    "conn.commit()"
   ]
  },
  {
   "cell_type": "markdown",
   "metadata": {},
   "source": [
    "<div id=\"insert_json\" style=\"font-size:120%\">\n",
    "La valeur donnée à un champ du type JSON doit être une chaîne de caractères conforme au standard JSON...\n",
    "</div>"
   ]
  },
  {
   "cell_type": "code",
   "execution_count": 4,
   "metadata": {
    "collapsed": false
   },
   "outputs": [],
   "source": [
    "import json\n",
    "\n",
    "sql = 'INSERT INTO json_people (person) VALUES (%s)'\n",
    "for person in data:\n",
    "    s = json.dumps(person)\n",
    "    c.execute(sql,(s,))\n",
    "\n",
    "conn.commit()"
   ]
  },
  {
   "cell_type": "code",
   "execution_count": 5,
   "metadata": {
    "collapsed": false
   },
   "outputs": [
    {
     "name": "stdout",
     "output_type": "stream",
     "text": [
      "{\"first_name\": \"Ginette\", \"last_name\": \"Ringard\", \"email\": \"ginette@wanadoo.fr\"}\n",
      "<class 'str'>\n"
     ]
    }
   ],
   "source": [
    "print(s)\n",
    "print(type(s))"
   ]
  },
  {
   "cell_type": "markdown",
   "metadata": {},
   "source": [
    "<div id=\"query_json\"></div>\n",
    "\n",
    "### Sélection de données JSON\n",
    "\n",
    "<p style=\"font-size:120%\">Le résultat d'une requête est par contre directement désérialisé par psycopg2.</p>\n",
    "https://www.psycopg.org/docs/extras.html#json-adaptation"
   ]
  },
  {
   "cell_type": "code",
   "execution_count": 6,
   "metadata": {
    "collapsed": false
   },
   "outputs": [
    {
     "name": "stdout",
     "output_type": "stream",
     "text": [
      "{'first_name': 'Raymond', 'last_name': 'Deubaze', 'email': 'raymond.deubaze@ec-lyon.fr'}\n",
      "<class 'dict'>\n"
     ]
    }
   ],
   "source": [
    "c.execute('SELECT person FROM json_people')\n",
    "someone = c.fetchone()[0]\n",
    "print(someone)\n",
    "print(type(someone))"
   ]
  },
  {
   "cell_type": "markdown",
   "metadata": {},
   "source": [
    "<p id=\"query_json_attributes\" style=\"font-size:120%\">On peut requérir uniquement certains attributs JSON :</p>"
   ]
  },
  {
   "cell_type": "code",
   "execution_count": 7,
   "metadata": {
    "collapsed": false
   },
   "outputs": [
    {
     "name": "stdout",
     "output_type": "stream",
     "text": [
      "<class 'str'> raymond.deubaze@ec-lyon.fr\n",
      "<class 'str'> jpu@gmail.com\n",
      "<class 'str'> atr1@gmail.com\n",
      "<class 'str'> atr2@gmail.com\n",
      "<class 'str'> Anna.Conda@ec-lyon.fr\n",
      "<class 'str'> ginette@wanadoo.fr\n"
     ]
    }
   ],
   "source": [
    "c.execute(\"SELECT person ->> 'email' AS email FROM json_people\")\n",
    "r = c.fetchall()\n",
    "for p in r:\n",
    "    email = p['email']\n",
    "    print(type(email),email)"
   ]
  },
  {
   "cell_type": "markdown",
   "metadata": {},
   "source": [
    "<div id=\"json_where\" style=\"font-size:120%\">L'opérateur <code>->></code> peut également apparaître au sein de la clause WHERE :\n",
    "</div>"
   ]
  },
  {
   "cell_type": "code",
   "execution_count": 8,
   "metadata": {
    "collapsed": false
   },
   "outputs": [
    {
     "name": "stdout",
     "output_type": "stream",
     "text": [
      "[5, {'first_name': 'Anna', 'last_name': 'Conda', 'email': 'Anna.Conda@ec-lyon.fr'}]\n"
     ]
    }
   ],
   "source": [
    "c.execute(\"SELECT * FROM json_people WHERE person->>'first_name' = 'Anna'\")\n",
    "r = c.fetchone()\n",
    "print(r)"
   ]
  },
  {
   "cell_type": "markdown",
   "metadata": {},
   "source": [
    "<p style=\"font-size:120%\">La différence entre les opérateurs <code>-></code> et <code>->></code> est gommée par le fait que psycopg2 désérialise automatiquement les chaînes JSON renvoyées par <code>-></code> :</p>"
   ]
  },
  {
   "cell_type": "code",
   "execution_count": 9,
   "metadata": {
    "collapsed": false
   },
   "outputs": [
    {
     "name": "stdout",
     "output_type": "stream",
     "text": [
      "<class 'str'> raymond.deubaze@ec-lyon.fr\n",
      "<class 'str'> jpu@gmail.com\n",
      "<class 'str'> atr1@gmail.com\n",
      "<class 'str'> atr2@gmail.com\n",
      "<class 'str'> Anna.Conda@ec-lyon.fr\n",
      "<class 'str'> ginette@wanadoo.fr\n"
     ]
    }
   ],
   "source": [
    "c.execute(\"SELECT person -> 'email' AS email FROM json_people\")\n",
    "r = c.fetchall()\n",
    "for p in r:\n",
    "    email = p['email']\n",
    "    print(type(email),email)"
   ]
  },
  {
   "cell_type": "markdown",
   "metadata": {},
   "source": [
    "<div id=\"json_embedded\" style=\"font-size:120%\">Quoique...</div>"
   ]
  },
  {
   "cell_type": "code",
   "execution_count": 10,
   "metadata": {
    "collapsed": true
   },
   "outputs": [],
   "source": [
    "raymond = {\n",
    "    \"first_name\": \"Raymond\", \"last_name\": \"Deubaze\",\n",
    "    \"email\": \"raymond.deubaze@ec-lyon.fr\",\n",
    "    \"office\": {'building': 'H9', 'floor':0, 'room':'Aquitaine' }\n",
    "}\n",
    "sql = \"UPDATE json_people SET person=%s WHERE person ->> 'first_name' = 'Raymond'\"\n",
    "c.execute(sql, (json.dumps(raymond),))\n",
    "conn.commit()"
   ]
  },
  {
   "cell_type": "markdown",
   "metadata": {},
   "source": [
    "<div id=\"psycopg2_str\"></div>"
   ]
  },
  {
   "cell_type": "code",
   "execution_count": 11,
   "metadata": {
    "collapsed": false
   },
   "outputs": [
    {
     "name": "stdout",
     "output_type": "stream",
     "text": [
      "<class 'str'> {\"building\": \"H9\", \"floor\": 0, \"room\": \"Aquitaine\"}\n"
     ]
    }
   ],
   "source": [
    "c.execute(\"SELECT person ->> 'office' AS office FROM json_people WHERE person ->> 'office' IS NOT NULL\")\n",
    "r = c.fetchone()[0]\n",
    "print(type(r), r)"
   ]
  },
  {
   "cell_type": "markdown",
   "metadata": {},
   "source": [
    "<div id=\"psycopg2_dict\"></div>"
   ]
  },
  {
   "cell_type": "code",
   "execution_count": 12,
   "metadata": {
    "collapsed": false
   },
   "outputs": [
    {
     "name": "stdout",
     "output_type": "stream",
     "text": [
      "<class 'dict'> {'building': 'H9', 'floor': 0, 'room': 'Aquitaine'}\n"
     ]
    }
   ],
   "source": [
    "c.execute(\"SELECT person -> 'office' AS office FROM json_people WHERE person ->> 'office' IS NOT NULL\")\n",
    "r = c.fetchone()[0]\n",
    "print(type(r), r)"
   ]
  },
  {
   "cell_type": "markdown",
   "metadata": {},
   "source": [
    "<div id=\"json_query_embedded\"></div>"
   ]
  },
  {
   "cell_type": "code",
   "execution_count": 13,
   "metadata": {
    "collapsed": false
   },
   "outputs": [
    {
     "name": "stdout",
     "output_type": "stream",
     "text": [
      "Aquitaine\n"
     ]
    }
   ],
   "source": [
    "c.execute(\"SELECT person->'office'->>'room' FROM json_people WHERE person ->> 'office' IS NOT NULL\")\n",
    "print(c.fetchone()[0])"
   ]
  },
  {
   "cell_type": "markdown",
   "metadata": {},
   "source": [
    "<div id=\"json_functions\"></div>\n",
    "\n",
    "### Fonctions dédiées au contenu JSON"
   ]
  },
  {
   "cell_type": "code",
   "execution_count": 14,
   "metadata": {
    "collapsed": false
   },
   "outputs": [
    {
     "name": "stdout",
     "output_type": "stream",
     "text": [
      "first_name\n",
      "last_name\n",
      "email\n",
      "office\n"
     ]
    }
   ],
   "source": [
    "c.execute(\"SELECT json_object_keys(person) FROM json_people WHERE person ->> 'first_name' = 'Raymond'\")\n",
    "r = c.fetchall()\n",
    "for p in r:\n",
    "    print(p[0])"
   ]
  },
  {
   "cell_type": "code",
   "execution_count": 15,
   "metadata": {
    "collapsed": false
   },
   "outputs": [
    {
     "name": "stdout",
     "output_type": "stream",
     "text": [
      "<class 'str'> {(first_name),(last_name),(email),(office)}\n"
     ]
    }
   ],
   "source": [
    "c.execute('''\n",
    "    SELECT array_agg(o) FROM (\n",
    "        SELECT json_object_keys(person) FROM json_people WHERE person ->> 'first_name' = 'Raymond'\n",
    "    ) AS o\n",
    "''')\n",
    "r = c.fetchone()[0]\n",
    "print(type(r),r)"
   ]
  },
  {
   "cell_type": "code",
   "execution_count": 16,
   "metadata": {
    "collapsed": false
   },
   "outputs": [
    {
     "name": "stdout",
     "output_type": "stream",
     "text": [
      "['first_name', 'last_name', 'email', 'office']\n"
     ]
    }
   ],
   "source": [
    "c.execute(\"SELECT json_object_keys(person) FROM json_people WHERE person ->> 'first_name' = 'Raymond'\")\n",
    "keys = [v[0] for v in c.fetchall()]\n",
    "print(keys)"
   ]
  },
  {
   "cell_type": "markdown",
   "metadata": {},
   "source": [
    "<div id=\"json_typeof\"></div>"
   ]
  },
  {
   "cell_type": "code",
   "execution_count": 17,
   "metadata": {
    "collapsed": false
   },
   "outputs": [
    {
     "name": "stdout",
     "output_type": "stream",
     "text": [
      "number\n"
     ]
    }
   ],
   "source": [
    "c.execute(\"SELECT json_typeof(person -> 'office' -> 'floor') FROM json_people WHERE person ->> 'office' IS NOT NULL\")\n",
    "r = c.fetchone()[0]\n",
    "print(r)"
   ]
  },
  {
   "cell_type": "code",
   "execution_count": 18,
   "metadata": {
    "collapsed": false
   },
   "outputs": [
    {
     "name": "stdout",
     "output_type": "stream",
     "text": [
      "H9\n"
     ]
    }
   ],
   "source": [
    "c.execute(\"SELECT person #>> '{office, building}' FROM json_people WHERE person ->> 'office' IS NOT NULL\")\n",
    "r = c.fetchone()[0]\n",
    "print(r)"
   ]
  },
  {
   "cell_type": "markdown",
   "metadata": {
    "collapsed": true
   },
   "source": [
    "<div id=\"to_json\"></div>\n",
    "### Génération d'un document JSON à partir du contenu d'une table"
   ]
  },
  {
   "cell_type": "code",
   "execution_count": 19,
   "metadata": {
    "collapsed": false
   },
   "outputs": [
    {
     "name": "stdout",
     "output_type": "stream",
     "text": [
      "{\"(1,Raymond,Deubaze,raymond.deubaze@ec-lyon.fr,t)\",\"(2,Jean,Peuplu,jpu@gmail.com,f)\",\"(3,Alex,Terrieur,atr1@gmail.com,f)\",\"(4,Alain,Terrieur,atr2@gmail.com,f)\",\"(5,Anna,Conda,Anna.Conda@ec-lyon.fr,t)\",\"(6,Ginette,Ringard,ginette@wanadoo.fr,f)\"}\n"
     ]
    }
   ],
   "source": [
    "c.execute(\"SELECT array_agg(t) FROM (SELECT * from people) AS t\")\n",
    "print(c.fetchone()[0])"
   ]
  },
  {
   "cell_type": "code",
   "execution_count": 20,
   "metadata": {
    "collapsed": false
   },
   "outputs": [
    {
     "name": "stdout",
     "output_type": "stream",
     "text": [
      "<class 'dict'> {'array_agg': [{'id': 1, 'first_name': 'Raymond', 'last_name': 'Deubaze', 'email': 'raymond.deubaze@ec-lyon.fr', 'centralien': True}, {'id': 2, 'first_name': 'Jean', 'last_name': 'Peuplu', 'email': 'jpu@gmail.com', 'centralien': False}, {'id': 3, 'first_name': 'Alex', 'last_name': 'Terrieur', 'email': 'atr1@gmail.com', 'centralien': False}, {'id': 4, 'first_name': 'Alain', 'last_name': 'Terrieur', 'email': 'atr2@gmail.com', 'centralien': False}, {'id': 5, 'first_name': 'Anna', 'last_name': 'Conda', 'email': 'Anna.Conda@ec-lyon.fr', 'centralien': True}, {'id': 6, 'first_name': 'Ginette', 'last_name': 'Ringard', 'email': 'ginette@wanadoo.fr', 'centralien': False}]}\n"
     ]
    }
   ],
   "source": [
    "c.execute('''\n",
    "    SELECT to_json(o) FROM (\n",
    "        SELECT array_agg(t) FROM (\n",
    "            SELECT * from people    \n",
    "        ) AS t\n",
    "    ) AS o\n",
    "''')\n",
    "p = c.fetchone()[0]\n",
    "print(type(p),p)"
   ]
  },
  {
   "cell_type": "code",
   "execution_count": 21,
   "metadata": {
    "collapsed": false
   },
   "outputs": [],
   "source": [
    "c.execute('DROP TABLE IF EXISTS json_key_value')\n",
    "\n",
    "sql = '''CREATE TABLE json_key_value (\n",
    "  id      TEXT NOT NULL PRIMARY KEY,\n",
    "  value   JSON NOT NULL\n",
    ");'''\n",
    "c.execute(sql)\n",
    "conn.commit()"
   ]
  },
  {
   "cell_type": "code",
   "execution_count": 22,
   "metadata": {
    "collapsed": false
   },
   "outputs": [],
   "source": [
    "sql = '''INSERT INTO json_key_value (id,value) VALUES ( 'all', (\n",
    "    SELECT to_json(o) FROM (\n",
    "        SELECT array_agg(t) FROM (\n",
    "            SELECT * from people\n",
    "        ) AS t\n",
    "    ) AS o\n",
    ") -> 'array_agg' )'''\n",
    "c.execute(sql)\n",
    "conn.commit()"
   ]
  },
  {
   "cell_type": "code",
   "execution_count": 23,
   "metadata": {
    "collapsed": false,
    "scrolled": true
   },
   "outputs": [
    {
     "name": "stdout",
     "output_type": "stream",
     "text": [
      "<class 'list'> [{'id': 1, 'first_name': 'Raymond', 'last_name': 'Deubaze', 'email': 'raymond.deubaze@ec-lyon.fr', 'centralien': True}, {'id': 2, 'first_name': 'Jean', 'last_name': 'Peuplu', 'email': 'jpu@gmail.com', 'centralien': False}, {'id': 3, 'first_name': 'Alex', 'last_name': 'Terrieur', 'email': 'atr1@gmail.com', 'centralien': False}, {'id': 4, 'first_name': 'Alain', 'last_name': 'Terrieur', 'email': 'atr2@gmail.com', 'centralien': False}, {'id': 5, 'first_name': 'Anna', 'last_name': 'Conda', 'email': 'Anna.Conda@ec-lyon.fr', 'centralien': True}, {'id': 6, 'first_name': 'Ginette', 'last_name': 'Ringard', 'email': 'ginette@wanadoo.fr', 'centralien': False}]\n"
     ]
    }
   ],
   "source": [
    "c.execute(\"SELECT value FROM json_key_value WHERE id = 'all'\")\n",
    "r = c.fetchone()[0]\n",
    "print(type(r),r)"
   ]
  },
  {
   "cell_type": "markdown",
   "metadata": {},
   "source": [
    "<div id=\"select_json_list\"></div>\n",
    "\n",
    "### Sélection dans une liste JSON"
   ]
  },
  {
   "cell_type": "code",
   "execution_count": 24,
   "metadata": {
    "collapsed": false
   },
   "outputs": [
    {
     "name": "stdout",
     "output_type": "stream",
     "text": [
      "ginette@wanadoo.fr\n"
     ]
    }
   ],
   "source": [
    "c.execute(\"SELECT value -> 5 -> 'email' FROM json_key_value WHERE id = 'all'\")\n",
    "print(c.fetchone()[0])"
   ]
  },
  {
   "cell_type": "markdown",
   "metadata": {},
   "source": [
    "<div id=\"json_to_recordset\"></div>\n",
    "### Transformation d'une liste JSON en enregistrements"
   ]
  },
  {
   "cell_type": "code",
   "execution_count": 25,
   "metadata": {
    "collapsed": false
   },
   "outputs": [
    {
     "name": "stdout",
     "output_type": "stream",
     "text": [
      "[1, 'Raymond', 'Deubaze', 'raymond.deubaze@ec-lyon.fr', True]\n",
      "[2, 'Jean', 'Peuplu', 'jpu@gmail.com', False]\n",
      "[3, 'Alex', 'Terrieur', 'atr1@gmail.com', False]\n",
      "[4, 'Alain', 'Terrieur', 'atr2@gmail.com', False]\n",
      "[5, 'Anna', 'Conda', 'Anna.Conda@ec-lyon.fr', True]\n",
      "[6, 'Ginette', 'Ringard', 'ginette@wanadoo.fr', False]\n"
     ]
    }
   ],
   "source": [
    "sql = '''SELECT person.* FROM json_to_recordset(\n",
    "    (SELECT value FROM json_key_value WHERE id='all'))\n",
    "    AS person(id INT, first_name TEXT, last_name TEXT, email TEXT, centralien BOOLEAN)\n",
    "'''\n",
    "c.execute(sql)\n",
    "for p in c.fetchall(): print(p)"
   ]
  },
  {
   "cell_type": "code",
   "execution_count": 26,
   "metadata": {
    "collapsed": true
   },
   "outputs": [],
   "source": [
    "c.execute('DROP TABLE IF EXISTS temp_people')\n",
    "\n",
    "sql = '''CREATE TABLE temp_people (\n",
    "  id         SERIAL PRIMARY KEY,\n",
    "  first_name TEXT,\n",
    "  last_name  TEXT,\n",
    "  email      TEXT,\n",
    "  centralien BOOLEAN\n",
    ");'''\n",
    "c.execute(sql)\n",
    "\n",
    "conn.commit()"
   ]
  },
  {
   "cell_type": "code",
   "execution_count": 27,
   "metadata": {
    "collapsed": false
   },
   "outputs": [],
   "source": [
    "c.execute('''\n",
    "  INSERT INTO temp_people(id, first_name, last_name, email, centralien)\n",
    "    SELECT person.* FROM json_to_recordset(\n",
    "      (SELECT value FROM json_key_value WHERE id='all')\n",
    "    )\n",
    "    AS person(id INT, first_name TEXT, last_name TEXT, email TEXT, centralien BOOLEAN)\n",
    "''')\n",
    "conn.commit()"
   ]
  },
  {
   "cell_type": "code",
   "execution_count": 28,
   "metadata": {
    "collapsed": false
   },
   "outputs": [
    {
     "name": "stdout",
     "output_type": "stream",
     "text": [
      "[1, 'Raymond', 'Deubaze', 'raymond.deubaze@ec-lyon.fr', True]\n",
      "[2, 'Jean', 'Peuplu', 'jpu@gmail.com', False]\n",
      "[3, 'Alex', 'Terrieur', 'atr1@gmail.com', False]\n",
      "[4, 'Alain', 'Terrieur', 'atr2@gmail.com', False]\n",
      "[5, 'Anna', 'Conda', 'Anna.Conda@ec-lyon.fr', True]\n",
      "[6, 'Ginette', 'Ringard', 'ginette@wanadoo.fr', False]\n"
     ]
    }
   ],
   "source": [
    "c.execute(\"SELECT * FROM temp_people\")\n",
    "for p in c.fetchall(): print(p)"
   ]
  },
  {
   "cell_type": "code",
   "execution_count": 29,
   "metadata": {
    "collapsed": true
   },
   "outputs": [],
   "source": [
    "conn.rollback()"
   ]
  },
  {
   "cell_type": "code",
   "execution_count": null,
   "metadata": {
    "collapsed": true
   },
   "outputs": [],
   "source": []
  },
  {
   "cell_type": "markdown",
   "metadata": {},
   "source": [
    "<div id=\"json_update\"></div>\n",
    "### Modification d'un document JSON\n",
    "\n",
    "<p style=\"font-size:120%\">\n",
    "La syntaxe intuitive ne fonctionne pas :\n",
    "</p>"
   ]
  },
  {
   "cell_type": "code",
   "execution_count": 30,
   "metadata": {
    "collapsed": false,
    "scrolled": true
   },
   "outputs": [
    {
     "name": "stdout",
     "output_type": "stream",
     "text": [
      "ERREUR:  erreur de syntaxe sur ou près de « -> »\n",
      "LINE 3:     SET person->'office'->'room'='Bretagne'\n",
      "                      ^\n",
      "\n"
     ]
    }
   ],
   "source": [
    "sql = '''\n",
    "    UPDATE json_people\n",
    "    SET person->'office'->'room'=%s\n",
    "    WHERE person->>'first_name'='Raymond'\n",
    "'''\n",
    "try:\n",
    "    c.execute(sql, ('Bretagne',))\n",
    "    conn.commit()\n",
    "except psycopg2.errors.SyntaxError as e:\n",
    "    print(e)\n",
    "    conn.rollback()"
   ]
  },
  {
   "cell_type": "markdown",
   "metadata": {},
   "source": [
    "<p style=\"font-size:120%\" id=\"jsonb_set\">\n",
    "Ajout ou modification d'un champ dans un document JSON\n",
    "</p>\n",
    "<p>Le principe de la méthode repose sur la fonction <code>jsonb_set</code> qui permet d'insrer/modifier un attribut au sein d'un document JSON.</p>\n",
    "<p>Malheureusement cette fonction traite une donnée au format jsonb et nécessite donc une conversion avant/après depuis et vers le format json quand on désire modifier un champ de ce type.</p>"
   ]
  },
  {
   "cell_type": "code",
   "execution_count": 31,
   "metadata": {
    "collapsed": false
   },
   "outputs": [
    {
     "name": "stdout",
     "output_type": "stream",
     "text": [
      "[{'email': 'raymond.deubaze@ec-lyon.fr', 'office': {'room': 'Aquitaine', 'floor': 0, 'building': 'H9'}, 'last_name': 'Deubaze', 'first_name': 'Raymond'}]\n"
     ]
    }
   ],
   "source": [
    "sql = '''\n",
    "    SELECT to_json(jsonb_set(to_jsonb(person), '{office, room}', '\"Aquitaine\"'))\n",
    "    FROM json_people\n",
    "    WHERE person->>'office' IS NOT NULL\n",
    "'''\n",
    "c.execute(sql)\n",
    "for p in c.fetchall(): print(p)"
   ]
  },
  {
   "cell_type": "markdown",
   "metadata": {},
   "source": [
    "Il ne reste plus qu'à insérer cette opération dans une requête UPDATE :"
   ]
  },
  {
   "cell_type": "code",
   "execution_count": 32,
   "metadata": {
    "collapsed": false
   },
   "outputs": [],
   "source": [
    "# ajout d'un bureau à Ginette\n",
    "sql = '''\n",
    "    UPDATE json_people SET person = result.value\n",
    "    FROM (\n",
    "        SELECT to_json(jsonb_set(to_jsonb(person), '{office}', %s)) AS value\n",
    "        FROM json_people\n",
    "    ) AS result\n",
    "    WHERE result.value->>'first_name' = json_people.person->>'first_name'\n",
    "    AND json_people.person->>'first_name' = %s\n",
    "'''\n",
    "office = {'building': 'H9', 'floor':0, 'room':'Aquitaine' }\n",
    "\n",
    "c.execute(sql,(json.dumps(office),'Ginette'))\n",
    "conn.commit()"
   ]
  },
  {
   "cell_type": "code",
   "execution_count": 33,
   "metadata": {
    "collapsed": false
   },
   "outputs": [
    {
     "name": "stdout",
     "output_type": "stream",
     "text": [
      "[{'email': 'jpu@gmail.com', 'last_name': 'Peuplu', 'first_name': 'Jean'}]\n",
      "[{'email': 'atr1@gmail.com', 'last_name': 'Terrieur', 'first_name': 'Alex'}]\n",
      "[{'email': 'atr2@gmail.com', 'last_name': 'Terrieur', 'first_name': 'Alain'}]\n",
      "[{'email': 'Anna.Conda@ec-lyon.fr', 'last_name': 'Conda', 'first_name': 'Anna'}]\n",
      "[{'email': 'raymond.deubaze@ec-lyon.fr', 'office': {'room': 'Aquitaine', 'floor': 0, 'building': 'H9'}, 'last_name': 'Deubaze', 'first_name': 'Raymond'}]\n",
      "[{'email': 'ginette@wanadoo.fr', 'office': {'room': 'Aquitaine', 'floor': 0, 'building': 'H9'}, 'last_name': 'Ringard', 'first_name': 'Ginette'}]\n"
     ]
    }
   ],
   "source": [
    "c.execute('SELECT to_jsonb(person) from json_people')\n",
    "for p in c.fetchall(): print(p)"
   ]
  },
  {
   "cell_type": "code",
   "execution_count": 34,
   "metadata": {
    "collapsed": false
   },
   "outputs": [],
   "source": [
    "# modification de la pièce du bureau de Raymond\n",
    "sql = '''\n",
    "    UPDATE json_people SET person = result.value\n",
    "    FROM (\n",
    "        SELECT to_json(jsonb_set(to_jsonb(person), '{office, room}', %s)) AS value\n",
    "        FROM json_people\n",
    "    ) AS result\n",
    "    WHERE result.value->>'first_name' = json_people.person->>'first_name'\n",
    "    AND json_people.person->>'first_name' = %s\n",
    "'''\n",
    "c.execute(sql,(json.dumps('Chausey'),'Raymond'))\n",
    "conn.commit()"
   ]
  },
  {
   "cell_type": "code",
   "execution_count": 35,
   "metadata": {
    "collapsed": false
   },
   "outputs": [
    {
     "name": "stdout",
     "output_type": "stream",
     "text": [
      "[{'email': 'jpu@gmail.com', 'last_name': 'Peuplu', 'first_name': 'Jean'}]\n",
      "[{'email': 'atr1@gmail.com', 'last_name': 'Terrieur', 'first_name': 'Alex'}]\n",
      "[{'email': 'atr2@gmail.com', 'last_name': 'Terrieur', 'first_name': 'Alain'}]\n",
      "[{'email': 'Anna.Conda@ec-lyon.fr', 'last_name': 'Conda', 'first_name': 'Anna'}]\n",
      "[{'email': 'ginette@wanadoo.fr', 'office': {'room': 'Aquitaine', 'floor': 0, 'building': 'H9'}, 'last_name': 'Ringard', 'first_name': 'Ginette'}]\n",
      "[{'email': 'raymond.deubaze@ec-lyon.fr', 'office': {'room': 'Chausey', 'floor': 0, 'building': 'H9'}, 'last_name': 'Deubaze', 'first_name': 'Raymond'}]\n"
     ]
    }
   ],
   "source": [
    "c.execute(\"SELECT to_jsonb(person) from json_people\")\n",
    "for p in c.fetchall(): print(p)"
   ]
  },
  {
   "cell_type": "markdown",
   "metadata": {},
   "source": [
    "<p id=\"jsonb_set_lax\" style=\"font-size:120%\">La suppression d'un attribut JSON peut s'effectuer à l'aide de la méthode <code>jsonb_set_lax</code>.\n",
    "</p>\n",
    "<div>Noter l'argument 'delete_key' et la valeur None (NULL en SQL) donnée à la clé 'office'...\n",
    "</div>"
   ]
  },
  {
   "cell_type": "code",
   "execution_count": 36,
   "metadata": {
    "collapsed": true
   },
   "outputs": [],
   "source": [
    "# suppression du bureau de Ginette\n",
    "sql = '''\n",
    "    UPDATE json_people SET person = result.value\n",
    "    FROM (\n",
    "        SELECT to_json(jsonb_set_lax(to_jsonb(person), '{office}', %s, FALSE, 'delete_key')) AS value\n",
    "        FROM json_people\n",
    "    ) AS result\n",
    "    WHERE result.value->>'first_name' = json_people.person->>'first_name'\n",
    "    AND json_people.person->>'first_name' = %s\n",
    "'''\n",
    "office = None\n",
    "\n",
    "c.execute(sql,(json.dumps(office),'Ginette'))\n",
    "conn.commit()"
   ]
  },
  {
   "cell_type": "code",
   "execution_count": 37,
   "metadata": {
    "collapsed": false
   },
   "outputs": [
    {
     "name": "stdout",
     "output_type": "stream",
     "text": [
      "[{'email': 'jpu@gmail.com', 'last_name': 'Peuplu', 'first_name': 'Jean'}]\n",
      "[{'email': 'atr1@gmail.com', 'last_name': 'Terrieur', 'first_name': 'Alex'}]\n",
      "[{'email': 'atr2@gmail.com', 'last_name': 'Terrieur', 'first_name': 'Alain'}]\n",
      "[{'email': 'Anna.Conda@ec-lyon.fr', 'last_name': 'Conda', 'first_name': 'Anna'}]\n",
      "[{'email': 'raymond.deubaze@ec-lyon.fr', 'office': {'room': 'Chausey', 'floor': 0, 'building': 'H9'}, 'last_name': 'Deubaze', 'first_name': 'Raymond'}]\n",
      "[{'email': 'ginette@wanadoo.fr', 'office': None, 'last_name': 'Ringard', 'first_name': 'Ginette'}]\n"
     ]
    }
   ],
   "source": [
    "c.execute(\"SELECT to_jsonb(person) from json_people\")\n",
    "for p in c.fetchall(): print(p)"
   ]
  },
  {
   "cell_type": "markdown",
   "metadata": {
    "collapsed": true
   },
   "source": [
    "<div id=\"JSONPath\"></div>\n",
    "\n",
    "### JSONPath"
   ]
  },
  {
   "cell_type": "code",
   "execution_count": 44,
   "metadata": {
    "collapsed": false
   },
   "outputs": [
    {
     "name": "stdout",
     "output_type": "stream",
     "text": [
      "True\n"
     ]
    }
   ],
   "source": [
    "c.execute(\"SELECT jsonb_path_exists(to_jsonb(person), '$.office') FROM json_people WHERE person->>'first_name'='Raymond'\")\n",
    "print(c.fetchone()[0])"
   ]
  },
  {
   "cell_type": "code",
   "execution_count": 46,
   "metadata": {
    "collapsed": false
   },
   "outputs": [
    {
     "name": "stdout",
     "output_type": "stream",
     "text": [
      "<class 'dict'> {'room': 'Chausey', 'floor': 0, 'building': 'H9'}\n"
     ]
    }
   ],
   "source": [
    "c.execute(\"SELECT jsonb_path_query(to_jsonb(person), '$.office') FROM json_people WHERE person->>'first_name'='Raymond'\")\n",
    "r = c.fetchone()[0]\n",
    "print(type(r),r)"
   ]
  },
  {
   "cell_type": "code",
   "execution_count": 52,
   "metadata": {
    "collapsed": false
   },
   "outputs": [
    {
     "name": "stdout",
     "output_type": "stream",
     "text": [
      "<class 'str'> Jean\n",
      "<class 'int'> 0\n"
     ]
    }
   ],
   "source": [
    "# pas besoin de json_value\n",
    "\n",
    "c.execute(\"SELECT jsonb_path_query(to_jsonb(person), '$.first_name') FROM json_people\")\n",
    "r = c.fetchone()[0]\n",
    "print(type(r),r)\n",
    "\n",
    "c.execute(\"SELECT jsonb_path_query(to_jsonb(person), '$.office.floor') FROM json_people\")\n",
    "for p in c.fetchall():\n",
    "    print(type(p[0]),p[0])"
   ]
  },
  {
   "cell_type": "code",
   "execution_count": 58,
   "metadata": {
    "collapsed": true
   },
   "outputs": [],
   "source": [
    "# ajout d'une liste d'amis à Raymond pour tester [n]\n",
    "sql = '''\n",
    "    UPDATE json_people SET person = result.value\n",
    "    FROM (\n",
    "        SELECT to_json(jsonb_set(to_jsonb(person), '{friends}', %s)) AS value\n",
    "        FROM json_people\n",
    "    ) AS result\n",
    "    WHERE result.value->>'first_name' = json_people.person->>'first_name'\n",
    "    AND json_people.person->>'first_name' = %s\n",
    "'''\n",
    "friends = [\n",
    "    { 'first_name': 'Jean', 'last_name': 'Bombeur'},\n",
    "    { 'first_name': 'Elsa', 'last_name': 'Plique'}\n",
    "]\n",
    "\n",
    "c.execute(sql,(json.dumps(friends),'Raymond'))\n",
    "conn.commit()"
   ]
  },
  {
   "cell_type": "markdown",
   "metadata": {},
   "source": [
    "<div id=\"json_path_query_list\"></div>"
   ]
  },
  {
   "cell_type": "code",
   "execution_count": 59,
   "metadata": {
    "collapsed": false
   },
   "outputs": [
    {
     "name": "stdout",
     "output_type": "stream",
     "text": [
      "<class 'str'> Elsa\n"
     ]
    }
   ],
   "source": [
    "c.execute('''\n",
    "  SELECT jsonb_path_query(to_jsonb(person), '$.friends[1].first_name')\n",
    "  FROM json_people WHERE person->>'first_name'='Raymond'\n",
    "''')\n",
    "r = c.fetchone()[0]\n",
    "print(type(r),r)"
   ]
  },
  {
   "cell_type": "code",
   "execution_count": 90,
   "metadata": {
    "collapsed": false
   },
   "outputs": [],
   "source": [
    "# Ajout d'une information booléenne aux personnes\n",
    "sql = '''\n",
    "    UPDATE json_people SET person = result.value\n",
    "    FROM (\n",
    "        SELECT to_json(jsonb_set(to_jsonb(person), '{centralien}', to_jsonb(position('ec-lyon' in person->>'email') <> 0))) AS value\n",
    "        FROM json_people\n",
    "    ) AS result\n",
    "    WHERE result.value->>'first_name' = json_people.person->>'first_name'\n",
    "'''\n",
    "c.execute(sql)\n",
    "conn.commit()"
   ]
  },
  {
   "cell_type": "markdown",
   "metadata": {},
   "source": [
    "<div id=\"json_path_filter\"></div>"
   ]
  },
  {
   "cell_type": "code",
   "execution_count": 115,
   "metadata": {
    "collapsed": false
   },
   "outputs": [
    {
     "name": "stdout",
     "output_type": "stream",
     "text": [
      "<class 'str'> Anna\n",
      "<class 'str'> Raymond\n"
     ]
    }
   ],
   "source": [
    "c.execute('''\n",
    "  SELECT jsonb_path_query(to_jsonb(person), '($ ? (@.centralien == true)).first_name') FROM json_people\n",
    "''')\n",
    "for p in c.fetchall():\n",
    "    print(type(p[0]),p[0])"
   ]
  },
  {
   "cell_type": "code",
   "execution_count": 125,
   "metadata": {
    "collapsed": false
   },
   "outputs": [
    {
     "name": "stdout",
     "output_type": "stream",
     "text": [
      "<class 'dict'> {'room': 'Chausey', 'floor': 0, 'building': 'H9'}\n"
     ]
    }
   ],
   "source": [
    "c.execute('''\n",
    "  SELECT jsonb_path_query(to_jsonb(person), '($ ? (@.first_name == \"Raymond\")).office') FROM json_people\n",
    "''')\n",
    "for p in c.fetchall():\n",
    "    print(type(p[0]),p[0])"
   ]
  },
  {
   "cell_type": "code",
   "execution_count": 130,
   "metadata": {
    "collapsed": false
   },
   "outputs": [
    {
     "name": "stdout",
     "output_type": "stream",
     "text": [
      "<class 'list'> [{'last_name': 'Bombeur', 'first_name': 'Jean'}, {'last_name': 'Plique', 'first_name': 'Elsa'}]\n"
     ]
    }
   ],
   "source": [
    "c.execute('''\n",
    "  SELECT jsonb_path_query(to_jsonb(person), '$.friends') FROM json_people\n",
    "''')\n",
    "for p in c.fetchall():\n",
    "    print(type(p[0]),p[0])"
   ]
  },
  {
   "cell_type": "markdown",
   "metadata": {},
   "source": [
    "<div id=\"json_path_joker\"></div>"
   ]
  },
  {
   "cell_type": "code",
   "execution_count": 131,
   "metadata": {
    "collapsed": false
   },
   "outputs": [
    {
     "name": "stdout",
     "output_type": "stream",
     "text": [
      "<class 'dict'> {'last_name': 'Bombeur', 'first_name': 'Jean'}\n",
      "<class 'dict'> {'last_name': 'Plique', 'first_name': 'Elsa'}\n"
     ]
    }
   ],
   "source": [
    "c.execute('''\n",
    "  SELECT jsonb_path_query(to_jsonb(person), '$.friends[*]') FROM json_people\n",
    "''')\n",
    "for p in c.fetchall():\n",
    "    print(type(p[0]),p[0])"
   ]
  },
  {
   "cell_type": "code",
   "execution_count": 132,
   "metadata": {
    "collapsed": false
   },
   "outputs": [
    {
     "name": "stdout",
     "output_type": "stream",
     "text": [
      "<class 'str'> Bombeur\n",
      "<class 'str'> Jean\n",
      "<class 'str'> Plique\n",
      "<class 'str'> Elsa\n"
     ]
    }
   ],
   "source": [
    "c.execute('''\n",
    "  SELECT jsonb_path_query(to_jsonb(person), '$.friends[*].*') FROM json_people\n",
    "''')\n",
    "for p in c.fetchall():\n",
    "    print(type(p[0]),p[0])"
   ]
  },
  {
   "cell_type": "markdown",
   "metadata": {},
   "source": [
    "<div id=\"json_path_joker_filter\"></div>"
   ]
  },
  {
   "cell_type": "code",
   "execution_count": 138,
   "metadata": {
    "collapsed": false
   },
   "outputs": [
    {
     "name": "stdout",
     "output_type": "stream",
     "text": [
      "<class 'dict'> {'last_name': 'Bombeur', 'first_name': 'Jean'}\n"
     ]
    }
   ],
   "source": [
    "c.execute('''\n",
    "  SELECT jsonb_path_query(to_jsonb(person), '$.friends?(@.first_name == \"Jean\")[*]') FROM json_people\n",
    "''')\n",
    "for p in c.fetchall():\n",
    "    print(type(p[0]),p[0])"
   ]
  },
  {
   "cell_type": "code",
   "execution_count": null,
   "metadata": {
    "collapsed": true
   },
   "outputs": [],
   "source": []
  }
 ],
 "metadata": {
  "kernelspec": {
   "display_name": "Python 3",
   "language": "python",
   "name": "python3"
  },
  "language_info": {
   "codemirror_mode": {
    "name": "ipython",
    "version": 3
   },
   "file_extension": ".py",
   "mimetype": "text/x-python",
   "name": "python",
   "nbconvert_exporter": "python",
   "pygments_lexer": "ipython3",
   "version": "3.6.6"
  }
 },
 "nbformat": 4,
 "nbformat_minor": 2
}
