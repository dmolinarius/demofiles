{
 "cells": [
  {
   "cell_type": "markdown",
   "metadata": {},
   "source": [
    "### 2.4 PostgreSQL -  Données composites"
   ]
  },
  {
   "cell_type": "code",
   "execution_count": 1,
   "metadata": {
    "collapsed": true
   },
   "outputs": [],
   "source": [
    "import psycopg2\n",
    "import psycopg2.extras\n",
    "\n",
    "conn = psycopg2.connect(\n",
    "    host=\"localhost\",\n",
    "    database=\"demo\",\n",
    "    user=\"demo_owner\",\n",
    "    password=\"OODBMS\")\n",
    "\n",
    "# query result as dict\n",
    "c = conn.cursor(cursor_factory=psycopg2.extras.DictCursor)"
   ]
  },
  {
   "cell_type": "markdown",
   "metadata": {},
   "source": [
    "<div style=\"font-size:120%\" id=\"create_type\">\n",
    "Création de types composites :\n",
    "</div>"
   ]
  },
  {
   "cell_type": "code",
   "execution_count": 2,
   "metadata": {
    "collapsed": false
   },
   "outputs": [],
   "source": [
    "c.execute('DROP TYPE IF EXISTS person_type CASCADE')\n",
    "c.execute('DROP TYPE IF EXISTS address_type CASCADE')\n",
    "\n",
    "sql = '''CREATE TYPE person_type AS (\n",
    "    first_name  VARCHAR(128),\n",
    "    last_name   VARCHAR(128)\n",
    ");'''\n",
    "c.execute(sql)\n",
    "\n",
    "sql = '''CREATE TYPE address_type AS (\n",
    "    number  INTEGER,\n",
    "    street  VARCHAR(128),\n",
    "    zipcode INTEGER,\n",
    "    city    VARCHAR(128)\n",
    ");'''\n",
    "c.execute(sql)\n",
    "\n",
    "conn.commit()"
   ]
  },
  {
   "cell_type": "markdown",
   "metadata": {},
   "source": [
    "<div style=\"font-size:120%\" id=\"create_table\">\n",
    "Création d'une table comportant des types composites:\n",
    "</div>"
   ]
  },
  {
   "cell_type": "code",
   "execution_count": 5,
   "metadata": {
    "collapsed": false
   },
   "outputs": [],
   "source": [
    "c.execute('DROP TABLE IF EXISTS students CASCADE')\n",
    "\n",
    "sql = '''CREATE TABLE students (\n",
    "    id      SERIAL PRIMARY KEY,\n",
    "    person  person_type,\n",
    "    address address_type\n",
    ");'''\n",
    "c.execute(sql)\n",
    "\n",
    "conn.commit()"
   ]
  },
  {
   "cell_type": "markdown",
   "metadata": {},
   "source": [
    "<div style=\"font-size:120%\" id=\"insert\">\n",
    "Insertion dans une table comportant des types composites\n",
    "</div>"
   ]
  },
  {
   "cell_type": "code",
   "execution_count": 6,
   "metadata": {
    "collapsed": false
   },
   "outputs": [],
   "source": [
    "c.execute('DELETE FROM students;')\n",
    "\n",
    "# SQL natif\n",
    "sql = '''INSERT INTO students (person,address) VALUES (\n",
    "    ('Raymond','Deubaze'),\n",
    "    (31,'avenue Guy de Collongue',69130,'Ecully')\n",
    ");'''\n",
    "c.execute(sql)\n",
    "conn.commit()"
   ]
  },
  {
   "cell_type": "markdown",
   "metadata": {},
   "source": [
    "<div id=\"insert_dbapi\"/>"
   ]
  },
  {
   "cell_type": "code",
   "execution_count": 7,
   "metadata": {
    "collapsed": false
   },
   "outputs": [],
   "source": [
    "# avec arguments\n",
    "sql = 'INSERT INTO students (person,address) VALUES ((%s,%s),(%s,%s,%s,%s))'\n",
    "args = ('Elsa','Plique',51,'chemin des Mouilles',69130,'Ecully')\n",
    "c.execute(sql,args)\n",
    "conn.commit()"
   ]
  },
  {
   "cell_type": "code",
   "execution_count": 8,
   "metadata": {
    "collapsed": false
   },
   "outputs": [],
   "source": [
    "# variante\n",
    "sql = 'INSERT INTO students (person,address) VALUES (%s,%s)'\n",
    "args = (('Jean','Bombeur'),(51,'chemin des Mouilles',69130,'Ecully'))\n",
    "c.execute(sql,args)\n",
    "conn.commit()"
   ]
  },
  {
   "cell_type": "markdown",
   "metadata": {},
   "source": [
    "<div style=\"font-size:120%\" id=\"select\">\n",
    "Requêtage dans une table comportant des types composites\n",
    "</div>"
   ]
  },
  {
   "cell_type": "code",
   "execution_count": 9,
   "metadata": {
    "collapsed": false
   },
   "outputs": [
    {
     "name": "stdout",
     "output_type": "stream",
     "text": [
      "1, (Raymond,Deubaze), (31,\"avenue Guy de Collongue\",69130,Ecully)\n"
     ]
    }
   ],
   "source": [
    "sql = \"SELECT * FROM students WHERE (person).first_name = 'Raymond'\"\n",
    "c.execute(sql)\n",
    "for d in c.fetchall(): print(', '.join([str(v) for v in d]))"
   ]
  },
  {
   "cell_type": "code",
   "execution_count": 10,
   "metadata": {
    "collapsed": false
   },
   "outputs": [
    {
     "name": "stdout",
     "output_type": "stream",
     "text": [
      "avenue Guy de Collongue\n",
      "chemin des Mouilles\n"
     ]
    }
   ],
   "source": [
    "sql = \"SELECT DISTINCT (address).street FROM students WHERE (address).city = 'Ecully'\"\n",
    "c.execute(sql)\n",
    "for d in c.fetchall(): print(', '.join([str(v) for v in d]))"
   ]
  },
  {
   "cell_type": "code",
   "execution_count": 11,
   "metadata": {
    "collapsed": false
   },
   "outputs": [
    {
     "name": "stdout",
     "output_type": "stream",
     "text": [
      "3, (Jean,Bombeur), (51,\"chemin des Mouilles\",69130,Ecully)\n",
      "1, (Raymond,Deubaze), (31,\"avenue Guy de Collongue\",69130,Ecully)\n",
      "2, (Elsa,Plique), (51,\"chemin des Mouilles\",69130,Ecully)\n"
     ]
    }
   ],
   "source": [
    "sql = \"SELECT * FROM students ORDER BY((person).last_name,(person).first_name)\"\n",
    "c.execute(sql)\n",
    "for d in c.fetchall(): print(', '.join([str(v) for v in d]))"
   ]
  },
  {
   "cell_type": "code",
   "execution_count": 12,
   "metadata": {
    "collapsed": false
   },
   "outputs": [
    {
     "name": "stdout",
     "output_type": "stream",
     "text": [
      "Raymond, Ecully\n",
      "Elsa, Ecully\n",
      "Jean, Ecully\n"
     ]
    }
   ],
   "source": [
    "sql = \"SELECT (person).first_name, (address).city FROM students\"\n",
    "c.execute(sql)\n",
    "for d in c.fetchall(): print(', '.join([str(v) for v in d]))"
   ]
  },
  {
   "cell_type": "code",
   "execution_count": 13,
   "metadata": {
    "collapsed": false,
    "scrolled": true
   },
   "outputs": [
    {
     "name": "stdout",
     "output_type": "stream",
     "text": [
      "Raymond, Deubaze\n",
      "Elsa, Plique\n",
      "Jean, Bombeur\n"
     ]
    }
   ],
   "source": [
    "sql = \"SELECT (person).* FROM students WHERE (address).city = 'Ecully'\"\n",
    "c.execute(sql)\n",
    "for d in c.fetchall(): print(', '.join([str(v) for v in d]))"
   ]
  },
  {
   "cell_type": "code",
   "execution_count": 14,
   "metadata": {
    "collapsed": false
   },
   "outputs": [
    {
     "name": "stdout",
     "output_type": "stream",
     "text": [
      "{'person': '(Raymond,Deubaze)'}\n",
      "{'person': '(Elsa,Plique)'}\n",
      "{'person': '(Jean,Bombeur)'}\n"
     ]
    }
   ],
   "source": [
    "sql = \"SELECT (person) FROM students WHERE (address).city = 'Ecully'\"\n",
    "c.execute(sql)\n",
    "for d in c.fetchall(): print(dict(d))"
   ]
  },
  {
   "cell_type": "markdown",
   "metadata": {},
   "source": [
    "<div style=\"font-size:120%\" id=\"update\">\n",
    "Modification de la valeur de types composites\n",
    "</div>"
   ]
  },
  {
   "cell_type": "code",
   "execution_count": 15,
   "metadata": {
    "collapsed": false
   },
   "outputs": [],
   "source": [
    "sql = \"UPDATE students SET person=%s WHERE (person).first_name = %s\"\n",
    "c.execute(sql,(('Anna','Conda'),'Elsa'))\n",
    "conn.commit()"
   ]
  },
  {
   "cell_type": "code",
   "execution_count": 16,
   "metadata": {
    "collapsed": false
   },
   "outputs": [],
   "source": [
    "sql = \"UPDATE students SET person.last_name = %s WHERE (person).last_name = %s\"\n",
    "c.execute(sql,('Peuplu','Bombeur'))\n",
    "conn.commit()"
   ]
  },
  {
   "cell_type": "code",
   "execution_count": null,
   "metadata": {
    "collapsed": true
   },
   "outputs": [],
   "source": []
  }
 ],
 "metadata": {
  "kernelspec": {
   "display_name": "Python 3",
   "language": "python",
   "name": "python3"
  },
  "language_info": {
   "codemirror_mode": {
    "name": "ipython",
    "version": 3
   },
   "file_extension": ".py",
   "mimetype": "text/x-python",
   "name": "python",
   "nbconvert_exporter": "python",
   "pygments_lexer": "ipython3",
   "version": "3.6.6"
  }
 },
 "nbformat": 4,
 "nbformat_minor": 2
}
