{
 "cells": [
  {
   "cell_type": "markdown",
   "metadata": {},
   "source": [
    "### 2.3 PostgreSQL -  Manipulation de  données géométriques"
   ]
  },
  {
   "cell_type": "code",
   "execution_count": 1,
   "metadata": {
    "collapsed": true
   },
   "outputs": [],
   "source": [
    "import psycopg2\n",
    "import psycopg2.extras\n",
    "\n",
    "conn = psycopg2.connect(\n",
    "    host=\"localhost\",\n",
    "    database=\"demo\",\n",
    "    user=\"demo_owner\",\n",
    "    password=\"OODBMS\")\n",
    "\n",
    "# query result as dict\n",
    "c = conn.cursor(cursor_factory=psycopg2.extras.DictCursor)"
   ]
  },
  {
   "cell_type": "markdown",
   "metadata": {},
   "source": [
    "<div style=\"font-size:120%\" id=\"create\">\n",
    "Création d'une table comportant des champs géométriques :\n",
    "</div>"
   ]
  },
  {
   "cell_type": "code",
   "execution_count": 2,
   "metadata": {
    "collapsed": false
   },
   "outputs": [],
   "source": [
    "c.execute('DROP TABLE IF EXISTS geotest;')\n",
    "\n",
    "sql = '''CREATE TABLE geotest (\n",
    "    id SERIAL PRIMARY KEY,\n",
    "    name VARCHAR(64),\n",
    "    pt POINT,\n",
    "    l  LINE,\n",
    "    s  LSEG,\n",
    "    b  BOX,\n",
    "    pa PATH,\n",
    "    po POLYGON,\n",
    "    c  CIRCLE \n",
    ");'''\n",
    "c.execute(sql)\n",
    "conn.commit()"
   ]
  },
  {
   "cell_type": "markdown",
   "metadata": {},
   "source": [
    "### A - Points\n",
    "\n",
    "<p style=\"font-size:120%\" id=\"insert_point\">\n",
    "Enregistrement de points :\n",
    "</p>"
   ]
  },
  {
   "cell_type": "code",
   "execution_count": 3,
   "metadata": {
    "collapsed": false,
    "scrolled": true
   },
   "outputs": [],
   "source": [
    "c.execute(\"DELETE FROM geotest WHERE pt IS NOT NULL;\")\n",
    "\n",
    "# SQL natif\n",
    "c.execute(\"INSERT INTO geotest (name,pt) VALUES ('origin','(0,0)')\")\n",
    "\n",
    "# avec des arguments\n",
    "args = ('target', (10,10))\n",
    "c.execute(\"INSERT INTO geotest (name,pt) VALUES (%s,'%s')\",args)\n",
    "\n",
    "conn.commit()"
   ]
  },
  {
   "cell_type": "markdown",
   "metadata": {},
   "source": [
    "<div style=\"font-size:120%\" id=\"select_point\">\n",
    "Requêtage de points :\n",
    "</div>"
   ]
  },
  {
   "cell_type": "code",
   "execution_count": 4,
   "metadata": {
    "collapsed": false
   },
   "outputs": [
    {
     "name": "stdout",
     "output_type": "stream",
     "text": [
      "[1, 'origin', '(0,0)']\n",
      "[2, 'target', '(10,10)']\n"
     ]
    }
   ],
   "source": [
    "c.execute(\"SELECT id,name,pt FROM geotest\")\n",
    "data = c.fetchall()\n",
    "for row in data:\n",
    "    print(row)"
   ]
  },
  {
   "cell_type": "code",
   "execution_count": 5,
   "metadata": {
    "collapsed": false
   },
   "outputs": [
    {
     "name": "stdout",
     "output_type": "stream",
     "text": [
      "[1, 'origin', '(0,0)']\n"
     ]
    }
   ],
   "source": [
    "c.execute(\"SELECT id,name,pt FROM geotest WHERE pt ~= POINT '(0,0)'\")\n",
    "data = c.fetchall()\n",
    "for row in data:\n",
    "    print(row)"
   ]
  },
  {
   "cell_type": "code",
   "execution_count": 6,
   "metadata": {
    "collapsed": false
   },
   "outputs": [
    {
     "name": "stdout",
     "output_type": "stream",
     "text": [
      "[2, 'target', '(10,10)']\n"
     ]
    }
   ],
   "source": [
    "c.execute(\"SELECT id,name,pt FROM geotest WHERE pt[0] = 10\")\n",
    "data = c.fetchall()\n",
    "for row in data:\n",
    "    print(row)"
   ]
  },
  {
   "cell_type": "markdown",
   "metadata": {},
   "source": [
    "### B - Lignes\n",
    "\n",
    "<p style=\"font-size:120%\" id=\"insert_line\">\n",
    "Diverses syntaxes sont possibles pour l'expression littérale de lignes :\n",
    "</p>"
   ]
  },
  {
   "cell_type": "code",
   "execution_count": 7,
   "metadata": {
    "collapsed": false
   },
   "outputs": [],
   "source": [
    "# lignes horizontales\n",
    "c.execute(\"DELETE FROM geotest WHERE ?- l;\")\n",
    "\n",
    "# SQL natif\n",
    "c.execute(\"INSERT INTO geotest (name,l) VALUES ('horizon','[(-100,0),(100,0)]')\")\n",
    "c.execute(\"INSERT INTO geotest (name,l) VALUES ('sky','(-100,100),(100,100)')\")\n",
    "c.execute(\"INSERT INTO geotest (name,l) VALUES ('cave','-100,-100,100,-100')\")\n",
    "\n",
    "conn.commit()"
   ]
  },
  {
   "cell_type": "markdown",
   "metadata": {},
   "source": [
    "<div style=\"font-size:120%\" id=\"insert_line_coefs\">\n",
    "Les lignes sont en fait des droites, représentées par trois valeurs A,B,C correspondant à l'équation&#160;:<div style=\"padding: 10px 0 0 40px\">$Ax + By + C = 0$</div>\n",
    "</div>"
   ]
  },
  {
   "cell_type": "code",
   "execution_count": 8,
   "metadata": {
    "collapsed": true
   },
   "outputs": [],
   "source": [
    "# lignes contenant le point (1,1)\n",
    "c.execute(\"DELETE FROM geotest WHERE l <-> POINT(1,1) = 0;\")\n",
    "\n",
    "# ligne spécifiée via A,B,C\n",
    "c.execute(\"INSERT INTO geotest (name,l) VALUES ('diagonal','{1,-1,0}')\")\n",
    "conn.commit()"
   ]
  },
  {
   "cell_type": "markdown",
   "metadata": {},
   "source": [
    "<div style=\"font-size:120%\" id=\"insert_line_dbapi\">\n",
    "Enregistrement de lignes avec des arguments à la DB-API&#160;:\n",
    "</div>"
   ]
  },
  {
   "cell_type": "code",
   "execution_count": 9,
   "metadata": {
    "collapsed": false
   },
   "outputs": [],
   "source": [
    "# lignes verticales\n",
    "c.execute(\"DELETE FROM geotest WHERE ?| l;\")\n",
    "\n",
    "# diagonale descendante\n",
    "c.execute(\"DELETE FROM geotest WHERE name='descdiag';\")\n",
    "\n",
    "\n",
    "# avec des arguments\n",
    "args = ('vertical',(0,100),(0,-100))\n",
    "c.execute(\"INSERT INTO geotest (name,l) VALUES (%s,'[%s,%s]')\",args)\n",
    "\n",
    "args = ('left',(-100,100),(-100,-100))\n",
    "c.execute(\"INSERT INTO geotest (name,l) VALUES (%s,'%s,%s')\",args)\n",
    "\n",
    "args = ('right',100,100,100,-100)\n",
    "c.execute(\"INSERT INTO geotest (name,l) VALUES (%s,'%s,%s,%s,%s')\",args)\n",
    "\n",
    "args = ('descdiag',1,1,0)\n",
    "c.execute(\"INSERT INTO geotest (name,l) VALUES (%s,'{%s,%s,%s}')\",args)\n",
    "conn.commit()"
   ]
  },
  {
   "cell_type": "markdown",
   "metadata": {},
   "source": [
    "<div style=\"font-size:120%\" id=\"select_line\">\n",
    "Les requêtes sur des lignes, renvoient A, B et C :\n",
    "</div>"
   ]
  },
  {
   "cell_type": "code",
   "execution_count": 10,
   "metadata": {
    "collapsed": false
   },
   "outputs": [
    {
     "name": "stdout",
     "output_type": "stream",
     "text": [
      "[3, 'horizon', '{0,-1,0}']\n",
      "[4, 'sky', '{0,-1,100}']\n",
      "[5, 'cave', '{0,-1,-100}']\n",
      "[6, 'diagonal', '{1,-1,0}']\n",
      "[7, 'vertical', '{-1,0,0}']\n",
      "[8, 'left', '{-1,0,-100}']\n",
      "[9, 'right', '{-1,0,100}']\n",
      "[10, 'descdiag', '{1,1,0}']\n"
     ]
    }
   ],
   "source": [
    "c.execute(\"SELECT id,name,l FROM geotest WHERE l IS NOT NULL\")\n",
    "data = c.fetchall()\n",
    "for row in data:\n",
    "    print(row)"
   ]
  },
  {
   "cell_type": "code",
   "execution_count": 11,
   "metadata": {
    "collapsed": false
   },
   "outputs": [
    {
     "name": "stdout",
     "output_type": "stream",
     "text": [
      "[4, 'sky', '{0,-1,100}']\n"
     ]
    }
   ],
   "source": [
    "# les lignes sont des droites (sky est à distance nulle du point (1000,100))\n",
    "args = ((1000,100),)\n",
    "c.execute(\"SELECT id,name,l FROM geotest WHERE l <-> POINT '%s' = 0\",args)\n",
    "data = c.fetchone()\n",
    "print(data)"
   ]
  },
  {
   "cell_type": "markdown",
   "metadata": {},
   "source": [
    "### C - Segments\n",
    "\n",
    "<p style=\"font-size:120%\" id=\"insert_segment\">\n",
    "Diverses syntaxes sont possibles pour l'enregistrement de segments&#160;:\n",
    "</p>"
   ]
  },
  {
   "cell_type": "code",
   "execution_count": 12,
   "metadata": {
    "collapsed": true
   },
   "outputs": [],
   "source": [
    "c.execute(\"DELETE FROM geotest WHERE s IS NOT NULL\")\n",
    "\n",
    "# SQL natif\n",
    "c.execute(\"INSERT INTO geotest (name,s) VALUES ('front_left',  '[(10, 2),(10,12)]' )\")\n",
    "c.execute(\"INSERT INTO geotest (name,s) VALUES ('front_top',   '((10,12),(20,12))' )\")\n",
    "c.execute(\"INSERT INTO geotest (name,s) VALUES ('front_right',  '(20,12),(20, 2)'  )\")\n",
    "c.execute(\"INSERT INTO geotest (name,s) VALUES ('front_bottom',  '20, 2 , 10, 2'   )\")\n",
    "conn.commit()"
   ]
  },
  {
   "cell_type": "markdown",
   "metadata": {},
   "source": [
    "<div style=\"font-size:120%\" id=\"insert_segment_dbapi\">\n",
    "Enregistrement de segments avec des arguments à la DB-API&#160;:\n",
    "</div>"
   ]
  },
  {
   "cell_type": "code",
   "execution_count": 13,
   "metadata": {
    "collapsed": false
   },
   "outputs": [],
   "source": [
    "# avec arguments\n",
    "args = ('top_left',(10,12),(15,17))\n",
    "c.execute(\"INSERT INTO geotest (name,s) VALUES (%s,'[%s,%s]')\",args)\n",
    "\n",
    "args = ('top_right',(20,12),(25,17))\n",
    "c.execute(\"INSERT INTO geotest (name,s) VALUES (%s,'(%s,%s)')\",args)\n",
    "\n",
    "args = ('bottom_right',(20,2),(25,7))\n",
    "c.execute(\"INSERT INTO geotest (name,s) VALUES (%s,'%s,%s')\",args)\n",
    "\n",
    "args = ('top_rear',15,17,25,17)\n",
    "c.execute(\"INSERT INTO geotest (name,s) VALUES (%s,'%s,%s,%s,%s')\",args)\n",
    "\n",
    "args = ('right_rear',(25,17),(25,7))\n",
    "c.execute(\"INSERT INTO geotest (name,s) VALUES (%s,'%s,%s')\",args)\n",
    "\n",
    "conn.commit()"
   ]
  },
  {
   "cell_type": "markdown",
   "metadata": {},
   "source": [
    "<div style=\"font-size:120%\" id=\"request segment\">\n",
    "Requêtage de segments&#160;:\n",
    "</div>\n",
    "\n",
    "https://www.postgresql.org/docs/9.5/functions-geometry.html"
   ]
  },
  {
   "cell_type": "code",
   "execution_count": 14,
   "metadata": {
    "collapsed": false
   },
   "outputs": [
    {
     "name": "stdout",
     "output_type": "stream",
     "text": [
      "11, front_left, [(10,2),(10,12)]\n",
      "12, front_top, [(10,12),(20,12)]\n",
      "13, front_right, [(20,12),(20,2)]\n",
      "14, front_bottom, [(20,2),(10,2)]\n",
      "15, top_left, [(10,12),(15,17)]\n",
      "16, top_right, [(20,12),(25,17)]\n",
      "17, bottom_right, [(20,2),(25,7)]\n",
      "18, top_rear, [(15,17),(25,17)]\n",
      "19, right_rear, [(25,17),(25,7)]\n"
     ]
    }
   ],
   "source": [
    "c.execute(\"SELECT id,name,s FROM geotest WHERE s IS NOT NULL\")\n",
    "for d in c.fetchall(): print(', '.join([str(v) for v in d]))"
   ]
  },
  {
   "cell_type": "code",
   "execution_count": 15,
   "metadata": {
    "collapsed": false
   },
   "outputs": [
    {
     "name": "stdout",
     "output_type": "stream",
     "text": [
      "12, front_top, [(10,12),(20,12)]\n",
      "14, front_bottom, [(20,2),(10,2)]\n",
      "18, top_rear, [(15,17),(25,17)]\n"
     ]
    }
   ],
   "source": [
    "# segments horizontaux\n",
    "c.execute(\"SELECT id,name,s FROM geotest WHERE ?- s\")\n",
    "for d in c.fetchall(): print(', '.join([str(v) for v in d]))"
   ]
  },
  {
   "cell_type": "code",
   "execution_count": 16,
   "metadata": {
    "collapsed": false
   },
   "outputs": [
    {
     "name": "stdout",
     "output_type": "stream",
     "text": [
      "11, front_left, [(10,2),(10,12)]\n",
      "13, front_right, [(20,12),(20,2)]\n",
      "19, right_rear, [(25,17),(25,7)]\n"
     ]
    }
   ],
   "source": [
    "# segments verticaux\n",
    "c.execute(\"SELECT id,name,s FROM geotest WHERE ?| s\")\n",
    "for d in c.fetchall(): print(', '.join([str(v) for v in d]))"
   ]
  },
  {
   "cell_type": "code",
   "execution_count": 17,
   "metadata": {
    "collapsed": false
   },
   "outputs": [
    {
     "name": "stdout",
     "output_type": "stream",
     "text": [
      "15, top_left, [(10,12),(15,17)]\n",
      "16, top_right, [(20,12),(25,17)]\n",
      "17, bottom_right, [(20,2),(25,7)]\n"
     ]
    }
   ],
   "source": [
    "# segments diagonaux\n",
    "c.execute(\"SELECT id,name,s FROM geotest WHERE NOT ?| s AND NOT ?- s\")\n",
    "for d in c.fetchall(): print(', '.join([str(v) for v in d]))"
   ]
  },
  {
   "cell_type": "code",
   "execution_count": 18,
   "metadata": {
    "collapsed": false
   },
   "outputs": [
    {
     "name": "stdout",
     "output_type": "stream",
     "text": [
      "11, front_left, [(10,2),(10,12)]\n",
      "12, front_top, [(10,12),(20,12)]\n",
      "15, top_left, [(10,12),(15,17)]\n"
     ]
    }
   ],
   "source": [
    "# segments passant par un point\n",
    "c.execute(\"SELECT id,name,s FROM geotest WHERE s <-> POINT(10,12) = 0\")\n",
    "for d in c.fetchall(): print(', '.join([str(v) for v in d]))"
   ]
  },
  {
   "cell_type": "code",
   "execution_count": 19,
   "metadata": {
    "collapsed": false
   },
   "outputs": [
    {
     "name": "stdout",
     "output_type": "stream",
     "text": [
      "None\n"
     ]
    }
   ],
   "source": [
    "# les segments ne sont pas infinis\n",
    "c.execute(\"SELECT id,name,s FROM geotest WHERE s <-> POINT '(30,2)' = 0\")\n",
    "print(c.fetchone())"
   ]
  },
  {
   "cell_type": "markdown",
   "metadata": {},
   "source": [
    "### D - Chemins\n",
    "\n",
    "<p style=\"font-size:120%\" id=\"insert_open_path\">\n",
    "Enregistrement d'un chemin ouvert&#160;:\n",
    "</p>"
   ]
  },
  {
   "cell_type": "code",
   "execution_count": 87,
   "metadata": {
    "collapsed": false
   },
   "outputs": [
    {
     "name": "stdout",
     "output_type": "stream",
     "text": [
      "INSERT INTO geotest (name,pa) VALUES ('open', '[(10, -10), (10, -15), (5, -15)]')\n"
     ]
    }
   ],
   "source": [
    "c.execute(\"DELETE FROM geotest WHERE pa IS NOT NULL\")\n",
    "\n",
    "# SQL natif\n",
    "pts = [ (10,-10), (10,-15), (5,-15) ]\n",
    "req = \"INSERT INTO geotest (name,pa) VALUES ('open', '{}')\".format(pts)\n",
    "print(req)\n",
    "\n",
    "c.execute(req)\n",
    "conn.commit()"
   ]
  },
  {
   "cell_type": "code",
   "execution_count": 88,
   "metadata": {
    "collapsed": false
   },
   "outputs": [
    {
     "name": "stdout",
     "output_type": "stream",
     "text": [
      "INSERT INTO geotest (name,pa) VALUES ('open too', '[(10, -12), (10, -17), (5, -17)]')\n"
     ]
    }
   ],
   "source": [
    "# avec arguments\n",
    "pts = [ (10,-12), (10,-17), (5,-17) ]\n",
    "sql = \"INSERT INTO geotest (name,pa) VALUES (%s, %s)\"\n",
    "args = ('open too', str(pts))\n",
    "print(c.mogrify(sql,args).decode('UTF-8'))\n",
    "\n",
    "c.execute(sql,args)\n",
    "conn.commit()"
   ]
  },
  {
   "cell_type": "code",
   "execution_count": 89,
   "metadata": {
    "collapsed": false
   },
   "outputs": [
    {
     "name": "stdout",
     "output_type": "stream",
     "text": [
      "50, open, [(10,-10),(10,-15),(5,-15)]\n",
      "51, open too, [(10,-12),(10,-17),(5,-17)]\n"
     ]
    }
   ],
   "source": [
    "c.execute(\"SELECT id,name,pa FROM geotest WHERE pa IS NOT NULL\")\n",
    "for d in c.fetchall(): print(', '.join([str(v) for v in d]))"
   ]
  },
  {
   "cell_type": "markdown",
   "metadata": {},
   "source": [
    "<p style=\"font-size:120%\" id=\"insert_closed_path\">\n",
    "Enregistrement de chemins fermés&#160;:\n",
    "</p>"
   ]
  },
  {
   "cell_type": "code",
   "execution_count": 90,
   "metadata": {
    "collapsed": false
   },
   "outputs": [
    {
     "name": "stdout",
     "output_type": "stream",
     "text": [
      "INSERT INTO geotest (name,pa) VALUES (%s, '((10, -14), (10, -19), (5, -19))')\n"
     ]
    }
   ],
   "source": [
    "c.execute(\"DELETE FROM geotest WHERE ISCLOSED(pa)\")\n",
    "\n",
    "# SQL natif\n",
    "pts = ( (10,-14), (10,-19), (5,-19) )\n",
    "req = \"INSERT INTO geotest (name,pa) VALUES (%s, '{}')\".format(pts)\n",
    "print(req)\n",
    "\n",
    "c.execute(req,('closed',))\n",
    "conn.commit()"
   ]
  },
  {
   "cell_type": "code",
   "execution_count": 91,
   "metadata": {
    "collapsed": false
   },
   "outputs": [
    {
     "name": "stdout",
     "output_type": "stream",
     "text": [
      "INSERT INTO geotest (name,pa) VALUES ('closed too', '((10, -16), (10, -21), (5, -21))')\n"
     ]
    }
   ],
   "source": [
    "# avec arguments\n",
    "pts = ( (10,-16), (10,-21), (5,-21) )\n",
    "sql = \"INSERT INTO geotest (name,pa) VALUES (%s, %s)\"\n",
    "args = ('closed too', str(pts))\n",
    "print(c.mogrify(sql,args).decode('UTF-8'))\n",
    "\n",
    "c.execute(sql,args)\n",
    "conn.commit()"
   ]
  },
  {
   "cell_type": "code",
   "execution_count": 92,
   "metadata": {
    "collapsed": false
   },
   "outputs": [
    {
     "name": "stdout",
     "output_type": "stream",
     "text": [
      "INSERT INTO geotest (name,pa) VALUES ('closed until tomorrow', '(10, -18), (10, -23), (5, -23)')\n",
      "INSERT INTO geotest (name,pa) VALUES ('closed for season', '10,-20, 10,-25, 5,-25')\n"
     ]
    }
   ],
   "source": [
    "# variantes\n",
    "pts = ( (10,-18), (10,-23), (5,-23) )\n",
    "sql = \"INSERT INTO geotest (name,pa) VALUES (%s, %s)\"\n",
    "args = ('closed until tomorrow', ', '.join([str(p) for p in pts]))\n",
    "\n",
    "print(c.mogrify(sql,args).decode('UTF-8'))\n",
    "c.execute(sql,args)\n",
    "\n",
    "pts = ( (10,-20), (10,-25), (5,-25) )\n",
    "sql = \"INSERT INTO geotest (name,pa) VALUES (%s, %s)\"\n",
    "args = ('closed for season', ', '.join(['{},{}'.format(*p) for p in pts]) )\n",
    "\n",
    "print(c.mogrify(sql,args).decode('UTF-8'))\n",
    "c.execute(sql,args)\n",
    "\n",
    "conn.commit()"
   ]
  },
  {
   "cell_type": "markdown",
   "metadata": {
    "collapsed": true
   },
   "source": [
    "<p style=\"font-size:120%\" id=\"request_path\">\n",
    "Requêtage de chemins&#160;:\n",
    "</p>"
   ]
  },
  {
   "cell_type": "code",
   "execution_count": 93,
   "metadata": {
    "collapsed": false
   },
   "outputs": [
    {
     "name": "stdout",
     "output_type": "stream",
     "text": [
      "52, closed, ((10,-14),(10,-19),(5,-19))\n",
      "53, closed too, ((10,-16),(10,-21),(5,-21))\n",
      "54, closed until tomorrow, ((10,-18),(10,-23),(5,-23))\n",
      "55, closed for season, ((10,-20),(10,-25),(5,-25))\n"
     ]
    }
   ],
   "source": [
    "# chemins fermés\n",
    "c.execute(\"SELECT id,name,pa FROM geotest WHERE ISCLOSED(pa)\")\n",
    "for d in c.fetchall(): print(', '.join([str(v) for v in d]))"
   ]
  },
  {
   "cell_type": "code",
   "execution_count": 94,
   "metadata": {
    "collapsed": false
   },
   "outputs": [
    {
     "name": "stdout",
     "output_type": "stream",
     "text": [
      "50, open, [(10,-10),(10,-15),(5,-15)]\n",
      "51, open too, [(10,-12),(10,-17),(5,-17)]\n"
     ]
    }
   ],
   "source": [
    "# chemins ouverts\n",
    "c.execute(\"SELECT id,name,pa FROM geotest WHERE ISOPEN(pa)\")\n",
    "for d in c.fetchall(): print(', '.join([str(v) for v in d]))"
   ]
  },
  {
   "cell_type": "code",
   "execution_count": 100,
   "metadata": {
    "collapsed": false
   },
   "outputs": [],
   "source": [
    "# conversion en polygone\n",
    "c.execute(\"SELECT POLYGON(pa) FROM geotest WHERE name='closed'\")\n",
    "output = str(c.fetchone()[0])\n",
    "\n",
    "assert output == '((10,-14),(10,-19),(5,-19))'"
   ]
  },
  {
   "cell_type": "markdown",
   "metadata": {},
   "source": [
    "### E - Cercles\n",
    "<p style=\"font-size:120%\" id=\"insert_circle\">\n",
    "Enregistrement de cercles&#160;:\n",
    "</p>"
   ]
  },
  {
   "cell_type": "code",
   "execution_count": 116,
   "metadata": {
    "collapsed": false
   },
   "outputs": [
    {
     "name": "stdout",
     "output_type": "stream",
     "text": [
      "INSERT INTO geotest (name,c) VALUES ('c1', '<(-20, 20), 2.5>')\n",
      "INSERT INTO geotest (name,c) VALUES ('c2', '((-20, 20), 5)')\n",
      "INSERT INTO geotest (name,c) VALUES ('c3', '(-20, 20), 7.5')\n",
      "INSERT INTO geotest (name,c) VALUES ('c4', '-20, 20, 10')\n"
     ]
    }
   ],
   "source": [
    "c.execute(\"DELETE FROM geotest WHERE c IS NOT NULL\")\n",
    "\n",
    "# expression littérale '<(-20, 20), 2.5>'\n",
    "circ = ( (-20,20), 2.5)\n",
    "sql = \"INSERT INTO geotest (name,c) VALUES (%s, %s)\"\n",
    "args = ('c1', '<{}>'.format(', '.join([str(p) for p in circ])))\n",
    "\n",
    "print(c.mogrify(sql,args).decode('UTF-8'))\n",
    "c.execute(sql,args)\n",
    "\n",
    "# expression littérale '((-20, 20), 5)'\n",
    "circ = ( (-20,20), 5)\n",
    "sql = \"INSERT INTO geotest (name,c) VALUES (%s, %s)\"\n",
    "args = ('c2', str(circ))\n",
    "\n",
    "print(c.mogrify(sql,args).decode('UTF-8'))\n",
    "c.execute(sql,args)\n",
    "\n",
    "# expression littérale '(-20, 20), 7.5'\n",
    "circ = ( (-20,20), 7.5)\n",
    "sql = \"INSERT INTO geotest (name,c) VALUES (%s, %s)\"\n",
    "args = ('c3', ', '.join([str(v) for v in circ]))\n",
    "\n",
    "print(c.mogrify(sql,args).decode('UTF-8'))\n",
    "c.execute(sql,args)\n",
    "\n",
    "# expression littérale '-20, 20, 10'\n",
    "circ = ( (-20,20), 10)\n",
    "sql = \"INSERT INTO geotest (name,c) VALUES (%s, %s)\"\n",
    "args = ('c4', ', '.join([str(v) for v in (*circ[0],circ[1])]))\n",
    "\n",
    "print(c.mogrify(sql,args).decode('UTF-8'))\n",
    "c.execute(sql,args)\n",
    "\n",
    "conn.commit()"
   ]
  },
  {
   "cell_type": "markdown",
   "metadata": {},
   "source": [
    "<p style=\"font-size:120%\" id=\"select_circle\">\n",
    "Requêtage de cercles&#160;:\n",
    "</p>"
   ]
  },
  {
   "cell_type": "code",
   "execution_count": 117,
   "metadata": {
    "collapsed": false
   },
   "outputs": [
    {
     "name": "stdout",
     "output_type": "stream",
     "text": [
      "74, c1, <(-20,20),2.5>\n",
      "75, c2, <(-20,20),5>\n",
      "76, c3, <(-20,20),7.5>\n",
      "77, c4, <(-20,20),10>\n"
     ]
    }
   ],
   "source": [
    "c.execute(\"SELECT id,name,c FROM geotest WHERE c IS NOT NULL\")\n",
    "for d in c.fetchall(): print(', '.join([str(v) for v in d]))"
   ]
  },
  {
   "cell_type": "code",
   "execution_count": 126,
   "metadata": {
    "collapsed": false
   },
   "outputs": [
    {
     "name": "stdout",
     "output_type": "stream",
     "text": [
      "76, c3, <(-20,20),7.5>\n",
      "77, c4, <(-20,20),10>\n"
     ]
    }
   ],
   "source": [
    "c.execute(\"SELECT id,name,c FROM geotest WHERE DIAMETER(c) > 10 \")\n",
    "for d in c.fetchall(): print(', '.join([str(v) for v in d]))"
   ]
  },
  {
   "cell_type": "code",
   "execution_count": null,
   "metadata": {
    "collapsed": true
   },
   "outputs": [],
   "source": []
  }
 ],
 "metadata": {
  "kernelspec": {
   "display_name": "Python 3",
   "language": "python",
   "name": "python3"
  },
  "language_info": {
   "codemirror_mode": {
    "name": "ipython",
    "version": 3
   },
   "file_extension": ".py",
   "mimetype": "text/x-python",
   "name": "python",
   "nbconvert_exporter": "python",
   "pygments_lexer": "ipython3",
   "version": "3.6.6"
  }
 },
 "nbformat": 4,
 "nbformat_minor": 2
}
