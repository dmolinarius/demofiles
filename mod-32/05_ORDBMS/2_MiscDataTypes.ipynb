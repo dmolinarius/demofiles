{
 "cells": [
  {
   "cell_type": "markdown",
   "metadata": {},
   "source": [
    "### 2.1 Types de données PostgreSQL -  Quelques exemples"
   ]
  },
  {
   "cell_type": "code",
   "execution_count": 1,
   "metadata": {
    "collapsed": true
   },
   "outputs": [],
   "source": [
    "import psycopg2\n",
    "import psycopg2.extras\n",
    "\n",
    "conn = psycopg2.connect(\n",
    "    host=\"localhost\",\n",
    "    database=\"demo\",\n",
    "    user=\"demo_owner\",\n",
    "    password=\"OODBMS\")\n",
    "\n",
    "# query result as dict\n",
    "c = conn.cursor(cursor_factory=psycopg2.extras.DictCursor)"
   ]
  },
  {
   "cell_type": "markdown",
   "metadata": {},
   "source": [
    "### A - Types de données temporelles\n",
    "\n",
    "<p style=\"font-size:120%\" id=\"create_time\">\n",
    "Création d'une table comportant des champs temporels :\n",
    "</p>\n",
    "\n",
    "https://www.postgresql.org/docs/current/datatype-datetime.html"
   ]
  },
  {
   "cell_type": "code",
   "execution_count": 2,
   "metadata": {
    "collapsed": false
   },
   "outputs": [],
   "source": [
    "c.execute('DROP TABLE IF EXISTS timetest;')\n",
    "\n",
    "sql = '''CREATE TABLE timetest (\n",
    "    id SERIAL PRIMARY KEY,\n",
    "    name VARCHAR(64),\n",
    "    ts TIMESTAMP(2),\n",
    "    tsz TIMESTAMP(2) WITH TIME ZONE,\n",
    "    d DATE,\n",
    "    t TIME(2),\n",
    "    tz TIME(2) WITH TIME ZONE,\n",
    "    i INTERVAL\n",
    ");'''\n",
    "c.execute(sql)\n",
    "conn.commit()"
   ]
  },
  {
   "cell_type": "markdown",
   "metadata": {},
   "source": [
    "<b>N.B.</b> Le chiffre entre parenthèses pour les types comportant l'heure correspond au nombre de décimales requises pour l'enregistrement des secondes.\n",
    "\n",
    "<div id=\"insert_time\"></div>"
   ]
  },
  {
   "cell_type": "code",
   "execution_count": 3,
   "metadata": {
    "collapsed": false
   },
   "outputs": [],
   "source": [
    "# la valeur 'now' correspond à l'instant présent\n",
    "args = ['now']*6\n",
    "sql = \"INSERT INTO timetest (name, ts,tsz,d,t,tz) VALUES (%s,%s,%s,%s,%s,%s)\"\n",
    "c.execute(sql,args)\n",
    "conn.commit()"
   ]
  },
  {
   "cell_type": "code",
   "execution_count": 23,
   "metadata": {
    "collapsed": false
   },
   "outputs": [
    {
     "name": "stdout",
     "output_type": "stream",
     "text": [
      "1\n",
      "now\n",
      "2022-10-11 18:23:31.610000\n",
      "2022-10-11 18:23:31.610000+02:00\n",
      "2022-10-11\n",
      "18:23:31.610000\n",
      "18:23:31.610000+02:00\n",
      "None\n"
     ]
    }
   ],
   "source": [
    "c.execute('SELECT * FROM timetest')\n",
    "for d in c.fetchone(): print(d)"
   ]
  },
  {
   "cell_type": "markdown",
   "metadata": {},
   "source": [
    "<p style=\"font-size:120%\" id=\"use_time\">\n",
    "Usage des champs temporels :\n",
    "</p>\n",
    "\n",
    "https://www.postgresql.org/docs/current/functions-datetime.html"
   ]
  },
  {
   "cell_type": "code",
   "execution_count": 10,
   "metadata": {
    "collapsed": false
   },
   "outputs": [
    {
     "name": "stdout",
     "output_type": "stream",
     "text": [
      "2023-03-01\n",
      "2024-02-29\n"
     ]
    }
   ],
   "source": [
    "# date + n -> ajoute des jours à une date\n",
    "c.execute(\"SELECT date '2023-02-28' + 1\")\n",
    "print(c.fetchone()[0])\n",
    "\n",
    "c.execute(\"SELECT date '2024-02-28' + 1\")\n",
    "print(c.fetchone()[0])"
   ]
  },
  {
   "cell_type": "code",
   "execution_count": 24,
   "metadata": {
    "collapsed": false
   },
   "outputs": [],
   "source": [
    "c.execute(\"DELETE FROM timetest WHERE name='tomorrow'\")\n",
    "\n",
    "# \n",
    "sql = '''INSERT INTO timetest (name, ts, tsz, d) VALUES (\n",
    "    'tomorrow',\n",
    "    (SELECT ts  FROM timetest WHERE name='now') + interval '1 day',\n",
    "    (SELECT tsz FROM timetest WHERE name='now') + interval '1 day',\n",
    "    (SELECT d   FROM timetest WHERE name='now') + 1\n",
    ");'''\n",
    "c.execute(sql)\n",
    "conn.commit()"
   ]
  },
  {
   "cell_type": "code",
   "execution_count": 25,
   "metadata": {
    "collapsed": false
   },
   "outputs": [
    {
     "name": "stdout",
     "output_type": "stream",
     "text": [
      "2022-10-12 18:23:31.610000\n",
      "2022-10-12 18:23:31.610000+02:00\n",
      "2022-10-12\n"
     ]
    }
   ],
   "source": [
    "c.execute(\"SELECT ts,tsz,d FROM timetest WHERE name='tomorrow'\")\n",
    "for d in c.fetchone(): print(d)"
   ]
  },
  {
   "cell_type": "markdown",
   "metadata": {},
   "source": [
    "### B - Autres types\n",
    "\n",
    "A compléter ..."
   ]
  }
 ],
 "metadata": {
  "kernelspec": {
   "display_name": "Python 3",
   "language": "python",
   "name": "python3"
  },
  "language_info": {
   "codemirror_mode": {
    "name": "ipython",
    "version": 3
   },
   "file_extension": ".py",
   "mimetype": "text/x-python",
   "name": "python",
   "nbconvert_exporter": "python",
   "pygments_lexer": "ipython3",
   "version": "3.6.6"
  }
 },
 "nbformat": 4,
 "nbformat_minor": 2
}
