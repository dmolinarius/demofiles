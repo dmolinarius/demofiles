{
 "cells": [
  {
   "cell_type": "markdown",
   "metadata": {},
   "source": [
    "## 4.2 PostgreSQL - Héritage entre tables"
   ]
  },
  {
   "cell_type": "code",
   "execution_count": 1,
   "metadata": {
    "collapsed": true
   },
   "outputs": [],
   "source": [
    "import psycopg2\n",
    "import psycopg2.extras\n",
    "\n",
    "conn = psycopg2.connect(\n",
    "    host=\"localhost\",\n",
    "    database=\"demo\",\n",
    "    user=\"demo_owner\",\n",
    "    password=\"OODBMS\")\n",
    "\n",
    "# query result as dict\n",
    "c = conn.cursor(cursor_factory=psycopg2.extras.DictCursor)"
   ]
  },
  {
   "cell_type": "markdown",
   "metadata": {},
   "source": [
    "<div id=\"create\" style=\"font-size:120%\">\n",
    "Création d'une hiérarchie de tables avec héritage\n",
    "</div>"
   ]
  },
  {
   "cell_type": "code",
   "execution_count": 2,
   "metadata": {
    "collapsed": false
   },
   "outputs": [],
   "source": [
    "# Création des tables\n",
    "c.execute('''\n",
    "DROP TABLE IF EXISTS person CASCADE;\n",
    "\n",
    "\n",
    "CREATE TABLE person OF person_type;\n",
    "  \n",
    "CREATE UNIQUE INDEX person_name ON person (first_name,last_name);\n",
    "\n",
    "CREATE TABLE developer (\n",
    "    login VARCHAR(32),\n",
    "    pwd VARCHAR(32)\n",
    ") INHERITS(person);\n",
    "\n",
    "CREATE TABLE player (\n",
    "    pseudo VARCHAR(16),\n",
    "    score INTEGER\n",
    ") INHERITS(person);\n",
    "\n",
    "CREATE TABLE VIP (\n",
    "    email VARCHAR(128),\n",
    "    preferences TEXT\n",
    ") INHERITS (player)\n",
    "''')\n",
    "conn.commit()"
   ]
  },
  {
   "cell_type": "markdown",
   "metadata": {},
   "source": [
    "<div id=\"insert\" style=\"font-size:120%\">\n",
    "Chacune des tables dispose des colonnes héritées :\n",
    "</div>"
   ]
  },
  {
   "cell_type": "code",
   "execution_count": 30,
   "metadata": {
    "collapsed": false
   },
   "outputs": [],
   "source": [
    "# Alimentation avec quelques enregistrements\n",
    "c.execute('''\n",
    "TRUNCATE person;\n",
    "TRUNCATE developer;\n",
    "TRUNCATE player;\n",
    "TRUNCATE VIP;\n",
    "\n",
    "INSERT INTO person(first_name,last_name)\n",
    "       VALUES ('Raymond', 'Deubaze');\n",
    "       \n",
    "INSERT INTO developer (first_name,last_name,login,pwd)\n",
    "       VALUES ('Elsa', 'Plique', 'epe', 'hello');\n",
    "\n",
    "INSERT INTO player(first_name,last_name,pseudo,score)\n",
    "       VALUES ('Alain','Terrieur','atr',0);\n",
    "\n",
    "INSERT INTO VIP (first_name,last_name,pseudo, score, email,preferences)\n",
    "       VALUES ('Jean','Bombeur','jbr',0,'jbr@email.com','WOW');\n",
    "''')\n",
    "conn.commit()"
   ]
  },
  {
   "cell_type": "markdown",
   "metadata": {},
   "source": [
    "<div id=\"select\" style=\"font-size:120%\">\n",
    "Une requête sur la table mère parcourt l'ensemble des tables filles \n",
    "</div>"
   ]
  },
  {
   "cell_type": "code",
   "execution_count": 31,
   "metadata": {
    "collapsed": false
   },
   "outputs": [
    {
     "name": "stdout",
     "output_type": "stream",
     "text": [
      "Raymond  Deubaze \n",
      "Elsa     Plique  \n",
      "Alain    Terrieur\n",
      "Jean     Bombeur \n"
     ]
    }
   ],
   "source": [
    "# liste des éléments via la classe mère\n",
    "c.execute('SELECT * FROM person')\n",
    "for s in c.fetchall(): print(' '.join(['{:<8}'.format(v) for v in s]))"
   ]
  },
  {
   "cell_type": "code",
   "execution_count": 32,
   "metadata": {
    "collapsed": false
   },
   "outputs": [
    {
     "name": "stdout",
     "output_type": "stream",
     "text": [
      "Alain    Terrieur atr      0       \n",
      "Jean     Bombeur  jbr      0       \n"
     ]
    }
   ],
   "source": [
    "# liste d'éléments via une classe intermédiaire\n",
    "c.execute('SELECT * FROM player')\n",
    "for s in c.fetchall(): print(' '.join(['{:<8}'.format(v) for v in s]))"
   ]
  },
  {
   "cell_type": "markdown",
   "metadata": {},
   "source": [
    "<div id=\"oid\" style=\"font-size:120%\">\n",
    "PostgreSQL maintient un identifiant unique par table, qui permet de remonter au nom de la table contenant un enregistrement donné&#160;:\n",
    "</div>"
   ]
  },
  {
   "cell_type": "code",
   "execution_count": 6,
   "metadata": {
    "collapsed": false
   },
   "outputs": [
    {
     "name": "stdout",
     "output_type": "stream",
     "text": [
      "person     Raymond    Deubaze   \n",
      "developer  Elsa       Plique    \n",
      "player     Alain      Terrieur  \n",
      "vip        Jean       Bombeur   \n"
     ]
    }
   ],
   "source": [
    "# la table pg_class\n",
    "c.execute('''\n",
    "SELECT p.relname, person.*\n",
    "FROM person, pg_class p\n",
    "WHERE person.tableoid = p.oid;\n",
    "''')\n",
    "\n",
    "for s in c.fetchall(): print(' '.join(['{:<10}'.format(v) for v in s]))"
   ]
  },
  {
   "cell_type": "code",
   "execution_count": 7,
   "metadata": {
    "collapsed": false
   },
   "outputs": [
    {
     "name": "stdout",
     "output_type": "stream",
     "text": [
      "player   Alain    Terrieur atr      0       \n",
      "vip      Jean     Bombeur  jbr      0       \n"
     ]
    }
   ],
   "source": [
    "c.execute('SELECT p.relname, player.* FROM player, pg_class p WHERE player.tableoid = p.oid;')\n",
    "for s in c.fetchall(): print(' '.join(['{:<8}'.format(v) for v in s]))"
   ]
  },
  {
   "cell_type": "markdown",
   "metadata": {},
   "source": [
    "<div id=\"select_from_only\" style=\"font-size:120%\">\n",
    "Il est possible de requêter uniquement sur une table mère\n",
    "</div>"
   ]
  },
  {
   "cell_type": "code",
   "execution_count": 8,
   "metadata": {
    "collapsed": false
   },
   "outputs": [
    {
     "name": "stdout",
     "output_type": "stream",
     "text": [
      "Raymond  Deubaze \n"
     ]
    }
   ],
   "source": [
    "c.execute('SELECT * FROM ONLY person')\n",
    "for s in c.fetchall(): print(' '.join(['{:<8}'.format(v) for v in s]))"
   ]
  },
  {
   "cell_type": "markdown",
   "metadata": {},
   "source": [
    "<div id=\"update_superclass\" style=\"font-size:120%\">\n",
    "SELECT n'est pas la seule requête qu'il est possible d'adresser à la table mère&#160;:\n",
    "</div>"
   ]
  },
  {
   "cell_type": "code",
   "execution_count": 9,
   "metadata": {
    "collapsed": false
   },
   "outputs": [
    {
     "name": "stdout",
     "output_type": "stream",
     "text": [
      "person     Raymond    Deubaze   \n",
      "developer  Elsa       Plique    \n",
      "player     Alain      Terrieur  \n",
      "vip        Jean       Bombeur   \n"
     ]
    }
   ],
   "source": [
    "c.execute('''SELECT p.relname, person.* FROM person, pg_class p WHERE person.tableoid = p.oid;''')\n",
    "for s in c.fetchall(): print(' '.join(['{:<10}'.format(v) for v in s]))"
   ]
  },
  {
   "cell_type": "code",
   "execution_count": 10,
   "metadata": {
    "collapsed": true
   },
   "outputs": [],
   "source": [
    "c.execute(\"UPDATE person SET first_name='Anna', last_name='Conda' WHERE first_name='Elsa'\")\n",
    "conn.commit()"
   ]
  },
  {
   "cell_type": "code",
   "execution_count": 11,
   "metadata": {
    "collapsed": false
   },
   "outputs": [
    {
     "name": "stdout",
     "output_type": "stream",
     "text": [
      "person     Raymond    Deubaze   \n",
      "developer  Anna       Conda     \n",
      "player     Alain      Terrieur  \n",
      "vip        Jean       Bombeur   \n"
     ]
    }
   ],
   "source": [
    "c.execute('''SELECT p.relname, person.* FROM person, pg_class p WHERE person.tableoid = p.oid;''')\n",
    "for s in c.fetchall(): print(' '.join(['{:<10}'.format(v) for v in s]))"
   ]
  },
  {
   "cell_type": "markdown",
   "metadata": {},
   "source": [
    "<div id=\"caveats-update-subclass\" style=\"font-size:120%\">\n",
    "Par contre, on ne peut pas modifier un attribut de la table fille via la table mère&#160;:\n",
    "</div>"
   ]
  },
  {
   "cell_type": "code",
   "execution_count": 29,
   "metadata": {
    "collapsed": false
   },
   "outputs": [
    {
     "name": "stdout",
     "output_type": "stream",
     "text": [
      "Colonne inconnue\n"
     ]
    }
   ],
   "source": [
    "try:\n",
    "    c.execute(\"UPDATE person SET pseudo='aca' WHERE first_name='Anna'\")\n",
    "    conn.commit()\n",
    "except psycopg2.errors.UndefinedColumn:\n",
    "    print(\"Colonne inconnue\")\n",
    "    conn.rollback()"
   ]
  },
  {
   "cell_type": "markdown",
   "metadata": {},
   "source": [
    "<div id=\"caveats-unique\" style=\"font-size:120%\">\n",
    "Si la table mère possède des contraintes d'unicité, celles-ci n'incluent pas les tables filles...\n",
    "</div>"
   ]
  },
  {
   "cell_type": "code",
   "execution_count": 20,
   "metadata": {
    "collapsed": false
   },
   "outputs": [
    {
     "name": "stdout",
     "output_type": "stream",
     "text": [
      "Violation d'unicité\n"
     ]
    }
   ],
   "source": [
    "# impossible de dupliquer un élément dans la table mère\n",
    "try:\n",
    "    c.execute(\"INSERT INTO person VALUES ('Raymond','Deubaze')\")\n",
    "    conn.commit()\n",
    "except psycopg2.errors.UniqueViolation:\n",
    "    print(\"Violation d'unicité\")\n",
    "    conn.rollback()"
   ]
  },
  {
   "cell_type": "code",
   "execution_count": 23,
   "metadata": {
    "collapsed": false
   },
   "outputs": [],
   "source": [
    "# Il est possible d'insérer un homonyme dans une table fille\n",
    "c.execute(\"INSERT INTO player VALUES ('Raymond','Deubaze','rde',0)\")\n",
    "conn.commit()"
   ]
  },
  {
   "cell_type": "code",
   "execution_count": 25,
   "metadata": {
    "collapsed": false
   },
   "outputs": [
    {
     "name": "stdout",
     "output_type": "stream",
     "text": [
      "person     Raymond    Deubaze   \n",
      "player     Raymond    Deubaze   \n"
     ]
    }
   ],
   "source": [
    "# Vérification\n",
    "c.execute('''SELECT p.relname, person.* FROM person, pg_class p\n",
    "             WHERE person.first_name='Raymond' AND person.tableoid = p.oid;''')\n",
    "for s in c.fetchall(): print(' '.join(['{:<10}'.format(v) for v in s]))"
   ]
  },
  {
   "cell_type": "code",
   "execution_count": 28,
   "metadata": {
    "collapsed": true
   },
   "outputs": [],
   "source": [
    "conn.rollback()"
   ]
  },
  {
   "cell_type": "code",
   "execution_count": null,
   "metadata": {
    "collapsed": true
   },
   "outputs": [],
   "source": []
  }
 ],
 "metadata": {
  "kernelspec": {
   "display_name": "Python 3",
   "language": "python",
   "name": "python3"
  },
  "language_info": {
   "codemirror_mode": {
    "name": "ipython",
    "version": 3
   },
   "file_extension": ".py",
   "mimetype": "text/x-python",
   "name": "python",
   "nbconvert_exporter": "python",
   "pygments_lexer": "ipython3",
   "version": "3.6.6"
  }
 },
 "nbformat": 4,
 "nbformat_minor": 2
}
